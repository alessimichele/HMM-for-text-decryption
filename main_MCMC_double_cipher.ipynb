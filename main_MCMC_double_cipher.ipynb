{
 "cells": [
  {
   "cell_type": "code",
   "execution_count": 19,
   "metadata": {},
   "outputs": [],
   "source": [
    "from src.CipherBreaker import CipherBreaker\n",
    "from src.CipherUtils import (\n",
    "    TextDecoder,\n",
    "    TextEncoder,\n",
    "    CipherGenerator,\n",
    "    TextPreProcessor,\n",
    ")\n",
    "from src.ProbabilityMatrix import ProbabilityMatrix"
   ]
  },
  {
   "cell_type": "code",
   "execution_count": 20,
   "metadata": {},
   "outputs": [],
   "source": [
    "# create instances of my beautiful classes\n",
    "\n",
    "cipher_generator = CipherGenerator()\n",
    "preprocess = TextPreProcessor()\n",
    "text_encoder = TextEncoder()\n",
    "text_decoder = TextDecoder()"
   ]
  },
  {
   "cell_type": "code",
   "execution_count": 21,
   "metadata": {},
   "outputs": [],
   "source": [
    "# List of text file paths to build our corpus (where we learn the transitions probs)\n",
    "\n",
    "file_paths = [\n",
    "    \"texts/moby_dick.txt\",\n",
    "    \"texts/shakespeare.txt\",\n",
    "    \"texts/james-joyce-a-portrait-of-the-artist-as-a-young-man.txt\",\n",
    "    \"texts/james-joyce-dubliners.txt\",\n",
    "    \"texts/james-joyce-ulysses.txt\",\n",
    "]\n",
    "\n",
    "texts = []\n",
    "for file_path in file_paths:\n",
    "    with open(file_path, \"r\") as file:\n",
    "        texts.append(file.read())\n",
    "\n",
    "corpus = \"\".join(texts)"
   ]
  },
  {
   "cell_type": "code",
   "execution_count": 22,
   "metadata": {},
   "outputs": [],
   "source": [
    "# preprocess the text, removing extra-characters\n",
    "\n",
    "corpus = preprocess.lower(corpus)\n",
    "unknown_chars = preprocess.unknown_chars(corpus)\n",
    "# print(unknown_chars)\n",
    "corpus = preprocess.remove_unknown_chars(corpus, unknown_chars=unknown_chars)\n",
    "corpus = preprocess.remove_additional_spaces(corpus)\n",
    "\n",
    "preprocess.save_text(\n",
    "    corpus\n",
    ")  # save text after preprocessing inside text_preprocessed.txt"
   ]
  },
  {
   "cell_type": "code",
   "execution_count": 23,
   "metadata": {},
   "outputs": [],
   "source": [
    "# compute the transition probs\n",
    "\n",
    "probability_matrix = ProbabilityMatrix(corpus)\n",
    "probability_matrix.compute_probability_table()"
   ]
  },
  {
   "cell_type": "code",
   "execution_count": 24,
   "metadata": {},
   "outputs": [],
   "source": [
    "probability_matrix.save_all_2_chars()\n",
    "probability_matrix.save_probability_table()"
   ]
  },
  {
   "cell_type": "code",
   "execution_count": 25,
   "metadata": {},
   "outputs": [],
   "source": [
    "# some text to try\n",
    "\n",
    "text = \"There were better sense in the sad mechanic exercise of determining the reason of its absence where it is not. In the novels of the last hundred years there are vast numbers of young ladies with whom it might be a pleasure to fall in love; there are at least five with whom, as it seems to me, no man of taste and spirit can help doing so.\"\n",
    "# text = \"I do not believe a word of it, my dear. If he had been so very agreeable, he would have talked to Mrs. Long. But I can guess how it was\"\n",
    "# text = \"Your plan is a good one,” replied Elizabeth, “where nothing is in question but the desire of being well married; and if I were determined to get a rich husband, or any husband, I dare say I should adopt it. But these are not Jane’s feelings\"\n",
    "# text = \"she is not acting by design. As yet she cannot even be certain of the degree of her own regard, nor of its reasonableness. She has known him only a fortnight. She danced four dances with him at Meryton; she saw him one morning at his own house, and has since dined in company with him four times.\""
   ]
  },
  {
   "cell_type": "code",
   "execution_count": 29,
   "metadata": {},
   "outputs": [
    {
     "name": "stdout",
     "output_type": "stream",
     "text": [
      "Original Text: there were better sense in the sad mechanic exercise of determining the reason of its absence where it is not in the novels of the last hundred years there are vast numbers of young ladies with whom it might be a pleasure to fall in love there are at least five with whom as it seems to me no man of taste and spirit can help doing so\n",
      "Encoded Text: mlkep okip ypgmpe tpptp qa mlk won fkslvadx kekesdtk wz kkgpizdpqar gfp ekowxa wz qgw vywkasp olpik dm dw awm qp mfk awgkiw wd glp hvwm fqakepk jkoit gfkip vip botm pqfbpew xd nxjpr ivnqkw odgl olxz qm fqulm yk o rhkvtqip mw doii qp iwbp mlpek vip og ipvwm zqbk oqgf ofwz vt dg wkpfw gx zp ax fva wz gvwmk vpn trdedm xva fpir kwqpr tx\n",
      "Decoded Text: thern aeln jnvtnr snnsn up the oad mexhkpic ererxise of eevnlfinupg vmn reaocp of uvo kjoepxn ahnle it io pot un tme povelo oi vhn qkot muperne yeals vmeln kln bast numbnro ci dcyng lkdueo aivh ahcf ut muzht je a gqeksuln to iall un lobn thnre kln av lnkot fube auvm amof ks iv oenmo vc fn pc mkp of vkote knd sgirit ckp mnlg eoung sc\n"
     ]
    }
   ],
   "source": [
    "# encode and decode a sample text with a generated cipher\n",
    "\n",
    "text = preprocess.lower(text)\n",
    "text = preprocess.remove_unknown_chars(\n",
    "    text, unknown_chars=preprocess.unknown_chars(text)\n",
    ")\n",
    "text = preprocess.remove_additional_spaces(text)\n",
    "\n",
    "\n",
    "cipher1 = cipher_generator.generate_cipher()\n",
    "cipher2 = cipher_generator.generate_cipher()\n",
    "\n",
    "encoded_text = text_encoder.encode_text_double_cipher(text, cipher1, cipher2)\n",
    "\n",
    "decoded_text = text_decoder.decode_text(\n",
    "    encoded_text, cipher1\n",
    ")  #  not work with double cipher... given cipher1 as encoding just to see...\n",
    "\n",
    "print(\"Original Text:\", text)\n",
    "print(\"Encoded Text:\", encoded_text)\n",
    "print(\"Decoded Text:\", decoded_text)"
   ]
  },
  {
   "cell_type": "code",
   "execution_count": null,
   "metadata": {},
   "outputs": [],
   "source": [
    "# break the cipher with MCMC using only one starting point\n",
    "cipher_breaker = CipherBreaker(\n",
    "    cipher_generator=cipher_generator,\n",
    "    ciphered_text=encoded_text,\n",
    "    probability_table=probability_matrix.probability_table,\n",
    ")\n",
    "\n",
    "cipher_breaker.break_cipher(iterations=100000, print_interval=100)"
   ]
  },
  {
   "cell_type": "code",
   "execution_count": null,
   "metadata": {},
   "outputs": [],
   "source": [
    "cipher_breaker.extract_best(\n",
    "    n_extract=10, return_likelihood=True\n",
    ")  # Extract the best 10 decoded messages along with their likelihood"
   ]
  },
  {
   "cell_type": "code",
   "execution_count": 15,
   "metadata": {},
   "outputs": [
    {
     "data": {
      "text/plain": [
       "'shege gege uessig nerni em the nak bixharex eyenxene ly petinfomord the nearcr cy otr aurirve ghine es er rct er swi mcbidn co swe dans wurkgep ciann thene age wars rubuinn co flurt dapoen jesh ghlf et botws ze a ldianzge sc oaid em ilwi swige ane as iears yobi jotw gwlf ar ot neibr tl fe ml far co santi amp rlonot var wedl klort nl'"
      ]
     },
     "execution_count": 15,
     "metadata": {},
     "output_type": "execute_result"
    }
   ],
   "source": [
    "cipher_breaker.extract_best(n_extract=10, return_likelihood=True)[0][0]"
   ]
  },
  {
   "cell_type": "code",
   "execution_count": 18,
   "metadata": {},
   "outputs": [
    {
     "name": "stdout",
     "output_type": "stream",
     "text": [
      "MCMC accuracy: 0.4161676646706587\n"
     ]
    }
   ],
   "source": [
    "import numpy as np\n",
    "\n",
    "print(\n",
    "    \"MCMC accuracy:\",\n",
    "    np.mean(\n",
    "        np.array(\n",
    "            list(\n",
    "                cipher_breaker.extract_best(n_extract=10, return_likelihood=True)[0][0]\n",
    "            )\n",
    "        )\n",
    "        == np.array(list(text))\n",
    "    ),\n",
    ")"
   ]
  },
  {
   "cell_type": "code",
   "execution_count": 33,
   "metadata": {},
   "outputs": [
    {
     "name": "stdout",
     "output_type": "stream",
     "text": [
      "Iter 0 of start 1: vdsfu csyu bukvuf juuju zr vds wcp xstdnrmi sfsftmjs wh sskuyhmuzre kxu fscwir wh zkw nbwsrtu cduys mv mw rwv zu vxs rwksyw wm kdu anwv xzrsfus qscyj kxsyu nyu ocjv uzxoufw im pique ynpzsw cmkd cdih zv xzgdv bs c easnjzyu vw mcyy zu ywou vdufs nyu ck yunwv hzos czkx cxwh nj mk wsuxw ki hu ri xnr wh knwvs nup jemfmv inr xuye swzue ji\n",
      "Iter 100 of start 1: suowe come vetsew yeeye rd suo ick hopuldan owowpayo ig ootemgaerdf the wocind ig rti lviodpe cuemo as ai dis re sho ditomi ia tue zlis hrdoweo jocmy thome lme bcys erhbewi na knjef mlkroi catu cung rs hrqus vo c fzolyrme si acmm re mibe suewo lme ct melis grbo crth chig ly at ioehi tn ge dn hld ig tliso lek yfawas nld hemf oiref yn\n",
      "Iter 200 of start 1: suowe come vetsew yeeye rd suo ick hojuldan owowjayo ig ootemgaerdp the wocind ig rti lviodje cuemo as ai dis re sho ditomi ia tue blis hrdoweo zocmy thome lme fcys erhfewi na knzep mlkroi catu cung rs hrqus vo c pbolyrme si acmm re mife suewo lme ct melis grfo crth chig ly at ioehi tn ge dn hld ig tliso lek ypawas nld hemp oirep yn\n",
      "Iter 300 of start 1: suowe come vetsew yeeye rd suo ick hofuldan owowfayo ig ootemgaerdp the wocind ig rti lviodfe cuemo as ai dis re sho ditomi ia tue jlis hrdoweo zocmy thome lme bcys erhbewi na knzep mlkroi catu cung rs hrqus vo c pjolyrme si acmm re mibe suewo lme ct melis grbo crth chig ly at ioehi tn ge dn hld ig tliso lek ypawas nld hemp oirep yn\n",
      "Iter 400 of start 1: suowe come vetsew yeeye rd suo ick hobuldan owowbayo ig ootemgaerdp the wocind ig rti lviodbe cuemo as ai dis re sho ditomi ia tue zlis hrdoweo jocmy thome lme fcys erhfewi na knjep mlkroi catu cung rs hrqus vo c pzolyrme si acmm re mife suewo lme ct melis grfo crth chig ly at ioehi tn ge dn hld ig tliso lek ypawas nld hemp oirep yn\n",
      "Iter 500 of start 1: suowe come betsew yeeye rd suo ick hovuldan owowvayo ig ootemgaerdf the wocind ig rti lbiodve cuemo as ai dis re sho ditomi ia tue zlis hrdoweo jocmy thome lme pcys erhpewi na knjef mlkroi catu cung rs hrqus bo c fzolyrme si acmm re mipe suewo lme ct melis grpo crth chig ly at ioehi tn ge dn hld ig tliso lek yfawas nld hemf oiref yn\n",
      "Iter 600 of start 1: suowe come vetsew yeeye rd suo ick hobuldan owowbayo ig ootemgaerdp the wocind ig rti lviodbe cuemo as ai dis re sho ditomi ia tue zlis hrdoweo jocmy thome lme fcys erhfewi na knjep mlkroi catu cung rs hrqus vo c pzolyrme si acmm re mife suewo lme ct melis grfo crth chig ly at ioehi tn ge dn hld ig tliso lek ypawas nld hemp oirep yn\n",
      "Iter 0 of start 2: spura wuna batsar qaaqa zh spu dwm yukpxhge ururkgqu do uutanogazhj tya ruwdeh do ztd xbduhka wpanu gs gd hds za syu hdtund dg tpa vxds yzhurau cuwnq tyuna xna fwqs azyfard eg mecaj nxmzud wgtp wpeo zs yzips bu w jvuxqzna sd gwnn za ndfa sparu xna wt naxds ozfu wzty wydo xq gt duayd te oa he yxh do txdsu xam qjgrgs exh yanj udzaj qe\n",
      "Iter 100 of start 2: thofe some bectef peepe nd tho rsk uoxhadil ofofxipo ry oocemyiendw cue fosrld ry ncr abrodxe shemo it ir drt ne tuo drcomr ri che jart undofeo vosmp cuome ame gspt enugefr li klvew maknor sich shly nt unzht bo s wjoapnme tr ismm ne mrge thefo ame sc meart yngo sncu sury ap ic roeur cl ye dl uad ry carto aek pwifit lad uemw ornew pl\n",
      "Iter 200 of start 2: tuofe some bectef peepe nd tuo rsw hoxuadil ofofxipo rk oocemkiendy che fosrld rk ncr abrodxe suemo it ir drt ne tho drcomr ri cue jart hndofeo vosmp chome ame gspt enhgefr li wlvey mawnor sicu sulk nt hnqut bo s yjoapnme tr ismm ne mrge tuefo ame sc meart kngo snch shrk ap ic roehr cl ke dl had rk carto aew pyifit lad hemy orney pl\n",
      "Iter 300 of start 2: thofe some vectef peepe nd tho isw loghadur ofofgupo ik oocemkuendy cle fosird ik nci aviodge shemo ut ui dit ne tlo dicomi iu che zait lndofeo josmp clome ame bspt enlbefi ru wrjey mawnoi such shrk nt lnxht vo s yzoapnme ti usmm ne mibe thefo ame sc meait knbo sncl slik ap uc ioeli cr ke dr lad ik caito aew pyufut rad lemy oiney pr\n",
      "Iter 400 of start 2: thofe some jectef peepe nd tho isk lowhadru ofofwrpo ig oocemgrendy cle fosiud ig nci ajiodwe shemo rt ri dit ne tlo dicomi ir che bait lndofeo zosmp clome ame vspt enlvefi ur kuzey maknoi srch shug nt lnxht jo s yboapnme ti rsmm ne mive thefo ame sc meait gnvo sncl slig ap rc ioeli cu ge du lad ig caito aek pyrfrt uad lemy oiney pu\n",
      "Iter 500 of start 2: thofe some vectef peepe nd tho isk lowhadur ofofwupo ig oocemguendy cle fosird ig nci aviodwe shemo ut ui dit ne tlo dicomi iu che zait lndofeo josmp clome ame bspt enlbefi ru krjey maknoi such shrg nt lnxht vo s yzoapnme ti usmm ne mibe thefo ame sc meait gnbo sncl slig ap uc ioeli cr ge dr lad ig caito aek pyufut rad lemy oiney pr\n",
      "Iter 600 of start 2: thofe some vectef beebe nd tho isp lowhadru ofofwrbo ig oocemgrendy cle fosiud ig nci aviodwe shemo rt ri dit ne tlo dicomi ir che jait lndofeo zosmb clome ame ksbt enlkefi ur puzey mapnoi srch shug nt lnxht vo s yjoabnme ti rsmm ne mike thefo ame sc meait gnko sncl slig ab rc ioeli cu ge du lad ig caito aep byrfrt uad lemy oiney bu\n",
      "Iter 700 of start 2: thofe some vectef peepe nd tho isk loxhadur ofofxupo ig oocemguendy cle fosird ig nci aviodxe shemo ut ui dit ne tlo dicomi iu che wait lndofeo josmp clome ame bspt enlbefi ru krjey maknoi such shrg nt lnzht vo s ywoapnme ti usmm ne mibe thefo ame sc meait gnbo sncl slig ap uc ioeli cr ge dr lad ig caito aek pyufut rad lemy oiney pr\n",
      "Iter 0 of start 3: dfbpq rbzq gqsdqp hqqhq iy dfb urj lbnfoyvx bpbpnvhb ut bbsqztvqiyc slq pbruxy ut isu ogubynq rfqzb vd vu yud iq dlb yusbzu uv sfq aoud liybpqb kbrzh slbzq ozq wrhd qilwqpu xv jxkqc zojibu rvsf rfxt id liefd gb r cabohizq du vrzz iq zuwq dfqpb ozq rs zqoud tiwb risl rlut oh vs ubqlu sx tq yx loy ut soudb oqj hcvpvd xoy lqzc buiqc hx\n",
      "Iter 100 of start 3: tcofe iole kentef peepe rm tco sig doxcumah ofofxapo sw oonelwaermy nde foishm sw rns uksomxe icelo at as mst re tdo msnols sa nce just drmofeo boilp ndole ule vipt erdvefs ha ghbey lugros ianc ichw rt drzct ko i yjouprle ts aill re lsve tcefo ule in leust wrvo irnd idsw up an soeds nh we mh dum sw nusto ueg pyafat hum dely osrey ph\n",
      "Iter 200 of start 3: thome wore bentem geege id tho swf covhudal omomvago sp oonerpaeidy nce mowsld sp ins ubsodve whero at as dst ie tco dsnors sa nhe just cidomeo zowrg ncore ure kwgt eickems la flzey rufios wanh whlp it cixht bo w yjougire ts awrr ie rske themo ure wn reust piko winc wcsp ug an soecs nl pe dl cud sp nusto uef gyamat lud cery osiey gl\n",
      "Iter 300 of start 3: thome wore bentem geege id tho swf coxhudal omomxago sp oonerpaeidy nce mowsld sp ins ubsodxe whero at as dst ie tco dsnors sa nhe just cidomeo vowrg ncore ure kwgt eickems la flvey rufios wanh whlp it cizht bo w yjougire ts awrr ie rske themo ure wn reust piko winc wcsp ug an soecs nl pe dl cud sp nusto uef gyamat lud cery osiey gl\n",
      "Iter 400 of start 3: thome wore bentem ceece id tho swf gophudal omompaco sk oonerkaeidy nge mowsld sk ins ubsodpe whero at as dst ie tgo dsnors sa nhe just gidomeo vowrc ngore ure zwct eigzems la flvey rufios wanh whlk it gixht bo w yjoucire ts awrr ie rsze themo ure wn reust kizo wing wgsk uc an soegs nl ke dl gud sk nusto uef cyamat lud gery osiey cl\n",
      "Iter 500 of start 3: thome wore bentem geege id tho swf covhudal omomvago sp oonerpaeidy nce mowsld sp ins ubsodve whero at as dst ie tco dsnors sa nhe just cidomeo zowrg ncore ure kwgt eickems la flzey rufios wanh whlp it cixht bo w yjougire ts awrr ie rske themo ure wn reust piko winc wcsp ug an soecs nl pe dl cud sp nusto uef gyamat lud cery osiey gl\n",
      "Iter 600 of start 3: thome wore pentem ceece ig tho swf doxhugal omomxaco sk oonerkaeigy nde mowslg sk ins upsogxe whero at as gst ie tdo gsnors sa nhe just digomeo vowrc ndore ure bwct eidbems la flvey rufios wanh whlk it dizht po w yjoucire ts awrr ie rsbe themo ure wn reust kibo wind wdsk uc an soeds nl ke gl dug sk nusto uef cyamat lug dery osiey cl\n",
      "Iter 700 of start 3: thofe wore bentef ceece im tho swk dozhumal ofofzaco sp oonerpaeimy nde fowslm sp ins ubsomze whero at as mst ie tdo msnors sa nhe just dimofeo vowrc ndore ure gwct eidgefs la klvey rukios wanh whlp it dixht bo w yjoucire ts awrr ie rsge thefo ure wn reust pigo wind wdsp uc an soeds nl pe ml dum sp nusto uek cyafat lum dery osiey cl\n",
      "Iter 800 of start 3: thome wore bentem ceece ig tho swf dozhugal omomzaco sk oonerkaeigy nde mowslg sk ins ubsogze whero at as gst ie tdo gsnors sa nhe just digomeo vowrc ndore ure pwct eidpems la flvey rufios wanh whlk it dixht bo w yjoucire ts awrr ie rspe themo ure wn reust kipo wind wdsk uc an soeds nl ke gl dug sk nusto uef cyamat lug dery osiey cl\n",
      "Iter 900 of start 3: thome wore bentem ceece ig tho swf dozhugal omomzaco sk oonerkaeigy nde mowslg sk ins ubsogze whero at as gst ie tdo gsnors sa nhe just digomeo vowrc ndore ure pwct eidpems la flvey rufios wanh whlk it dixht bo w yjoucire ts awrr ie rspe themo ure wn reust kipo wind wdsk uc an soeds nl ke gl dug sk nusto uef cyamat lug dery osiey cl\n",
      "Iter 0 of start 4: kmjsn pjxn gnukns wnnwn ar kmj opd yjbmeril jsjsbiwj ot jjunxtinarh uyn sjpolr ot auo egojrbn pmnxj ik io rok an kyj roujxo oi umn feok yarjsnj vjpxw uyjxn exn zpwk nayznso li dlvnh xedajo pium pmlt ak yaqmk gj p hfjewaxn ko ipxx an xozn kmnsj exn pu xneok tazj pauy pyot ew iu ojnyo ul tn rl yer ot ueokj end whisik ler ynxh joanh wl\n",
      "Iter 100 of start 4: shofe tole vemsef yeeye ru sho itw pokhbuan ofofkayo ig oomelgaerud mpe fotinu ig rmi bviouke thelo as ai uis re spo uimoli ia mhe zbis pruofeo jotly mpole ble ctys erpcefi na wnjed lbwroi tamh thng rs prxhs vo t dzobyrle si atll re lice shefo ble tm lebis grco trmp tpig by am ioepi mn ge un pbu ig mbiso bew ydafas nbu peld oired yn\n",
      "Iter 200 of start 4: shofe tore jemsef yeeye il sho utk powhblan ofofwayo ug oomergaeild mpe fotunl ug imu bjuolwe thero as au lus ie spo lumoru ua mhe vbus pilofeo zotry mpore bre ctys eipcefu na knzed rbkiou tamh thng is pixhs jo t dvobyire su atrr ie ruce shefo bre tm rebus gico timp tpug by am uoepu mn ge ln pbl ug mbuso bek ydafas nbl perd ouied yn\n",
      "Iter 300 of start 4: shofe tore jemsef yeeye il sho utw pokhblan ofofkayo ug oomergaeild mpe fotunl ug imu bjuolke thero as au lus ie spo lumoru ua mhe zbus pilofeo votry mpore bre ctys eipcefu na wnved rbwiou tamh thng is pixhs jo t dzobyire su atrr ie ruce shefo bre tm rebus gico timp tpug by am uoepu mn ge ln pbl ug mbuso bew ydafas nbl perd ouied yn\n",
      "Iter 400 of start 4: shofe tore jemsef yeeye il sho utw pokhblan ofofkayo ug oomergaeild mpe fotunl ug imu bjuolke thero as au lus ie spo lumoru ua mhe zbus pilofeo votry mpore bre ctys eipcefu na wnved rbwiou tamh thng is pixhs jo t dzobyire su atrr ie ruce shefo bre tm rebus gico timp tpug by am uoepu mn ge ln pbl ug mbuso bew ydafas nbl perd ouied yn\n",
      "Iter 500 of start 4: shofe tore jemsef yeeye il sho utk powhblan ofofwayo ug oomergaeild mpe fotunl ug imu bjuolwe thero as au lus ie spo lumoru ua mhe vbus pilofeo zotry mpore bre ctys eipcefu na knzed rbkiou tamh thng is pixhs jo t dvobyire su atrr ie ruce shefo bre tm rebus gico timp tpug by am uoepu mn ge ln pbl ug mbuso bek ydafas nbl perd ouied yn\n",
      "Iter 600 of start 4: shofe tore jemsef yeeye il sho utw pokhblan ofofkayo ug oomergaeild mpe fotunl ug imu bjuolke thero as au lus ie spo lumoru ua mhe zbus pilofeo votry mpore bre ctys eipcefu na wnved rbwiou tamh thng is pixhs jo t dzobyire su atrr ie ruce shefo bre tm rebus gico timp tpug by am uoepu mn ge ln pbl ug mbuso bew ydafas nbl perd ouied yn\n",
      "Iter 700 of start 4: shofe tore jemsef yeeye il sho utw povhblan ofofvayo ug oomergaeild mpe fotunl ug imu bjuolve thero as au lus ie spo lumoru ua mhe kbus pilofeo zotry mpore bre ctys eipcefu na wnzed rbwiou tamh thng is pixhs jo t dkobyire su atrr ie ruce shefo bre tm rebus gico timp tpug by am uoepu mn ge ln pbl ug mbuso bew ydafas nbl perd ouied yn\n",
      "Iter 800 of start 4: shofe tore jemsef yeeye il sho utw pokhblan ofofkayo ug oomergaeild mpe fotunl ug imu bjuolke thero as au lus ie spo lumoru ua mhe zbus pilofeo votry mpore bre ctys eipcefu na wnved rbwiou tamh thng is pixhs jo t dzobyire su atrr ie ruce shefo bre tm rebus gico timp tpug by am uoepu mn ge ln pbl ug mbuso bew ydafas nbl perd ouied yn\n",
      "Iter 900 of start 4: shofe tore jemsef yeeye il sho utk powhblan ofofwayo ug oomergaeild mpe fotunl ug imu bjuolwe thero as au lus ie spo lumoru ua mhe vbus pilofeo zotry mpore bre ctys eipcefu na knzed rbkiou tamh thng is pixhs jo t dvobyire su atrr ie ruce shefo bre tm rebus gico timp tpug by am uoepu mn ge ln pbl ug mbuso bek ydafas nbl perd ouied yn\n",
      "Iter 1000 of start 4: shofe tore jemsef yeeye il sho utw pokhblan ofofkayo ug oomergaeild mpe fotunl ug imu bjuolke thero as au lus ie spo lumoru ua mhe zbus pilofeo votry mpore bre ctys eipcefu na wnved rbwiou tamh thng is pixhs jo t dzobyire su atrr ie ruce shefo bre tm rebus gico timp tpug by am uoepu mn ge ln pbl ug mbuso bew ydafas nbl perd ouied yn\n",
      "Iter 1100 of start 4: shofe tore jemsef yeeye il sho utw pokhblan ofofkayo ug oomergaeild mpe fotunl ug imu bjuolke thero as au lus ie spo lumoru ua mhe zbus pilofeo votry mpore bre ctys eipcefu na wnved rbwiou tamh thng is pixhs jo t dzobyire su atrr ie ruce shefo bre tm rebus gico timp tpug by am uoepu mn ge ln pbl ug mbuso bew ydafas nbl perd ouied yn\n",
      "Iter 0 of start 5: hnpra qpua mashar caaca vf hnp jqd kptnifeg prprtecp jy ppsauyeavfl ska rpqjgf jy vsj imjpfta qnaup eh ej fjh va hkp fjspuj je sna zijh kvfprap bpquc skpua iua wqch avkwarj ge dgbal uidvpj qesn qngy vh kvxnh mp q lzpicvua hj equu va ujwa hnarp iua qs uaijh yvwp qvsk qkjy ic es jpakj sg ya fg kif jy sijhp iad clereh gif kaul pjval cg\n",
      "Iter 100 of start 5: tuowe bore vemtew leele sh tuo ibk yofuchan owowfalo ig oomergaeshd mye wobinh ig smi cviohfe buero at ai hit se tyo himori ia mue xcit yshoweo jobrl myore cre pblt esypewi na knjed rcksoi bamu bung st ysqut vo b dxoclsre ti abrr se ripe tuewo cre bm recit gspo bsmy byig cl am ioeyi mn ge hn ych ig mcito cek ldawat nch yerd oised ln\n",
      "Iter 200 of start 5: duowe tore vemdew leele sh duo itk yobuchan owowbalo ig oomergaeshf mye wotinh ig smi cviohbe tuero ad ai hid se dyo himori ia mue zcid yshoweo jotrl myore cre ptld esypewi na knjef rcksoi tamu tung sd ysqud vo t fzoclsre di atrr se ripe duewo cre tm recid gspo tsmy tyig cl am ioeyi mn ge hn ych ig mcido cek lfawad nch yerf oisef ln\n",
      "Iter 300 of start 5: tuowe bore vemtew leele sh tuo ibk yofuchan owowfalo ig oomergaeshd mye wobinh ig smi cviohfe buero at ai hit se tyo himori ia mue jcit yshoweo zobrl myore cre pblt esypewi na knzed rcksoi bamu bung st ysqut vo b djoclsre ti abrr se ripe tuewo cre bm recit gspo bsmy byig cl am ioeyi mn ge hn ych ig mcito cek ldawat nch yerd oised ln\n",
      "Iter 400 of start 5: duowe pore betdew meeme sh duo ipk lofuchan owowfamo ig ootergaeshy tle wopinh ig sti cbiohfe puero ad ai hid se dlo hitori ia tue xcid lshoweo joprm tlore cre vpmd eslvewi na knjey rcksoi patu pung sd lsqud bo p yxocmsre di aprr se rive duewo cre pt recid gsvo pstl plig cm at ioeli tn ge hn lch ig tcido cek myawad nch lery oisey mn\n",
      "Iter 500 of start 5: duome pore vetdem leele sh duo ipk wobuchan omombalo ig ootergaeshy twe mopinh ig sti cviohbe puero ad ai hid se dwo hitori ia tue xcid wshomeo joprl twore cre fpld eswfemi na knjey rcksoi patu pung sd wsqud vo p yxoclsre di aprr se rife duemo cre pt recid gsfo pstw pwig cl at ioewi tn ge hn wch ig tcido cek lyamad nch wery oisey ln\n",
      "Iter 600 of start 5: duome fore betdem leele sh duo ifk wovuchan omomvalo ig ootergaeshy twe mofinh ig sti cbiohve fuero ad ai hid se dwo hitori ia tue xcid wshomeo jofrl twore cre pfld eswpemi na knjey rcksoi fatu fung sd wsqud bo f yxoclsre di afrr se ripe duemo cre ft recid gspo fstw fwig cl at ioewi tn ge hn wch ig tcido cek lyamad nch wery oisey ln\n"
     ]
    }
   ],
   "source": [
    "# break the cipher with MCMC using 5 starting points\n",
    "cipher_breaker_nstart = CipherBreaker(\n",
    "    cipher_generator=cipher_generator,\n",
    "    ciphered_text=encoded_text,\n",
    "    probability_table=probability_matrix.probability_table,\n",
    ")\n",
    "cipher_breaker_nstart.break_cipher_nstart(\n",
    "    iterations=1000000, print_interval=100, nstart=5\n",
    ")"
   ]
  },
  {
   "cell_type": "code",
   "execution_count": null,
   "metadata": {},
   "outputs": [],
   "source": [
    "cipher_breaker_nstart.extract_best(\n",
    "    n_extract=10, return_likelihood=True\n",
    ")  # Extract the best 10 decoded messages along with their likelihood"
   ]
  },
  {
   "cell_type": "code",
   "execution_count": 34,
   "metadata": {},
   "outputs": [
    {
     "name": "stdout",
     "output_type": "stream",
     "text": [
      "MCMC accuracy: 0.47305389221556887\n"
     ]
    }
   ],
   "source": [
    "import numpy as np\n",
    "\n",
    "print(\n",
    "    \"MCMC accuracy:\",\n",
    "    np.mean(\n",
    "        np.array(\n",
    "            list(\n",
    "                cipher_breaker_nstart.extract_best(n_extract=1, return_likelihood=True)[\n",
    "                    0\n",
    "                ][0]\n",
    "            )\n",
    "        )\n",
    "        == np.array(list(text))\n",
    "    ),\n",
    ")"
   ]
  },
  {
   "attachments": {},
   "cell_type": "markdown",
   "metadata": {},
   "source": [
    "Giustamente lui alla fine va verso uno di due cifrator, e quindi nel momento in cui ne sceglie uno torna che l accuracy sia 0.5.\n",
    "Da provare le probabilità che l'encoding sia spostato verso un cifratore... MCMC dovrebbe avere accuracy come quella probabilità (o cmq un po piu bassa).\n"
   ]
  },
  {
   "cell_type": "code",
   "execution_count": null,
   "metadata": {},
   "outputs": [],
   "source": [
    "cipher_breaker_nstart.generate_animation()"
   ]
  }
 ],
 "metadata": {
  "kernelspec": {
   "display_name": "Python 3",
   "language": "python",
   "name": "python3"
  },
  "language_info": {
   "codemirror_mode": {
    "name": "ipython",
    "version": 3
   },
   "file_extension": ".py",
   "mimetype": "text/x-python",
   "name": "python",
   "nbconvert_exporter": "python",
   "pygments_lexer": "ipython3",
   "version": "3.11.1"
  },
  "orig_nbformat": 4
 },
 "nbformat": 4,
 "nbformat_minor": 2
}
