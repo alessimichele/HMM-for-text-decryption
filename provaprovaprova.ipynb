{
 "cells": [
  {
   "attachments": {},
   "cell_type": "markdown",
   "metadata": {},
   "source": [
    "from functions2 import Baum_Welch, forward_HMM, backward_HMM, compute_all_conditional\n",
    "import numpy as np\n",
    "\n",
    "A = np.array([[0.6, 0.4], [0.3, 0.7]])\n",
    "B = np.array([[0.5, 0.5], [0.1, 0.9]])\n",
    "pi = np.array([0.2, 0.8])\n",
    "observed = np.array([1, 0, 1])\n",
    "B_start = np.zeros((2, 2)) + 0.5\n",
    "\n",
    "alpha, c = forward_HMM(A, B, pi, observed)\n",
    "beta_hat, beta = backward_HMM(A, B, observed, c)\n",
    "gamma = compute_all_conditional(alpha, beta)\n"
   ]
  },
  {
   "attachments": {},
   "cell_type": "markdown",
   "metadata": {},
   "source": [
    "# text experiment\n"
   ]
  },
  {
   "cell_type": "code",
   "execution_count": 1,
   "metadata": {},
   "outputs": [
    {
     "name": "stdout",
     "output_type": "stream",
     "text": [
      " mp hjiqvpn ml yjjqy lc fj oijlln qart valcqvlmr oijlln qart vee ltj lmqj mp xivprj vpw yovmp ml vee wjojpwy oijyaqvfen cp ycrmve yaflejlmjy ltvl nca tvsj lc fj xijprt ci yovpmyt lc apwjiylvpw mp mlven dtn dcaew nca jsjp fcltji dtjp vpw tcd qart lc lmo my v kajylmcp ltvl tvy fjjp sjgmph smymlciy lc jaicoj xci vy ecph vy ojcoej tvsj fjjp livsjeemph vicapw ltj rcplmpjpl calymwj ltjmi cdp rcaplin ml yjjqy jsjp jaicojvpy wcp l zpcd ltj vpydji vrrciwmph lc pjd oceemph fn ncahcs mp ymg ja rcaplimjy fimlvmp vpw ltj ay dtjij vy qcyl smymlciy zpcd fal qvn fj ijearlvpl lc vrzpcdejwhj hivlamlmjy qvn qvzj ao qcij ltvp tvex ncai dvmlojiycp y mprcqj jaicojvpy vij wjjoen wmsmwjw cp lmoomph mp ijylvaivply xci jgvqoej cx ijyocpwjply mp hjiqvpn lcew ltj oceeylji ltjn lnomrveen lmoojw veqcyl ltj yvqj vy ltj ay mp ltj az dtjij vp colmcpve yjismrj rtvihj cx vfcal my ayaveen mpreawjw yvmw ltjn ejxl v hivlamln ltj xmhaij mp yovmp dtjij yjismrj my cxljp mpreawjw mp ijylvaivpl fmeey fal wmpjiy rvp ejvsj colmcpve lmoy dvy dtmej mp xivprj dtjij jsjin oimrj cp v ijylvaivpl qjpa veijvwn mpreawjy xci yjismrj cx ojcoej yvmw ltjn hjpjiveen lmoojw cp lco jsjp mp ydjwjp dtjij lmoy vij hjpjiveen pcl jgojrljw ltj xmhaij dvy fal cpen cx mlvemvpy yvmw ltjn dcaew lnomrveen ejvsj v hivlamln vxlji v qjve cal dmlt v ivltji hijvlji oicocilmcp vwqmllmph ltjn pjsji ejxl v rjpl v ylvilemph cx ijyocpwjply mp ltj ay tcdjsji vpw cx hjiqvpy fn xvi ltj qcyl mp jaicoj rcpxjyyjw ltjn dcaew lmo ycqjlmqjy ci cxljp jsjp mx ltj yjismrj dvy ljiimfej mpwmrvlmph ltvl xci ycqj lmoomph my pcl vfcal kavemln cx yjismrj vl vee ltj xmpwmphy cx ltj yaisjn dmee rcqj vy v yaioimyj mp hjiqvpn v rcaplin ltvl wcjy pcl hjpjiveen ltmpz cx mlyjex vy v pvlmcp cx tvoon wmylimfalciy cx ltj dciw mp v ymqmevi sjmp lc ocaifcmij mp xijprt qjvpy wimpzmph qcpjn\n"
     ]
    }
   ],
   "source": [
    "import random\n",
    "from src.CipherUtils import CipherGenerator\n",
    "from src.CipherUtils import TextDecoder, TextEncoder\n",
    "\n",
    "\n",
    "hidden_sequence = \"people of western europe a landing was made this morning on the coast of france by troops kangaroo jokes quasi vile xilophone zenit \"\n",
    "hidden_sequence = \" in germany it seems to be pretty much automatic pretty much all the time in france and spain it all depends presumably on social subtleties that you have to be french or spanish to understand in italy why would you even bother when and how much to tip is a question that has been vexing visitors to europe for as long as people have been travelling around the continent outside their own country it seems even europeans don t know the answer according to new polling by yougov in six eu countries britain and the us where as most visitors know but may be reluctant to acknowledge gratuities may make up more than half your waitperson s income europeans are deeply divided on tipping in restaurants for example of respondents in germany told the pollster they typically tipped almost the same as the us in the uk where an optional service charge of about is usually included said they left a gratuity the figure in spain where service is often included in restaurant bills but diners can leave optional tips was while in france where every price on a restaurant menu already includes for service of people said they generally tipped on top even in sweden where tips are generally not expected the figure was but only of italians said they would typically leave a gratuity after a meal out with a rather greater proportion admitting they never left a cent a startling of respondents in the us however and of germans by far the most in europe confessed they would tip sometimes or often even if the service was terrible indicating that for some tipping is not about quality of service at all the findings of the survey will come as a surprise in germany a country that does not generally think of itself as a nation of happy distributors of the word in a similar vein to pourboire in french means drinking money\"\n",
    "# hidden_sequence = \" hello banana xilophone key queue zebra cock pussy tits dandy fart though jolly world mum \"\n",
    "\n",
    "\n",
    "cipher_generator = CipherGenerator()\n",
    "cipher = cipher_generator.generate_cipher()\n",
    "encoder = TextEncoder()\n",
    "observed_sequence = encoder.encode_text(hidden_sequence, cipher=cipher)\n",
    "\n",
    "\n",
    "print(observed_sequence)"
   ]
  },
  {
   "cell_type": "code",
   "execution_count": 2,
   "metadata": {},
   "outputs": [],
   "source": [
    "from prove.src.Probability import ProbabilityMatrix\n",
    "\n",
    "with open(\"texts/moby_dick.txt\", \"r\") as file:\n",
    "    text = file.read()\n",
    "\n",
    "alphabet = list(\"abcdefghijklmnopqrstuvwxyz \")\n",
    "\n",
    "\n",
    "pm = ProbabilityMatrix(text=text, alphabet=alphabet)\n",
    "unknown_chars = pm.unknown_chars()\n",
    "pm.preprocess_text(unknown_chars=unknown_chars)\n",
    "\n",
    "# compute probabilities\n",
    "pm.compute_matrix_spaces()"
   ]
  },
  {
   "attachments": {},
   "cell_type": "markdown",
   "metadata": {},
   "source": [
    "# classe usata per MCMC qui in teori non serve piu\n",
    "\n",
    "from src.ProbabilityMatrix import ProbabilityMatrix\n",
    "from src.CipherUtils import TextPreProcessor\n",
    "\n",
    "preprocess = TextPreProcessor()\n",
    "text = preprocess.lower(text)\n",
    "text = preprocess.remove_additional_spaces(text)\n",
    "text = preprocess.remove_unknown_chars(\n",
    "text=text, unknown_chars=preprocess.unknown_chars(text)\n",
    ")\n",
    "\n",
    "probability = ProbabilityMatrix(text=text)\n",
    "probability.compute_probability_table()\n"
   ]
  },
  {
   "cell_type": "code",
   "execution_count": 3,
   "metadata": {},
   "outputs": [],
   "source": [
    "def map_alphabet_to_numbers():\n",
    "    alphabet = \"abcdefghijklmnopqrstuvwxyz \"\n",
    "    mapping = {char: i for i, char in enumerate(alphabet)}\n",
    "    return mapping"
   ]
  },
  {
   "cell_type": "code",
   "execution_count": 4,
   "metadata": {},
   "outputs": [],
   "source": [
    "def translate_string_to_numbers(text, mapping):\n",
    "    numbers = [mapping[char] for char in text]\n",
    "    return numbers"
   ]
  },
  {
   "cell_type": "code",
   "execution_count": 5,
   "metadata": {},
   "outputs": [],
   "source": [
    "hidden_ = translate_string_to_numbers(\n",
    "    hidden_sequence, mapping=map_alphabet_to_numbers()\n",
    ")\n",
    "observed_ = translate_string_to_numbers(\n",
    "    observed_sequence, mapping=map_alphabet_to_numbers()\n",
    ")"
   ]
  },
  {
   "cell_type": "code",
   "execution_count": 6,
   "metadata": {},
   "outputs": [],
   "source": [
    "transition_probs = pm.matrix"
   ]
  },
  {
   "cell_type": "code",
   "execution_count": 7,
   "metadata": {},
   "outputs": [],
   "source": [
    "from functions2 import forward_HMM\n",
    "import numpy as np\n",
    "\n",
    "ah, c = forward_HMM(\n",
    "    A=transition_probs,\n",
    "    B=np.zeros((27, 27)) + 1 / 27,\n",
    "    pi=transition_probs[-1, :],\n",
    "    observed=observed_,\n",
    ")"
   ]
  },
  {
   "cell_type": "code",
   "execution_count": 8,
   "metadata": {},
   "outputs": [
    {
     "data": {
      "text/plain": [
       "array([1., 1., 1., ..., 1., 1., 1.])"
      ]
     },
     "execution_count": 8,
     "metadata": {},
     "output_type": "execute_result"
    }
   ],
   "source": [
    "ah.sum(axis=1)"
   ]
  },
  {
   "cell_type": "code",
   "execution_count": 9,
   "metadata": {},
   "outputs": [],
   "source": [
    "from functions2 import backward_HMM\n",
    "\n",
    "bh = backward_HMM(A=pm.matrix, B=np.zeros((27, 27)) + 1 / 27, observed=observed_, c=c)"
   ]
  },
  {
   "cell_type": "code",
   "execution_count": 10,
   "metadata": {},
   "outputs": [
    {
     "data": {
      "text/plain": [
       "array([15.13592885, 13.55682443, 13.44579442, ..., 13.47509856,\n",
       "       13.44227918, 12.50348472])"
      ]
     },
     "execution_count": 10,
     "metadata": {},
     "output_type": "execute_result"
    }
   ],
   "source": [
    "bh.sum(axis=1)"
   ]
  },
  {
   "cell_type": "code",
   "execution_count": 11,
   "metadata": {},
   "outputs": [],
   "source": [
    "from functions2 import Baum_Welch\n",
    "import numpy as np\n",
    "\n",
    "emission = Baum_Welch(\n",
    "    A=pm.matrix,\n",
    "    B_start=np.zeros((27, 27)) + 1 / 27,\n",
    "    pi=pm.matrix[-1, :],\n",
    "    observed=observed_,\n",
    "    maxIter=800,\n",
    ")"
   ]
  },
  {
   "cell_type": "code",
   "execution_count": 14,
   "metadata": {},
   "outputs": [
    {
     "data": {
      "text/plain": [
       "array([[7.93155271e-002, 0.00000000e+000, 5.67676261e-002,\n",
       "        0.00000000e+000, 0.00000000e+000, 0.00000000e+000,\n",
       "        0.00000000e+000, 0.00000000e+000, 0.00000000e+000,\n",
       "        8.47370244e-084, 0.00000000e+000, 0.00000000e+000,\n",
       "        6.98983560e-003, 0.00000000e+000, 1.61939185e-158,\n",
       "        0.00000000e+000, 2.78957369e-318, 0.00000000e+000,\n",
       "        6.53900419e-260, 0.00000000e+000, 0.00000000e+000,\n",
       "        8.33093800e-001, 0.00000000e+000, 5.34305459e-220,\n",
       "        0.00000000e+000, 2.38332111e-002, 0.00000000e+000],\n",
       "       [0.00000000e+000, 0.00000000e+000, 0.00000000e+000,\n",
       "        0.00000000e+000, 7.27921205e-311, 7.85725378e-001,\n",
       "        0.00000000e+000, 1.28247931e-001, 0.00000000e+000,\n",
       "        8.60266910e-002, 1.28854630e-191, 0.00000000e+000,\n",
       "        0.00000000e+000, 5.78405771e-038, 1.94877905e-309,\n",
       "        9.69186544e-144, 1.34651760e-031, 1.85472243e-320,\n",
       "        6.81303538e-152, 0.00000000e+000, 0.00000000e+000,\n",
       "        0.00000000e+000, 2.15701917e-162, 0.00000000e+000,\n",
       "        1.30817533e-247, 0.00000000e+000, 0.00000000e+000],\n",
       "       [0.00000000e+000, 0.00000000e+000, 0.00000000e+000,\n",
       "        1.23265660e-239, 2.88128604e-215, 3.01365876e-038,\n",
       "        1.19317947e-239, 4.31137002e-081, 6.16590638e-253,\n",
       "        9.55650205e-194, 1.10335343e-314, 3.48812007e-217,\n",
       "        0.00000000e+000, 1.02444712e-059, 8.66220958e-175,\n",
       "        1.21072502e-135, 1.51241272e-061, 1.00000000e+000,\n",
       "        3.24448823e-175, 0.00000000e+000, 0.00000000e+000,\n",
       "        0.00000000e+000, 1.79732092e-136, 9.84928133e-122,\n",
       "        1.65597859e-240, 0.00000000e+000, 0.00000000e+000],\n",
       "       [5.51239677e-094, 0.00000000e+000, 0.00000000e+000,\n",
       "        1.46705319e-003, 8.31223591e-228, 0.00000000e+000,\n",
       "        6.19674483e-169, 3.50042343e-002, 7.80336891e-103,\n",
       "        0.00000000e+000, 0.00000000e+000, 7.17076501e-084,\n",
       "        0.00000000e+000, 1.68003706e-001, 2.07119807e-258,\n",
       "        2.17007188e-172, 2.15762384e-201, 1.36665709e-273,\n",
       "        5.12055172e-068, 0.00000000e+000, 0.00000000e+000,\n",
       "        0.00000000e+000, 7.27049686e-001, 1.85365314e-022,\n",
       "        5.98657864e-015, 6.84753203e-002, 0.00000000e+000],\n",
       "       [5.77303865e-002, 0.00000000e+000, 1.40636994e-056,\n",
       "        0.00000000e+000, 1.51592436e-183, 0.00000000e+000,\n",
       "        0.00000000e+000, 7.01522949e-253, 9.05646817e-233,\n",
       "        8.56608185e-001, 0.00000000e+000, 2.52696601e-264,\n",
       "        1.16752899e-092, 8.56614288e-002, 2.70602747e-136,\n",
       "        0.00000000e+000, 5.70899949e-151, 0.00000000e+000,\n",
       "        0.00000000e+000, 0.00000000e+000, 0.00000000e+000,\n",
       "        6.72008885e-135, 2.26876133e-264, 2.09626833e-196,\n",
       "        5.14373703e-065, 3.80472603e-252, 0.00000000e+000],\n",
       "       [8.76743857e-132, 0.00000000e+000, 0.00000000e+000,\n",
       "        2.13460532e-002, 0.00000000e+000, 0.00000000e+000,\n",
       "        0.00000000e+000, 0.00000000e+000, 6.28236999e-278,\n",
       "        0.00000000e+000, 0.00000000e+000, 4.18613908e-269,\n",
       "        0.00000000e+000, 1.16110869e-072, 4.42904070e-073,\n",
       "        5.93487824e-123, 1.58695977e-196, 1.43823051e-291,\n",
       "        7.13634030e-181, 0.00000000e+000, 0.00000000e+000,\n",
       "        5.88211578e-288, 1.17098887e-260, 9.78653947e-001,\n",
       "        0.00000000e+000, 0.00000000e+000, 0.00000000e+000],\n",
       "       [5.49097146e-223, 0.00000000e+000, 0.00000000e+000,\n",
       "        0.00000000e+000, 0.00000000e+000, 0.00000000e+000,\n",
       "        0.00000000e+000, 8.65202135e-001, 0.00000000e+000,\n",
       "        0.00000000e+000, 0.00000000e+000, 1.23306734e-060,\n",
       "        0.00000000e+000, 2.29087785e-270, 0.00000000e+000,\n",
       "        0.00000000e+000, 0.00000000e+000, 1.34797865e-001,\n",
       "        0.00000000e+000, 0.00000000e+000, 0.00000000e+000,\n",
       "        0.00000000e+000, 3.81920505e-144, 5.48452593e-106,\n",
       "        3.68291427e-117, 3.70767284e-070, 0.00000000e+000],\n",
       "       [3.91771107e-002, 0.00000000e+000, 1.15759067e-002,\n",
       "        1.37502503e-156, 7.87110712e-002, 3.76322387e-212,\n",
       "        0.00000000e+000, 4.97376892e-018, 1.72570996e-001,\n",
       "        3.17049095e-035, 0.00000000e+000, 6.04040859e-002,\n",
       "        3.36636799e-002, 4.56064039e-187, 6.72096943e-002,\n",
       "        3.76990621e-194, 6.80891385e-003, 0.00000000e+000,\n",
       "        4.46359485e-118, 4.52368817e-001, 0.00000000e+000,\n",
       "        4.94788125e-002, 8.99999632e-237, 0.00000000e+000,\n",
       "        2.80309126e-002, 0.00000000e+000, 0.00000000e+000],\n",
       "       [1.22596866e-102, 0.00000000e+000, 9.48285136e-112,\n",
       "        0.00000000e+000, 0.00000000e+000, 0.00000000e+000,\n",
       "        0.00000000e+000, 0.00000000e+000, 0.00000000e+000,\n",
       "        1.19550196e-160, 0.00000000e+000, 0.00000000e+000,\n",
       "        1.00000000e+000, 0.00000000e+000, 0.00000000e+000,\n",
       "        0.00000000e+000, 0.00000000e+000, 0.00000000e+000,\n",
       "        0.00000000e+000, 0.00000000e+000, 0.00000000e+000,\n",
       "        5.24297371e-134, 0.00000000e+000, 0.00000000e+000,\n",
       "        0.00000000e+000, 1.01821578e-010, 0.00000000e+000],\n",
       "       [0.00000000e+000, 0.00000000e+000, 0.00000000e+000,\n",
       "        0.00000000e+000, 0.00000000e+000, 6.95748575e-284,\n",
       "        0.00000000e+000, 2.78302635e-300, 0.00000000e+000,\n",
       "        6.36605304e-127, 0.00000000e+000, 0.00000000e+000,\n",
       "        0.00000000e+000, 1.00000000e+000, 0.00000000e+000,\n",
       "        3.73924668e-177, 7.02468008e-104, 0.00000000e+000,\n",
       "        0.00000000e+000, 0.00000000e+000, 0.00000000e+000,\n",
       "        0.00000000e+000, 0.00000000e+000, 0.00000000e+000,\n",
       "        0.00000000e+000, 0.00000000e+000, 0.00000000e+000],\n",
       "       [0.00000000e+000, 0.00000000e+000, 0.00000000e+000,\n",
       "        3.15731650e-273, 0.00000000e+000, 0.00000000e+000,\n",
       "        0.00000000e+000, 3.70560779e-243, 0.00000000e+000,\n",
       "        0.00000000e+000, 0.00000000e+000, 7.63585827e-316,\n",
       "        0.00000000e+000, 0.00000000e+000, 1.87018908e-276,\n",
       "        0.00000000e+000, 0.00000000e+000, 1.26594711e-307,\n",
       "        1.00000000e+000, 0.00000000e+000, 0.00000000e+000,\n",
       "        0.00000000e+000, 3.54259034e-277, 0.00000000e+000,\n",
       "        0.00000000e+000, 1.08618432e-040, 0.00000000e+000],\n",
       "       [0.00000000e+000, 0.00000000e+000, 0.00000000e+000,\n",
       "        0.00000000e+000, 9.64863835e-001, 1.09548485e-065,\n",
       "        1.07177238e-259, 5.20932993e-193, 3.04704718e-002,\n",
       "        0.00000000e+000, 0.00000000e+000, 4.12595292e-168,\n",
       "        0.00000000e+000, 3.44178231e-301, 2.06009933e-098,\n",
       "        1.43644714e-201, 9.80164488e-007, 2.65265187e-185,\n",
       "        5.82288443e-032, 0.00000000e+000, 0.00000000e+000,\n",
       "        0.00000000e+000, 1.43556693e-069, 2.05565379e-285,\n",
       "        1.84554485e-314, 4.66471315e-003, 0.00000000e+000],\n",
       "       [0.00000000e+000, 0.00000000e+000, 0.00000000e+000,\n",
       "        2.29359649e-192, 0.00000000e+000, 3.38524957e-185,\n",
       "        1.38590587e-287, 2.66302605e-085, 8.98585686e-210,\n",
       "        5.49445740e-284, 0.00000000e+000, 4.42291268e-310,\n",
       "        0.00000000e+000, 1.06730749e-197, 1.27106101e-127,\n",
       "        9.31206926e-094, 1.00000000e+000, 4.76585306e-137,\n",
       "        1.12420633e-033, 0.00000000e+000, 0.00000000e+000,\n",
       "        0.00000000e+000, 6.33242065e-124, 0.00000000e+000,\n",
       "        2.06760906e-272, 0.00000000e+000, 0.00000000e+000],\n",
       "       [4.19519214e-135, 0.00000000e+000, 0.00000000e+000,\n",
       "        1.26565178e-161, 1.99758998e-140, 1.38784869e-201,\n",
       "        3.71203211e-080, 0.00000000e+000, 8.10164439e-003,\n",
       "        0.00000000e+000, 0.00000000e+000, 1.06084948e-117,\n",
       "        7.43557199e-293, 0.00000000e+000, 1.19957347e-002,\n",
       "        9.60242374e-001, 1.39550618e-118, 6.58578187e-003,\n",
       "        2.85763686e-229, 0.00000000e+000, 0.00000000e+000,\n",
       "        0.00000000e+000, 1.30744655e-002, 3.22035846e-098,\n",
       "        7.12292116e-233, 1.43962046e-084, 0.00000000e+000],\n",
       "       [5.42176241e-168, 0.00000000e+000, 9.90334120e-001,\n",
       "        0.00000000e+000, 0.00000000e+000, 2.78601042e-307,\n",
       "        0.00000000e+000, 0.00000000e+000, 0.00000000e+000,\n",
       "        9.66587993e-003, 0.00000000e+000, 0.00000000e+000,\n",
       "        2.74512052e-136, 8.78614503e-223, 0.00000000e+000,\n",
       "        0.00000000e+000, 1.37374263e-263, 0.00000000e+000,\n",
       "        0.00000000e+000, 0.00000000e+000, 0.00000000e+000,\n",
       "        7.74686224e-066, 0.00000000e+000, 0.00000000e+000,\n",
       "        5.71026172e-260, 5.79954296e-107, 0.00000000e+000],\n",
       "       [4.12803587e-222, 0.00000000e+000, 0.00000000e+000,\n",
       "        1.88981045e-081, 5.69088850e-186, 7.98044684e-001,\n",
       "        0.00000000e+000, 2.00602317e-001, 7.22318706e-160,\n",
       "        4.12978106e-147, 0.00000000e+000, 1.48547635e-212,\n",
       "        0.00000000e+000, 7.10338939e-057, 5.35944244e-011,\n",
       "        1.16456333e-079, 1.33700030e-003, 1.28309204e-161,\n",
       "        1.59989085e-005, 0.00000000e+000, 0.00000000e+000,\n",
       "        4.74458895e-293, 1.95742049e-076, 2.39662338e-190,\n",
       "        1.00094802e-183, 1.05235015e-239, 0.00000000e+000],\n",
       "       [0.00000000e+000, 0.00000000e+000, 0.00000000e+000,\n",
       "        0.00000000e+000, 0.00000000e+000, 0.00000000e+000,\n",
       "        0.00000000e+000, 0.00000000e+000, 0.00000000e+000,\n",
       "        1.00000000e+000, 2.53987832e-164, 0.00000000e+000,\n",
       "        0.00000000e+000, 6.31747151e-267, 0.00000000e+000,\n",
       "        0.00000000e+000, 2.87153952e-200, 0.00000000e+000,\n",
       "        0.00000000e+000, 0.00000000e+000, 0.00000000e+000,\n",
       "        0.00000000e+000, 0.00000000e+000, 0.00000000e+000,\n",
       "        0.00000000e+000, 0.00000000e+000, 0.00000000e+000],\n",
       "       [7.83814724e-219, 0.00000000e+000, 0.00000000e+000,\n",
       "        4.48362279e-099, 9.09828836e-240, 8.20266089e-305,\n",
       "        2.06029128e-002, 4.33284196e-295, 7.87206426e-001,\n",
       "        0.00000000e+000, 0.00000000e+000, 9.14157209e-188,\n",
       "        0.00000000e+000, 2.42283467e-273, 7.91350213e-002,\n",
       "        4.40280051e-105, 1.32914314e-013, 2.31474299e-251,\n",
       "        1.13055640e-001, 0.00000000e+000, 0.00000000e+000,\n",
       "        0.00000000e+000, 5.07188256e-067, 1.88212035e-238,\n",
       "        7.09259250e-292, 1.33346208e-028, 0.00000000e+000],\n",
       "       [1.50682021e-092, 0.00000000e+000, 4.93367543e-149,\n",
       "        2.08641804e-058, 2.70904133e-203, 2.13954004e-020,\n",
       "        2.13622654e-002, 5.63995739e-054, 7.08171622e-066,\n",
       "        5.35486530e-227, 0.00000000e+000, 1.64476747e-073,\n",
       "        0.00000000e+000, 4.68923527e-038, 3.73244933e-047,\n",
       "        9.88432575e-024, 4.65781582e-002, 1.55043622e-029,\n",
       "        1.35287608e-045, 0.00000000e+000, 0.00000000e+000,\n",
       "        3.65283099e-080, 1.00031774e-004, 5.04578463e-002,\n",
       "        8.81501698e-001, 1.07454318e-090, 0.00000000e+000],\n",
       "       [1.18512362e-139, 0.00000000e+000, 0.00000000e+000,\n",
       "        3.55670456e-002, 4.49107158e-027, 6.88935832e-008,\n",
       "        3.38556406e-239, 3.22419186e-002, 1.26850142e-287,\n",
       "        1.24581945e-244, 9.94779155e-003, 6.45559278e-001,\n",
       "        0.00000000e+000, 7.69536181e-003, 1.55611294e-001,\n",
       "        4.46688173e-164, 8.38652845e-125, 5.78630878e-002,\n",
       "        3.11933482e-092, 0.00000000e+000, 0.00000000e+000,\n",
       "        1.53994161e-113, 2.68106430e-002, 2.87035109e-002,\n",
       "        1.73009189e-077, 2.62583676e-195, 0.00000000e+000],\n",
       "       [1.00000000e+000, 0.00000000e+000, 0.00000000e+000,\n",
       "        2.01728908e-226, 0.00000000e+000, 0.00000000e+000,\n",
       "        0.00000000e+000, 0.00000000e+000, 1.17874042e-313,\n",
       "        0.00000000e+000, 0.00000000e+000, 0.00000000e+000,\n",
       "        6.47349737e-109, 0.00000000e+000, 7.93657820e-076,\n",
       "        0.00000000e+000, 0.00000000e+000, 0.00000000e+000,\n",
       "        0.00000000e+000, 0.00000000e+000, 0.00000000e+000,\n",
       "        0.00000000e+000, 0.00000000e+000, 0.00000000e+000,\n",
       "        0.00000000e+000, 0.00000000e+000, 0.00000000e+000],\n",
       "       [0.00000000e+000, 0.00000000e+000, 0.00000000e+000,\n",
       "        0.00000000e+000, 0.00000000e+000, 0.00000000e+000,\n",
       "        0.00000000e+000, 2.88293381e-194, 0.00000000e+000,\n",
       "        0.00000000e+000, 0.00000000e+000, 0.00000000e+000,\n",
       "        0.00000000e+000, 0.00000000e+000, 4.41957046e-271,\n",
       "        0.00000000e+000, 3.14550615e-226, 7.44789721e-221,\n",
       "        1.00000000e+000, 0.00000000e+000, 0.00000000e+000,\n",
       "        0.00000000e+000, 2.44435342e-215, 0.00000000e+000,\n",
       "        0.00000000e+000, 1.74414318e-079, 0.00000000e+000],\n",
       "       [0.00000000e+000, 0.00000000e+000, 0.00000000e+000,\n",
       "        9.05186907e-001, 0.00000000e+000, 8.61030433e-131,\n",
       "        0.00000000e+000, 2.05777692e-085, 0.00000000e+000,\n",
       "        3.98684257e-269, 1.71831066e-102, 1.35879134e-186,\n",
       "        0.00000000e+000, 2.10248721e-096, 1.32756442e-134,\n",
       "        2.60762756e-020, 4.39036443e-051, 4.75983697e-194,\n",
       "        4.56882669e-002, 0.00000000e+000, 0.00000000e+000,\n",
       "        0.00000000e+000, 1.00887259e-019, 4.91248257e-002,\n",
       "        4.99849283e-145, 0.00000000e+000, 0.00000000e+000],\n",
       "       [0.00000000e+000, 0.00000000e+000, 0.00000000e+000,\n",
       "        0.00000000e+000, 0.00000000e+000, 0.00000000e+000,\n",
       "        1.48209817e-108, 0.00000000e+000, 0.00000000e+000,\n",
       "        0.00000000e+000, 0.00000000e+000, 0.00000000e+000,\n",
       "        0.00000000e+000, 1.00000000e+000, 0.00000000e+000,\n",
       "        0.00000000e+000, 0.00000000e+000, 0.00000000e+000,\n",
       "        0.00000000e+000, 0.00000000e+000, 0.00000000e+000,\n",
       "        0.00000000e+000, 0.00000000e+000, 0.00000000e+000,\n",
       "        0.00000000e+000, 0.00000000e+000, 0.00000000e+000],\n",
       "       [0.00000000e+000, 0.00000000e+000, 0.00000000e+000,\n",
       "        0.00000000e+000, 3.06570428e-129, 0.00000000e+000,\n",
       "        0.00000000e+000, 0.00000000e+000, 2.17820112e-246,\n",
       "        0.00000000e+000, 0.00000000e+000, 0.00000000e+000,\n",
       "        0.00000000e+000, 9.60171214e-001, 0.00000000e+000,\n",
       "        0.00000000e+000, 6.29767457e-286, 0.00000000e+000,\n",
       "        0.00000000e+000, 0.00000000e+000, 0.00000000e+000,\n",
       "        0.00000000e+000, 3.29598434e-184, 3.98287856e-002,\n",
       "        9.13725282e-097, 4.81433023e-263, 0.00000000e+000],\n",
       "       [0.00000000e+000, 0.00000000e+000, 0.00000000e+000,\n",
       "        0.00000000e+000, 0.00000000e+000, 0.00000000e+000,\n",
       "        0.00000000e+000, 0.00000000e+000, 0.00000000e+000,\n",
       "        0.00000000e+000, 0.00000000e+000, 0.00000000e+000,\n",
       "        0.00000000e+000, 1.03624979e-265, 0.00000000e+000,\n",
       "        0.00000000e+000, 4.25056129e-236, 9.30551307e-034,\n",
       "        7.10194802e-148, 0.00000000e+000, 0.00000000e+000,\n",
       "        0.00000000e+000, 7.74354084e-206, 0.00000000e+000,\n",
       "        0.00000000e+000, 1.00000000e+000, 0.00000000e+000],\n",
       "       [0.00000000e+000, 0.00000000e+000, 0.00000000e+000,\n",
       "        0.00000000e+000, 0.00000000e+000, 0.00000000e+000,\n",
       "        0.00000000e+000, 0.00000000e+000, 0.00000000e+000,\n",
       "        0.00000000e+000, 0.00000000e+000, 0.00000000e+000,\n",
       "        0.00000000e+000, 0.00000000e+000, 0.00000000e+000,\n",
       "        0.00000000e+000, 0.00000000e+000, 0.00000000e+000,\n",
       "        0.00000000e+000, 0.00000000e+000, 0.00000000e+000,\n",
       "        0.00000000e+000, 0.00000000e+000, 0.00000000e+000,\n",
       "        0.00000000e+000, 0.00000000e+000, 1.00000000e+000]])"
      ]
     },
     "execution_count": 14,
     "metadata": {},
     "output_type": "execute_result"
    }
   ],
   "source": [
    "emission"
   ]
  },
  {
   "cell_type": "code",
   "execution_count": 16,
   "metadata": {},
   "outputs": [
    {
     "data": {
      "text/plain": [
       "array([21,  5, 17, 22,  9, 23,  7, 19, 12, 13, 18,  4, 16, 15,  2,  5,  9,\n",
       "        8, 24, 11,  0, 18,  3, 13, 13, 25, 26])"
      ]
     },
     "execution_count": 16,
     "metadata": {},
     "output_type": "execute_result"
    }
   ],
   "source": [
    "emission.argmax(axis=1)"
   ]
  },
  {
   "cell_type": "code",
   "execution_count": null,
   "metadata": {},
   "outputs": [],
   "source": []
  }
 ],
 "metadata": {
  "kernelspec": {
   "display_name": "Python 3",
   "language": "python",
   "name": "python3"
  },
  "language_info": {
   "codemirror_mode": {
    "name": "ipython",
    "version": 3
   },
   "file_extension": ".py",
   "mimetype": "text/x-python",
   "name": "python",
   "nbconvert_exporter": "python",
   "pygments_lexer": "ipython3",
   "version": "3.11.1"
  },
  "orig_nbformat": 4
 },
 "nbformat": 4,
 "nbformat_minor": 2
}
