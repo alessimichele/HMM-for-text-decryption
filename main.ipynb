{
 "cells": [
  {
   "cell_type": "code",
   "execution_count": null,
   "metadata": {},
   "outputs": [],
   "source": [
    "from CipherBreaker import CipherBreaker\n",
    "from src.CipherUtils import (\n",
    "    TextDecoder,\n",
    "    TextEncoder,\n",
    "    CipherGenerator,\n",
    "    TextPreProcessor,\n",
    ")\n",
    "from src.ProbabilityMatrix import ProbabilityMatrix"
   ]
  },
  {
   "cell_type": "code",
   "execution_count": null,
   "metadata": {},
   "outputs": [],
   "source": [
    "# create instances of my beautiful classes\n",
    "\n",
    "cipher_generator = CipherGenerator()\n",
    "preprocess = TextPreProcessor()\n",
    "text_encoder = TextEncoder()\n",
    "text_decoder = TextDecoder()"
   ]
  },
  {
   "cell_type": "code",
   "execution_count": null,
   "metadata": {},
   "outputs": [],
   "source": [
    "# List of text file paths to build our corpus (where we learn the transitions probs)\n",
    "\n",
    "file_paths = [\n",
    "    \"texts/moby_dick.txt\",\n",
    "    \"texts/shakespeare.txt\",\n",
    "    \"texts/james-joyce-a-portrait-of-the-artist-as-a-young-man.txt\",\n",
    "    \"texts/james-joyce-dubliners.txt\",\n",
    "    \"texts/james-joyce-ulysses.txt\",\n",
    "]\n",
    "\n",
    "texts = []\n",
    "for file_path in file_paths:\n",
    "    with open(file_path, \"r\") as file:\n",
    "        texts.append(file.read())\n",
    "\n",
    "corpus = \"\".join(texts)"
   ]
  },
  {
   "cell_type": "code",
   "execution_count": null,
   "metadata": {},
   "outputs": [],
   "source": [
    "# preprocess the text, removing extra-characters\n",
    "\n",
    "corpus = preprocess.lower(corpus)\n",
    "unknown_chars = preprocess.unknown_chars(corpus)\n",
    "# print(unknown_chars)\n",
    "corpus = preprocess.remove_unknown_chars(corpus, unknown_chars=unknown_chars)\n",
    "corpus = preprocess.remove_additional_spaces(corpus)\n",
    "\n",
    "preprocess.save_text(\n",
    "    corpus\n",
    ")  # save text after preprocessing inside text_preprocessed.txt"
   ]
  },
  {
   "cell_type": "code",
   "execution_count": null,
   "metadata": {},
   "outputs": [],
   "source": [
    "# compute the transition probs\n",
    "\n",
    "probability_matrix = ProbabilityMatrix(corpus)\n",
    "probability_matrix.compute_probability_table()"
   ]
  },
  {
   "cell_type": "code",
   "execution_count": null,
   "metadata": {},
   "outputs": [],
   "source": [
    "min(probability_matrix.probability_table.values())"
   ]
  },
  {
   "cell_type": "code",
   "execution_count": null,
   "metadata": {},
   "outputs": [],
   "source": [
    "probability_matrix.save_all_2_chars()\n",
    "probability_matrix.save_probability_table()"
   ]
  },
  {
   "cell_type": "code",
   "execution_count": null,
   "metadata": {},
   "outputs": [],
   "source": [
    "# some text to try\n",
    "\n",
    "text = \"There were better sense in the sad mechanic exercise of determining the reason of its absence where it is not. In the novels of the last hundred years there are vast numbers of young ladies with whom it might be a pleasure to fall in love; there are at least five with whom, as it seems to me, no man of taste and spirit can help doing so.\"\n",
    "text = \"I do not believe a word of it, my dear. If he had been so very agreeable, he would have talked to Mrs. Long. But I can guess how it was\"\n",
    "text = \"Your plan is a good one,” replied Elizabeth, “where nothing is in question but the desire of being well married; and if I were determined to get a rich husband, or any husband, I dare say I should adopt it. But these are not Jane’s feelings\"\n",
    "text = \"she is not acting by design. As yet she cannot even be certain of the degree of her own regard, nor of its reasonableness. She has known him only a fortnight. She danced four dances with him at Meryton; she saw him one morning at his own house, and has since dined in company with him four times.\""
   ]
  },
  {
   "cell_type": "code",
   "execution_count": null,
   "metadata": {},
   "outputs": [],
   "source": [
    "# encode and decode a sample text with a generated cipher\n",
    "\n",
    "text = preprocess.lower(text)\n",
    "text = preprocess.remove_unknown_chars(\n",
    "    text, unknown_chars=preprocess.unknown_chars(text)\n",
    ")\n",
    "text = preprocess.remove_additional_spaces(text)\n",
    "\n",
    "\n",
    "cipher = cipher_generator.generate_cipher()\n",
    "\n",
    "encoded_text = text_encoder.encode_text(text, cipher)\n",
    "decoded_text = text_decoder.decode_text(encoded_text, cipher)\n",
    "\n",
    "print(\"Original Text:\", text)\n",
    "print(\"Encoded Text:\", encoded_text)\n",
    "print(\"Decoded Text:\", decoded_text)"
   ]
  },
  {
   "cell_type": "code",
   "execution_count": null,
   "metadata": {},
   "outputs": [],
   "source": [
    "# break the cipher with MCMC\n",
    "\n",
    "cipher_breaker = CipherBreaker(\n",
    "    starting_cipher=cipher_generator.generate_cipher(),\n",
    "    ciphered_text=encoded_text,\n",
    "    probability_table=probability_matrix.probability_table,\n",
    ")\n",
    "\n",
    "cipher_breaker.break_cipher(iterations=100000, print_interval=100)"
   ]
  },
  {
   "cell_type": "code",
   "execution_count": null,
   "metadata": {},
   "outputs": [],
   "source": [
    "cipher_breaker.extract_best(\n",
    "    n_extract=10, return_likelihood=True\n",
    ")  # Extract the best 10 decoded messages along with their likelihood"
   ]
  },
  {
   "cell_type": "code",
   "execution_count": null,
   "metadata": {},
   "outputs": [],
   "source": [
    "cipher_breaker.generate_animation(filename=\"she is not.gif\")"
   ]
  }
 ],
 "metadata": {
  "kernelspec": {
   "display_name": "Python 3",
   "language": "python",
   "name": "python3"
  },
  "language_info": {
   "codemirror_mode": {
    "name": "ipython",
    "version": 3
   },
   "file_extension": ".py",
   "mimetype": "text/x-python",
   "name": "python",
   "nbconvert_exporter": "python",
   "pygments_lexer": "ipython3",
   "version": "3.11.1"
  },
  "orig_nbformat": 4
 },
 "nbformat": 4,
 "nbformat_minor": 2
}
