{
 "cells": [
  {
   "attachments": {},
   "cell_type": "markdown",
   "metadata": {},
   "source": [
    "# HMM for decryption\n"
   ]
  },
  {
   "cell_type": "code",
   "execution_count": 1,
   "metadata": {},
   "outputs": [],
   "source": [
    "from src.CipherUtils import CipherGenerator\n",
    "from src.CipherUtils import TextEncoder\n",
    "from prove.src.Probability import ProbabilityMatrix\n",
    "from src.CipherUtils import TextPreProcessor\n",
    "\n",
    "from src.HMM_utils import map_alphabet_to_numbers, string_to_numbers\n",
    "from src.HMM_utils import find_mapping, numbers_to_string, invert_mapping\n",
    "\n",
    "# from src.HMM_functions import Baum_Welch\n",
    "\n",
    "import numpy as np"
   ]
  },
  {
   "cell_type": "code",
   "execution_count": 2,
   "metadata": {},
   "outputs": [
    {
     "name": "stdout",
     "output_type": "stream",
     "text": [
      " wv lkzmqve wd pkkmp dn fk gzkdde mtru qtdnmqdwr gzkdde mtru qjj duk dwmk wv yzqvrk qvh pgqwv wd qjj hkgkvhp gzkptmqfje nv pnrwqj ptfdjkdwkp duqd ent uqak dn fk yzkvru nz pgqvwpu dn tvhkzpdqvh wv wdqje cue cntjh ent kakv fndukz cukv qvh unc mtru dn dwg wp q otkpdwnv duqd uqp fkkv akswvl awpwdnzp dn ktzngk ynz qp jnvl qp gkngjk uqak fkkv dzqakjjwvl qzntvh duk rnvdwvkvd ntdpwhk dukwz ncv rntvdze wd pkkmp kakv ktzngkqvp hnv d bvnc duk qvpckz qrrnzhwvl dn vkc gnjjwvl fe entlna wv pws kt rntvdzwkp fzwdqwv qvh duk tp cukzk qp mnpd awpwdnzp bvnc ftd mqe fk zkjtrdqvd dn qrbvncjkhlk lzqdtwdwkp mqe mqbk tg mnzk duqv uqjy entz cqwdgkzpnv p wvrnmk ktzngkqvp qzk hkkgje hwawhkh nv dwggwvl wv zkpdqtzqvdp ynz ksqmgjk ny zkpgnvhkvdp wv lkzmqve dnjh duk gnjjpdkz duke degwrqjje dwggkh qjmnpd duk pqmk qp duk tp wv duk tb cukzk qv ngdwnvqj pkzawrk ruqzlk ny qfntd wp tptqjje wvrjthkh pqwh duke jkyd q lzqdtwde duk ywltzk wv pgqwv cukzk pkzawrk wp nydkv wvrjthkh wv zkpdqtzqvd fwjjp ftd hwvkzp rqv jkqak ngdwnvqj dwgp cqp cuwjk wv yzqvrk cukzk kakze gzwrk nv q zkpdqtzqvd mkvt qjzkqhe wvrjthkp ynz pkzawrk ny gkngjk pqwh duke lkvkzqjje dwggkh nv dng kakv wv pckhkv cukzk dwgp qzk lkvkzqjje vnd ksgkrdkh duk ywltzk cqp ftd nvje ny wdqjwqvp pqwh duke cntjh degwrqjje jkqak q lzqdtwde qydkz q mkqj ntd cwdu q zqdukz lzkqdkz gzngnzdwnv qhmwddwvl duke vkakz jkyd q rkvd q pdqzdjwvl ny zkpgnvhkvdp wv duk tp unckakz qvh ny lkzmqvp fe yqz duk mnpd wv ktzngk rnvykppkh duke cntjh dwg pnmkdwmkp nz nydkv kakv wy duk pkzawrk cqp dkzzwfjk wvhwrqdwvl duqd ynz pnmk dwggwvl wp vnd qfntd otqjwde ny pkzawrk qd qjj duk ywvhwvlp ny duk ptzake cwjj rnmk qp q ptzgzwpk wv lkzmqve q rntvdze duqd hnkp vnd lkvkzqjje duwvb ny wdpkjy qp q vqdwnv ny uqgge hwpdzwftdnzp\n"
     ]
    }
   ],
   "source": [
    "hidden_sequence = \"people of western europe a landing was made this morning on the coast of france by troops kangaroo jokes quasi vile xilophone zenit \"\n",
    "hidden_sequence = \" in germany it seems to be pretty much automatic pretty much all the time in france and spain it all depends presumably on social subtleties that you have to be french or spanish to understand in italy why would you even bother when and how much to tip is a question that has been vexing visitors to europe for as long as people have been travelling around the continent outside their own country it seems even europeans don t know the answer according to new polling by yougov in six eu countries britain and the us where as most visitors know but may be reluctant to acknowledge gratuities may make up more than half your waitperson s income europeans are deeply divided on tipping in restaurants for example of respondents in germany told the pollster they typically tipped almost the same as the us in the uk where an optional service charge of about is usually included said they left a gratuity the figure in spain where service is often included in restaurant bills but diners can leave optional tips was while in france where every price on a restaurant menu already includes for service of people said they generally tipped on top even in sweden where tips are generally not expected the figure was but only of italians said they would typically leave a gratuity after a meal out with a rather greater proportion admitting they never left a cent a startling of respondents in the us however and of germans by far the most in europe confessed they would tip sometimes or often even if the service was terrible indicating that for some tipping is not about quality of service at all the findings of the survey will come as a surprise in germany a country that does not generally think of itself as a nation of happy distributors\"\n",
    "# hidden_sequence = \" hello banana xilophone key queue zebra cock pussy tits dandy fart though jolly world mum \"\n",
    "\n",
    "cipher_generator = CipherGenerator()\n",
    "cipher = cipher_generator.generate_cipher()\n",
    "encoder = TextEncoder()\n",
    "observed_sequence = encoder.encode_text(hidden_sequence, cipher=cipher)\n",
    "\n",
    "print(observed_sequence)"
   ]
  },
  {
   "cell_type": "code",
   "execution_count": 3,
   "metadata": {},
   "outputs": [],
   "source": [
    "# List of text file paths to build our corpus (where we learn the transitions probs)\n",
    "file_paths = [\n",
    "    \"texts/moby_dick.txt\",\n",
    "    \"texts/shakespeare.txt\",\n",
    "    \"texts/james-joyce-a-portrait-of-the-artist-as-a-young-man.txt\",\n",
    "    \"texts/james-joyce-dubliners.txt\",\n",
    "    \"texts/james-joyce-ulysses.txt\",\n",
    "]\n",
    "\n",
    "texts = []\n",
    "for file_path in file_paths:\n",
    "    with open(file_path, \"r\") as file:\n",
    "        texts.append(file.read())\n",
    "\n",
    "corpus = \"\".join(texts)\n",
    "alphabet = list(\"abcdefghijklmnopqrstuvwxyz \")\n",
    "\n",
    "preprocessor = TextPreProcessor()\n",
    "corpus = preprocessor.lower(text=corpus)\n",
    "corpus = preprocessor.remove_additional_spaces(text=corpus)\n",
    "corpus = preprocessor.remove_unknown_chars(\n",
    "    text=corpus, unknown_chars=preprocessor.unknown_chars(corpus)\n",
    ")\n",
    "\n",
    "# compute probabilities\n",
    "pm = ProbabilityMatrix(text=corpus, alphabet=alphabet)\n",
    "pm.compute_matrix_spaces()"
   ]
  },
  {
   "cell_type": "code",
   "execution_count": 4,
   "metadata": {},
   "outputs": [],
   "source": [
    "# translate the hidden and observed sequences into numeric list\n",
    "hidden_ = string_to_numbers(hidden_sequence, mapping=map_alphabet_to_numbers())\n",
    "observed_ = string_to_numbers(observed_sequence, mapping=map_alphabet_to_numbers())"
   ]
  },
  {
   "cell_type": "code",
   "execution_count": 6,
   "metadata": {},
   "outputs": [],
   "source": [
    "from src.HMM_functions import Baum_Welch\n",
    "\n",
    "B_start = np.zeros((27, 27)) + 1 / 26\n",
    "B_start[:, -1] = np.zeros(27)\n",
    "B_start[-1, :] = np.zeros(27)\n",
    "B_start[-1, -1] = 1\n",
    "\n",
    "emission = Baum_Welch(\n",
    "    A=pm.matrix,\n",
    "    B_start=B_start,\n",
    "    pi=pm.matrix[-1, :],\n",
    "    observed=observed_,\n",
    "    maxIter=1,\n",
    ")"
   ]
  },
  {
   "cell_type": "code",
   "execution_count": null,
   "metadata": {},
   "outputs": [],
   "source": [
    "emission.sum(axis=1)"
   ]
  },
  {
   "cell_type": "code",
   "execution_count": null,
   "metadata": {},
   "outputs": [],
   "source": [
    "emission.sum(axis=1)"
   ]
  },
  {
   "cell_type": "code",
   "execution_count": 7,
   "metadata": {},
   "outputs": [
    {
     "data": {
      "text/plain": [
       "' wv lzzmqve ww pzzmp wn fz gzzwwe mtru qtwnmqwwr gzzwwe mtru qjj wuz wwmz wv yzqvrz qvh pgqwv ww qjj hzgzvhp gzzptmqfje nv pnrwqj ptfwjzwwzp wuqw ent uqaz wn fz yzzvru nz pgqvwpu wn tvhzzpwqvh wv wwqje cue cntjh ent zazv fnwuzz cuzv qvh unc mtru wn wwg wp q otzpwwnv wuqw uqp fzzv azswvl awpwwnzp wn ztzngz ynz qp jnvl qp gzngjz uqaz fzzv wzqazjjwvl qzntvh wuz rnvwwvzvw ntwpwhz wuzwz ncv rntvwze ww pzzmp zazv ztzngzqvp hnv w bvnc wuz qvpczz qrrnzhwvl wn vzc gnjjwvl fe entlna wv pws zt rntvwzwzp fzwwqwv qvh wuz tp cuzzz qp mnpw awpwwnzp bvnc ftw mqe fz zzjtrwqvw wn qrbvncjzhlz lzqwtwwwzp mqe mqbz tg mnzz wuqv uqjy entz cqwwgzzpnv p wvrnmz ztzngzqvp qzz hzzgje hwawhzh nv wwggwvl wv zzpwqtzqvwp ynz zsqmgjz ny zzpgnvhzvwp wv lzzmqve wnjh wuz gnjjpwzz wuze wegwrqjje wwggzh qjmnpw wuz pqmz qp wuz tp wv wuz tb cuzzz qv ngwwnvqj pzzawrz ruqzlz ny qfntw wp tptqjje wvrjthzh pqwh wuze jzyw q lzqwtwwe wuz ywltzz wv pgqwv cuzzz pzzawrz wp nywzv wvrjthzh wv zzpwqtzqvw fwjjp ftw hwvzzp rqv jzqaz ngwwnvqj wwgp cqp cuwjz wv yzqvrz cuzzz zazze gzwrz nv q zzpwqtzqvw mzvt qjzzqhe wvrjthzp ynz pzzawrz ny gzngjz pqwh wuze lzvzzqjje wwggzh nv wng zazv wv pczhzv cuzzz wwgp qzz lzvzzqjje vnw zsgzrwzh wuz ywltzz cqp ftw nvje ny wwqjwqvp pqwh wuze cntjh wegwrqjje jzqaz q lzqwtwwe qywzz q mzqj ntw cwwu q zqwuzz lzzqwzz gzngnzwwnv qhmwwwwvl wuze vzazz jzyw q rzvw q pwqzwjwvl ny zzpgnvhzvwp wv wuz tp unczazz qvh ny lzzmqvp fe yqz wuz mnpw wv ztzngz rnvyzppzh wuze cntjh wwg pnmzwwmzp nz nywzv zazv wy wuz pzzawrz cqp wzzzwfjz wvhwrqwwvl wuqw ynz pnmz wwggwvl wp vnw qfntw otqjwwe ny pzzawrz qw qjj wuz ywvhwvlp ny wuz ptzaze cwjj rnmz qp q ptzgzwpz wv lzzmqve q rntvwze wuqw hnzp vnw lzvzzqjje wuwvb ny wwpzjy qp q vqwwnv ny uqgge hwpwzwftwnzp'"
      ]
     },
     "execution_count": 7,
     "metadata": {},
     "output_type": "execute_result"
    }
   ],
   "source": [
    "# go back to letters to see the results\n",
    "mapping = find_mapping(emission.argmax(axis=1))\n",
    "numbers_to_string(observed_sequence, invert_mapping(mapping))"
   ]
  },
  {
   "cell_type": "code",
   "execution_count": 8,
   "metadata": {},
   "outputs": [],
   "source": [
    "from src.HMM_functions import Viterbi\n",
    "\n",
    "pmax, phi = Viterbi(A=pm.matrix, B=emission, observed=observed_)"
   ]
  },
  {
   "attachments": {},
   "cell_type": "markdown",
   "metadata": {},
   "source": [
    "**Encrypted text:** \\\n",
    "it eavfqto in baafb nl sa zvanno fdrk qdnlfqnir zvanno fdrk qxx nka nifa it gvqtra qth bzqit in qxx hazathb zvabdfqsxo lt blriqx bdsnxaniab nkqn old kqca nl sa gvatrk lv bzqtibk nl dthavbnqth it inqxo uko uldxh old acat slnkav ukat qth klu fdrk nl niz ib q pdabnilt nkqn kqb saat cajite cibinlvb nl advlza glv qb xlte qb zalzxa kqca saat nvqcaxxite qvldth nka rltnitatn ldnbiha nkaiv lut rldtnvo in baafb acat advlzaqtb hlt n ytlu nka qtbuav qrrlvhite nl tau zlxxite so oldelc it bij ad rldtnviab svinqit qth nka db ukava qb flbn cibinlvb ytlu sdn fqo sa vaxdrnqtn nl qrytluxahea evqndiniab fqo fqya dz flva nkqt kqxg oldv uqinzavblt b itrlfa advlzaqtb qva haazxo hicihah lt nizzite it vabnqdvqtnb glv ajqfzxa lg vabzlthatnb it eavfqto nlxh nka zlxxbnav nkao nozirqxxo nizzah qxflbn nka bqfa qb nka db it nka dy ukava qt lzniltqx bavcira rkqvea lg qsldn ib dbdqxxo itrxdhah bqih nkao xagn q evqndino nka giedva it bzqit ukava bavcira ib lgnat itrxdhah it vabnqdvqtn sixxb sdn hitavb rqt xaqca lzniltqx nizb uqb ukixa it gvqtra ukava acavo zvira lt q vabnqdvqtn fatd qxvaqho itrxdhab glv bavcira lg zalzxa bqih nkao eatavqxxo nizzah lt nlz acat it buahat ukava nizb qva eatavqxxo tln ajzarnah nka giedva uqb sdn ltxo lg inqxiqtb bqih nkao uldxh nozirqxxo xaqca q evqndino qgnav q faqx ldn uink q vqnkav evaqnav zvlzlvnilt qhfinnite nkao tacav xagn q ratn q bnqvnxite lg vabzlthatnb it nka db kluacav qth lg eavfqtb so gqv nka flbn it advlza rltgabbah nkao uldxh niz blfanifab lv lgnat acat ig nka bavcira uqb navvisxa ithirqnite nkqn glv blfa nizzite ib tln qsldn pdqxino lg bavcira qn qxx nka githiteb lg nka bdvcao uixx rlfa qb q bdvzviba it eavfqto q rldtnvo nkqn hlab tln eatavqxxo nkity lg inbaxg qb q tqnilt lg kqzzo hibnvisdnlvb\n"
   ]
  },
  {
   "attachments": {},
   "cell_type": "markdown",
   "metadata": {},
   "source": [
    "**runnato con 50 iterazione di BW:** \\\n",
    " in pqrmany it sqqms to jq nrqtty muzh automatiz nrqtty muzh all thq timq in franzq and snain it all dqnqnds nrqsumajly on sozial sujtlqtiqs that you havq to jq frqnzh or snanish to undqrstand in italy why would you qvqn jothqr whqn and how muzh to tin is a juqstion that has jqqn vqxinp visitors to quronq for as lonp as nqonlq havq jqqn travqllinp around thq zontinqnt outsidq thqir own zountry it sqqms qvqn quronqans don t wnow thq answqr azzordinp to nqw nollinp jy youpov in six qu zountriqs jritain and thq us whqrq as most visitors wnow jut may jq rqluztant to azwnowlqdpq pratuitiqs may mawq un morq than half your waitnqrson s inzomq quronqans arq dqqnly dividqd on tinninp in rqstaurants for qxamnlq of rqsnondqnts in pqrmany told thq nollstqr thqy tynizally tinnqd almost thq samq as thq us in thq uw whqrq an ontional sqrvizq zharpq of ajout is usually inzludqd said thqy lqft a pratuity thq fipurq in snain whqrq sqrvizq is oftqn inzludqd in rqstaurant jills jut dinqrs zan lqavq ontional tins was whilq in franzq whqrq qvqry nrizq on a rqstaurant mqnu alrqady inzludqs for sqrvizq of nqonlq said thqy pqnqrally tinnqd on ton qvqn in swqdqn whqrq tins arq pqnqrally not qxnqztqd thq fipurq was jut only of italians said thqy would tynizally lqavq a pratuity aftqr a mqal out with a rathqr prqatqr nronortion admittinp thqy nqvqr lqft a zqnt a startlinp of rqsnondqnts in thq us howqvqr and of pqrmans jy far thq most in quronq zonfqssqd thqy would tin somqtimqs or oftqn qvqn if thq sqrvizq was tqrrijlq indizatinp that for somq tinninp is not ajout juality of sqrvizq at all thq findinps of thq survqy will zomq as a surnrisq in pqrmany a zountry that doqs not pqnqrally thinw of itsqlf as a nation of hanny distrijutors\n"
   ]
  },
  {
   "attachments": {},
   "cell_type": "markdown",
   "metadata": {},
   "source": [
    "in pqrmany it sqqms to bq zrqtty muzh automatiz zrqtty muzh all thq timq in franzq and szain it all dqzqnds zrqsumably on sozial subtlqtiqs that you havq to bq frqnzh or szanish to undqrstand in italy why would you qvqn bothqr whqn and how muzh to tiz is a puqstion that has bqqn vqxinp visitors to qurozq for as lonp as zqozlq havq bqqn travqllinp around thq zontinqnt outsidq thqir own zountry it sqqms qvqn qurozqans don t ynow thq answqr azzordinp to nqw zollinp by youpov in six qu zountriqs britain and thq us whqrq as most visitors ynow but may bq rqluztant to azynowlqdpq pratuitiqs may mayq uz morq than half your waitzqrson s inzomq qurozqans arq dqqzly dividqd on tizzinp in rqstaurants for qxamzlq of rqszondqnts in pqrmany told thq zollstqr thqy tyzizally tizzqd almost thq samq as thq us in thq uy whqrq an oztional sqrvizq zharpq of about is usually inzludqd said thqy lqft a pratuity thq fipurq in szain whqrq sqrvizq is oftqn inzludqd in rqstaurant bills but dinqrs zan lqavq oztional tizs was whilq in franzq whqrq qvqry zrizq on a rqstaurant mqnu alrqady inzludqs for sqrvizq of zqozlq said thqy pqnqrally tizzqd on toz qvqn in swqdqn whqrq tizs arq pqnqrally not qxzqztqd thq fipurq was but only of italians said thqy would tyzizally lqavq a pratuity aftqr a mqal out with a rathqr prqatqr zrozortion admittinp thqy nqvqr lqft a zqnt a startlinp of rqszondqnts in thq us howqvqr and of pqrmans by far thq most in qurozq zonfqssqd thqy would tiz somqtimqs or oftqn qvqn if thq sqrvizq was tqrriblq indizatinp that for somq tizzinp is not about puality of sqrvizq at all thq findinps of thq survqy will zomq as a surzrisq in pqrmany a zountry that doqs not pqnqrally thiny of itsqlf as a nation of hazzy distributors\n"
   ]
  }
 ],
 "metadata": {
  "kernelspec": {
   "display_name": "Python 3",
   "language": "python",
   "name": "python3"
  },
  "language_info": {
   "codemirror_mode": {
    "name": "ipython",
    "version": 3
   },
   "file_extension": ".py",
   "mimetype": "text/x-python",
   "name": "python",
   "nbconvert_exporter": "python",
   "pygments_lexer": "ipython3",
   "version": "3.11.1"
  },
  "orig_nbformat": 4
 },
 "nbformat": 4,
 "nbformat_minor": 2
}
