{
 "cells": [
  {
   "attachments": {},
   "cell_type": "markdown",
   "metadata": {},
   "source": [
    "# text experiment\n"
   ]
  },
  {
   "cell_type": "code",
   "execution_count": 1,
   "metadata": {},
   "outputs": [],
   "source": [
    "from src.CipherUtils import CipherGenerator\n",
    "from src.CipherUtils import TextEncoder\n",
    "import numpy as np"
   ]
  },
  {
   "cell_type": "code",
   "execution_count": 2,
   "metadata": {},
   "outputs": [
    {
     "name": "stdout",
     "output_type": "stream",
     "text": [
      " vm zeqgcmt vs reegr su ie pqesst gjoa cjsugcsvo pqesst gjoa cww sae svge vm nqcmoe cmy rpcvm vs cww yepemyr pqerjgciwt um ruovcw rjiswesver sacs tuj acfe su ie nqemoa uq rpcmvra su jmyeqrscmy vm vscwt lat lujwy tuj efem iusaeq laem cmy aul gjoa su svp vr c bjersvum sacs acr ieem fekvmz fvrvsuqr su ejqupe nuq cr wumz cr peupwe acfe ieem sqcfewwvmz cqujmy sae oumsvmems ujsrvye saevq ulm oujmsqt vs reegr efem ejqupecmr yum s xmul sae cmrleq coouqyvmz su mel puwwvmz it tujzuf vm rvk ej oujmsqver iqvscvm cmy sae jr laeqe cr gurs fvrvsuqr xmul ijs gct ie qewjoscms su coxmulweyze zqcsjvsver gct gcxe jp guqe sacm acwn tujq lcvspeqrum r vmouge ejqupecmr cqe yeepwt yvfvyey um svppvmz vm qerscjqcmsr nuq ekcgpwe un qerpumyemsr vm zeqgcmt suwy sae puwwrseq saet stpvocwwt svppey cwgurs sae rcge cr sae jr vm sae jx laeqe cm upsvumcw reqfvoe oacqze un ciujs vr jrjcwwt vmowjyey rcvy saet wens c zqcsjvst sae nvzjqe vm rpcvm laeqe reqfvoe vr unsem vmowjyey vm qerscjqcms ivwwr ijs yvmeqr ocm wecfe upsvumcw svpr lcr lavwe vm nqcmoe laeqe efeqt pqvoe um c qerscjqcms gemj cwqecyt vmowjyer nuq reqfvoe un peupwe rcvy saet zemeqcwwt svppey um sup efem vm rleyem laeqe svpr cqe zemeqcwwt mus ekpeosey sae nvzjqe lcr ijs umwt un vscwvcmr rcvy saet lujwy stpvocwwt wecfe c zqcsjvst cnseq c gecw ujs lvsa c qcsaeq zqecseq pqupuqsvum cygvssvmz saet mefeq wens c oems c rscqswvmz un qerpumyemsr vm sae jr aulefeq cmy un zeqgcmr it ncq sae gurs vm ejqupe oumnerrey saet lujwy svp rugesvger uq unsem efem vn sae reqfvoe lcr seqqviwe vmyvocsvmz sacs nuq ruge svppvmz vr mus ciujs bjcwvst un reqfvoe cs cww sae nvmyvmzr un sae rjqfet lvww ouge cr c rjqpqvre vm zeqgcmt c oujmsqt sacs yuer mus zemeqcwwt savmx un vsrewn cr c mcsvum un acppt yvrsqvijsuqr\n"
     ]
    }
   ],
   "source": [
    "hidden_sequence = \"people of western europe a landing was made this morning on the coast of france by troops kangaroo jokes quasi vile xilophone zenit \"\n",
    "hidden_sequence = \" in germany it seems to be pretty much automatic pretty much all the time in france and spain it all depends presumably on social subtleties that you have to be french or spanish to understand in italy why would you even bother when and how much to tip is a question that has been vexing visitors to europe for as long as people have been travelling around the continent outside their own country it seems even europeans don t know the answer according to new polling by yougov in six eu countries britain and the us where as most visitors know but may be reluctant to acknowledge gratuities may make up more than half your waitperson s income europeans are deeply divided on tipping in restaurants for example of respondents in germany told the pollster they typically tipped almost the same as the us in the uk where an optional service charge of about is usually included said they left a gratuity the figure in spain where service is often included in restaurant bills but diners can leave optional tips was while in france where every price on a restaurant menu already includes for service of people said they generally tipped on top even in sweden where tips are generally not expected the figure was but only of italians said they would typically leave a gratuity after a meal out with a rather greater proportion admitting they never left a cent a startling of respondents in the us however and of germans by far the most in europe confessed they would tip sometimes or often even if the service was terrible indicating that for some tipping is not about quality of service at all the findings of the survey will come as a surprise in germany a country that does not generally think of itself as a nation of happy distributors\"\n",
    "# hidden_sequence = \" hello banana xilophone key queue zebra cock pussy tits dandy fart though jolly world mum \"\n",
    "\n",
    "\n",
    "cipher_generator = CipherGenerator()\n",
    "cipher = cipher_generator.generate_cipher()\n",
    "encoder = TextEncoder()\n",
    "observed_sequence = encoder.encode_text(hidden_sequence, cipher=cipher)\n",
    "\n",
    "\n",
    "print(observed_sequence)"
   ]
  },
  {
   "cell_type": "code",
   "execution_count": 3,
   "metadata": {},
   "outputs": [],
   "source": [
    "from prove.src.Probability import ProbabilityMatrix\n",
    "\n",
    "with open(\"texts/moby_dick.txt\", \"r\") as file:\n",
    "    text = file.read()\n",
    "\n",
    "alphabet = list(\"abcdefghijklmnopqrstuvwxyz \")\n",
    "\n",
    "\n",
    "pm = ProbabilityMatrix(text=text, alphabet=alphabet)\n",
    "unknown_chars = pm.unknown_chars()\n",
    "pm.preprocess_text(unknown_chars=unknown_chars)\n",
    "\n",
    "# compute probabilities\n",
    "pm.compute_matrix_spaces()"
   ]
  },
  {
   "cell_type": "code",
   "execution_count": 4,
   "metadata": {},
   "outputs": [],
   "source": [
    "def map_alphabet_to_numbers():\n",
    "    alphabet = \"abcdefghijklmnopqrstuvwxyz \"\n",
    "    mapping = {char: i for i, char in enumerate(alphabet)}\n",
    "    return mapping"
   ]
  },
  {
   "cell_type": "code",
   "execution_count": 5,
   "metadata": {},
   "outputs": [],
   "source": [
    "def translate_string_to_numbers(text, mapping):\n",
    "    numbers = [mapping[char] for char in text]\n",
    "    return numbers"
   ]
  },
  {
   "cell_type": "code",
   "execution_count": 6,
   "metadata": {},
   "outputs": [],
   "source": [
    "hidden_ = translate_string_to_numbers(\n",
    "    hidden_sequence, mapping=map_alphabet_to_numbers()\n",
    ")\n",
    "observed_ = translate_string_to_numbers(\n",
    "    observed_sequence, mapping=map_alphabet_to_numbers()\n",
    ")"
   ]
  },
  {
   "cell_type": "code",
   "execution_count": 7,
   "metadata": {},
   "outputs": [],
   "source": [
    "transition_probs = pm.matrix"
   ]
  },
  {
   "cell_type": "code",
   "execution_count": 8,
   "metadata": {},
   "outputs": [],
   "source": [
    "from src.HMM_functions import Baum_Welch\n",
    "\n",
    "emission = Baum_Welch(\n",
    "    A=pm.matrix,\n",
    "    B_start=np.zeros((27, 27)) + 1 / 27,\n",
    "    pi=pm.matrix[-1, :],\n",
    "    observed=observed_,\n",
    "    maxIter=500,\n",
    ")"
   ]
  },
  {
   "cell_type": "code",
   "execution_count": 9,
   "metadata": {},
   "outputs": [
    {
     "data": {
      "text/plain": [
       "array([[0.00000000e+000, 0.00000000e+000, 8.47353395e-001,\n",
       "        0.00000000e+000, 2.86136487e-048, 2.10308461e-149,\n",
       "        1.16126272e-183, 0.00000000e+000, 5.01916995e-180,\n",
       "        8.53951149e-002, 5.36292164e-208, 0.00000000e+000,\n",
       "        0.00000000e+000, 2.96273522e-142, 0.00000000e+000,\n",
       "        5.07638522e-086, 4.96554137e-205, 8.49785628e-230,\n",
       "        1.12619024e-267, 0.00000000e+000, 5.65080795e-002,\n",
       "        2.61163564e-010, 4.44670180e-279, 1.07434105e-002,\n",
       "        1.40900637e-263, 0.00000000e+000, 0.00000000e+000],\n",
       "       [0.00000000e+000, 5.33915574e-132, 4.42090991e-232,\n",
       "        0.00000000e+000, 4.28720476e-002, 1.56659375e-140,\n",
       "        4.38655532e-034, 0.00000000e+000, 8.94196950e-001,\n",
       "        0.00000000e+000, 0.00000000e+000, 1.25985045e-276,\n",
       "        7.78239585e-085, 1.03956982e-216, 4.59098054e-194,\n",
       "        3.13958422e-204, 1.29247140e-245, 1.24509407e-140,\n",
       "        1.76393047e-285, 6.11269912e-002, 0.00000000e+000,\n",
       "        0.00000000e+000, 7.19181010e-187, 8.79112359e-206,\n",
       "        1.86852126e-060, 1.80401130e-003, 0.00000000e+000],\n",
       "       [0.00000000e+000, 1.31176726e-200, 4.52317099e-320,\n",
       "        0.00000000e+000, 6.99225513e-119, 3.04123266e-125,\n",
       "        2.10444900e-047, 0.00000000e+000, 1.17351536e-019,\n",
       "        2.05481621e-254, 2.10718668e-150, 2.93547732e-159,\n",
       "        5.66368754e-077, 1.96532536e-069, 1.00000000e+000,\n",
       "        1.31254692e-110, 2.58034047e-150, 6.20381866e-135,\n",
       "        1.69276677e-135, 2.38800263e-027, 1.69515899e-318,\n",
       "        0.00000000e+000, 1.84171643e-136, 6.82339186e-267,\n",
       "        5.33030566e-074, 3.24134011e-054, 0.00000000e+000],\n",
       "       [0.00000000e+000, 0.00000000e+000, 1.26780500e-241,\n",
       "        0.00000000e+000, 0.00000000e+000, 3.32290531e-043,\n",
       "        1.04348689e-126, 0.00000000e+000, 0.00000000e+000,\n",
       "        4.54734972e-042, 4.10402655e-099, 1.53331873e-003,\n",
       "        4.48143453e-102, 3.05143397e-003, 8.67722484e-157,\n",
       "        5.05305818e-153, 6.36626244e-056, 1.35586160e-010,\n",
       "        1.85523663e-049, 1.73305199e-001, 0.00000000e+000,\n",
       "        0.00000000e+000, 6.70875440e-129, 4.61727901e-002,\n",
       "        7.66656663e-001, 9.28059537e-003, 0.00000000e+000],\n",
       "       [4.08606412e-233, 0.00000000e+000, 4.55791057e-092,\n",
       "        0.00000000e+000, 8.53489447e-001, 5.31803284e-222,\n",
       "        1.23815835e-083, 0.00000000e+000, 0.00000000e+000,\n",
       "        5.61017192e-002, 3.26907298e-226, 3.37394700e-268,\n",
       "        0.00000000e+000, 7.18445313e-123, 0.00000000e+000,\n",
       "        1.27823744e-076, 1.09597080e-143, 6.20544843e-037,\n",
       "        3.15140556e-164, 9.04088337e-002, 1.52802426e-014,\n",
       "        6.05692847e-056, 5.61217667e-112, 7.81662855e-118,\n",
       "        6.01318930e-208, 5.74196071e-157, 0.00000000e+000],\n",
       "       [0.00000000e+000, 0.00000000e+000, 6.64672424e-189,\n",
       "        0.00000000e+000, 1.69879342e-286, 9.65513258e-107,\n",
       "        1.38995565e-136, 0.00000000e+000, 5.90183407e-205,\n",
       "        1.27265961e-061, 2.93078238e-264, 2.41335911e-002,\n",
       "        4.84769731e-069, 9.75866409e-001, 2.30205878e-179,\n",
       "        8.36148462e-051, 8.35825498e-158, 6.82393605e-206,\n",
       "        2.54126646e-167, 1.45824605e-025, 0.00000000e+000,\n",
       "        0.00000000e+000, 9.02130647e-291, 0.00000000e+000,\n",
       "        9.65539462e-120, 2.73923233e-258, 0.00000000e+000],\n",
       "       [0.00000000e+000, 0.00000000e+000, 3.37062000e-220,\n",
       "        0.00000000e+000, 1.32840514e-271, 1.87265797e-285,\n",
       "        3.87843274e-251, 0.00000000e+000, 9.16776009e-240,\n",
       "        1.23882426e-123, 9.19110690e-206, 1.20297453e-306,\n",
       "        1.13781399e-272, 3.21672081e-049, 1.09380526e-001,\n",
       "        2.49916168e-223, 1.89554564e-275, 4.19966935e-075,\n",
       "        9.24761585e-031, 4.18131569e-164, 0.00000000e+000,\n",
       "        0.00000000e+000, 2.49570180e-193, 2.51537872e-036,\n",
       "        1.60695138e-092, 8.90619474e-001, 0.00000000e+000],\n",
       "       [4.54923058e-001, 1.24523886e-308, 5.18215241e-002,\n",
       "        0.00000000e+000, 8.01265260e-033, 2.15716776e-110,\n",
       "        2.35476190e-138, 0.00000000e+000, 7.48271364e-124,\n",
       "        4.15883167e-002, 0.00000000e+000, 1.46073788e-098,\n",
       "        1.02861101e-114, 9.08712490e-263, 6.45102707e-221,\n",
       "        6.77462944e-002, 1.67667060e-001, 3.20458543e-002,\n",
       "        5.96364389e-002, 4.07327730e-105, 3.42767149e-083,\n",
       "        3.75144672e-002, 8.70569857e-002, 0.00000000e+000,\n",
       "        8.29017241e-116, 1.07356198e-030, 0.00000000e+000],\n",
       "       [0.00000000e+000, 0.00000000e+000, 1.35063478e-081,\n",
       "        0.00000000e+000, 1.98085751e-094, 0.00000000e+000,\n",
       "        6.30564544e-201, 0.00000000e+000, 8.12682203e-295,\n",
       "        1.09566581e-062, 0.00000000e+000, 0.00000000e+000,\n",
       "        0.00000000e+000, 0.00000000e+000, 0.00000000e+000,\n",
       "        1.25298891e-241, 1.34976403e-300, 1.82095163e-297,\n",
       "        0.00000000e+000, 6.02580973e-237, 2.27764812e-050,\n",
       "        9.82640882e-001, 3.53971284e-199, 1.73591180e-002,\n",
       "        1.69598008e-234, 8.22982135e-305, 0.00000000e+000],\n",
       "       [0.00000000e+000, 7.47121156e-225, 0.00000000e+000,\n",
       "        0.00000000e+000, 1.56527869e-091, 0.00000000e+000,\n",
       "        5.46371942e-090, 0.00000000e+000, 1.54482034e-184,\n",
       "        0.00000000e+000, 0.00000000e+000, 2.95864813e-286,\n",
       "        1.18407364e-113, 2.30249674e-256, 1.09496547e-234,\n",
       "        0.00000000e+000, 0.00000000e+000, 2.35708175e-209,\n",
       "        0.00000000e+000, 1.00000000e+000, 0.00000000e+000,\n",
       "        0.00000000e+000, 0.00000000e+000, 0.00000000e+000,\n",
       "        1.63058223e-164, 5.14728286e-199, 0.00000000e+000],\n",
       "       [3.23921880e-311, 0.00000000e+000, 0.00000000e+000,\n",
       "        0.00000000e+000, 5.69980215e-279, 1.00000000e+000,\n",
       "        1.80286382e-230, 0.00000000e+000, 0.00000000e+000,\n",
       "        0.00000000e+000, 0.00000000e+000, 1.45983851e-167,\n",
       "        0.00000000e+000, 3.62082654e-204, 5.11652898e-183,\n",
       "        1.90067329e-174, 7.07445557e-236, 4.44592951e-239,\n",
       "        4.95819134e-199, 0.00000000e+000, 0.00000000e+000,\n",
       "        0.00000000e+000, 1.17289126e-216, 1.75758205e-037,\n",
       "        1.29675389e-175, 5.59319638e-148, 0.00000000e+000],\n",
       "       [0.00000000e+000, 0.00000000e+000, 1.86264942e-269,\n",
       "        0.00000000e+000, 6.64081773e-256, 2.98756919e-027,\n",
       "        2.02070980e-010, 0.00000000e+000, 8.15998760e-039,\n",
       "        2.56851000e-251, 7.81174224e-168, 1.26642288e-207,\n",
       "        8.26540990e-131, 2.16767248e-175, 2.31038523e-109,\n",
       "        1.56993111e-067, 2.90361377e-002, 8.68178859e-191,\n",
       "        3.62640103e-110, 3.13707076e-187, 1.30863284e-313,\n",
       "        1.07161373e-249, 9.61307062e-001, 9.65679958e-003,\n",
       "        5.90766226e-033, 1.87421304e-130, 0.00000000e+000],\n",
       "       [0.00000000e+000, 0.00000000e+000, 3.71553279e-305,\n",
       "        0.00000000e+000, 9.41868772e-159, 1.67609933e-026,\n",
       "        1.00000000e+000, 0.00000000e+000, 3.46919345e-122,\n",
       "        9.92492914e-313, 1.83890837e-157, 6.00487247e-117,\n",
       "        1.59148871e-048, 1.98765232e-194, 1.10065511e-078,\n",
       "        5.49467271e-077, 8.78605212e-124, 2.28293871e-146,\n",
       "        1.35200598e-187, 6.37389111e-104, 0.00000000e+000,\n",
       "        0.00000000e+000, 1.14947983e-266, 1.43007767e-210,\n",
       "        4.89702738e-036, 1.65950018e-047, 0.00000000e+000],\n",
       "       [0.00000000e+000, 0.00000000e+000, 0.00000000e+000,\n",
       "        0.00000000e+000, 0.00000000e+000, 4.34323943e-134,\n",
       "        4.36571656e-058, 0.00000000e+000, 2.78503659e-095,\n",
       "        7.10937924e-069, 3.26335730e-029, 1.82309965e-094,\n",
       "        9.58714380e-001, 1.59393184e-048, 1.19018208e-002,\n",
       "        2.09613858e-002, 2.06499464e-007, 1.01337033e-125,\n",
       "        1.28692334e-067, 7.97382185e-223, 1.13527406e-309,\n",
       "        1.49557311e-171, 4.67415904e-082, 6.72828294e-018,\n",
       "        8.42220724e-003, 3.02978818e-283, 0.00000000e+000],\n",
       "       [0.00000000e+000, 0.00000000e+000, 2.36287079e-045,\n",
       "        0.00000000e+000, 3.05042133e-002, 0.00000000e+000,\n",
       "        4.02452397e-164, 0.00000000e+000, 3.62362594e-225,\n",
       "        4.74467669e-106, 0.00000000e+000, 0.00000000e+000,\n",
       "        0.00000000e+000, 2.88478485e-239, 0.00000000e+000,\n",
       "        6.60718412e-199, 0.00000000e+000, 9.35009526e-151,\n",
       "        3.67530676e-292, 3.93043966e-130, 9.69495787e-001,\n",
       "        9.87296637e-120, 9.88131292e-324, 2.00197412e-067,\n",
       "        0.00000000e+000, 9.54479704e-255, 0.00000000e+000],\n",
       "       [0.00000000e+000, 1.61603287e-301, 1.16287466e-186,\n",
       "        0.00000000e+000, 4.71702666e-088, 4.84620956e-018,\n",
       "        5.14745688e-002, 0.00000000e+000, 4.17986179e-001,\n",
       "        3.90278375e-137, 6.04695462e-235, 2.27453974e-058,\n",
       "        9.39300299e-047, 8.66274147e-117, 2.56132010e-098,\n",
       "        9.95413663e-006, 7.63466113e-101, 6.25031936e-098,\n",
       "        2.29670846e-137, 2.32030576e-022, 6.44654493e-236,\n",
       "        0.00000000e+000, 1.98656692e-115, 1.29573858e-140,\n",
       "        3.71140318e-022, 5.30529298e-001, 0.00000000e+000],\n",
       "       [0.00000000e+000, 8.80443585e-110, 6.26820350e-304,\n",
       "        0.00000000e+000, 1.00000000e+000, 0.00000000e+000,\n",
       "        1.35078328e-109, 0.00000000e+000, 1.08063011e-203,\n",
       "        0.00000000e+000, 0.00000000e+000, 0.00000000e+000,\n",
       "        0.00000000e+000, 0.00000000e+000, 0.00000000e+000,\n",
       "        0.00000000e+000, 0.00000000e+000, 9.13783003e-238,\n",
       "        0.00000000e+000, 0.00000000e+000, 0.00000000e+000,\n",
       "        0.00000000e+000, 1.15742625e-201, 0.00000000e+000,\n",
       "        0.00000000e+000, 0.00000000e+000, 0.00000000e+000],\n",
       "       [0.00000000e+000, 0.00000000e+000, 0.00000000e+000,\n",
       "        0.00000000e+000, 4.61179224e-233, 1.16854078e-001,\n",
       "        2.98733317e-003, 0.00000000e+000, 1.90363516e-172,\n",
       "        7.72225508e-126, 2.18909185e-002, 7.15356051e-063,\n",
       "        3.02422803e-071, 9.20225490e-147, 1.44708771e-154,\n",
       "        7.88045621e-002, 7.79459225e-001, 4.17878923e-170,\n",
       "        1.11579486e-118, 5.93680877e-183, 1.63466869e-184,\n",
       "        0.00000000e+000, 1.76633929e-148, 3.88357467e-006,\n",
       "        6.79651821e-033, 1.90638674e-194, 0.00000000e+000],\n",
       "       [0.00000000e+000, 1.86592543e-296, 3.37976022e-069,\n",
       "        0.00000000e+000, 4.63026775e-145, 1.68108774e-045,\n",
       "        3.56130378e-002, 0.00000000e+000, 4.72868809e-003,\n",
       "        4.79992682e-059, 1.93384088e-002, 5.07718856e-049,\n",
       "        9.62589819e-024, 4.92444650e-002, 8.00268859e-027,\n",
       "        3.66453954e-042, 9.29411486e-050, 8.48333359e-001,\n",
       "        1.56872493e-054, 3.74601243e-027, 1.63252199e-077,\n",
       "        2.74663237e-254, 6.02252012e-136, 8.92106699e-034,\n",
       "        4.27420408e-002, 3.51330624e-046, 0.00000000e+000],\n",
       "       [6.12458569e-279, 1.04834402e-002, 9.45063970e-078,\n",
       "        0.00000000e+000, 9.44906717e-144, 1.26198776e-062,\n",
       "        8.23981217e-079, 0.00000000e+000, 5.78501573e-003,\n",
       "        1.74281392e-081, 5.71231005e-136, 3.69819272e-002,\n",
       "        2.66447548e-099, 2.24779698e-002, 6.12297484e-002,\n",
       "        1.56889100e-001, 6.25046667e-175, 1.03019463e-041,\n",
       "        6.71900739e-001, 8.03874008e-004, 1.12551751e-277,\n",
       "        0.00000000e+000, 1.46890350e-009, 2.16122011e-107,\n",
       "        7.80481319e-048, 3.34481837e-002, 0.00000000e+000],\n",
       "       [0.00000000e+000, 0.00000000e+000, 9.76289501e-307,\n",
       "        0.00000000e+000, 8.04560995e-131, 0.00000000e+000,\n",
       "        0.00000000e+000, 0.00000000e+000, 0.00000000e+000,\n",
       "        1.00000000e+000, 0.00000000e+000, 2.23556311e-139,\n",
       "        2.17964813e-293, 3.52786154e-196, 0.00000000e+000,\n",
       "        7.83100986e-049, 1.42600255e-191, 1.56599216e-263,\n",
       "        0.00000000e+000, 0.00000000e+000, 9.11199061e-211,\n",
       "        4.46798715e-212, 1.03023356e-270, 0.00000000e+000,\n",
       "        0.00000000e+000, 0.00000000e+000, 0.00000000e+000],\n",
       "       [0.00000000e+000, 0.00000000e+000, 0.00000000e+000,\n",
       "        0.00000000e+000, 0.00000000e+000, 1.00000000e+000,\n",
       "        5.14528038e-149, 0.00000000e+000, 2.99816767e-314,\n",
       "        0.00000000e+000, 8.83654826e-256, 0.00000000e+000,\n",
       "        3.01024090e-258, 0.00000000e+000, 7.08797399e-126,\n",
       "        8.74488987e-161, 5.28854313e-243, 0.00000000e+000,\n",
       "        0.00000000e+000, 0.00000000e+000, 0.00000000e+000,\n",
       "        0.00000000e+000, 0.00000000e+000, 3.12228399e-056,\n",
       "        4.82892412e-121, 4.29465678e-121, 0.00000000e+000],\n",
       "       [2.91285534e-260, 3.09483982e-066, 2.37661815e-216,\n",
       "        0.00000000e+000, 1.82138898e-155, 3.35687000e-002,\n",
       "        5.78759194e-037, 0.00000000e+000, 1.72846367e-071,\n",
       "        1.09533863e-216, 6.53899703e-185, 9.00196364e-001,\n",
       "        3.49472667e-007, 6.62345861e-002, 2.54793413e-119,\n",
       "        5.43125887e-089, 1.48889813e-209, 8.57085971e-092,\n",
       "        1.64009177e-119, 2.21553337e-061, 0.00000000e+000,\n",
       "        0.00000000e+000, 1.05775784e-267, 1.36168423e-297,\n",
       "        4.61648599e-019, 6.08493792e-056, 0.00000000e+000],\n",
       "       [0.00000000e+000, 0.00000000e+000, 0.00000000e+000,\n",
       "        0.00000000e+000, 0.00000000e+000, 0.00000000e+000,\n",
       "        0.00000000e+000, 0.00000000e+000, 9.23831066e-295,\n",
       "        0.00000000e+000, 1.00000000e+000, 0.00000000e+000,\n",
       "        4.95477926e-298, 6.63992442e-136, 8.01086249e-249,\n",
       "        3.51379487e-319, 0.00000000e+000, 0.00000000e+000,\n",
       "        1.79247016e-320, 0.00000000e+000, 4.61189048e-147,\n",
       "        0.00000000e+000, 0.00000000e+000, 0.00000000e+000,\n",
       "        8.66070171e-171, 0.00000000e+000, 0.00000000e+000],\n",
       "       [0.00000000e+000, 0.00000000e+000, 1.05419043e-294,\n",
       "        0.00000000e+000, 4.05645185e-296, 6.51521965e-243,\n",
       "        5.14879458e-177, 0.00000000e+000, 0.00000000e+000,\n",
       "        1.73035049e-304, 0.00000000e+000, 1.43443710e-221,\n",
       "        1.38067174e-298, 4.34669552e-002, 0.00000000e+000,\n",
       "        0.00000000e+000, 7.43223025e-157, 8.93781141e-045,\n",
       "        0.00000000e+000, 9.56533045e-001, 0.00000000e+000,\n",
       "        0.00000000e+000, 1.31834918e-075, 6.01254829e-122,\n",
       "        1.49431744e-127, 4.33184114e-247, 0.00000000e+000],\n",
       "       [0.00000000e+000, 0.00000000e+000, 0.00000000e+000,\n",
       "        0.00000000e+000, 0.00000000e+000, 1.35504445e-082,\n",
       "        3.25191942e-187, 0.00000000e+000, 7.53190489e-228,\n",
       "        0.00000000e+000, 0.00000000e+000, 0.00000000e+000,\n",
       "        0.00000000e+000, 0.00000000e+000, 3.12660329e-006,\n",
       "        2.46795956e-304, 0.00000000e+000, 0.00000000e+000,\n",
       "        6.79459113e-229, 0.00000000e+000, 0.00000000e+000,\n",
       "        0.00000000e+000, 0.00000000e+000, 9.99996873e-001,\n",
       "        6.62552858e-116, 3.93837122e-240, 0.00000000e+000],\n",
       "       [0.00000000e+000, 0.00000000e+000, 0.00000000e+000,\n",
       "        0.00000000e+000, 0.00000000e+000, 0.00000000e+000,\n",
       "        0.00000000e+000, 0.00000000e+000, 0.00000000e+000,\n",
       "        0.00000000e+000, 0.00000000e+000, 0.00000000e+000,\n",
       "        0.00000000e+000, 0.00000000e+000, 0.00000000e+000,\n",
       "        0.00000000e+000, 0.00000000e+000, 0.00000000e+000,\n",
       "        0.00000000e+000, 0.00000000e+000, 0.00000000e+000,\n",
       "        0.00000000e+000, 0.00000000e+000, 0.00000000e+000,\n",
       "        0.00000000e+000, 0.00000000e+000, 1.00000000e+000]])"
      ]
     },
     "execution_count": 9,
     "metadata": {},
     "output_type": "execute_result"
    }
   ],
   "source": [
    "emission"
   ]
  },
  {
   "cell_type": "code",
   "execution_count": 10,
   "metadata": {},
   "outputs": [
    {
     "data": {
      "text/plain": [
       "array([ 2,  8, 14, 24,  4, 13, 25,  0, 21, 19,  5, 22,  6, 12, 20, 25,  4,\n",
       "       16, 17, 18,  9,  5, 11, 10, 19, 23, 26])"
      ]
     },
     "execution_count": 10,
     "metadata": {},
     "output_type": "execute_result"
    }
   ],
   "source": [
    "emission.argmax(axis=1)"
   ]
  },
  {
   "cell_type": "code",
   "execution_count": 11,
   "metadata": {},
   "outputs": [],
   "source": [
    "import string\n",
    "\n",
    "\n",
    "def solve_mapping_problem(L):\n",
    "    alphabet = string.ascii_lowercase + \" \"\n",
    "    mapping = {}\n",
    "    for i, num in enumerate(L):\n",
    "        mapping[alphabet[i]] = alphabet[num]\n",
    "    return mapping\n",
    "\n",
    "\n",
    "mapping = solve_mapping_problem(emission.argmax(axis=1))"
   ]
  },
  {
   "cell_type": "code",
   "execution_count": 12,
   "metadata": {},
   "outputs": [
    {
     "data": {
      "text/plain": [
       "{'a': 'c',\n",
       " 'b': 'i',\n",
       " 'c': 'o',\n",
       " 'd': 'y',\n",
       " 'e': 'e',\n",
       " 'f': 'n',\n",
       " 'g': 'z',\n",
       " 'h': 'a',\n",
       " 'i': 'v',\n",
       " 'j': 't',\n",
       " 'k': 'f',\n",
       " 'l': 'w',\n",
       " 'm': 'g',\n",
       " 'n': 'm',\n",
       " 'o': 'u',\n",
       " 'p': 'z',\n",
       " 'q': 'e',\n",
       " 'r': 'q',\n",
       " 's': 'r',\n",
       " 't': 's',\n",
       " 'u': 'j',\n",
       " 'v': 'f',\n",
       " 'w': 'l',\n",
       " 'x': 'k',\n",
       " 'y': 't',\n",
       " 'z': 'x',\n",
       " ' ': ' '}"
      ]
     },
     "execution_count": 12,
     "metadata": {},
     "output_type": "execute_result"
    }
   ],
   "source": [
    "mapping"
   ]
  },
  {
   "cell_type": "code",
   "execution_count": 13,
   "metadata": {},
   "outputs": [
    {
     "data": {
      "text/plain": [
       "' in pqrmany it sqqms to bq prqtty much automatic prqtty much all thq timq in francq and spain it all dqpqnds prqsumably on social subtlqtiqs that you havq to bq frqnch or spanish to undqrstand in italy why would you qvqn bothqr whqn and how much to tip is a buqstion that has bqqn vqxinp visitors to quropq for as lonp as pqoplq havq bqqn travqllinp around thq continqnt outsidq thqir own country it sqqms qvqn quropqans don t znow thq answqr accordinp to nqw pollinp by youpov in six qu countriqs britain and thq us whqrq as most visitors znow but may bq rqluctant to acznowlqdpq pratuitiqs may mazq up morq than half your waitpqrson s incomq quropqans arq dqqply dividqd on tippinp in rqstaurants for qxamplq of rqspondqnts in pqrmany told thq pollstqr thqy typically tippqd almost thq samq as thq us in thq uz whqrq an optional sqrvicq charpq of about is usually includqd said thqy lqft a pratuity thq fipurq in spain whqrq sqrvicq is oftqn includqd in rqstaurant bills but dinqrs can lqavq optional tips was whilq in francq whqrq qvqry pricq on a rqstaurant mqnu alrqady includqs for sqrvicq of pqoplq said thqy pqnqrally tippqd on top qvqn in swqdqn whqrq tips arq pqnqrally not qxpqctqd thq fipurq was but only of italians said thqy would typically lqavq a pratuity aftqr a mqal out with a rathqr prqatqr proportion admittinp thqy nqvqr lqft a cqnt a startlinp of rqspondqnts in thq us howqvqr and of pqrmans by far thq most in quropq confqssqd thqy would tip somqtimqs or oftqn qvqn if thq sqrvicq was tqrriblq indicatinp that for somq tippinp is not about buality of sqrvicq at all thq findinps of thq survqy will comq as a surprisq in pqrmany a country that doqs not pqnqrally thinz of itsqlf as a nation of happy distributors'"
      ]
     },
     "execution_count": 13,
     "metadata": {},
     "output_type": "execute_result"
    }
   ],
   "source": [
    "def transform_string(string, mapping):\n",
    "    transformed_string = \"\"\n",
    "    for char in string:\n",
    "        if char in mapping:\n",
    "            transformed_string += mapping[char]\n",
    "        else:\n",
    "            transformed_string += char\n",
    "    return transformed_string\n",
    "\n",
    "\n",
    "def invert_mapping(mapping):\n",
    "    inverted_mapping = {value: key for key, value in mapping.items()}\n",
    "    return inverted_mapping\n",
    "\n",
    "\n",
    "transform_string(observed_sequence, invert_mapping(mapping))"
   ]
  },
  {
   "cell_type": "code",
   "execution_count": null,
   "metadata": {},
   "outputs": [],
   "source": []
  }
 ],
 "metadata": {
  "kernelspec": {
   "display_name": "Python 3",
   "language": "python",
   "name": "python3"
  },
  "language_info": {
   "codemirror_mode": {
    "name": "ipython",
    "version": 3
   },
   "file_extension": ".py",
   "mimetype": "text/x-python",
   "name": "python",
   "nbconvert_exporter": "python",
   "pygments_lexer": "ipython3",
   "version": "3.11.1"
  },
  "orig_nbformat": 4
 },
 "nbformat": 4,
 "nbformat_minor": 2
}
