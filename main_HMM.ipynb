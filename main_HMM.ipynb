{
 "cells": [
  {
   "attachments": {},
   "cell_type": "markdown",
   "metadata": {},
   "source": [
    "# HMM for decryption\n"
   ]
  },
  {
   "cell_type": "code",
   "execution_count": 9,
   "metadata": {},
   "outputs": [],
   "source": [
    "from src.CipherUtils import CipherGenerator\n",
    "from src.CipherUtils import TextEncoder\n",
    "from prove.src.Probability import ProbabilityMatrix\n",
    "from src.CipherUtils import TextPreProcessor\n",
    "\n",
    "from src.HMM_utils import map_alphabet_to_numbers, string_to_numbers\n",
    "from src.HMM_utils import find_mapping, numbers_to_string, invert_mapping\n",
    "\n",
    "# from src.HMM_functions import Baum_Welch\n",
    "\n",
    "import numpy as np"
   ]
  },
  {
   "cell_type": "code",
   "execution_count": 10,
   "metadata": {},
   "outputs": [
    {
     "name": "stdout",
     "output_type": "stream",
     "text": [
      " in germany it seems to be pretty much automatic pretty much all the time in france and spain it all depends presumably just on social subtleties that you have to be french or spanish to understand in italy why would you even bother when and how much to tip is a question that has been vexing visitors to europe for as long as people have been travelling around the continent outside their own country it seems even europeans don t know the answer according to new polling by yougov in six eu countries britain and the us where as most visitors know but may be reluctant to acknowledge gratuities may make up more than half your waitperson s income europeans are deeply divided on tipping in restaurants for example of respondents in germany told the pollster they typically tipped almost the same as the us in the uk where an optional service charge of about is usually included said they left a gratuity the figure in spain where service is often included in restaurant bills but diners can leave optional tips was while in france where every price on a restaurant menu already includes for service of people said they generally tipped on top even in sweden where tips are generally not expected the figure was but only of italians said they would typically leave a gratuity after a meal out with a rather greater proportion admitting they never left a cent a startling of respondents in the us however and of germans by far the most in europe confessed they would tip sometimes or often even if the service was terrible indicating that for some tipping is not about quality of service at all the findings of the survey will come as a surprise in germany a country that does not generally think of itself as a nation of happy distributors\n",
      " qz wklftzm qu skkfs uh jk ylkuum fgdv tguhftuqd ylkuum fgdv txx uvk uqfk qz oltzdk tzc sytqz qu txx ckykzcs ylksgftjxm bgsu hz shdqtx sgjuxkuqks uvtu mhg vtek uh jk olkzdv hl sytzqsv uh gzcklsutzc qz qutxm avm ahgxc mhg kekz jhuvkl avkz tzc vha fgdv uh uqy qs t pgksuqhz uvtu vts jkkz ekrqzw eqsquhls uh kglhyk ohl ts xhzw ts ykhyxk vtek jkkz ultekxxqzw tlhgzc uvk dhzuqzkzu hgusqck uvkql haz dhgzulm qu skkfs kekz kglhyktzs chz u izha uvk tzsakl tddhlcqzw uh zka yhxxqzw jm mhgwhe qz sqr kg dhgzulqks jlqutqz tzc uvk gs avklk ts fhsu eqsquhls izha jgu ftm jk lkxgdutzu uh tdizhaxkcwk wltugquqks ftm ftik gy fhlk uvtz vtxo mhgl atquyklshz s qzdhfk kglhyktzs tlk ckkyxm cqeqckc hz uqyyqzw qz lksutgltzus ohl krtfyxk ho lksyhzckzus qz wklftzm uhxc uvk yhxxsukl uvkm umyqdtxxm uqyykc txfhsu uvk stfk ts uvk gs qz uvk gi avklk tz hyuqhztx skleqdk dvtlwk ho tjhgu qs gsgtxxm qzdxgckc stqc uvkm xkou t wltugqum uvk oqwglk qz sytqz avklk skleqdk qs houkz qzdxgckc qz lksutgltzu jqxxs jgu cqzkls dtz xktek hyuqhztx uqys ats avqxk qz oltzdk avklk keklm ylqdk hz t lksutgltzu fkzg txlktcm qzdxgcks ohl skleqdk ho ykhyxk stqc uvkm wkzkltxxm uqyykc hz uhy kekz qz sakckz avklk uqys tlk wkzkltxxm zhu krykdukc uvk oqwglk ats jgu hzxm ho qutxqtzs stqc uvkm ahgxc umyqdtxxm xktek t wltugqum toukl t fktx hgu aquv t ltuvkl wlktukl ylhyhluqhz tcfquuqzw uvkm zkekl xkou t dkzu t sutluxqzw ho lksyhzckzus qz uvk gs vhakekl tzc ho wklftzs jm otl uvk fhsu qz kglhyk dhzoksskc uvkm ahgxc uqy shfkuqfks hl houkz kekz qo uvk skleqdk ats ukllqjxk qzcqdtuqzw uvtu ohl shfk uqyyqzw qs zhu tjhgu pgtxqum ho skleqdk tu txx uvk oqzcqzws ho uvk sglekm aqxx dhfk ts t sglylqsk qz wklftzm t dhgzulm uvtu chks zhu wkzkltxxm uvqzi ho quskxo ts t ztuqhz ho vtyym cqsulqjguhls\n"
     ]
    }
   ],
   "source": [
    "# hidden_sequence = \"people of western europe a landing was made this morning on the coast of france by troops kangaroo jokes quasi vile xilophone zenit \"\n",
    "hidden_sequence = \" in germany it seems to be pretty much automatic pretty much all the time in france and spain it all depends presumably just on social subtleties that you have to be french or spanish to understand in italy why would you even bother when and how much to tip is a question that has been vexing visitors to europe for as long as people have been travelling around the continent outside their own country it seems even europeans don t know the answer according to new polling by yougov in six eu countries britain and the us where as most visitors know but may be reluctant to acknowledge gratuities may make up more than half your waitperson s income europeans are deeply divided on tipping in restaurants for example of respondents in germany told the pollster they typically tipped almost the same as the us in the uk where an optional service charge of about is usually included said they left a gratuity the figure in spain where service is often included in restaurant bills but diners can leave optional tips was while in france where every price on a restaurant menu already includes for service of people said they generally tipped on top even in sweden where tips are generally not expected the figure was but only of italians said they would typically leave a gratuity after a meal out with a rather greater proportion admitting they never left a cent a startling of respondents in the us however and of germans by far the most in europe confessed they would tip sometimes or often even if the service was terrible indicating that for some tipping is not about quality of service at all the findings of the survey will come as a surprise in germany a country that does not generally think of itself as a nation of happy distributors\"\n",
    "# hidden_sequence = \" hello banana xilophone key queue zebra cock pussy tits dandy fart though jolly world mum \"\n",
    "\n",
    "cipher_generator = CipherGenerator()\n",
    "cipher = cipher_generator.generate_cipher()\n",
    "encoder = TextEncoder()\n",
    "observed_sequence = encoder.encode_text(hidden_sequence, cipher=cipher)\n",
    "\n",
    "print(hidden_sequence)\n",
    "print(observed_sequence)"
   ]
  },
  {
   "cell_type": "code",
   "execution_count": 13,
   "metadata": {},
   "outputs": [],
   "source": [
    "# List of text file paths to build our corpus (where we learn the transitions probs)\n",
    "file_paths = [\n",
    "    \"texts/moby_dick.txt\",\n",
    "    \"texts/shakespeare.txt\",\n",
    "    \"texts/james-joyce-a-portrait-of-the-artist-as-a-young-man.txt\",\n",
    "    \"texts/james-joyce-dubliners.txt\",\n",
    "    \"texts/james-joyce-ulysses.txt\",\n",
    "]\n",
    "\n",
    "texts = []\n",
    "for file_path in file_paths:\n",
    "    with open(file_path, \"r\") as file:\n",
    "        texts.append(file.read())\n",
    "\n",
    "corpus = \"\".join(texts)\n",
    "alphabet = list(\"abcdefghijklmnopqrstuvwxyz \")\n",
    "\n",
    "preprocessor = TextPreProcessor()\n",
    "corpus = preprocessor.lower(text=corpus)\n",
    "corpus = preprocessor.remove_additional_spaces(text=corpus)\n",
    "corpus = preprocessor.remove_unknown_chars(\n",
    "    text=corpus, unknown_chars=preprocessor.unknown_chars(corpus)\n",
    ")\n",
    "\n",
    "# compute probabilities\n",
    "pm = ProbabilityMatrix(text=corpus, alphabet=alphabet)\n",
    "pm.compute_matrix_spaces()"
   ]
  },
  {
   "cell_type": "code",
   "execution_count": 15,
   "metadata": {},
   "outputs": [
    {
     "data": {
      "text/plain": [
       "array([1.80999782e-02, 9.22150531e-03, 7.18584308e-03, 6.82098237e-03,\n",
       "       3.75680960e-03, 7.32056810e-03, 4.03529608e-03, 1.29248004e-02,\n",
       "       1.19011015e-02, 8.04594734e-04, 1.60062246e-03, 6.07119302e-03,\n",
       "       9.71968276e-03, 4.78543749e-03, 1.00901766e-02, 5.64976658e-03,\n",
       "       5.00407226e-04, 3.27975627e-03, 1.55191960e-02, 2.64728801e-02,\n",
       "       1.90821330e-03, 1.18694153e-03, 1.20175189e-02, 6.10252715e-06,\n",
       "       4.03494401e-03, 3.42680371e-05, 4.02150671e-02])"
      ]
     },
     "execution_count": 15,
     "metadata": {},
     "output_type": "execute_result"
    }
   ],
   "source": [
    "pm.matrix[-1,] # last entry should be 0"
   ]
  },
  {
   "cell_type": "code",
   "execution_count": 16,
   "metadata": {},
   "outputs": [],
   "source": [
    "# translate the hidden and observed sequences into numeric list\n",
    "hidden_ = string_to_numbers(hidden_sequence, mapping=map_alphabet_to_numbers())\n",
    "observed_ = string_to_numbers(observed_sequence, mapping=map_alphabet_to_numbers())"
   ]
  },
  {
   "cell_type": "code",
   "execution_count": 17,
   "metadata": {},
   "outputs": [],
   "source": [
    "from src.HMM_functions import Baum_Welch\n",
    "\n",
    "\n",
    "# We initialize B to be uniform on all character to character conversions\n",
    "#  with the last row and column (corresponding to the space) are initialized to 0 and 1 only for \" \" emitting \" \"\n",
    "B_start = np.zeros((27, 27)) + 1 / 26\n",
    "B_start[:, -1] = np.zeros(27)\n",
    "B_start[-1, :] = np.zeros(27)\n",
    "B_start[-1, -1] = 1\n",
    "\n",
    "emission = Baum_Welch(\n",
    "    A=pm.matrix,\n",
    "    B_start=B_start,\n",
    "    pi=pm.matrix[-1, :],\n",
    "    observed=observed_,\n",
    "    maxIter=20\n",
    ")"
   ]
  },
  {
   "cell_type": "code",
   "execution_count": 21,
   "metadata": {},
   "outputs": [
    {
     "data": {
      "text/plain": [
       "' in germany it seems to be pretty muzh automatiz pretty muzh all the time in franze and spain it all depends presumably qust on sozial subtleties that you have to be frenzh or spanish to understand in italy why would you even bother when and how muzh to tip is a puestion that has been vexing visitors to europe for as long as people have been travelling around the zontinent outside their own zountry it seems even europeans don t inow the answer azzording to new polling by yougov in six eu zountries britain and the us where as most visitors inow but may be reluztant to azinowledge gratuities may maie up more than half your waitperson s inzome europeans are deeply divided on tipping in restaurants for example of respondents in germany told the pollster they typizally tipped almost the same as the us in the ui where an optional servize zharge of about is usually inzluded said they left a gratuity the figure in spain where servize is often inzluded in restaurant bills but diners zan leave optional tips was while in franze where every prize on a restaurant menu already inzludes for servize of people said they generally tipped on top even in sweden where tips are generally not expezted the figure was but only of italians said they would typizally leave a gratuity after a meal out with a rather greater proportion admitting they never left a zent a startling of respondents in the us however and of germans by far the most in europe zonfessed they would tip sometimes or often even if the servize was terrible indizating that for some tipping is not about puality of servize at all the findings of the survey will zome as a surprise in germany a zountry that does not generally thini of itself as a nation of happy distributors'"
      ]
     },
     "execution_count": 21,
     "metadata": {},
     "output_type": "execute_result"
    }
   ],
   "source": [
    "# go back to letters to see the results\n",
    "mapping = find_mapping(emission.argmax(axis=1))\n",
    "numbers_to_string(observed_sequence, invert_mapping(mapping))"
   ]
  },
  {
   "cell_type": "code",
   "execution_count": 20,
   "metadata": {},
   "outputs": [
    {
     "data": {
      "text/plain": [
       "array([19,  9,  3,  2, 10, 14, 22, 21, 16,  1,  4, 23,  5, 25,  7, 24,  1,\n",
       "       11, 18, 20,  6,  4,  0, 17, 12,  3, 26])"
      ]
     },
     "execution_count": 20,
     "metadata": {},
     "output_type": "execute_result"
    }
   ],
   "source": [
    "emission.argmax(axis = 1)"
   ]
  },
  {
   "cell_type": "code",
   "execution_count": 22,
   "metadata": {},
   "outputs": [
    {
     "data": {
      "text/plain": [
       "array([0.76416448, 0.6953035 , 0.81601868, 0.65422467, 0.84788296,\n",
       "       0.95856387, 0.58475064, 0.47847948, 0.86043554, 0.99000191,\n",
       "       0.69044509, 0.91787417, 0.84001789, 0.95805879, 0.83567188,\n",
       "       0.46896162, 0.99999697, 0.74797484, 0.85973221, 0.71462454,\n",
       "       0.97052657, 0.99705692, 0.74792096, 0.99942987, 0.94525551,\n",
       "       0.99542234, 1.        ])"
      ]
     },
     "execution_count": 22,
     "metadata": {},
     "output_type": "execute_result"
    }
   ],
   "source": [
    "emission.max(axis = 1)"
   ]
  },
  {
   "cell_type": "code",
   "execution_count": 23,
   "metadata": {},
   "outputs": [],
   "source": [
    "from src.HMM_functions import Viterbi\n",
    "\n",
    "pmax, phi = Viterbi(A=pm.matrix, B=emission, observed=observed_) # Questo va aggiustato"
   ]
  },
  {
   "attachments": {},
   "cell_type": "markdown",
   "metadata": {},
   "source": [
    "**Encrypted text:** \\\n",
    "it eavfqto in baafb nl sa zvanno fdrk qdnlfqnir zvanno fdrk qxx nka nifa it gvqtra qth bzqit in qxx hazathb zvabdfqsxo lt blriqx bdsnxaniab nkqn old kqca nl sa gvatrk lv bzqtibk nl dthavbnqth it inqxo uko uldxh old acat slnkav ukat qth klu fdrk nl niz ib q pdabnilt nkqn kqb saat cajite cibinlvb nl advlza glv qb xlte qb zalzxa kqca saat nvqcaxxite qvldth nka rltnitatn ldnbiha nkaiv lut rldtnvo in baafb acat advlzaqtb hlt n ytlu nka qtbuav qrrlvhite nl tau zlxxite so oldelc it bij ad rldtnviab svinqit qth nka db ukava qb flbn cibinlvb ytlu sdn fqo sa vaxdrnqtn nl qrytluxahea evqndiniab fqo fqya dz flva nkqt kqxg oldv uqinzavblt b itrlfa advlzaqtb qva haazxo hicihah lt nizzite it vabnqdvqtnb glv ajqfzxa lg vabzlthatnb it eavfqto nlxh nka zlxxbnav nkao nozirqxxo nizzah qxflbn nka bqfa qb nka db it nka dy ukava qt lzniltqx bavcira rkqvea lg qsldn ib dbdqxxo itrxdhah bqih nkao xagn q evqndino nka giedva it bzqit ukava bavcira ib lgnat itrxdhah it vabnqdvqtn sixxb sdn hitavb rqt xaqca lzniltqx nizb uqb ukixa it gvqtra ukava acavo zvira lt q vabnqdvqtn fatd qxvaqho itrxdhab glv bavcira lg zalzxa bqih nkao eatavqxxo nizzah lt nlz acat it buahat ukava nizb qva eatavqxxo tln ajzarnah nka giedva uqb sdn ltxo lg inqxiqtb bqih nkao uldxh nozirqxxo xaqca q evqndino qgnav q faqx ldn uink q vqnkav evaqnav zvlzlvnilt qhfinnite nkao tacav xagn q ratn q bnqvnxite lg vabzlthatnb it nka db kluacav qth lg eavfqtb so gqv nka flbn it advlza rltgabbah nkao uldxh niz blfanifab lv lgnat acat ig nka bavcira uqb navvisxa ithirqnite nkqn glv blfa nizzite ib tln qsldn pdqxino lg bavcira qn qxx nka githiteb lg nka bdvcao uixx rlfa qb q bdvzviba it eavfqto q rldtnvo nkqn hlab tln eatavqxxo nkity lg inbaxg qb q tqnilt lg kqzzo hibnvisdnlvb\n"
   ]
  },
  {
   "attachments": {},
   "cell_type": "markdown",
   "metadata": {},
   "source": [
    "**runnato con 50 iterazione di BW:** \\\n",
    " in pqrmany it sqqms to jq nrqtty muzh automatiz nrqtty muzh all thq timq in franzq and snain it all dqnqnds nrqsumajly on sozial sujtlqtiqs that you havq to jq frqnzh or snanish to undqrstand in italy why would you qvqn jothqr whqn and how muzh to tin is a juqstion that has jqqn vqxinp visitors to quronq for as lonp as nqonlq havq jqqn travqllinp around thq zontinqnt outsidq thqir own zountry it sqqms qvqn quronqans don t wnow thq answqr azzordinp to nqw nollinp jy youpov in six qu zountriqs jritain and thq us whqrq as most visitors wnow jut may jq rqluztant to azwnowlqdpq pratuitiqs may mawq un morq than half your waitnqrson s inzomq quronqans arq dqqnly dividqd on tinninp in rqstaurants for qxamnlq of rqsnondqnts in pqrmany told thq nollstqr thqy tynizally tinnqd almost thq samq as thq us in thq uw whqrq an ontional sqrvizq zharpq of ajout is usually inzludqd said thqy lqft a pratuity thq fipurq in snain whqrq sqrvizq is oftqn inzludqd in rqstaurant jills jut dinqrs zan lqavq ontional tins was whilq in franzq whqrq qvqry nrizq on a rqstaurant mqnu alrqady inzludqs for sqrvizq of nqonlq said thqy pqnqrally tinnqd on ton qvqn in swqdqn whqrq tins arq pqnqrally not qxnqztqd thq fipurq was jut only of italians said thqy would tynizally lqavq a pratuity aftqr a mqal out with a rathqr prqatqr nronortion admittinp thqy nqvqr lqft a zqnt a startlinp of rqsnondqnts in thq us howqvqr and of pqrmans jy far thq most in quronq zonfqssqd thqy would tin somqtimqs or oftqn qvqn if thq sqrvizq was tqrrijlq indizatinp that for somq tinninp is not ajout juality of sqrvizq at all thq findinps of thq survqy will zomq as a surnrisq in pqrmany a zountry that doqs not pqnqrally thinw of itsqlf as a nation of hanny distrijutors\n"
   ]
  },
  {
   "attachments": {},
   "cell_type": "markdown",
   "metadata": {},
   "source": [
    "in pqrmany it sqqms to bq zrqtty muzh automatiz zrqtty muzh all thq timq in franzq and szain it all dqzqnds zrqsumably on sozial subtlqtiqs that you havq to bq frqnzh or szanish to undqrstand in italy why would you qvqn bothqr whqn and how muzh to tiz is a puqstion that has bqqn vqxinp visitors to qurozq for as lonp as zqozlq havq bqqn travqllinp around thq zontinqnt outsidq thqir own zountry it sqqms qvqn qurozqans don t ynow thq answqr azzordinp to nqw zollinp by youpov in six qu zountriqs britain and thq us whqrq as most visitors ynow but may bq rqluztant to azynowlqdpq pratuitiqs may mayq uz morq than half your waitzqrson s inzomq qurozqans arq dqqzly dividqd on tizzinp in rqstaurants for qxamzlq of rqszondqnts in pqrmany told thq zollstqr thqy tyzizally tizzqd almost thq samq as thq us in thq uy whqrq an oztional sqrvizq zharpq of about is usually inzludqd said thqy lqft a pratuity thq fipurq in szain whqrq sqrvizq is oftqn inzludqd in rqstaurant bills but dinqrs zan lqavq oztional tizs was whilq in franzq whqrq qvqry zrizq on a rqstaurant mqnu alrqady inzludqs for sqrvizq of zqozlq said thqy pqnqrally tizzqd on toz qvqn in swqdqn whqrq tizs arq pqnqrally not qxzqztqd thq fipurq was but only of italians said thqy would tyzizally lqavq a pratuity aftqr a mqal out with a rathqr prqatqr zrozortion admittinp thqy nqvqr lqft a zqnt a startlinp of rqszondqnts in thq us howqvqr and of pqrmans by far thq most in qurozq zonfqssqd thqy would tiz somqtimqs or oftqn qvqn if thq sqrvizq was tqrriblq indizatinp that for somq tizzinp is not about puality of sqrvizq at all thq findinps of thq survqy will zomq as a surzrisq in pqrmany a zountry that doqs not pqnqrally thiny of itsqlf as a nation of hazzy distributors\n"
   ]
  }
 ],
 "metadata": {
  "kernelspec": {
   "display_name": "Python 3",
   "language": "python",
   "name": "python3"
  },
  "language_info": {
   "codemirror_mode": {
    "name": "ipython",
    "version": 3
   },
   "file_extension": ".py",
   "mimetype": "text/x-python",
   "name": "python",
   "nbconvert_exporter": "python",
   "pygments_lexer": "ipython3",
   "version": "3.10.8"
  },
  "orig_nbformat": 4
 },
 "nbformat": 4,
 "nbformat_minor": 2
}
