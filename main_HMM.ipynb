{
 "cells": [
  {
   "attachments": {},
   "cell_type": "markdown",
   "metadata": {},
   "source": [
    "# HMM for decryption\n"
   ]
  },
  {
   "cell_type": "code",
   "execution_count": 1,
   "metadata": {},
   "outputs": [],
   "source": [
    "from src.CipherUtils import CipherGenerator\n",
    "from src.CipherUtils import TextEncoder\n",
    "from prove.src.Probability import ProbabilityMatrix\n",
    "from src.CipherUtils import TextPreProcessor\n",
    "\n",
    "from src.HMM_utils import map_alphabet_to_numbers, string_to_numbers\n",
    "from src.HMM_utils import find_mapping, numbers_to_string, invert_mapping\n",
    "\n",
    "# from src.HMM_functions import Baum_Welch\n",
    "\n",
    "import numpy as np"
   ]
  },
  {
   "cell_type": "code",
   "execution_count": 38,
   "metadata": {},
   "outputs": [
    {
     "name": "stdout",
     "output_type": "stream",
     "text": [
      " in germany it seems to be pretty much automatic pretty much all the time in france and spain it all depends presumably just on social subtleties that you have to be french or spanish to understand in italy why would you even bother when and how much to tip is a question that has been vexing visitors to europe for as long as people have been travelling around the continent outside their own country it seems even europeans don t know the answer according to new polling by yougov in six eu countries britain and the us where as most visitors know but may be reluctant to acknowledge gratuities may make up more than half your waitperson s income europeans are deeply divided on tipping in restaurants for example of respondents in germany told the pollster they typically tipped almost the same as the us in the uk where an optional service charge of about is usually included said they left a gratuity the figure in spain where service is often included in restaurant bills but diners can leave optional tips was while in france where every price on a restaurant menu already includes for service of people said they generally tipped on top even in sweden where tips are generally not expected the figure was but only of italians said they would typically leave a gratuity after a meal out with a rather greater proportion admitting they never left a cent a startling of respondents in the us however and of germans by far the most in europe confessed they would tip sometimes or often even if the service was terrible indicating that for some tipping is not about quality of service at all the findings of the survey will come as a surprise in germany a country that does not generally think of itself as a nation of happy distributors\n",
      " bc djiemch bx qjjeq xk nj pijxxh ezus mzxkemxbu pijxxh ezus mvv xsj xbej bc rimcuj mcy qpmbc bx mvv yjpjcyq pijqzemnvh lzqx kc qkubmv qznxvjxbjq xsmx hkz smtj xk nj rijcus ki qpmcbqs xk zcyjiqxmcy bc bxmvh fsh fkzvy hkz jtjc nkxsji fsjc mcy skf ezus xk xbp bq m azjqxbkc xsmx smq njjc tjgbcd tbqbxkiq xk jzikpj rki mq vkcd mq pjkpvj smtj njjc ximtjvvbcd mikzcy xsj ukcxbcjcx kzxqbyj xsjbi kfc ukzcxih bx qjjeq jtjc jzikpjmcq ykc x wckf xsj mcqfji muukiybcd xk cjf pkvvbcd nh hkzdkt bc qbg jz ukzcxibjq nibxmbc mcy xsj zq fsjij mq ekqx tbqbxkiq wckf nzx emh nj ijvzuxmcx xk muwckfvjydj dimxzbxbjq emh emwj zp ekij xsmc smvr hkzi fmbxpjiqkc q bcukej jzikpjmcq mij yjjpvh ybtbyjy kc xbppbcd bc ijqxmzimcxq rki jgmepvj kr ijqpkcyjcxq bc djiemch xkvy xsj pkvvqxji xsjh xhpbumvvh xbppjy mvekqx xsj qmej mq xsj zq bc xsj zw fsjij mc kpxbkcmv qjitbuj usmidj kr mnkzx bq zqzmvvh bcuvzyjy qmby xsjh vjrx m dimxzbxh xsj rbdzij bc qpmbc fsjij qjitbuj bq krxjc bcuvzyjy bc ijqxmzimcx nbvvq nzx ybcjiq umc vjmtj kpxbkcmv xbpq fmq fsbvj bc rimcuj fsjij jtjih pibuj kc m ijqxmzimcx ejcz mvijmyh bcuvzyjq rki qjitbuj kr pjkpvj qmby xsjh djcjimvvh xbppjy kc xkp jtjc bc qfjyjc fsjij xbpq mij djcjimvvh ckx jgpjuxjy xsj rbdzij fmq nzx kcvh kr bxmvbmcq qmby xsjh fkzvy xhpbumvvh vjmtj m dimxzbxh mrxji m ejmv kzx fbxs m imxsji dijmxji pikpkixbkc myebxxbcd xsjh cjtji vjrx m ujcx m qxmixvbcd kr ijqpkcyjcxq bc xsj zq skfjtji mcy kr djiemcq nh rmi xsj ekqx bc jzikpj ukcrjqqjy xsjh fkzvy xbp qkejxbejq ki krxjc jtjc br xsj qjitbuj fmq xjiibnvj bcybumxbcd xsmx rki qkej xbppbcd bq ckx mnkzx azmvbxh kr qjitbuj mx mvv xsj rbcybcdq kr xsj qzitjh fbvv ukej mq m qzipibqj bc djiemch m ukzcxih xsmx ykjq ckx djcjimvvh xsbcw kr bxqjvr mq m cmxbkc kr smpph ybqxibnzxkiq\n"
     ]
    }
   ],
   "source": [
    "# hidden_sequence = \"people of western europe a landing was made this morning on the coast of france by troops kangaroo jokes quasi vile xilophone zenit \"\n",
    "hidden_sequence = \" in germany it seems to be pretty much automatic pretty much all the time in france and spain it all depends presumably just on social subtleties that you have to be french or spanish to understand in italy why would you even bother when and how much to tip is a question that has been vexing visitors to europe for as long as people have been travelling around the continent outside their own country it seems even europeans don t know the answer according to new polling by yougov in six eu countries britain and the us where as most visitors know but may be reluctant to acknowledge gratuities may make up more than half your waitperson s income europeans are deeply divided on tipping in restaurants for example of respondents in germany told the pollster they typically tipped almost the same as the us in the uk where an optional service charge of about is usually included said they left a gratuity the figure in spain where service is often included in restaurant bills but diners can leave optional tips was while in france where every price on a restaurant menu already includes for service of people said they generally tipped on top even in sweden where tips are generally not expected the figure was but only of italians said they would typically leave a gratuity after a meal out with a rather greater proportion admitting they never left a cent a startling of respondents in the us however and of germans by far the most in europe confessed they would tip sometimes or often even if the service was terrible indicating that for some tipping is not about quality of service at all the findings of the survey will come as a surprise in germany a country that does not generally think of itself as a nation of happy distributors\"\n",
    "# hidden_sequence = \" hello banana xilophone key queue zebra cock pussy tits dandy fart though jolly world mum \"\n",
    "\n",
    "cipher_generator = CipherGenerator()\n",
    "cipher = cipher_generator.generate_cipher()\n",
    "encoder = TextEncoder()\n",
    "observed_sequence = encoder.encode_text(hidden_sequence, cipher=cipher)\n",
    "\n",
    "print(hidden_sequence)\n",
    "print(observed_sequence)"
   ]
  },
  {
   "cell_type": "code",
   "execution_count": 39,
   "metadata": {},
   "outputs": [],
   "source": [
    "# List of text file paths to build our corpus (where we learn the transitions probs)\n",
    "file_paths = [\n",
    "    \"texts/moby_dick.txt\",\n",
    "    \"texts/shakespeare.txt\",\n",
    "    \"texts/james-joyce-a-portrait-of-the-artist-as-a-young-man.txt\",\n",
    "    \"texts/james-joyce-dubliners.txt\",\n",
    "    \"texts/james-joyce-ulysses.txt\",\n",
    "]\n",
    "\n",
    "texts = []\n",
    "for file_path in file_paths:\n",
    "    with open(file_path, \"r\") as file:\n",
    "        texts.append(file.read())\n",
    "\n",
    "corpus = \"\".join(texts)\n",
    "alphabet = list(\"abcdefghijklmnopqrstuvwxyz \")\n",
    "\n",
    "preprocessor = TextPreProcessor()\n",
    "corpus = preprocessor.lower(text=corpus)\n",
    "corpus = preprocessor.remove_additional_spaces(text=corpus)\n",
    "corpus = preprocessor.remove_unknown_chars(\n",
    "    text=corpus, unknown_chars=preprocessor.unknown_chars(corpus)\n",
    ")\n",
    "\n",
    "# compute probabilities\n",
    "pm = ProbabilityMatrix(text=corpus, alphabet=alphabet)\n",
    "pm.compute_matrix_spaces()"
   ]
  },
  {
   "cell_type": "code",
   "execution_count": 40,
   "metadata": {},
   "outputs": [],
   "source": [
    "# translate the hidden and observed sequences into numeric list\n",
    "hidden_ = string_to_numbers(hidden_sequence, mapping=map_alphabet_to_numbers())\n",
    "observed_ = string_to_numbers(observed_sequence, mapping=map_alphabet_to_numbers())"
   ]
  },
  {
   "cell_type": "code",
   "execution_count": 41,
   "metadata": {},
   "outputs": [],
   "source": [
    "from src.HMM_functions import Baum_Welch\n",
    "\n",
    "\n",
    "# We initialize B to be uniform on all character to character conversions\n",
    "#  with the last row and column (corresponding to the space) are initialized to 0 and 1 only for \" \" emitting \" \"\n",
    "B_start = np.zeros((27, 27)) + 1 / 26\n",
    "B_start[:, -1] = np.zeros(27)\n",
    "B_start[-1, :] = np.zeros(27)\n",
    "B_start[-1, -1] = 1\n",
    "\n",
    "emission = Baum_Welch(\n",
    "    A=pm.matrix,\n",
    "    B_start=B_start,\n",
    "    pi=pm.matrix[-1, :],\n",
    "    observed=observed_,\n",
    "    maxIter=20\n",
    ")"
   ]
  },
  {
   "cell_type": "code",
   "execution_count": 42,
   "metadata": {},
   "outputs": [
    {
     "data": {
      "text/plain": [
       "' in germany it seems to be pretty muzh automatiz pretty muzh all the time in franze and spain it all depends presumably qust on sozial subtleties that you have to be frenzh or spanish to understand in italy why would you even bother when and how muzh to tip is a auestion that has been vexing visitors to europe for as long as people have been travelling around the zontinent outside their own zountry it seems even europeans don t wnow the answer azzording to new polling by yougov in six eu zountries britain and the us where as most visitors wnow but may be reluztant to azwnowledge gratuities may mawe up more than half your waitperson s inzome europeans are deeply divided on tipping in restaurants for example of respondents in germany told the pollster they typizally tipped almost the same as the us in the uw where an optional servize zharge of about is usually inzluded said they left a gratuity the figure in spain where servize is often inzluded in restaurant bills but diners zan leave optional tips was while in franze where every prize on a restaurant menu already inzludes for servize of people said they generally tipped on top even in sweden where tips are generally not expezted the figure was but only of italians said they would typizally leave a gratuity after a meal out with a rather greater proportion admitting they never left a zent a startling of respondents in the us however and of germans by far the most in europe zonfessed they would tip sometimes or often even if the servize was terrible indizating that for some tipping is not about auality of servize at all the findings of the survey will zome as a surprise in germany a zountry that does not generally thinw of itself as a nation of happy distributors'"
      ]
     },
     "execution_count": 42,
     "metadata": {},
     "output_type": "execute_result"
    }
   ],
   "source": [
    "# go back to letters to see the results\n",
    "mapping = find_mapping(emission.argmax(axis=1))\n",
    "numbers_to_string(observed_sequence, invert_mapping(mapping))"
   ]
  },
  {
   "cell_type": "code",
   "execution_count": 50,
   "metadata": {},
   "outputs": [
    {
     "data": {
      "text/plain": [
       "array([12, 13, 20, 24,  9, 17,  3, 18,  1, 11, 19, 21,  4,  2, 10, 15, 11,\n",
       "        8, 16, 23, 25, 19,  5,  6,  7, 20, 26])"
      ]
     },
     "execution_count": 50,
     "metadata": {},
     "output_type": "execute_result"
    }
   ],
   "source": [
    "emission.argmax(axis = 1)"
   ]
  },
  {
   "cell_type": "code",
   "execution_count": 32,
   "metadata": {},
   "outputs": [
    {
     "data": {
      "text/plain": [
       "array([0.4204242 , 0.59426932, 0.33614214, 0.40815961, 0.68610573,\n",
       "       0.30533622, 0.24128589, 0.41049294, 0.41553163, 0.4884047 ,\n",
       "       0.36529307, 0.34065969, 0.39944858, 0.73295376, 0.3321016 ,\n",
       "       0.18357834, 0.81663523, 0.48004038, 0.55108382, 0.56548568,\n",
       "       0.49292914, 0.66443631, 0.23235109, 0.91711861, 0.58556676,\n",
       "       0.43420175, 1.        ])"
      ]
     },
     "execution_count": 32,
     "metadata": {},
     "output_type": "execute_result"
    }
   ],
   "source": [
    "emission.max(axis = 1)"
   ]
  },
  {
   "cell_type": "code",
   "execution_count": 8,
   "metadata": {},
   "outputs": [],
   "source": [
    "from src.HMM_functions import Viterbi\n",
    "\n",
    "pmax, phi = Viterbi(A=pm.matrix, B=emission, observed=observed_)"
   ]
  },
  {
   "attachments": {},
   "cell_type": "markdown",
   "metadata": {},
   "source": [
    "**Encrypted text:** \\\n",
    "it eavfqto in baafb nl sa zvanno fdrk qdnlfqnir zvanno fdrk qxx nka nifa it gvqtra qth bzqit in qxx hazathb zvabdfqsxo lt blriqx bdsnxaniab nkqn old kqca nl sa gvatrk lv bzqtibk nl dthavbnqth it inqxo uko uldxh old acat slnkav ukat qth klu fdrk nl niz ib q pdabnilt nkqn kqb saat cajite cibinlvb nl advlza glv qb xlte qb zalzxa kqca saat nvqcaxxite qvldth nka rltnitatn ldnbiha nkaiv lut rldtnvo in baafb acat advlzaqtb hlt n ytlu nka qtbuav qrrlvhite nl tau zlxxite so oldelc it bij ad rldtnviab svinqit qth nka db ukava qb flbn cibinlvb ytlu sdn fqo sa vaxdrnqtn nl qrytluxahea evqndiniab fqo fqya dz flva nkqt kqxg oldv uqinzavblt b itrlfa advlzaqtb qva haazxo hicihah lt nizzite it vabnqdvqtnb glv ajqfzxa lg vabzlthatnb it eavfqto nlxh nka zlxxbnav nkao nozirqxxo nizzah qxflbn nka bqfa qb nka db it nka dy ukava qt lzniltqx bavcira rkqvea lg qsldn ib dbdqxxo itrxdhah bqih nkao xagn q evqndino nka giedva it bzqit ukava bavcira ib lgnat itrxdhah it vabnqdvqtn sixxb sdn hitavb rqt xaqca lzniltqx nizb uqb ukixa it gvqtra ukava acavo zvira lt q vabnqdvqtn fatd qxvaqho itrxdhab glv bavcira lg zalzxa bqih nkao eatavqxxo nizzah lt nlz acat it buahat ukava nizb qva eatavqxxo tln ajzarnah nka giedva uqb sdn ltxo lg inqxiqtb bqih nkao uldxh nozirqxxo xaqca q evqndino qgnav q faqx ldn uink q vqnkav evaqnav zvlzlvnilt qhfinnite nkao tacav xagn q ratn q bnqvnxite lg vabzlthatnb it nka db kluacav qth lg eavfqtb so gqv nka flbn it advlza rltgabbah nkao uldxh niz blfanifab lv lgnat acat ig nka bavcira uqb navvisxa ithirqnite nkqn glv blfa nizzite ib tln qsldn pdqxino lg bavcira qn qxx nka githiteb lg nka bdvcao uixx rlfa qb q bdvzviba it eavfqto q rldtnvo nkqn hlab tln eatavqxxo nkity lg inbaxg qb q tqnilt lg kqzzo hibnvisdnlvb\n"
   ]
  },
  {
   "attachments": {},
   "cell_type": "markdown",
   "metadata": {},
   "source": [
    "**runnato con 50 iterazione di BW:** \\\n",
    " in pqrmany it sqqms to jq nrqtty muzh automatiz nrqtty muzh all thq timq in franzq and snain it all dqnqnds nrqsumajly on sozial sujtlqtiqs that you havq to jq frqnzh or snanish to undqrstand in italy why would you qvqn jothqr whqn and how muzh to tin is a juqstion that has jqqn vqxinp visitors to quronq for as lonp as nqonlq havq jqqn travqllinp around thq zontinqnt outsidq thqir own zountry it sqqms qvqn quronqans don t wnow thq answqr azzordinp to nqw nollinp jy youpov in six qu zountriqs jritain and thq us whqrq as most visitors wnow jut may jq rqluztant to azwnowlqdpq pratuitiqs may mawq un morq than half your waitnqrson s inzomq quronqans arq dqqnly dividqd on tinninp in rqstaurants for qxamnlq of rqsnondqnts in pqrmany told thq nollstqr thqy tynizally tinnqd almost thq samq as thq us in thq uw whqrq an ontional sqrvizq zharpq of ajout is usually inzludqd said thqy lqft a pratuity thq fipurq in snain whqrq sqrvizq is oftqn inzludqd in rqstaurant jills jut dinqrs zan lqavq ontional tins was whilq in franzq whqrq qvqry nrizq on a rqstaurant mqnu alrqady inzludqs for sqrvizq of nqonlq said thqy pqnqrally tinnqd on ton qvqn in swqdqn whqrq tins arq pqnqrally not qxnqztqd thq fipurq was jut only of italians said thqy would tynizally lqavq a pratuity aftqr a mqal out with a rathqr prqatqr nronortion admittinp thqy nqvqr lqft a zqnt a startlinp of rqsnondqnts in thq us howqvqr and of pqrmans jy far thq most in quronq zonfqssqd thqy would tin somqtimqs or oftqn qvqn if thq sqrvizq was tqrrijlq indizatinp that for somq tinninp is not ajout juality of sqrvizq at all thq findinps of thq survqy will zomq as a surnrisq in pqrmany a zountry that doqs not pqnqrally thinw of itsqlf as a nation of hanny distrijutors\n"
   ]
  },
  {
   "attachments": {},
   "cell_type": "markdown",
   "metadata": {},
   "source": [
    "in pqrmany it sqqms to bq zrqtty muzh automatiz zrqtty muzh all thq timq in franzq and szain it all dqzqnds zrqsumably on sozial subtlqtiqs that you havq to bq frqnzh or szanish to undqrstand in italy why would you qvqn bothqr whqn and how muzh to tiz is a puqstion that has bqqn vqxinp visitors to qurozq for as lonp as zqozlq havq bqqn travqllinp around thq zontinqnt outsidq thqir own zountry it sqqms qvqn qurozqans don t ynow thq answqr azzordinp to nqw zollinp by youpov in six qu zountriqs britain and thq us whqrq as most visitors ynow but may bq rqluztant to azynowlqdpq pratuitiqs may mayq uz morq than half your waitzqrson s inzomq qurozqans arq dqqzly dividqd on tizzinp in rqstaurants for qxamzlq of rqszondqnts in pqrmany told thq zollstqr thqy tyzizally tizzqd almost thq samq as thq us in thq uy whqrq an oztional sqrvizq zharpq of about is usually inzludqd said thqy lqft a pratuity thq fipurq in szain whqrq sqrvizq is oftqn inzludqd in rqstaurant bills but dinqrs zan lqavq oztional tizs was whilq in franzq whqrq qvqry zrizq on a rqstaurant mqnu alrqady inzludqs for sqrvizq of zqozlq said thqy pqnqrally tizzqd on toz qvqn in swqdqn whqrq tizs arq pqnqrally not qxzqztqd thq fipurq was but only of italians said thqy would tyzizally lqavq a pratuity aftqr a mqal out with a rathqr prqatqr zrozortion admittinp thqy nqvqr lqft a zqnt a startlinp of rqszondqnts in thq us howqvqr and of pqrmans by far thq most in qurozq zonfqssqd thqy would tiz somqtimqs or oftqn qvqn if thq sqrvizq was tqrriblq indizatinp that for somq tizzinp is not about puality of sqrvizq at all thq findinps of thq survqy will zomq as a surzrisq in pqrmany a zountry that doqs not pqnqrally thiny of itsqlf as a nation of hazzy distributors\n"
   ]
  }
 ],
 "metadata": {
  "kernelspec": {
   "display_name": "Python 3",
   "language": "python",
   "name": "python3"
  },
  "language_info": {
   "codemirror_mode": {
    "name": "ipython",
    "version": 3
   },
   "file_extension": ".py",
   "mimetype": "text/x-python",
   "name": "python",
   "nbconvert_exporter": "python",
   "pygments_lexer": "ipython3",
   "version": "3.10.8"
  },
  "orig_nbformat": 4
 },
 "nbformat": 4,
 "nbformat_minor": 2
}
