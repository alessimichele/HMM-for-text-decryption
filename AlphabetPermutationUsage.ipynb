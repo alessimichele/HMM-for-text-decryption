{
 "cells": [
  {
   "cell_type": "code",
   "execution_count": 4,
   "metadata": {},
   "outputs": [],
   "source": [
    "from src.AlphabetPermutation import AlphabetPermutation\n",
    "from string import ascii_lowercase"
   ]
  },
  {
   "cell_type": "code",
   "execution_count": 5,
   "metadata": {},
   "outputs": [
    {
     "data": {
      "text/plain": [
       "['a',\n",
       " 'b',\n",
       " 'c',\n",
       " 'd',\n",
       " 'e',\n",
       " 'f',\n",
       " 'g',\n",
       " 'h',\n",
       " 'i',\n",
       " 'j',\n",
       " 'k',\n",
       " 'l',\n",
       " 'm',\n",
       " 'n',\n",
       " 'o',\n",
       " 'p',\n",
       " 'q',\n",
       " 'r',\n",
       " 's',\n",
       " 't',\n",
       " 'u',\n",
       " 'v',\n",
       " 'w',\n",
       " 'x',\n",
       " 'y',\n",
       " 'z',\n",
       " ' ']"
      ]
     },
     "execution_count": 5,
     "metadata": {},
     "output_type": "execute_result"
    }
   ],
   "source": [
    "alphabet = list(ascii_lowercase)\n",
    "alphabet.append(' ')\n",
    "alphabet"
   ]
  },
  {
   "cell_type": "code",
   "execution_count": 6,
   "metadata": {},
   "outputs": [
    {
     "name": "stdout",
     "output_type": "stream",
     "text": [
      "Permutation:\n",
      "a -> j\n",
      "b -> a\n",
      "c -> w\n",
      "d -> p\n",
      "e -> q\n",
      "f -> f\n",
      "g -> m\n",
      "h -> z\n",
      "i -> h\n",
      "j -> r\n",
      "k -> g\n",
      "l -> x\n",
      "m -> l\n",
      "n -> o\n",
      "o -> v\n",
      "p -> y\n",
      "q -> u\n",
      "r -> b\n",
      "s -> i\n",
      "t -> s\n",
      "u -> d\n",
      "v -> t\n",
      "w -> c\n",
      "x -> e\n",
      "y -> k\n",
      "z -> n\n",
      "Permutation: {'a': 'j', 'b': 'a', 'c': 'w', 'd': 'p', 'e': 'q', 'f': 'f', 'g': 'm', 'h': 'z', 'i': 'h', 'j': 'r', 'k': 'g', 'l': 'x', 'm': 'l', 'n': 'o', 'o': 'v', 'p': 'y', 'q': 'u', 'r': 'b', 's': 'i', 't': 's', 'u': 'd', 'v': 't', 'w': 'c', 'x': 'e', 'y': 'k', 'z': 'n'}\n",
      "Original string: hello world\n",
      "Permuted string: zqxxv cvbxp\n"
     ]
    }
   ],
   "source": [
    "string = \"hello world\"\n",
    "permutation_generator = AlphabetPermutation(alphabet)\n",
    "permutation = permutation_generator.describe_permutation()\n",
    "permuted_string = permutation_generator.permute_string(string)\n",
    "\n",
    "print(\"Permutation:\", permutation)\n",
    "print(\"Original string:\", string)\n",
    "print(\"Permuted string:\", permuted_string)"
   ]
  },
  {
   "attachments": {},
   "cell_type": "markdown",
   "metadata": {},
   "source": []
  }
 ],
 "metadata": {
  "kernelspec": {
   "display_name": "Python 3",
   "language": "python",
   "name": "python3"
  },
  "language_info": {
   "codemirror_mode": {
    "name": "ipython",
    "version": 3
   },
   "file_extension": ".py",
   "mimetype": "text/x-python",
   "name": "python",
   "nbconvert_exporter": "python",
   "pygments_lexer": "ipython3",
   "version": "3.10.8"
  },
  "orig_nbformat": 4
 },
 "nbformat": 4,
 "nbformat_minor": 2
}
