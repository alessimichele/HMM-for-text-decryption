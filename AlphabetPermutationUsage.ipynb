{
 "cells": [
  {
   "cell_type": "code",
   "execution_count": 1,
   "metadata": {},
   "outputs": [],
   "source": [
    "from src.AlphabetPermutation import AlphabetPermutation\n",
    "import string"
   ]
  },
  {
   "cell_type": "code",
   "execution_count": 2,
   "metadata": {},
   "outputs": [
    {
     "data": {
      "text/plain": [
       "['a',\n",
       " 'b',\n",
       " 'c',\n",
       " 'd',\n",
       " 'e',\n",
       " 'f',\n",
       " 'g',\n",
       " 'h',\n",
       " 'i',\n",
       " 'j',\n",
       " 'k',\n",
       " 'l',\n",
       " 'm',\n",
       " 'n',\n",
       " 'o',\n",
       " 'p',\n",
       " 'q',\n",
       " 'r',\n",
       " 's',\n",
       " 't',\n",
       " 'u',\n",
       " 'v',\n",
       " 'w',\n",
       " 'x',\n",
       " 'y',\n",
       " 'z',\n",
       " ' ']"
      ]
     },
     "execution_count": 2,
     "metadata": {},
     "output_type": "execute_result"
    }
   ],
   "source": [
    "alphabet = list(string.ascii_lowercase)\n",
    "alphabet.append(' ')\n",
    "alphabet"
   ]
  },
  {
   "cell_type": "code",
   "execution_count": 3,
   "metadata": {},
   "outputs": [
    {
     "name": "stdout",
     "output_type": "stream",
     "text": [
      "Permutation:\n",
      "a -> u\n",
      "b -> h\n",
      "c -> d\n",
      "d -> e\n",
      "e -> t\n",
      "f -> q\n",
      "g -> i\n",
      "h -> m\n",
      "i -> p\n",
      "j -> y\n",
      "k -> l\n",
      "l -> v\n",
      "m -> b\n",
      "n -> g\n",
      "o -> k\n",
      "p -> f\n",
      "q -> r\n",
      "r -> a\n",
      "s -> j\n",
      "t -> n\n",
      "u -> x\n",
      "v -> w\n",
      "w -> s\n",
      "x -> z\n",
      "y -> o\n",
      "z -> c\n",
      "Permutation: {'a': 'u', 'b': 'h', 'c': 'd', 'd': 'e', 'e': 't', 'f': 'q', 'g': 'i', 'h': 'm', 'i': 'p', 'j': 'y', 'k': 'l', 'l': 'v', 'm': 'b', 'n': 'g', 'o': 'k', 'p': 'f', 'q': 'r', 'r': 'a', 's': 'j', 't': 'n', 'u': 'x', 'v': 'w', 'w': 's', 'x': 'z', 'y': 'o', 'z': 'c'}\n",
      "Original string: hello world\n",
      "Permuted string: mtvvk skave\n"
     ]
    }
   ],
   "source": [
    "string = \"hello world\"\n",
    "permutation_generator = AlphabetPermutation(alphabet)\n",
    "permutation = permutation_generator.describe_permutation()\n",
    "permuted_string = permutation_generator.permute_string(string)\n",
    "\n",
    "print(\"Permutation:\", permutation)\n",
    "print(\"Original string:\", string)\n",
    "print(\"Permuted string:\", permuted_string)"
   ]
  },
  {
   "attachments": {},
   "cell_type": "markdown",
   "metadata": {},
   "source": []
  }
 ],
 "metadata": {
  "kernelspec": {
   "display_name": "Python 3",
   "language": "python",
   "name": "python3"
  },
  "language_info": {
   "codemirror_mode": {
    "name": "ipython",
    "version": 3
   },
   "file_extension": ".py",
   "mimetype": "text/x-python",
   "name": "python",
   "nbconvert_exporter": "python",
   "pygments_lexer": "ipython3",
   "version": "3.10.8"
  },
  "orig_nbformat": 4
 },
 "nbformat": 4,
 "nbformat_minor": 2
}
