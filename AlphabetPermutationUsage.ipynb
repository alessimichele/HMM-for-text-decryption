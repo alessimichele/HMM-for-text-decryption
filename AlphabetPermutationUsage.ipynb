{
 "cells": [
  {
   "cell_type": "code",
   "execution_count": 1,
   "metadata": {},
   "outputs": [],
   "source": [
    "from src.AlphabetPermutation import AlphabetPermutation\n",
    "from string import ascii_lowercase"
   ]
  },
  {
   "cell_type": "code",
   "execution_count": 2,
   "metadata": {},
   "outputs": [
    {
     "data": {
      "text/plain": [
       "['a',\n",
       " 'b',\n",
       " 'c',\n",
       " 'd',\n",
       " 'e',\n",
       " 'f',\n",
       " 'g',\n",
       " 'h',\n",
       " 'i',\n",
       " 'j',\n",
       " 'k',\n",
       " 'l',\n",
       " 'm',\n",
       " 'n',\n",
       " 'o',\n",
       " 'p',\n",
       " 'q',\n",
       " 'r',\n",
       " 's',\n",
       " 't',\n",
       " 'u',\n",
       " 'v',\n",
       " 'w',\n",
       " 'x',\n",
       " 'y',\n",
       " 'z',\n",
       " ' ']"
      ]
     },
     "execution_count": 2,
     "metadata": {},
     "output_type": "execute_result"
    }
   ],
   "source": [
    "alphabet = list(ascii_lowercase)\n",
    "alphabet.append(' ')\n",
    "alphabet"
   ]
  },
  {
   "cell_type": "code",
   "execution_count": 3,
   "metadata": {},
   "outputs": [
    {
     "name": "stdout",
     "output_type": "stream",
     "text": [
      "Permutation:\n",
      "a -> p\n",
      "b -> m\n",
      "c -> y\n",
      "d -> v\n",
      "e -> n\n",
      "f -> l\n",
      "g -> t\n",
      "h -> s\n",
      "i -> u\n",
      "j -> g\n",
      "k -> b\n",
      "l -> j\n",
      "m -> e\n",
      "n -> k\n",
      "o -> r\n",
      "p -> i\n",
      "q -> c\n",
      "r -> w\n",
      "s -> z\n",
      "t -> a\n",
      "u -> d\n",
      "v -> x\n",
      "w -> o\n",
      "x -> q\n",
      "y -> f\n",
      "z -> h\n",
      "Permutation: {'a': 'p', 'b': 'm', 'c': 'y', 'd': 'v', 'e': 'n', 'f': 'l', 'g': 't', 'h': 's', 'i': 'u', 'j': 'g', 'k': 'b', 'l': 'j', 'm': 'e', 'n': 'k', 'o': 'r', 'p': 'i', 'q': 'c', 'r': 'w', 's': 'z', 't': 'a', 'u': 'd', 'v': 'x', 'w': 'o', 'x': 'q', 'y': 'f', 'z': 'h'}\n",
      "Original string: hello world\n",
      "Permuted string: snjjr orwjv\n"
     ]
    }
   ],
   "source": [
    "string = \"hello world\"\n",
    "permutation_generator = AlphabetPermutation(alphabet)\n",
    "permutation = permutation_generator.describe_permutation()\n",
    "permuted_string = permutation_generator.permute_string(string)\n",
    "\n",
    "print(\"Permutation:\", permutation)\n",
    "print(\"Original string:\", string)\n",
    "print(\"Permuted string:\", permuted_string)"
   ]
  }
 ],
 "metadata": {
  "kernelspec": {
   "display_name": "Python 3",
   "language": "python",
   "name": "python3"
  },
  "language_info": {
   "codemirror_mode": {
    "name": "ipython",
    "version": 3
   },
   "file_extension": ".py",
   "mimetype": "text/x-python",
   "name": "python",
   "nbconvert_exporter": "python",
   "pygments_lexer": "ipython3",
   "version": "3.10.8"
  },
  "orig_nbformat": 4
 },
 "nbformat": 4,
 "nbformat_minor": 2
}
