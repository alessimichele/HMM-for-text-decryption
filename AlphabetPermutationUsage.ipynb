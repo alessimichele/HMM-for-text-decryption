{
 "cells": [
  {
   "cell_type": "code",
   "execution_count": 3,
   "metadata": {},
   "outputs": [],
   "source": [
    "from src.AlphabetPermutation import AlphabetPermutation"
   ]
  },
  {
   "cell_type": "code",
   "execution_count": 4,
   "metadata": {},
   "outputs": [
    {
     "name": "stdout",
     "output_type": "stream",
     "text": [
      "Permutation:\n",
      "a -> i\n",
      "b -> m\n",
      "c -> v\n",
      "d -> g\n",
      "e -> s\n",
      "f -> f\n",
      "g -> w\n",
      "h -> d\n",
      "i -> a\n",
      "j -> t\n",
      "k -> e\n",
      "l -> l\n",
      "m -> k\n",
      "n -> o\n",
      "o -> c\n",
      "p -> u\n",
      "q -> n\n",
      "r -> j\n",
      "s -> z\n",
      "t -> p\n",
      "u -> x\n",
      "v -> y\n",
      "w -> b\n",
      "x -> r\n",
      "y -> q\n",
      "z -> h\n",
      "Permutation: {'a': 'i', 'b': 'm', 'c': 'v', 'd': 'g', 'e': 's', 'f': 'f', 'g': 'w', 'h': 'd', 'i': 'a', 'j': 't', 'k': 'e', 'l': 'l', 'm': 'k', 'n': 'o', 'o': 'c', 'p': 'u', 'q': 'n', 'r': 'j', 's': 'z', 't': 'p', 'u': 'x', 'v': 'y', 'w': 'b', 'x': 'r', 'y': 'q', 'z': 'h'}\n",
      "Original string: hello world\n",
      "Permuted string: dsllc bcjlg\n"
     ]
    }
   ],
   "source": [
    "alphabet = [\n",
    "    \"a\",\n",
    "    \"b\",\n",
    "    \"c\",\n",
    "    \"d\",\n",
    "    \"e\",\n",
    "    \"f\",\n",
    "    \"g\",\n",
    "    \"h\",\n",
    "    \"i\",\n",
    "    \"j\",\n",
    "    \"k\",\n",
    "    \"l\",\n",
    "    \"m\",\n",
    "    \"n\",\n",
    "    \"o\",\n",
    "    \"p\",\n",
    "    \"q\",\n",
    "    \"r\",\n",
    "    \"s\",\n",
    "    \"t\",\n",
    "    \"u\",\n",
    "    \"v\",\n",
    "    \"w\",\n",
    "    \"x\",\n",
    "    \"y\",\n",
    "    \"z\",\n",
    "    \" \",\n",
    "]\n",
    "string = \"hello world\"\n",
    "permutation_generator = AlphabetPermutation(alphabet)\n",
    "permutation = permutation_generator.describe_permutation()\n",
    "permuted_string = permutation_generator.permute_string(string)\n",
    "\n",
    "print(\"Permutation:\", permutation)\n",
    "print(\"Original string:\", string)\n",
    "print(\"Permuted string:\", permuted_string)"
   ]
  }
 ],
 "metadata": {
  "kernelspec": {
   "display_name": "Python 3",
   "language": "python",
   "name": "python3"
  },
  "language_info": {
   "codemirror_mode": {
    "name": "ipython",
    "version": 3
   },
   "file_extension": ".py",
   "mimetype": "text/x-python",
   "name": "python",
   "nbconvert_exporter": "python",
   "pygments_lexer": "ipython3",
   "version": "3.11.1"
  },
  "orig_nbformat": 4
 },
 "nbformat": 4,
 "nbformat_minor": 2
}
