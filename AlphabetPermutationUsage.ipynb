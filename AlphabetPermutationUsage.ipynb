{
 "cells": [
  {
   "cell_type": "code",
   "execution_count": 1,
   "metadata": {},
   "outputs": [],
   "source": [
    "from src.AlphabetPermutation import AlphabetPermutation"
   ]
  },
  {
   "cell_type": "code",
   "execution_count": 3,
   "metadata": {},
   "outputs": [
    {
     "name": "stdout",
     "output_type": "stream",
     "text": [
      "Permutation:\n",
      "a -> n\n",
      "b -> v\n",
      "c -> y\n",
      "d -> a\n",
      "e -> k\n",
      "f -> u\n",
      "g -> d\n",
      "h -> f\n",
      "i -> o\n",
      "j -> s\n",
      "k -> p\n",
      "l -> e\n",
      "m -> h\n",
      "n -> g\n",
      "o -> t\n",
      "p -> j\n",
      "q -> l\n",
      "r -> b\n",
      "s -> c\n",
      "t -> q\n",
      "u -> w\n",
      "v -> x\n",
      "w -> i\n",
      "x -> r\n",
      "y -> m\n",
      "z -> z\n",
      "Permutation: {'a': 'n', 'b': 'v', 'c': 'y', 'd': 'a', 'e': 'k', 'f': 'u', 'g': 'd', 'h': 'f', 'i': 'o', 'j': 's', 'k': 'p', 'l': 'e', 'm': 'h', 'n': 'g', 'o': 't', 'p': 'j', 'q': 'l', 'r': 'b', 's': 'c', 't': 'q', 'u': 'w', 'v': 'x', 'w': 'i', 'x': 'r', 'y': 'm', 'z': 'z'}\n",
      "Original string: hello world\n",
      "Permuted string: fkeet itbea\n"
     ]
    }
   ],
   "source": [
    "alphabet = [\n",
    "    \"a\",\n",
    "    \"b\",\n",
    "    \"c\",\n",
    "    \"d\",\n",
    "    \"e\",\n",
    "    \"f\",\n",
    "    \"g\",\n",
    "    \"h\",\n",
    "    \"i\",\n",
    "    \"j\",\n",
    "    \"k\",\n",
    "    \"l\",\n",
    "    \"m\",\n",
    "    \"n\",\n",
    "    \"o\",\n",
    "    \"p\",\n",
    "    \"q\",\n",
    "    \"r\",\n",
    "    \"s\",\n",
    "    \"t\",\n",
    "    \"u\",\n",
    "    \"v\",\n",
    "    \"w\",\n",
    "    \"x\",\n",
    "    \"y\",\n",
    "    \"z\",\n",
    "    \" \",\n",
    "]\n",
    "string = \"hello world\"\n",
    "permutation_generator = AlphabetPermutation(alphabet)\n",
    "permutation = permutation_generator.describe_permutation()\n",
    "permuted_string = permutation_generator.permute_string(string)\n",
    "\n",
    "print(\"Permutation:\", permutation)\n",
    "print(\"Original string:\", string)\n",
    "print(\"Permuted string:\", permuted_string)"
   ]
  },
  {
   "cell_type": "code",
   "execution_count": null,
   "metadata": {},
   "outputs": [],
   "source": []
  }
 ],
 "metadata": {
  "kernelspec": {
   "display_name": "Python 3",
   "language": "python",
   "name": "python3"
  },
  "language_info": {
   "codemirror_mode": {
    "name": "ipython",
    "version": 3
   },
   "file_extension": ".py",
   "mimetype": "text/x-python",
   "name": "python",
   "nbconvert_exporter": "python",
   "pygments_lexer": "ipython3",
   "version": "3.11.1"
  },
  "orig_nbformat": 4
 },
 "nbformat": 4,
 "nbformat_minor": 2
}
