{
 "cells": [
  {
   "cell_type": "code",
   "execution_count": 1,
   "metadata": {},
   "outputs": [],
   "source": [
    "from src.CipherBreaker import CipherBreaker\n",
    "from src.CipherUtils import (\n",
    "    TextDecoder,\n",
    "    TextEncoder,\n",
    "    CipherGenerator,\n",
    "    TextPreProcessor,\n",
    ")\n",
    "from src.ProbabilityMatrix import ProbabilityMatrix"
   ]
  },
  {
   "cell_type": "code",
   "execution_count": 2,
   "metadata": {},
   "outputs": [],
   "source": [
    "cipher_generator = CipherGenerator()\n",
    "preprocess = TextPreProcessor()\n",
    "text_encoder = TextEncoder()\n",
    "text_decoder = TextDecoder()"
   ]
  },
  {
   "cell_type": "code",
   "execution_count": 3,
   "metadata": {},
   "outputs": [],
   "source": [
    "file_paths = [\n",
    "    \"texts/moby_dick.txt\",\n",
    "    \"texts/shakespeare.txt\",\n",
    "    \"texts/james-joyce-a-portrait-of-the-artist-as-a-young-man.txt\",\n",
    "    \"texts/james-joyce-dubliners.txt\",\n",
    "    \"texts/james-joyce-ulysses.txt\",\n",
    "]\n",
    "\n",
    "texts = []\n",
    "for file_path in file_paths:\n",
    "    with open(file_path, \"r\") as file:\n",
    "        texts.append(file.read())\n",
    "\n",
    "corpus = \"\".join(texts)"
   ]
  },
  {
   "cell_type": "code",
   "execution_count": 4,
   "metadata": {},
   "outputs": [],
   "source": [
    "# preprocess the text, removing extra-characters\n",
    "\n",
    "corpus = preprocess.lower(corpus)\n",
    "unknown_chars = preprocess.unknown_chars(corpus)\n",
    "# print(unknown_chars)\n",
    "corpus = preprocess.remove_unknown_chars(corpus, unknown_chars=unknown_chars)\n",
    "corpus = preprocess.remove_additional_spaces(corpus)\n",
    "\n",
    "preprocess.save_text(\n",
    "    corpus\n",
    ")  # save text after preprocessing inside text_preprocessed.txt\n",
    "\n",
    "\n",
    "# compute the transition probs\n",
    "\n",
    "probability_matrix = ProbabilityMatrix(corpus)\n",
    "probability_matrix.compute_probability_table()\n",
    "\n",
    "probability_matrix.save_all_2_chars()\n",
    "probability_matrix.save_probability_table()\n",
    "\n",
    "# some text to try\n",
    "\n",
    "text = \"There were better sense in the sad mechanic exercise of determining the reason of its absence where it is not. In the novels of the last hundred years there are vast numbers of young ladies with whom it might be a pleasure to fall in love; there are at least five with whom, as it seems to me, no man of taste and spirit can help doing so.\"\n",
    "# text = \"I do not believe a word of it, my dear. If he had been so very agreeable, he would have talked to Mrs. Long. But I can guess how it was\"\n",
    "# text = \"Your plan is a good one,” replied Elizabeth, “where nothing is in question but the desire of being well married; and if I were determined to get a rich husband, or any husband, I dare say I should adopt it. But these are not Jane’s feelings\"\n",
    "# text = \"she is not acting by design. As yet she cannot even be certain of the degree of her own regard, nor of its reasonableness. She has known him only a fortnight. She danced four dances with him at Meryton; she saw him one morning at his own house, and has since dined in company with him four times.\""
   ]
  },
  {
   "cell_type": "code",
   "execution_count": 5,
   "metadata": {},
   "outputs": [
    {
     "name": "stdout",
     "output_type": "stream",
     "text": [
      "Original Text: there were better sense in the sad mechanic exercise of determining the reason of its absence where it is not in the novels of the last hundred years there are vast numbers of young ladies with whom it might be a pleasure to fall in love there are at least five with whom as it seems to me no man of taste and spirit can help doing so\n",
      "Encoded Text: zswqw gwqw bwzzwq xwuxw yu zsw xmf ewasmuya whwqayxw kt fwzwqeyuyuc zsw qwmxku kt yzx mbxwuaw gswqw yz yx ukz yu zsw ukvwpx kt zsw pmxz siufqwf owmqx zswqw mqw vmxz uiebwqx kt okiuc pmfywx gyzs gske yz eycsz bw m lpwmxiqw zk tmpp yu pkvw zswqw mqw mz pwmxz tyvw gyzs gske mx yz xwwex zk ew uk emu kt zmxzw muf xlyqyz amu swpl fkyuc xk\n"
     ]
    }
   ],
   "source": [
    "# encode and decode a sample text with a generated cipher\n",
    "\n",
    "text = preprocess.lower(text)\n",
    "text = preprocess.remove_unknown_chars(\n",
    "    text, unknown_chars=preprocess.unknown_chars(text)\n",
    ")\n",
    "text = preprocess.remove_additional_spaces(text)\n",
    "\n",
    "\n",
    "cipher = cipher_generator.generate_cipher()\n",
    "\n",
    "encoded_text = text_encoder.encode_text(text, cipher)\n",
    "decoded_text = text_decoder.decode_text(encoded_text, cipher)\n",
    "\n",
    "print(\"Original Text:\", text)\n",
    "print(\"Encoded Text:\", encoded_text)"
   ]
  },
  {
   "cell_type": "code",
   "execution_count": 6,
   "metadata": {},
   "outputs": [],
   "source": [
    "from prove.src.Probability import ProbabilityMatrix\n",
    "\n",
    "with open(\"texts/moby_dick.txt\", \"r\") as file:\n",
    "    text = file.read()\n",
    "\n",
    "alphabet = list(\"abcdefghijklmnopqrstuvwxyz \")\n",
    "\n",
    "pm = ProbabilityMatrix(text=text, alphabet=alphabet)\n",
    "unknown_chars = pm.unknown_chars()\n",
    "pm.preprocess_text(unknown_chars=unknown_chars)\n",
    "pm.compute_matrix_spaces()"
   ]
  },
  {
   "cell_type": "code",
   "execution_count": 7,
   "metadata": {},
   "outputs": [],
   "source": [
    "import numpy as np\n",
    "\n",
    "# Initialize matrix of emissions to uniform.\n",
    "B = np.zeros_like(pm.matrix)\n",
    "B = B + 1 / (27 * 27)"
   ]
  },
  {
   "cell_type": "code",
   "execution_count": 8,
   "metadata": {},
   "outputs": [
    {
     "data": {
      "text/plain": [
       "(27, 27)"
      ]
     },
     "execution_count": 8,
     "metadata": {},
     "output_type": "execute_result"
    }
   ],
   "source": [
    "B.shape"
   ]
  },
  {
   "cell_type": "code",
   "execution_count": 7,
   "metadata": {},
   "outputs": [],
   "source": [
    "import numpy as np\n",
    "\n",
    "\n",
    "# We need an algorithm to perform belief propagation on our hmm\n",
    "def forward_HMM(A, B, pi, observed):\n",
    "    \"\"\"\n",
    "    A: transition\n",
    "    B: emission\n",
    "    pi: initial\n",
    "    n_nodes: number of nodes in the chain\n",
    "    observed: list containing observed ones.\n",
    "    \"\"\"\n",
    "    n_nodes = len(observed)\n",
    "    n_states = A.shape[0]\n",
    "    alpha = np.zeros((n_nodes, n_states))\n",
    "\n",
    "    for j in range(n_states):\n",
    "        alpha[0, j] = pi[j] * B[j, observed[0]]\n",
    "\n",
    "    for i in range(1, n_nodes):\n",
    "        for j in range(n_states):\n",
    "            for k in range(n_states):\n",
    "                alpha[i, j] = (\n",
    "                    alpha[i, j] + A[k, j] * B[j, observed[i]] * alpha[i - 1, k]\n",
    "                )\n",
    "\n",
    "    return alpha"
   ]
  },
  {
   "cell_type": "code",
   "execution_count": 9,
   "metadata": {},
   "outputs": [],
   "source": [
    "pi = np.array([0.2, 0.8])\n",
    "A = np.array([[0.6, 0.4], [0.3, 0.7]])\n",
    "B = np.array([[0.5, 0.5], [0.1, 0.9]])\n",
    "observed = np.array([1, 0])"
   ]
  },
  {
   "cell_type": "code",
   "execution_count": 10,
   "metadata": {},
   "outputs": [],
   "source": [
    "alpha = forward_HMM(A, B, pi, observed)"
   ]
  },
  {
   "cell_type": "code",
   "execution_count": 11,
   "metadata": {},
   "outputs": [],
   "source": [
    "import numpy as np\n",
    "\n",
    "\n",
    "# We need an algorithm to perform belief propagation on our hmm\n",
    "def backward_HMM(A, B, observed):\n",
    "    \"\"\"\n",
    "    A: transition\n",
    "    B: emission\n",
    "    n_nodes: number of nodes in the chain\n",
    "    observed: list containing observed ones.\n",
    "    \"\"\"\n",
    "    n_nodes = len(observed)\n",
    "    n_states = A.shape[0]\n",
    "    beta = np.zeros((n_nodes - 1, n_states))\n",
    "\n",
    "    for j in range(n_states):\n",
    "        for k in range(n_states):\n",
    "            beta[-1, j] = beta[-1, j] + A[j, k] * B[k, observed[n_nodes - 1]]\n",
    "\n",
    "    for i in range(n_nodes - 3, -1, -1):\n",
    "        for j in range(n_states):\n",
    "            for k in range(n_states):\n",
    "                beta[i, j] = (\n",
    "                    beta[i, j] + A[j, k] * B[k, observed[i + 1]] * beta[i + 1, k]\n",
    "                )\n",
    "\n",
    "    return beta"
   ]
  },
  {
   "cell_type": "code",
   "execution_count": 13,
   "metadata": {},
   "outputs": [],
   "source": [
    "A = np.array([[0.6, 0.4], [0.3, 0.7]])\n",
    "B = np.array([[0.5, 0.5], [0.1, 0.9]])\n",
    "observed = np.array([1, 0, 1])"
   ]
  },
  {
   "cell_type": "code",
   "execution_count": 14,
   "metadata": {},
   "outputs": [],
   "source": [
    "beta = backward_HMM(A, B, observed)"
   ]
  },
  {
   "cell_type": "code",
   "execution_count": 15,
   "metadata": {},
   "outputs": [],
   "source": [
    "alpha = forward_HMM(A, B, pi, observed)"
   ]
  },
  {
   "cell_type": "code",
   "execution_count": 16,
   "metadata": {},
   "outputs": [],
   "source": [
    "def compute_conditional(alpha, beta, i):\n",
    "    \"\"\"\n",
    "    alpha: list containing forward messages\n",
    "    beta: list containing backward messages\n",
    "    i : hidden element for which you want the conditional on the observed variables (i = 1, ..., M)\n",
    "    \"\"\"\n",
    "    if i == 0:\n",
    "        raise ValueError(\"no zio serve il numero di variabile\")\n",
    "\n",
    "    if i == alpha.shape[0]:\n",
    "        return alpha[i - 1] / np.sum(alpha[i - 1])\n",
    "\n",
    "    gamma = alpha[i - 1] * beta[i - 1]\n",
    "    gamma = gamma / np.sum(gamma)\n",
    "\n",
    "    return gamma"
   ]
  },
  {
   "cell_type": "code",
   "execution_count": 17,
   "metadata": {},
   "outputs": [],
   "source": [
    "def compute_all_conditional(alpha, beta):\n",
    "    \"\"\"\n",
    "    alpha: list containing forward messages\n",
    "    beta: list containing backward messages\n",
    "    \"\"\"\n",
    "    n_nodes = alpha.shape[0]\n",
    "    n_states = alpha.shape[1]\n",
    "\n",
    "    gamma = np.zeros((n_nodes, n_states))\n",
    "\n",
    "    gamma[n_nodes - 1] = alpha[n_nodes - 1] / np.sum(alpha[n_nodes - 1])\n",
    "\n",
    "    for i in range(n_nodes - 1):\n",
    "        gamma[i] = alpha[i] * beta[i] / np.sum(alpha[i] * beta[i])\n",
    "\n",
    "    return gamma"
   ]
  },
  {
   "cell_type": "code",
   "execution_count": 18,
   "metadata": {},
   "outputs": [],
   "source": [
    "alpha = forward_HMM(A, B, pi, observed)\n",
    "beta = backward_HMM(A, B, observed)\n",
    "gamma = compute_all_conditional(alpha, beta)"
   ]
  },
  {
   "cell_type": "code",
   "execution_count": 29,
   "metadata": {},
   "outputs": [],
   "source": [
    "def divide_row_by_sum(matrix):\n",
    "    row_sums = np.sum(matrix, axis=1)  # Calculate the sum of each row\n",
    "    divided_matrix = (\n",
    "        matrix / row_sums[:, np.newaxis]\n",
    "    )  # Divide each element by the corresponding row sum\n",
    "    return divided_matrix"
   ]
  },
  {
   "cell_type": "code",
   "execution_count": 30,
   "metadata": {},
   "outputs": [],
   "source": [
    "def update_B(gamma, observed):\n",
    "    n_nodes = gamma.shape[0]\n",
    "    n_states = gamma.shape[1]\n",
    "\n",
    "    B = np.zeros((n_states, n_states))\n",
    "\n",
    "    for i in range(n_states):\n",
    "        for j in range(n_states):\n",
    "            for k in range(len(observed)):\n",
    "                if observed[k] == j:\n",
    "                    B[i, j] += gamma[k, i]\n",
    "\n",
    "    return divide_row_by_sum(B)"
   ]
  },
  {
   "cell_type": "code",
   "execution_count": 31,
   "metadata": {},
   "outputs": [],
   "source": [
    "def Baum_Welch(A, B_start, pi, observed, maxIter=100):\n",
    "    B = np.copy(B_start)\n",
    "    for it in range(maxIter):\n",
    "        alpha = forward_HMM(A, B, pi, observed)\n",
    "        beta = backward_HMM(A, B, observed)\n",
    "        gamma = compute_all_conditional(alpha, beta)\n",
    "        B = update_B(gamma, observed)\n",
    "    return B"
   ]
  },
  {
   "cell_type": "code",
   "execution_count": 33,
   "metadata": {},
   "outputs": [
    {
     "data": {
      "text/plain": [
       "array([[0.44294088, 0.55705912],\n",
       "       [0.27897937, 0.72102063]])"
      ]
     },
     "execution_count": 33,
     "metadata": {},
     "output_type": "execute_result"
    }
   ],
   "source": [
    "Baum_Welch(A, B, pi, observed)"
   ]
  },
  {
   "cell_type": "code",
   "execution_count": 100,
   "metadata": {},
   "outputs": [],
   "source": [
    "pi = [0.5, 0.5]\n",
    "N = 10000\n",
    "\n",
    "A = np.array([[0.2, 0.8], [0.6, 0.4]])\n",
    "\n",
    "chain = np.zeros(N)\n",
    "chain[0] = np.random.binomial(1, 0.5)\n",
    "for i in range(1, N):\n",
    "    if chain[i - 1] == 0:\n",
    "        chain[i] = np.random.binomial(1, 0.8)\n",
    "    else:\n",
    "        chain[i] = np.random.binomial(1, 0.4)\n",
    "\n",
    "chain = chain.astype(int)"
   ]
  },
  {
   "cell_type": "code",
   "execution_count": 102,
   "metadata": {},
   "outputs": [],
   "source": [
    "B_true = np.array([[1, 0], [0, 1]])\n",
    "\n",
    "viewed_chain = np.zeros(N)\n",
    "for i in range(N):\n",
    "    if chain[i] == 0:\n",
    "        viewed_chain[i] = np.random.binomial(1, B[0, 1])\n",
    "    else:\n",
    "        viewed_chain[i] = np.random.binomial(1, B[1, 1])\n",
    "\n",
    "viewed_chain = viewed_chain.astype(int)"
   ]
  },
  {
   "cell_type": "code",
   "execution_count": 103,
   "metadata": {},
   "outputs": [],
   "source": [
    "B_start = np.zeros((2, 2)) + 0.5"
   ]
  },
  {
   "cell_type": "code",
   "execution_count": 104,
   "metadata": {},
   "outputs": [
    {
     "name": "stderr",
     "output_type": "stream",
     "text": [
      "/var/folders/tv/ysw0jsvs2t331mtk7hdh35kc0000gn/T/ipykernel_2559/3536428245.py:11: RuntimeWarning: invalid value encountered in divide\n",
      "  gamma[n_nodes-1] = alpha[n_nodes-1] / np.sum(alpha[n_nodes-1])\n",
      "/var/folders/tv/ysw0jsvs2t331mtk7hdh35kc0000gn/T/ipykernel_2559/3536428245.py:14: RuntimeWarning: invalid value encountered in divide\n",
      "  gamma[i] = alpha[i] * beta[i] / np.sum(alpha[i] * beta[i])\n"
     ]
    },
    {
     "data": {
      "text/plain": [
       "array([[nan, nan],\n",
       "       [nan, nan]])"
      ]
     },
     "execution_count": 104,
     "metadata": {},
     "output_type": "execute_result"
    }
   ],
   "source": [
    "Baum_Welch(A, B_start, pi, observed=viewed_chain)"
   ]
  }
 ],
 "metadata": {
  "kernelspec": {
   "display_name": "pml",
   "language": "python",
   "name": "python3"
  },
  "language_info": {
   "codemirror_mode": {
    "name": "ipython",
    "version": 3
   },
   "file_extension": ".py",
   "mimetype": "text/x-python",
   "name": "python",
   "nbconvert_exporter": "python",
   "pygments_lexer": "ipython3",
   "version": "3.10.8"
  },
  "orig_nbformat": 4
 },
 "nbformat": 4,
 "nbformat_minor": 2
}
