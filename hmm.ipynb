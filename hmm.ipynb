{
 "cells": [
  {
   "cell_type": "code",
   "execution_count": 1,
   "metadata": {},
   "outputs": [],
   "source": [
    "from src.CipherBreaker import CipherBreaker\n",
    "from src.CipherUtils import (\n",
    "    TextDecoder,\n",
    "    TextEncoder,\n",
    "    CipherGenerator,\n",
    "    TextPreProcessor,\n",
    ")\n",
    "from src.ProbabilityMatrix import ProbabilityMatrix"
   ]
  },
  {
   "cell_type": "code",
   "execution_count": 2,
   "metadata": {},
   "outputs": [],
   "source": [
    "cipher_generator = CipherGenerator()\n",
    "preprocess = TextPreProcessor()\n",
    "text_encoder = TextEncoder()\n",
    "text_decoder = TextDecoder()"
   ]
  },
  {
   "cell_type": "code",
   "execution_count": 3,
   "metadata": {},
   "outputs": [],
   "source": [
    "file_paths = [\n",
    "    \"texts/moby_dick.txt\",\n",
    "    \"texts/shakespeare.txt\",\n",
    "    \"texts/james-joyce-a-portrait-of-the-artist-as-a-young-man.txt\",\n",
    "    \"texts/james-joyce-dubliners.txt\",\n",
    "    \"texts/james-joyce-ulysses.txt\",\n",
    "]\n",
    "\n",
    "texts = []\n",
    "for file_path in file_paths:\n",
    "    with open(file_path, \"r\") as file:\n",
    "        texts.append(file.read())\n",
    "\n",
    "corpus = \"\".join(texts)"
   ]
  },
  {
   "cell_type": "code",
   "execution_count": 4,
   "metadata": {},
   "outputs": [],
   "source": [
    "# preprocess the text, removing extra-characters\n",
    "\n",
    "corpus = preprocess.lower(corpus)\n",
    "unknown_chars = preprocess.unknown_chars(corpus)\n",
    "# print(unknown_chars)\n",
    "corpus = preprocess.remove_unknown_chars(corpus, unknown_chars=unknown_chars)\n",
    "corpus = preprocess.remove_additional_spaces(corpus)\n",
    "\n",
    "preprocess.save_text(\n",
    "    corpus\n",
    ")  # save text after preprocessing inside text_preprocessed.txt\n",
    "\n",
    "\n",
    "# compute the transition probs\n",
    "\n",
    "probability_matrix = ProbabilityMatrix(corpus)\n",
    "probability_matrix.compute_probability_table()\n",
    "\n",
    "probability_matrix.save_all_2_chars()\n",
    "probability_matrix.save_probability_table()\n",
    "\n",
    "# some text to try\n",
    "\n",
    "text = \"There were better sense in the sad mechanic exercise of determining the reason of its absence where it is not. In the novels of the last hundred years there are vast numbers of young ladies with whom it might be a pleasure to fall in love; there are at least five with whom, as it seems to me, no man of taste and spirit can help doing so.\"\n",
    "# text = \"I do not believe a word of it, my dear. If he had been so very agreeable, he would have talked to Mrs. Long. But I can guess how it was\"\n",
    "# text = \"Your plan is a good one,” replied Elizabeth, “where nothing is in question but the desire of being well married; and if I were determined to get a rich husband, or any husband, I dare say I should adopt it. But these are not Jane’s feelings\"\n",
    "# text = \"she is not acting by design. As yet she cannot even be certain of the degree of her own regard, nor of its reasonableness. She has known him only a fortnight. She danced four dances with him at Meryton; she saw him one morning at his own house, and has since dined in company with him four times.\""
   ]
  },
  {
   "cell_type": "code",
   "execution_count": 5,
   "metadata": {},
   "outputs": [
    {
     "name": "stdout",
     "output_type": "stream",
     "text": [
      "Original Text: there were better sense in the sad mechanic exercise of determining the reason of its absence where it is not in the novels of the last hundred years there are vast numbers of young ladies with whom it might be a pleasure to fall in love there are at least five with whom as it seems to me no man of taste and spirit can help doing so\n",
      "Encoded Text: gbvfv qvfv hvggvf svxsv ux gbv sna lvybnxuy vwvfyusv pe avgvfluxuxj gbv fvnspx pe ugs nhsvxyv qbvfv ug us xpg ux gbv xpkvos pe gbv onsg bcxafva ivnfs gbvfv nfv knsg xclhvfs pe ipcxj onauvs qugb qbpl ug lujbg hv n dovnscfv gp enoo ux opkv gbvfv nfv ng ovnsg eukv qugb qbpl ns ug svvls gp lv xp lnx pe gnsgv nxa sdufug ynx bvod apuxj sp\n"
     ]
    }
   ],
   "source": [
    "# encode and decode a sample text with a generated cipher\n",
    "\n",
    "text = preprocess.lower(text)\n",
    "text = preprocess.remove_unknown_chars(\n",
    "    text, unknown_chars=preprocess.unknown_chars(text)\n",
    ")\n",
    "text = preprocess.remove_additional_spaces(text)\n",
    "\n",
    "\n",
    "cipher = cipher_generator.generate_cipher()\n",
    "\n",
    "encoded_text = text_encoder.encode_text(text, cipher)\n",
    "decoded_text = text_decoder.decode_text(encoded_text, cipher)\n",
    "\n",
    "print(\"Original Text:\", text)\n",
    "print(\"Encoded Text:\", encoded_text)"
   ]
  },
  {
   "cell_type": "code",
   "execution_count": 6,
   "metadata": {},
   "outputs": [],
   "source": [
    "from prove.src.Probability import ProbabilityMatrix\n",
    "with open(\"texts/moby_dick.txt\", \"r\") as file:\n",
    "    text = file.read()\n",
    "\n",
    "alphabet = list(\"abcdefghijklmnopqrstuvwxyz \")\n",
    "\n",
    "pm = ProbabilityMatrix(text=text, alphabet=alphabet)\n",
    "unknown_chars = pm.unknown_chars()\n",
    "pm.preprocess_text(unknown_chars=unknown_chars)\n",
    "pm.compute_matrix_spaces()"
   ]
  },
  {
   "cell_type": "code",
   "execution_count": 7,
   "metadata": {},
   "outputs": [],
   "source": [
    "import numpy as np\n",
    "# Initialize matrix of emissions to uniform.\n",
    "B = np.zeros_like(pm.matrix)\n",
    "B = B + 1/(27*27)"
   ]
  },
  {
   "cell_type": "code",
   "execution_count": 8,
   "metadata": {},
   "outputs": [
    {
     "data": {
      "text/plain": [
       "(27, 27)"
      ]
     },
     "execution_count": 8,
     "metadata": {},
     "output_type": "execute_result"
    }
   ],
   "source": [
    "B.shape"
   ]
  },
  {
   "cell_type": "code",
   "execution_count": 1,
   "metadata": {},
   "outputs": [],
   "source": [
    "import numpy as np\n",
    "# We need an algorithm to perform belief propagation on our hmm\n",
    "def forward_HMM(A, B, pi, observed):\n",
    "    \"\"\"\n",
    "    A: transition\n",
    "    B: emission\n",
    "    pi: initial\n",
    "    n_nodes: number of nodes in the chain\n",
    "    observed: list containing observed ones.\n",
    "    \"\"\"\n",
    "    n_nodes = len(observed)\n",
    "    n_states = A.shape[0]\n",
    "    alpha = np.zeros((n_nodes, n_states))\n",
    "\n",
    "    for j in range(n_states):\n",
    "        alpha[0, j] = pi[j] * B[j, observed[0]]\n",
    "    \n",
    "    for i in range(1, n_nodes):\n",
    "\n",
    "        for j in range(n_states):\n",
    "\n",
    "            for k in range(n_states):\n",
    "                alpha[i, j] = alpha[i, j] + A[k,j] * B[j, observed[i]] * alpha[i-1, k]\n",
    "    \n",
    "    return alpha"
   ]
  },
  {
   "cell_type": "code",
   "execution_count": 2,
   "metadata": {},
   "outputs": [],
   "source": [
    "pi = np.array([0.2, 0.8])\n",
    "A = np.array([[0.6, 0.4],\n",
    "              [0.3, 0.7]])\n",
    "B = np.array([[0.5, 0.5],\n",
    "              [0.1, 0.9]])\n",
    "observed = np.array([1, 0])"
   ]
  },
  {
   "cell_type": "code",
   "execution_count": 3,
   "metadata": {},
   "outputs": [],
   "source": [
    "alpha = forward_HMM(A, B, pi, observed)"
   ]
  },
  {
   "cell_type": "code",
   "execution_count": 4,
   "metadata": {},
   "outputs": [],
   "source": [
    "import numpy as np\n",
    "# We need an algorithm to perform belief propagation on our hmm\n",
    "def backward_HMM(A, B, observed):\n",
    "    \"\"\"\n",
    "    A: transition\n",
    "    B: emission\n",
    "    n_nodes: number of nodes in the chain\n",
    "    observed: list containing observed ones.\n",
    "    \"\"\"\n",
    "    n_nodes = len(observed)\n",
    "    n_states = A.shape[0]\n",
    "    beta = np.zeros((n_nodes-1, n_states))\n",
    "\n",
    "    for j in range(n_states):\n",
    "        for k in range(n_states):\n",
    "            beta[-1, j] = beta[-1, j] + A[j,k] * B[k, observed[n_nodes-1]]\n",
    "\n",
    "    for i in range(n_nodes-3, -1, -1):\n",
    "\n",
    "        for j in range(n_states):\n",
    "\n",
    "            for k in range(n_states):\n",
    "                beta[i, j] = beta[i, j] + A[j,k] * B[k, observed[i+1]] * beta[i+1, k]\n",
    "    \n",
    "    return beta"
   ]
  },
  {
   "cell_type": "code",
   "execution_count": 5,
   "metadata": {},
   "outputs": [],
   "source": [
    "A = np.array([[0.6, 0.4],\n",
    "              [0.3, 0.7]])\n",
    "B = np.array([[0.5, 0.5],\n",
    "              [0.1, 0.9]])\n",
    "observed = np.array([1, 0, 1])"
   ]
  },
  {
   "cell_type": "code",
   "execution_count": 6,
   "metadata": {},
   "outputs": [],
   "source": [
    "beta = backward_HMM(A, B, observed)"
   ]
  },
  {
   "cell_type": "code",
   "execution_count": 7,
   "metadata": {},
   "outputs": [],
   "source": [
    "alpha = forward_HMM(A,B,pi,observed)"
   ]
  },
  {
   "cell_type": "code",
   "execution_count": 8,
   "metadata": {},
   "outputs": [],
   "source": [
    "def compute_conditional(alpha, beta, i):\n",
    "    \"\"\"\n",
    "    alpha: list containing forward messages\n",
    "    beta: list containing backward messages\n",
    "    i : hidden element for which you want the conditional on the observed variables (i = 1, ..., M)\n",
    "    \"\"\"\n",
    "    if i==0:\n",
    "        raise ValueError(\"no zio serve il numero di variabile\")\n",
    "    \n",
    "    if i == alpha.shape[0]:\n",
    "        return alpha[i-1]/np.sum(alpha[i-1])\n",
    "\n",
    "    gamma = alpha[i-1] * beta[i-1]\n",
    "    gamma = gamma / np.sum(gamma)\n",
    "\n",
    "    return gamma"
   ]
  },
  {
   "cell_type": "code",
   "execution_count": 9,
   "metadata": {},
   "outputs": [],
   "source": [
    "def compute_all_conditional(alpha, beta):\n",
    "    \"\"\"\n",
    "    alpha: list containing forward messages\n",
    "    beta: list containing backward messages\n",
    "    \"\"\"\n",
    "    n_nodes = alpha.shape[0]\n",
    "    n_states = alpha.shape[1]\n",
    "    \n",
    "    gamma = np.zeros((n_nodes, n_states))\n",
    "    \n",
    "    gamma[n_nodes-1] = alpha[n_nodes-1] / np.sum(alpha[n_nodes-1])\n",
    "\n",
    "    for i in range(n_nodes-1):\n",
    "        gamma[i] = alpha[i] * beta[i] / np.sum(alpha[i] * beta[i])\n",
    "        \n",
    "    return gamma"
   ]
  },
  {
   "cell_type": "code",
   "execution_count": 33,
   "metadata": {},
   "outputs": [],
   "source": [
    "alpha = forward_HMM(A, B, pi, observed)\n",
    "beta = backward_HMM(A, B, observed)\n",
    "gamma = compute_all_conditional(alpha, beta)"
   ]
  },
  {
   "cell_type": "code",
   "execution_count": 37,
   "metadata": {},
   "outputs": [],
   "source": [
    "def update_B(gamma, observed):\n",
    "    \n",
    "    n_nodes = gamma.shape[0]\n",
    "    n_states = gamma.shape[1]\n",
    "\n",
    "    B = np.zeros((n_states, n_states))\n",
    "\n",
    "    for i in range(n_states):\n",
    "        print(i)\n",
    "        for j  in range(n_states):\n",
    "            for k in range(len(observed)):\n",
    "                if observed[k] == j:\n",
    "                    B[i,j] += gamma[k, i]\n",
    "                    \n",
    "    return B/np.sum(B, axis = 0)"
   ]
  },
  {
   "cell_type": "code",
   "execution_count": 38,
   "metadata": {},
   "outputs": [
    {
     "data": {
      "text/plain": [
       "array([[0.17166996, 0.82833004],\n",
       "       [0.68218587, 0.31781413],\n",
       "       [0.37120259, 0.62879741]])"
      ]
     },
     "execution_count": 38,
     "metadata": {},
     "output_type": "execute_result"
    }
   ],
   "source": [
    "gamma"
   ]
  },
  {
   "cell_type": "code",
   "execution_count": 39,
   "metadata": {},
   "outputs": [
    {
     "name": "stdout",
     "output_type": "stream",
     "text": [
      "0\n",
      "1\n"
     ]
    },
    {
     "data": {
      "text/plain": [
       "array([[0.68218587, 0.27143628],\n",
       "       [0.31781413, 0.72856372]])"
      ]
     },
     "execution_count": 39,
     "metadata": {},
     "output_type": "execute_result"
    }
   ],
   "source": [
    "update_B(gamma, observed)"
   ]
  }
 ],
 "metadata": {
  "kernelspec": {
   "display_name": "pml",
   "language": "python",
   "name": "python3"
  },
  "language_info": {
   "codemirror_mode": {
    "name": "ipython",
    "version": 3
   },
   "file_extension": ".py",
   "mimetype": "text/x-python",
   "name": "python",
   "nbconvert_exporter": "python",
   "pygments_lexer": "ipython3",
   "version": "3.10.8"
  },
  "orig_nbformat": 4
 },
 "nbformat": 4,
 "nbformat_minor": 2
}
