{
 "cells": [
  {
   "cell_type": "code",
   "execution_count": 1,
   "metadata": {},
   "outputs": [],
   "source": [
    "import numpy as np"
   ]
  },
  {
   "cell_type": "code",
   "execution_count": 2,
   "metadata": {},
   "outputs": [],
   "source": [
    "def reconstruct(pmax, phi):\n",
    "    \"\"\"\n",
    "    Ricostruisce tutti i most probable, per ora fa schifo ma sembra funzionare, da ricontrollare\n",
    "    \"\"\"\n",
    "    reconstruction = np.empty(len(phi) + 1)\n",
    "\n",
    "    curr = np.argmax(pmax[-1])\n",
    "    reconstruction[-1] = curr\n",
    "\n",
    "    for i in range(len(phi) - 1, -1, -1):\n",
    "        curr = int(phi[i, curr])\n",
    "        reconstruction[i] = curr\n",
    "\n",
    "    return reconstruction"
   ]
  },
  {
   "attachments": {},
   "cell_type": "markdown",
   "metadata": {},
   "source": [
    "### Experiement with matrix like the one we have (last row of spaces has 1)\n"
   ]
  },
  {
   "cell_type": "code",
   "execution_count": 3,
   "metadata": {},
   "outputs": [],
   "source": [
    "A = np.array([[0.1, 0.8, 0.1], [0.8, 0.1, 0.1], [0.5, 0.5, 0]])\n",
    "\n",
    "B = np.array([[0.8, 0.2, 0], [0.2, 0.8, 0], [0, 0, 1]])\n",
    "\n",
    "observed = np.array([0, 2, 1])"
   ]
  },
  {
   "cell_type": "code",
   "execution_count": 4,
   "metadata": {},
   "outputs": [],
   "source": [
    "def compute_f(A, B, observed):\n",
    "    \"\"\"\n",
    "    Careful when handling\n",
    "    - f0 is the first message (from first factor to node, it is just a vector)\n",
    "    - f contains all other factors evaluated\n",
    "    \"\"\"\n",
    "    pi = A[-1]\n",
    "    n_nodes = len(observed)\n",
    "    n_states = A.shape[0]\n",
    "    f = np.zeros((n_nodes - 1, n_states, n_states))\n",
    "\n",
    "    tmp = np.zeros((n_states, 1))\n",
    "    for k in range(n_states):\n",
    "        tmp[k] = pi[k] * B[k, observed[0]]\n",
    "\n",
    "    f0 = tmp\n",
    "\n",
    "    for i in range(1, n_nodes):\n",
    "        tmp = np.zeros((n_states, n_states))\n",
    "\n",
    "        for j in range(n_states):  # over z1\n",
    "            for k in range(n_states):  # over z2\n",
    "                tmp[j, k] = A[j, k] * B[k, observed[i]]\n",
    "\n",
    "        f[i - 1] = tmp\n",
    "\n",
    "    return f0, f"
   ]
  },
  {
   "cell_type": "code",
   "execution_count": 5,
   "metadata": {},
   "outputs": [
    {
     "name": "stdout",
     "output_type": "stream",
     "text": [
      "f0:\n",
      " [[0.4]\n",
      " [0.1]\n",
      " [0. ]] \n",
      "f:\n",
      " [[[0.   0.   0.1 ]\n",
      "  [0.   0.   0.1 ]\n",
      "  [0.   0.   0.  ]]\n",
      "\n",
      " [[0.02 0.64 0.  ]\n",
      "  [0.16 0.08 0.  ]\n",
      "  [0.1  0.4  0.  ]]]\n"
     ]
    }
   ],
   "source": [
    "f0, f = compute_f(A, B, observed)\n",
    "print(\"f0:\\n\", f0, \"\\nf:\\n\", f)"
   ]
  },
  {
   "cell_type": "code",
   "execution_count": 6,
   "metadata": {},
   "outputs": [],
   "source": [
    "def Viterbi(f0, f):\n",
    "    n_nodes = f.shape[0] + 1\n",
    "    n_states = f.shape[1]\n",
    "\n",
    "    pmax = np.zeros((n_nodes, n_states))  # Need one for every node\n",
    "    phi = np.zeros(\n",
    "        (n_nodes - 1, n_states)\n",
    "    )  # Need one for every node other than the first one (no need to reconstruct it)\n",
    "\n",
    "    pmax[0] = f0.flatten()\n",
    "\n",
    "    for i in range(1, n_nodes):\n",
    "        tmp = ((f[i - 1]).T * pmax[i - 1]).T\n",
    "\n",
    "        pmax[i] = np.max(tmp, axis=0)  # by column\n",
    "\n",
    "        phi[i - 1] = np.argmax(\n",
    "            tmp, axis=0\n",
    "        )  # i-1 cause this contains the reconstruction about the (i-1)th element\n",
    "\n",
    "    return pmax, phi"
   ]
  },
  {
   "cell_type": "code",
   "execution_count": 7,
   "metadata": {},
   "outputs": [
    {
     "name": "stdout",
     "output_type": "stream",
     "text": [
      "pmax:\n",
      " [[0.4   0.1   0.   ]\n",
      " [0.    0.    0.04 ]\n",
      " [0.004 0.016 0.   ]] \n",
      "phi:\n",
      " [[0. 0. 0.]\n",
      " [2. 2. 0.]]\n",
      "\n",
      "Reconstruction using Viterbi:\n",
      " [0. 2. 1.]\n"
     ]
    }
   ],
   "source": [
    "pmax, phi = Viterbi(f0, f)\n",
    "print(\"pmax:\\n\", pmax, \"\\nphi:\\n\", phi)\n",
    "\n",
    "print(\"\\nReconstruction using Viterbi:\\n\", reconstruct(pmax, phi))"
   ]
  },
  {
   "cell_type": "code",
   "execution_count": 8,
   "metadata": {},
   "outputs": [
    {
     "name": "stdout",
     "output_type": "stream",
     "text": [
      "pmax:\n",
      " [[4.00000000e-01 1.00000000e-01 0.00000000e+00]\n",
      " [0.00000000e+00 0.00000000e+00 4.00000000e-02]\n",
      " [4.00000000e-03 1.60000000e-02 0.00000000e+00]\n",
      " [1.02400000e-02 6.40000000e-04 0.00000000e+00]\n",
      " [0.00000000e+00 0.00000000e+00 1.02400000e-03]\n",
      " [4.09600000e-04 1.02400000e-04 0.00000000e+00]\n",
      " [1.63840000e-05 2.62144000e-04 0.00000000e+00]\n",
      " [1.67772160e-04 5.24288000e-06 0.00000000e+00]\n",
      " [0.00000000e+00 0.00000000e+00 1.67772160e-05]\n",
      " [1.67772160e-06 6.71088640e-06 0.00000000e+00]\n",
      " [4.29496730e-06 2.68435456e-07 0.00000000e+00]\n",
      " [8.58993459e-08 2.74877907e-06 0.00000000e+00]\n",
      " [1.75921860e-06 5.49755814e-08 0.00000000e+00]] \n",
      "phi:\n",
      " [[0. 0. 0.]\n",
      " [2. 2. 0.]\n",
      " [1. 0. 0.]\n",
      " [0. 0. 0.]\n",
      " [2. 2. 0.]\n",
      " [1. 0. 0.]\n",
      " [1. 1. 0.]\n",
      " [0. 0. 0.]\n",
      " [2. 2. 0.]\n",
      " [1. 0. 0.]\n",
      " [0. 0. 0.]\n",
      " [1. 1. 0.]]\n",
      "\n",
      "Reconstruction using Viterbi:\n",
      " [0. 2. 1. 0. 2. 0. 1. 0. 2. 1. 0. 1. 0.]\n"
     ]
    }
   ],
   "source": [
    "observed = np.array([0, 2, 1, 0, 2, 0, 1, 0, 2, 1, 0, 1, 0])  # a _ b a\n",
    "f0, f = compute_f(A, B, observed)\n",
    "pmax, phi = Viterbi(f0, f)\n",
    "print(\"pmax:\\n\", pmax, \"\\nphi:\\n\", phi)\n",
    "\n",
    "print(\"\\nReconstruction using Viterbi:\\n\", reconstruct(pmax, phi))"
   ]
  },
  {
   "attachments": {},
   "cell_type": "markdown",
   "metadata": {},
   "source": [
    "# Log computations\n",
    "\n",
    "Now we need to find a way for this to hold even when working with logs.\n",
    "I suspect that replacing with the minimum to account for the 0 is too big, we need something smaller.\n"
   ]
  },
  {
   "cell_type": "code",
   "execution_count": 9,
   "metadata": {},
   "outputs": [],
   "source": [
    "A = np.array([[0.1, 0.8, 0.1], [0.8, 0.1, 0.1], [0.5, 0.5, 0]])\n",
    "\n",
    "B = np.array([[0.8, 0.2, 0], [0.2, 0.8, 0], [0, 0, 1]])\n",
    "\n",
    "observed = np.array([0, 2, 1])"
   ]
  },
  {
   "cell_type": "code",
   "execution_count": 10,
   "metadata": {},
   "outputs": [],
   "source": [
    "def compute_f_log(A, B, observed):\n",
    "    \"\"\"\n",
    "    Even though it contains the -inf, this is fine, as that means we should not reconstruct using those (?)\n",
    "    \"\"\"\n",
    "    pi = A[-1]\n",
    "    n_nodes = len(observed)\n",
    "    n_states = A.shape[0]\n",
    "    f = np.zeros((n_nodes - 1, n_states, n_states))\n",
    "\n",
    "    tmp = np.zeros((n_states, 1))\n",
    "    for k in range(n_states):\n",
    "        tmp[k] = np.log(pi[k]) + np.log(B[k, observed[0]])\n",
    "\n",
    "    f0 = tmp\n",
    "\n",
    "    for i in range(1, n_nodes):\n",
    "        tmp = np.zeros((n_states, n_states))\n",
    "\n",
    "        for j in range(n_states):  # over z1\n",
    "            for k in range(n_states):  # over z2\n",
    "                tmp[j, k] = np.log(A[j, k]) + np.log(B[k, observed[i]])\n",
    "\n",
    "        f[i - 1] = tmp\n",
    "\n",
    "    return f0, f"
   ]
  },
  {
   "cell_type": "code",
   "execution_count": 11,
   "metadata": {},
   "outputs": [],
   "source": [
    "def Viterbi_log(f0, f):\n",
    "    n_nodes = f.shape[0] + 1\n",
    "    n_states = f.shape[1]\n",
    "\n",
    "    pmax = np.zeros((n_nodes, n_states))  # Need one for every node\n",
    "    phi = np.zeros(\n",
    "        (n_nodes - 1, n_states)\n",
    "    )  # Need one for every node other than the first one (no need to reconstruct it)\n",
    "\n",
    "    pmax[0] = f0.flatten()\n",
    "\n",
    "    for i in range(1, n_nodes):\n",
    "        tmp = ((f[i - 1]).T + pmax[i - 1]).T\n",
    "\n",
    "        pmax[i] = np.max(tmp, axis=0)  # by column\n",
    "\n",
    "        phi[i - 1] = np.argmax(\n",
    "            tmp, axis=0\n",
    "        )  # i-1 cause this contains the reconstruction about the (i-1)th element\n",
    "\n",
    "    return pmax, phi"
   ]
  },
  {
   "cell_type": "code",
   "execution_count": 12,
   "metadata": {},
   "outputs": [
    {
     "name": "stdout",
     "output_type": "stream",
     "text": [
      "f0:\n",
      " [[-0.91629073]\n",
      " [-2.30258509]\n",
      " [       -inf]] \n",
      "f:\n",
      " [[[       -inf        -inf -2.30258509]\n",
      "  [       -inf        -inf -2.30258509]\n",
      "  [       -inf        -inf        -inf]]\n",
      "\n",
      " [[-3.91202301 -0.4462871         -inf]\n",
      "  [-1.83258146 -2.52572864        -inf]\n",
      "  [-2.30258509 -0.91629073        -inf]]]\n",
      "\n",
      "\n",
      "pmax:\n",
      " [[-0.91629073 -2.30258509        -inf]\n",
      " [       -inf        -inf -3.21887582]\n",
      " [-5.52146092 -4.13516656        -inf]] \n",
      "phi:\n",
      " [[0. 0. 0.]\n",
      " [2. 2. 0.]]\n",
      "\n",
      "\n",
      " reconstruction: [0. 2. 1.]\n"
     ]
    },
    {
     "name": "stderr",
     "output_type": "stream",
     "text": [
      "/var/folders/tv/ysw0jsvs2t331mtk7hdh35kc0000gn/T/ipykernel_65691/2882175090.py:12: RuntimeWarning: divide by zero encountered in log\n",
      "  tmp[k] = np.log(pi[k]) + np.log(B[k, observed[0]])\n",
      "/var/folders/tv/ysw0jsvs2t331mtk7hdh35kc0000gn/T/ipykernel_65691/2882175090.py:21: RuntimeWarning: divide by zero encountered in log\n",
      "  tmp[j, k] = np.log(A[j, k]) + np.log(B[k, observed[i]])\n"
     ]
    }
   ],
   "source": [
    "f0, f = compute_f_log(A, B, observed)\n",
    "print(\"f0:\\n\", f0, \"\\nf:\\n\", f)\n",
    "\n",
    "\n",
    "pmax, phi = Viterbi_log(f0, f)\n",
    "print(\"\\n\\npmax:\\n\", pmax, \"\\nphi:\\n\", phi)\n",
    "\n",
    "print(\"\\n\\n reconstruction:\", reconstruct(pmax, phi))"
   ]
  },
  {
   "cell_type": "code",
   "execution_count": 13,
   "metadata": {},
   "outputs": [
    {
     "name": "stdout",
     "output_type": "stream",
     "text": [
      "f0:\n",
      " [[-0.91629073]\n",
      " [-2.30258509]\n",
      " [       -inf]] \n",
      "f:\n",
      " [[[       -inf        -inf -2.30258509]\n",
      "  [       -inf        -inf -2.30258509]\n",
      "  [       -inf        -inf        -inf]]\n",
      "\n",
      " [[-3.91202301 -0.4462871         -inf]\n",
      "  [-1.83258146 -2.52572864        -inf]\n",
      "  [-2.30258509 -0.91629073        -inf]]\n",
      "\n",
      " [[       -inf        -inf -2.30258509]\n",
      "  [       -inf        -inf -2.30258509]\n",
      "  [       -inf        -inf        -inf]]\n",
      "\n",
      " [[-3.91202301 -0.4462871         -inf]\n",
      "  [-1.83258146 -2.52572864        -inf]\n",
      "  [-2.30258509 -0.91629073        -inf]]\n",
      "\n",
      " [[-2.52572864 -1.83258146        -inf]\n",
      "  [-0.4462871  -3.91202301        -inf]\n",
      "  [-0.91629073 -2.30258509        -inf]]\n",
      "\n",
      " [[-3.91202301 -0.4462871         -inf]\n",
      "  [-1.83258146 -2.52572864        -inf]\n",
      "  [-2.30258509 -0.91629073        -inf]]]\n",
      "\n",
      "\n",
      "pmax:\n",
      " [[ -0.91629073  -2.30258509         -inf]\n",
      " [        -inf         -inf  -3.21887582]\n",
      " [ -5.52146092  -4.13516656         -inf]\n",
      " [        -inf         -inf  -6.43775165]\n",
      " [ -8.74033674  -7.35404238         -inf]\n",
      " [ -7.80032948 -10.57291821         -inf]\n",
      " [-11.71235249  -8.24661659         -inf]] \n",
      "phi:\n",
      " [[0. 0. 0.]\n",
      " [2. 2. 0.]\n",
      " [0. 0. 1.]\n",
      " [2. 2. 0.]\n",
      " [1. 0. 0.]\n",
      " [0. 0. 0.]]\n",
      "\n",
      "\n",
      " reconstruction: [0. 2. 1. 2. 1. 0. 1.]\n"
     ]
    },
    {
     "name": "stderr",
     "output_type": "stream",
     "text": [
      "/var/folders/tv/ysw0jsvs2t331mtk7hdh35kc0000gn/T/ipykernel_65691/2882175090.py:12: RuntimeWarning: divide by zero encountered in log\n",
      "  tmp[k] = np.log(pi[k]) + np.log(B[k, observed[0]])\n",
      "/var/folders/tv/ysw0jsvs2t331mtk7hdh35kc0000gn/T/ipykernel_65691/2882175090.py:21: RuntimeWarning: divide by zero encountered in log\n",
      "  tmp[j, k] = np.log(A[j, k]) + np.log(B[k, observed[i]])\n"
     ]
    }
   ],
   "source": [
    "observed = np.array([0, 2, 1, 2, 1, 0, 1])  # a = 0; b = 1; _ = 2\n",
    "f0, f = compute_f_log(A, B, observed)\n",
    "print(\"f0:\\n\", f0, \"\\nf:\\n\", f)\n",
    "\n",
    "\n",
    "pmax, phi = Viterbi_log(f0, f)\n",
    "print(\"\\n\\npmax:\\n\", pmax, \"\\nphi:\\n\", phi)\n",
    "\n",
    "print(\"\\n\\n reconstruction:\", reconstruct(pmax, phi))"
   ]
  },
  {
   "attachments": {},
   "cell_type": "markdown",
   "metadata": {},
   "source": [
    "### Try using our words example\n",
    "\n",
    "Now using the matrix and our phrase we try and see if it works\n"
   ]
  },
  {
   "cell_type": "code",
   "execution_count": 14,
   "metadata": {},
   "outputs": [],
   "source": [
    "from src.CipherUtils import CipherGenerator\n",
    "from src.CipherUtils import TextEncoder\n",
    "from src.ProbabilityMatrix import ProbabilityMatrix\n",
    "from src.CipherUtils import TextPreProcessor\n",
    "\n",
    "from src.HMM_utils import map_alphabet_to_numbers, string_to_numbers\n",
    "from src.HMM_utils import find_mapping, numbers_to_string, invert_mapping\n",
    "\n",
    "from src.HMM_functions import Baum_Welch"
   ]
  },
  {
   "cell_type": "code",
   "execution_count": 15,
   "metadata": {},
   "outputs": [
    {
     "name": "stdout",
     "output_type": "stream",
     "text": [
      "i pinched it out of the skivvy room buck mulligan said it does her all right the aunt always keeps plainlooking servants for malachi lead him not into temptation and her name is ursula laughing again he brought the mirror away from stephen peering eyes the rage of caliban at not seeing his face in a mirror he said if wilde were only alive to see you cracked lookingglass of a servant tell that to the oxy chap downstairs and touch him for a guinea he stinking with money and thinks you are not a gentleman his old fellow made his tin by selling jalap to zulus or some bloody swindle or other god kinch if you and i could only work together we might do something for the island hellenise it young shouts of moneyed voices in clive kempthorpe rooms palefaces they hold their ribs with laughter one clasping another o i shall expire break the news to her gently aubrey i shall die with slit ribbons of his shirt whipping the air he hops and hobbles round the table with trousers down at heels chased by ades of magdalen with the tailor shears a scared face gilded with marmalade i don want to be debagged don t you play the giddy ox with me\n",
      "q equiymh qf gbf gc fym tzqxxj oggw nbiz wbrrqlsu tsqh qf hgmt ymo srr oqlyf fym sbuf srpsjt zmmet ersqurggzqul tmoxsuft cgo wsrsiyq rmsh yqw ugf qufg fmwefsfqgu suh ymo uswm qt botbrs rsblyqul slsqu ym nogblyf fym wqoogo spsj cogw tfmeymu emmoqul mjmt fym oslm gc isrqnsu sf ugf tmmqul yqt csim qu s wqoogo ym tsqh qc pqrhm pmom gurj srqxm fg tmm jgb iosizmh rggzqullrstt gc s tmoxsuf fmrr fysf fg fym gdj iyse hgputfsqot suh fgbiy yqw cgo s lbqums ym tfquzqul pqfy wgumj suh fyquzt jgb som ugf s lmufrmwsu yqt grh cmrrgp wshm yqt fqu nj tmrrqul asrse fg vbrbt go tgwm nrgghj tpquhrm go gfymo lgh zquiy qc jgb suh q igbrh gurj pgoz fglmfymo pm wqlyf hg tgwmfyqul cgo fym qtrsuh ymrrmuqtm qf jgbul tygbft gc wgumjmh xgqimt qu irqxm zmwefygoem oggwt esrmcsimt fymj ygrh fymqo oqnt pqfy rsblyfmo gum irstequl sugfymo g q tysrr mdeqom nomsz fym umpt fg ymo lmufrj sbnomj q tysrr hqm pqfy trqf oqnngut gc yqt tyqof pyqeequl fym sqo ym yget suh ygnnrmt ogbuh fym fsnrm pqfy fogbtmot hgpu sf ymmrt iystmh nj shmt gc wslhsrmu pqfy fym fsqrgo tymsot s tisomh csim lqrhmh pqfy wsowsrshm q hgu psuf fg nm hmnsllmh hgu f jgb ersj fym lqhhj gd pqfy wm\n"
     ]
    }
   ],
   "source": [
    "# hidden_sequence = \"people of western europe a landing was made this morning on the coast of france by troops kangaroo jokes quasi vile xilophone zenit \"\n",
    "hidden_sequence = \"in germany it seems to be pretty much automatic pretty much all the time in france and spain it all just depends presumably on social subtleties that you have to be french or spanish to understand in italy why would you even just bother when and how much to tip is a question that has been vexing visitors to europe for as long as people have been travelling around the continent outside their own country it seems even europeans don t know the answer according to new polling by yougov in six eu countries britain and the us where as most visitors know but may be reluctant to acknowledge gratuities may make up more than half your waitperson s income europeans are deeply divided on tipping in restaurants for example of respondents in germany told the pollster they typically tipped almost the same as the us in the uk where an optional service charge of about is usually included said they left a gratuity the figure in spain where service is often included in restaurant bills but diners can leave optional tips was while in france where every price on a restaurant menu already includes for service of people said they generally tipped on top even in sweden where tips are generally not expected the figure was but only of italians said they would typically leave a gratuity after a meal out with a rather greater proportion admitting they never left a cent a startling of respondents in the us however and of germans by far the most in europe confessed they would tip sometimes or often even if the service was terrible indicating that for some tipping is not about quality of service at all the findings of the survey will come as a surprise in germany a country that does not generally think of itself as a nation of happy distributors\"\n",
    "# hidden_sequence = \"hello banana xilophone key queue zebra cock pussy tits dandy fart though jolly world mum \"\n",
    "hidden_sequence = \"I pinched it out of the skivvy room, Buck Mulligan said. It does her all right. The aunt always keeps plainlooking servants for Malachi. Lead him not into temptation. And her name is Ursula. Laughing again, he brought the mirror away from Stephen peering eyes. The rage of Caliban at not seeing his face in a mirror, he said. If Wilde were only alive to see you Cracked lookingglass of a servant! Tell that to the oxy chap downstairs and touch him for a guinea. He  stinking with money and thinks you are not a gentleman. His old fellow made his tin by selling jalap to Zulus or some bloody swindle or other. God, Kinch, if you and I could only work together we might do something for the island. Hellenise it.  Young shouts of moneyed voices in Clive Kempthorpe  rooms. Palefaces: they hold their ribs with laughter, one clasping another. O, I shall expire! Break the news to her gently, Aubrey! I shall die! With slit ribbons of his shirt whipping the air he hops and hobbles round the table, with trousers down at heels, chased by Ades of Magdalen with the tailor shears. A scared face gilded with marmalade. I don want to be debagged! Don t you play the giddy ox with me!\"\n",
    "\n",
    "preprocessor = TextPreProcessor()\n",
    "hidden_sequence = preprocessor.lower(text=hidden_sequence)\n",
    "hidden_sequence = preprocessor.remove_unknown_chars(\n",
    "    text=hidden_sequence, unknown_chars=preprocessor.unknown_chars(hidden_sequence)\n",
    ")\n",
    "hidden_sequence = preprocessor.remove_additional_spaces(text=hidden_sequence)\n",
    "\n",
    "\n",
    "cipher_generator = CipherGenerator()\n",
    "cipher = cipher_generator.generate_cipher()\n",
    "encoder = TextEncoder()\n",
    "observed_sequence = encoder.encode_text(hidden_sequence, cipher=cipher)\n",
    "\n",
    "# Convert to numeric\n",
    "hidden_ = string_to_numbers(hidden_sequence, mapping=map_alphabet_to_numbers())\n",
    "observed_ = string_to_numbers(observed_sequence, mapping=map_alphabet_to_numbers())\n",
    "\n",
    "print(hidden_sequence)\n",
    "print(observed_sequence)"
   ]
  },
  {
   "cell_type": "code",
   "execution_count": 16,
   "metadata": {},
   "outputs": [],
   "source": [
    "# List of text file paths to build our corpus (where we learn the transitions probs)\n",
    "file_paths = [\n",
    "    \"texts/moby_dick.txt\",\n",
    "    \"texts/shakespeare.txt\",\n",
    "    \"texts/james-joyce-a-portrait-of-the-artist-as-a-young-man.txt\",\n",
    "    \"texts/james-joyce-dubliners.txt\",\n",
    "    \"texts/james-joyce-ulysses.txt\",\n",
    "]\n",
    "\n",
    "texts = []\n",
    "for file_path in file_paths:\n",
    "    with open(file_path, \"r\") as file:\n",
    "        texts.append(file.read())\n",
    "\n",
    "corpus = \"\".join(texts)\n",
    "alphabet = list(\"abcdefghijklmnopqrstuvwxyz \")\n",
    "\n",
    "preprocessor = TextPreProcessor()\n",
    "corpus = preprocessor.lower(text=corpus)\n",
    "corpus = preprocessor.remove_unknown_chars(\n",
    "    text=corpus, unknown_chars=preprocessor.unknown_chars(corpus)\n",
    ")\n",
    "corpus = preprocessor.remove_additional_spaces(text=corpus)\n",
    "\n",
    "# compute probabilities\n",
    "p = ProbabilityMatrix(corpus)\n",
    "p.compute_probability_matrix()\n",
    "p.compute_normalized_matrix()\n",
    "# p.compute_probability_table()"
   ]
  },
  {
   "cell_type": "code",
   "execution_count": 17,
   "metadata": {},
   "outputs": [],
   "source": [
    "B_start = np.zeros((27, 27)) + 1 / 26\n",
    "B_start[:, -1] = np.zeros(27)\n",
    "B_start[-1, :] = np.zeros(27)\n",
    "B_start[-1, -1] = 1\n",
    "\n",
    "emission = Baum_Welch(\n",
    "    A=p.normalized_matrix,\n",
    "    B_start=B_start,\n",
    "    pi=p.normalized_matrix[-1, :],\n",
    "    observed=observed_,\n",
    "    maxIter=50,\n",
    ")\n",
    "mapping = find_mapping(emission.argmax(axis=1))\n",
    "normalized_emission_reconstruction = numbers_to_string(\n",
    "    observed_sequence, invert_mapping(mapping)\n",
    ")"
   ]
  },
  {
   "cell_type": "code",
   "execution_count": 18,
   "metadata": {},
   "outputs": [],
   "source": [
    "B_start = np.zeros((27, 27)) + 1 / 26\n",
    "B_start[:, -1] = np.zeros(27)\n",
    "B_start[-1, :] = np.zeros(27)\n",
    "B_start[-1, -1] = 1\n",
    "\n",
    "emission_non_norm = Baum_Welch(\n",
    "    A=p.probability_matrix,\n",
    "    B_start=B_start,\n",
    "    pi=p.probability_matrix[-1, :],\n",
    "    observed=observed_,\n",
    "    maxIter=50,\n",
    ")\n",
    "mapping_non_norm = find_mapping(emission_non_norm.argmax(axis=1))\n",
    "non_normalized_emission_reconstruction = numbers_to_string(\n",
    "    observed_sequence, invert_mapping(mapping_non_norm)\n",
    ")"
   ]
  },
  {
   "cell_type": "code",
   "execution_count": 19,
   "metadata": {},
   "outputs": [
    {
     "name": "stderr",
     "output_type": "stream",
     "text": [
      "/var/folders/tv/ysw0jsvs2t331mtk7hdh35kc0000gn/T/ipykernel_65691/2882175090.py:12: RuntimeWarning: divide by zero encountered in log\n",
      "  tmp[k] = np.log(pi[k]) + np.log(B[k, observed[0]])\n",
      "/var/folders/tv/ysw0jsvs2t331mtk7hdh35kc0000gn/T/ipykernel_65691/2882175090.py:21: RuntimeWarning: divide by zero encountered in log\n",
      "  tmp[j, k] = np.log(A[j, k]) + np.log(B[k, observed[i]])\n"
     ]
    }
   ],
   "source": [
    "f0, f = compute_f_log(A=p.normalized_matrix, B=emission, observed=observed_)\n",
    "pmax, phi = Viterbi_log(f0, f)\n",
    "reconstruction = reconstruct(pmax, phi)\n",
    "reconstruction = reconstruction.astype(int)"
   ]
  },
  {
   "cell_type": "code",
   "execution_count": 20,
   "metadata": {},
   "outputs": [
    {
     "name": "stderr",
     "output_type": "stream",
     "text": [
      "/var/folders/tv/ysw0jsvs2t331mtk7hdh35kc0000gn/T/ipykernel_65691/2882175090.py:12: RuntimeWarning: divide by zero encountered in log\n",
      "  tmp[k] = np.log(pi[k]) + np.log(B[k, observed[0]])\n",
      "/var/folders/tv/ysw0jsvs2t331mtk7hdh35kc0000gn/T/ipykernel_65691/2882175090.py:21: RuntimeWarning: divide by zero encountered in log\n",
      "  tmp[j, k] = np.log(A[j, k]) + np.log(B[k, observed[i]])\n"
     ]
    }
   ],
   "source": [
    "f0, f = compute_f_log(A=p.probability_matrix, B=emission_non_norm, observed=observed_)\n",
    "pmax, phi = Viterbi_log(f0, f)\n",
    "reconstruction_non_norm = reconstruct(pmax, phi)\n",
    "reconstruction_non_norm = reconstruction_non_norm.astype(int)"
   ]
  },
  {
   "cell_type": "code",
   "execution_count": 21,
   "metadata": {},
   "outputs": [],
   "source": [
    "import numpy as np\n",
    "\n",
    "\n",
    "def convert_numbers_to_letters(numbers):\n",
    "    letters = []\n",
    "    for number in numbers:\n",
    "        if number == 26:\n",
    "            letters.append(\" \")\n",
    "        else:\n",
    "            letter = chr(number + ord(\"a\"))\n",
    "            letters.append(letter)\n",
    "    return \"\".join(letters)\n",
    "\n",
    "\n",
    "from src.HMM_utils import numbers_to_string, map_alphabet_to_numbers, invert_mapping\n",
    "\n",
    "\n",
    "def convert_numbers_to_letters(numbers):\n",
    "    return numbers_to_string(numbers, invert_mapping(map_alphabet_to_numbers()))"
   ]
  },
  {
   "cell_type": "code",
   "execution_count": 22,
   "metadata": {},
   "outputs": [
    {
     "name": "stdout",
     "output_type": "stream",
     "text": [
      "Non-normalized emission reconstruction:\n",
      " i einihed it out of the skizzy room xuik mulligan said it does her all right the aunt always keees elainlooking serzants for malaihi lead him not into temetation and her name is ursula laughing again he xrought the mirror away from steehen eeering eyes the rage of ialixan at not seeing his faie in a mirror he said if wilde were only alize to see you iraiked lookingglass of a serzant tell that to the ody ihae downstairs and touih him for a guinea he stinking with money and thinks you are not a gentleman his old fellow made his tin xy selling aalae to qulus or some xloody swindle or other god kinih if you and i iould only work together we might do something for the island hellenise it young shouts of moneyed zoiies in ilize kemethoree rooms ealefaies they hold their rixs with laughter one ilaseing another o i shall edeire xreak the news to her gently auxrey i shall die with slit rixxons of his shirt whieeing the air he hoes and hoxxles round the taxle with trousers down at heels ihased xy ades of magdalen with the tailor shears a siared faie gilded with marmalade i don want to xe dexagged don t you elay the giddy od with me\n",
      "Non-normalized reconstruction:\n",
      " i sinthed it out of the thiver room buth mulligan said it does her all ritht the aunt allars heess thaincoowing sereants for malathe head him not into terstation and her name is ursula lauthing atain he proutht the merror away from steshen seering eres the rate of talilan at not seeing his fate in a merror he said if wilde were only alive to see you trathed loowingghass of a sereant tell that to the ory thas downstairs and touth him for a thinea he stinding with moner and thinds you are not a tentheman his old fellow made his tin by selling walas to bulus or some bloody swindle or other tod hinth if you and i tould only word totether we mitht do something for the ishand hellenise it young thouts of monered coites in thive hersthorse roors salefates ther hold thear rils with lauthter one thassing another o i thall ersire pread the ners to her tenthe auprer i thall die with thit rillons of his thirt whissing the air he hoss and hollles round the talle with trousers down at heels thased by ades of mandalen with the tailor thears a stared fate tilded with marmalade i don want to be depanged don t you thay the tindy or with me\n",
      "\n",
      "\n",
      "Normalized emission reconstruction:\n",
      " i pinchej it out of the skizzy room buck mulligan saij it joes her all right the aunt always keeps plainlooking serzants for malachi leaj him not into temptation anj her name is ursula laughing again he brought the mirror away from stephen peering eyes the rage of caliban at not seeing his face in a mirror he saij if wilje were only alize to see you crackej lookingglass of a serzant tell that to the oxy chap jownstairs anj touch him for a guinea he stinking with money anj thinks you are not a gentleman his olj fellow maje his tin by selling aalap to qulus or some bloojy swinjle or other goj kinch if you anj i coulj only work together we might jo something for the islanj hellenise it young shouts of moneyej zoices in clize kempthorpe rooms palefaces they holj their ribs with laughter one clasping another o i shall expire break the news to her gently aubrey i shall jie with slit ribbons of his shirt whipping the air he hops anj hobbles rounj the table with trousers jown at heels chasej by ajes of magjalen with the tailor shears a scarej face giljej with marmalaje i jon want to be jebaggej jon t you play the gijjy ox with me\n",
      "Normalized reconstruction:\n",
      " i pinched it out of the skizzy foom buck mulligan said it dous her all right the aunt always keess plainlooking sercants for malachi lead him not into temptation and her name is ursula langhing again he brought the mirror away from steshen peering eres the fave of caliman at not sexing his fave in a mirror he said if wilde were only alive to see you cracked lookingglass of a sercant tell that to the omy chas downstairs and touch him for a buinea he stinking with money and thinks you are not a gentheman his old fellow mave his tin by selling walas to qulus or some bloody swindle or other god kinch if you and i could only work tovether we might do something for the island hellenise it young shouts of monered coices in clive kempthorpe fooms palefaves they hold their rims with langhter one clasping another o i shall expire break the ners to her gently auprey i shall die with blit rimbons of his shirt whipping the air he hous and hombles found the table with trousers down at heels chased by aves of mandalen with the tailor shears a scared fave gilded with marmalave i don want to be demanged don t you play the gindy or with me\n"
     ]
    }
   ],
   "source": [
    "normalized_reconstruction = convert_numbers_to_letters(reconstruction)\n",
    "non_normalized_reconstruction = convert_numbers_to_letters(reconstruction_non_norm)\n",
    "\n",
    "print(\n",
    "    \"Non-normalized emission reconstruction:\\n\", non_normalized_emission_reconstruction\n",
    ")\n",
    "print(\"Non-normalized reconstruction:\\n\", non_normalized_reconstruction)\n",
    "\n",
    "print(\"\\n\")\n",
    "\n",
    "print(\"Normalized emission reconstruction:\\n\", normalized_emission_reconstruction)\n",
    "print(\"Normalized reconstruction:\\n\", normalized_reconstruction)"
   ]
  },
  {
   "cell_type": "code",
   "execution_count": 23,
   "metadata": {},
   "outputs": [
    {
     "name": "stdout",
     "output_type": "stream",
     "text": [
      "i pinched it out of the skizzy foom buck mulligan said it dous her all right the aunt always keess plainlooking sercants for malachi lead him not into temptation and her name is ursula langhing again he brought the mirror away from steshen peering eres the fave of caliman at not sexing his fave in a mirror he said if wilde were only alive to see you cracked lookingglass of a sercant tell that to the omy chas downstairs and touch him for a buinea he stinking with money and thinks you are not a gentheman his old fellow mave his tin by selling walas to qulus or some bloody swindle or other god kinch if you and i could only work tovether we might do something for the island hellenise it young shouts of monered coices in clive kempthorpe fooms palefaves they hold their rims with langhter one clasping another o i shall expire break the ners to her gently auprey i shall die with blit rimbons of his shirt whipping the air he hous and hombles found the table with trousers down at heels chased by aves of mandalen with the tailor shears a scared fave gilded with marmalave i don want to be demanged don t you play the gindy or with me\n",
      "i pinched it out of the skivvy room buck mulligan said it does her all right the aunt always keeps plainlooking servants for malachi lead him not into temptation and her name is ursula laughing again he brought the mirror away from stephen peering eyes the rage of caliban at not seeing his face in a mirror he said if wilde were only alive to see you cracked lookingglass of a servant tell that to the oxy chap downstairs and touch him for a guinea he stinking with money and thinks you are not a gentleman his old fellow made his tin by selling jalap to zulus or some bloody swindle or other god kinch if you and i could only work together we might do something for the island hellenise it young shouts of moneyed voices in clive kempthorpe rooms palefaces they hold their ribs with laughter one clasping another o i shall expire break the news to her gently aubrey i shall die with slit ribbons of his shirt whipping the air he hops and hobbles round the table with trousers down at heels chased by ades of magdalen with the tailor shears a scared face gilded with marmalade i don want to be debagged don t you play the giddy ox with me\n"
     ]
    }
   ],
   "source": [
    "print(normalized_reconstruction)\n",
    "print(hidden_sequence)"
   ]
  },
  {
   "cell_type": "code",
   "execution_count": 24,
   "metadata": {},
   "outputs": [
    {
     "name": "stdout",
     "output_type": "stream",
     "text": [
      "normalized emission accuracy: 0.9578577699736611\n",
      "normalized reconstruction accuracy: 0.9604916593503073\n",
      "NON normalized emission accuracy: 0.9446883230904302\n",
      "NON normalized reconstruction accuracy: 0.8946444249341527\n"
     ]
    }
   ],
   "source": [
    "print(\n",
    "    \"normalized emission accuracy:\",\n",
    "    np.mean(\n",
    "        np.array(list(normalized_emission_reconstruction))\n",
    "        == np.array(list(hidden_sequence))\n",
    "    ),\n",
    ")\n",
    "print(\n",
    "    \"normalized reconstruction accuracy:\",\n",
    "    np.mean(\n",
    "        np.array(list(normalized_reconstruction)) == np.array(list(hidden_sequence))\n",
    "    ),\n",
    ")\n",
    "\n",
    "print(\n",
    "    \"NON normalized emission accuracy:\",\n",
    "    np.mean(\n",
    "        np.array(list(non_normalized_emission_reconstruction))\n",
    "        == np.array(list(hidden_sequence))\n",
    "    ),\n",
    ")\n",
    "print(\n",
    "    \"NON normalized reconstruction accuracy:\",\n",
    "    np.mean(\n",
    "        np.array(list(non_normalized_reconstruction)) == np.array(list(hidden_sequence))\n",
    "    ),\n",
    ")"
   ]
  }
 ],
 "metadata": {
  "kernelspec": {
   "display_name": "Python 3",
   "language": "python",
   "name": "python3"
  },
  "language_info": {
   "codemirror_mode": {
    "name": "ipython",
    "version": 3
   },
   "file_extension": ".py",
   "mimetype": "text/x-python",
   "name": "python",
   "nbconvert_exporter": "python",
   "pygments_lexer": "ipython3",
   "version": "3.10.8"
  },
  "orig_nbformat": 4
 },
 "nbformat": 4,
 "nbformat_minor": 2
}
