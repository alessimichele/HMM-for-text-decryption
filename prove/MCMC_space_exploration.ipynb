{
 "cells": [
  {
   "cell_type": "code",
   "execution_count": 1,
   "metadata": {},
   "outputs": [],
   "source": [
    "from src.AlphabetPermutation import AlphabetPermutation\n",
    "from src.Probability import ProbabilityMatrix\n",
    "from string import ascii_lowercase\n",
    "import numpy as np"
   ]
  },
  {
   "cell_type": "code",
   "execution_count": 2,
   "metadata": {},
   "outputs": [],
   "source": [
    "alphabet = list(ascii_lowercase)\n",
    "alphabet.append(' ')\n",
    "\n",
    "# Initialize an instance of permutation generator class\n",
    "permutation_generator = AlphabetPermutation(alphabet)\n",
    "\n",
    "# Obtain the key: in a cipher the key is the alphabet used by the cipher\n",
    "key = permutation_generator.permutation.values()"
   ]
  },
  {
   "cell_type": "code",
   "execution_count": 3,
   "metadata": {},
   "outputs": [],
   "source": [
    "message = \"Hello MCMC let us see how well you decrypt messages\""
   ]
  },
  {
   "cell_type": "code",
   "execution_count": 4,
   "metadata": {},
   "outputs": [
    {
     "data": {
      "text/plain": [
       "'nfssy hghg sfc ti iff nyv vfss ayt lfgqakc hfiimofi'"
      ]
     },
     "execution_count": 4,
     "metadata": {},
     "output_type": "execute_result"
    }
   ],
   "source": [
    "encrypted_message = permutation_generator.permute_string(message)\n",
    "encrypted_message"
   ]
  },
  {
   "cell_type": "code",
   "execution_count": 5,
   "metadata": {},
   "outputs": [],
   "source": [
    "with open(\"texts/moby_dick.txt\", \"r\") as file:\n",
    "    text = file.read()\n",
    "alphabet = list(\"abcdefghijklmnopqrstuvwxyz \")"
   ]
  },
  {
   "cell_type": "code",
   "execution_count": 6,
   "metadata": {},
   "outputs": [],
   "source": [
    "pm = ProbabilityMatrix(text=text, alphabet=alphabet)\n",
    "unknown_chars = pm.unknown_chars()\n",
    "pm.preprocess_text(unknown_chars=unknown_chars)\n",
    "\n",
    "pm.compute_matrix_spaces()\n",
    "log_matrix = pm.compute_log_matrix()"
   ]
  },
  {
   "cell_type": "code",
   "execution_count": 10,
   "metadata": {},
   "outputs": [
    {
     "data": {
      "text/plain": [
       "27"
      ]
     },
     "execution_count": 10,
     "metadata": {},
     "output_type": "execute_result"
    }
   ],
   "source": [
    "len(pm.matrix[0])"
   ]
  },
  {
   "cell_type": "code",
   "execution_count": 27,
   "metadata": {},
   "outputs": [],
   "source": [
    "def compute_likelihood(encrypted_message, log_transition_matrix):\n",
    "    # Add whitespace before the message\n",
    "    encrypted_message = \" \" + encrypted_message\n",
    "\n",
    "    log_lik = 0\n",
    "    for i in range(len(encrypted_message)-1):\n",
    "        # Convert letters to corresponding entry in the alphabet (a = 0, b = 2, ..., ' ' = 26)\n",
    "        first_letter = ord(encrypted_message[i])-97\n",
    "        second_letter = ord(encrypted_message[i+1])-97\n",
    "\n",
    "        if(first_letter == 32 - 97): #whitespace correpsonds to 32\n",
    "            first_letter = 26\n",
    "        if(second_letter == 32 - 97):\n",
    "            second_letter = 26\n",
    "\n",
    "        log_lik = log_lik + log_transition_matrix[first_letter, second_letter]\n",
    "    \n",
    "    return log_lik"
   ]
  },
  {
   "cell_type": "code",
   "execution_count": 29,
   "metadata": {},
   "outputs": [
    {
     "name": "stdout",
     "output_type": "stream",
     "text": [
      "log likelihood for encrypted message: -440.09383163981823\n",
      "log likelihood for original message: -359.21261536436083\n"
     ]
    }
   ],
   "source": [
    "print(\"log likelihood for encrypted message:\", compute_likelihood(encrypted_message, log_matrix))\n",
    "print(\"log likelihood for original message:\", compute_likelihood(message.lower(), log_matrix))"
   ]
  }
 ],
 "metadata": {
  "kernelspec": {
   "display_name": "pml",
   "language": "python",
   "name": "python3"
  },
  "language_info": {
   "codemirror_mode": {
    "name": "ipython",
    "version": 3
   },
   "file_extension": ".py",
   "mimetype": "text/x-python",
   "name": "python",
   "nbconvert_exporter": "python",
   "pygments_lexer": "ipython3",
   "version": "3.10.8"
  },
  "orig_nbformat": 4
 },
 "nbformat": 4,
 "nbformat_minor": 2
}
