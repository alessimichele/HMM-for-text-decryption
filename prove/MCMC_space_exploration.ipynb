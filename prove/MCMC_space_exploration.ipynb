{
 "cells": [
  {
   "cell_type": "code",
   "execution_count": 1,
   "metadata": {},
   "outputs": [],
   "source": [
    "from src.AlphabetPermutation import AlphabetPermutation\n",
    "from src.Probability import ProbabilityMatrix\n",
    "from string import ascii_lowercase\n",
    "import numpy as np\n",
    "import random"
   ]
  },
  {
   "cell_type": "code",
   "execution_count": 2,
   "metadata": {},
   "outputs": [],
   "source": [
    "alphabet = list(ascii_lowercase)\n",
    "alphabet.append(' ')\n",
    "\n",
    "# Initialize an instance of permutation generator class\n",
    "permutation_generator = AlphabetPermutation(alphabet)\n",
    "\n",
    "# Obtain the key: in a cipher the key is the alphabet used by the cipher\n",
    "key = permutation_generator.permutation.values()"
   ]
  },
  {
   "cell_type": "code",
   "execution_count": 3,
   "metadata": {},
   "outputs": [],
   "source": [
    "message = \"Good afternoon markov chain monte carlo let us see if you are any good at decrypting the text that I will provide for you to try out I will make it as long as possible so that you can try it out and get more chance to get it right\""
   ]
  },
  {
   "cell_type": "code",
   "execution_count": 4,
   "metadata": {},
   "outputs": [
    {
     "data": {
      "text/plain": [
       "'aeeo puicbsees gpbkeq mzpvs gesic mpbde dci fw wcc vu tef pbc pst aeeo pi ocmbtrivsa izc icyi izpi v nvdd rbeqvoc ueb tef ie ibt efi v nvdd gpkc vi pw desa pw rewwvldc we izpi tef mps ibt vi efi pso aci gebc mzpsmc ie aci vi bvazi'"
      ]
     },
     "execution_count": 4,
     "metadata": {},
     "output_type": "execute_result"
    }
   ],
   "source": [
    "encrypted_message = permutation_generator.permute_string(message)\n",
    "encrypted_message"
   ]
  },
  {
   "cell_type": "code",
   "execution_count": 99,
   "metadata": {},
   "outputs": [],
   "source": [
    "\"\"\"\n",
    "To decrypt BACK\n",
    "\n",
    "d = dict.fromkeys(list(permutation_generator.permutation.keys()))\n",
    "d = dict(zip(list(permutation_generator.permutation.values()), list(permutation_generator.permutation.keys())))\n",
    "permutation_generator.permutation = d\n",
    "permutation_generator.permute_string(encrypted_message)\n",
    "\"\"\";"
   ]
  },
  {
   "cell_type": "code",
   "execution_count": 5,
   "metadata": {},
   "outputs": [],
   "source": [
    "with open(\"texts/shakespeare.txt\", \"r\") as file:\n",
    "    text = file.read()\n",
    "alphabet = list(\"abcdefghijklmnopqrstuvwxyz \")"
   ]
  },
  {
   "cell_type": "code",
   "execution_count": 6,
   "metadata": {},
   "outputs": [],
   "source": [
    "pm = ProbabilityMatrix(text=text, alphabet=alphabet)\n",
    "unknown_chars = pm.unknown_chars()\n",
    "pm.preprocess_text(unknown_chars=unknown_chars)\n",
    "\n",
    "pm.compute_matrix_spaces()\n",
    "log_matrix = pm.compute_log_matrix()"
   ]
  },
  {
   "cell_type": "code",
   "execution_count": 7,
   "metadata": {},
   "outputs": [],
   "source": [
    "def compute_likelihood(encrypted_message, log_transition_matrix):\n",
    "    # Add whitespace before the message\n",
    "    encrypted_message = \" \" + encrypted_message\n",
    "\n",
    "    log_lik = 0\n",
    "    for i in range(len(encrypted_message)-1):\n",
    "        # Convert letters to corresponding entry in the alphabet (a = 0, b = 2, ..., ' ' = 26)\n",
    "        first_letter = ord(encrypted_message[i])-97\n",
    "        second_letter = ord(encrypted_message[i+1])-97\n",
    "\n",
    "        if(first_letter == 32 - 97): #whitespace correpsonds to 32\n",
    "            first_letter = 26\n",
    "        if(second_letter == 32 - 97):\n",
    "            second_letter = 26\n",
    "\n",
    "        log_lik = log_lik + log_transition_matrix[first_letter, second_letter]\n",
    "    \n",
    "    return log_lik"
   ]
  },
  {
   "cell_type": "code",
   "execution_count": 9,
   "metadata": {},
   "outputs": [
    {
     "name": "stdout",
     "output_type": "stream",
     "text": [
      "log likelihood for encrypted message: 0.9915344182431921\n",
      "log likelihood for original message: 1.2408537083162372\n"
     ]
    }
   ],
   "source": [
    "print(\"log likelihood for encrypted message:\", compute_likelihood(encrypted_message, log_matrix))\n",
    "print(\"log likelihood for original message:\", compute_likelihood(message.lower(), log_matrix)) # ok good the original one has higher probability"
   ]
  },
  {
   "cell_type": "code",
   "execution_count": 10,
   "metadata": {},
   "outputs": [],
   "source": [
    "def explore_space(encrypted_message, log_transition_matrix, alphabet, max_iteration = 10000):\n",
    "    # print(encrypted_message)\n",
    "\n",
    "    current_permutation = AlphabetPermutation(alphabet)\n",
    "    current_permutation.generate_permutation() # start with a random proposal\n",
    "    # print(current_permutation.describe_permutation())\n",
    "\n",
    "\n",
    "    # Compute likelihood on original message\n",
    "    proposed = permutation_generator.permute_string(encrypted_message)\n",
    "    old_likelihood = compute_likelihood(proposed, log_transition_matrix)\n",
    "\n",
    "    # store max likelihood achieved during the exploration\n",
    "    max_reached = compute_likelihood(encrypted_message, log_transition_matrix)\n",
    "    \n",
    "    for i in range(max_iteration):\n",
    "        # Compute the likelihood before the proposal update\n",
    "\n",
    "        # Choose two letters at random to swap\n",
    "        k = random.randint(0, 25)\n",
    "        j = random.randint(0, 25)\n",
    "        \n",
    "        #print(permutation_generator.permutation[chr(i + 97)])\n",
    "        #print(permutation_generator.permutation[chr(j + 97)])\n",
    "\n",
    "\n",
    "        # To ensure we actually do a swap\n",
    "        while k == j:\n",
    "            j = random.randint(0, 25)\n",
    "        \n",
    "        \n",
    "        # Swap the two keys in the permutation class\n",
    "        permutation_generator.swap_letters(k, j)\n",
    "        \n",
    "        #print(permutation_generator.permutation[chr(i + 97)])\n",
    "        #print(permutation_generator.permutation[chr(j + 97)])\n",
    "\n",
    "        # Translate the message using this new key and evaluate\n",
    "        proposed = permutation_generator.permute_string(encrypted_message)\n",
    "        new_likelihood = compute_likelihood(proposed, log_transition_matrix)\n",
    "\n",
    "        # print(\"old\", old_likelihood, \"new\", new_likelihood)\n",
    "\n",
    "\n",
    "        if new_likelihood > max_reached:\n",
    "            max_reached = new_likelihood\n",
    "            best = proposed\n",
    "\n",
    "        # Compute the acceptance probability in a MH fashion\n",
    "        acceptance_prob = min(1, np.exp(new_likelihood - old_likelihood))\n",
    "        #print(new_likelihood, old_likelihood)\n",
    "\n",
    "        if np.random.uniform() < acceptance_prob: # Accept\n",
    "            old_likelihood = new_likelihood\n",
    "        else: # Reject swap\n",
    "            permutation_generator.swap_letters(k, j) # swap back\n",
    "        \n",
    "        if i%(max_iteration/100) == 0:\n",
    "            print(permutation_generator.permute_string(encrypted_message))\n",
    "    \n",
    "    print(\"The max likelihood we reached was:\", max_reached)\n",
    "\n"
   ]
  },
  {
   "cell_type": "code",
   "execution_count": 11,
   "metadata": {},
   "outputs": [
    {
     "name": "stdout",
     "output_type": "stream",
     "text": [
      "dbel vqc wcba mczgiigiz dbel vqc dgbtv lelciv g lpa pjletv tpa ed la puofpgivpiuc sgvq aef aefb lpiicbt glrbcttgiz lc sgvq vqc dfjjctv mcjgcd ed aefb pbbezpiuc aefb ueiucgv piy aefb tcjdgtq ygtypgi ed vqc dccjgizt ed evqcbt scbc tfuq pt ve debl vqc zbefiysebx ed ygtprrbempvgei ei sqguq tfuuccygiz cwcivt qpwc mfgjv te gllewpmjc p ygtjgxc piy g qpy iev xiesi aef p leivq mcdebc g dcjv vqpv aef scbc vqc jptv lpi gi vqc sebjy sqel g uefjy cwcb mc rbcwpgjcy ei ve lpbba\n",
      "jpor ust ntpc xtdkggkgd jpor ust jkpvu rortgu k ryc yqrovu vyc oj rc yizfykguygit ekus cof cofp ryggtpv krbptvvkgd rt ekus ust jfqqtvu xtqktj oj cofp yppodygit cofp iogitku ygm cofp vtqjkvs mkvmykg oj ust jttqkgdv oj oustpv etpt vfis yv uo jopr ust dpofgmeoph oj mkvybbpoxyukog og eskis vfiittmkgd tntguv synt xfkqu vo krronyxqt y mkvqkht ygm k sym gou hgoeg cof y rogus xtjopt k jtqu usyu cof etpt ust qyvu ryg kg ust eopqm esor k iofqm tntp xt bptnykqtm og uo ryppc\n",
      "pcdz isf gfct kfqwyywyq pcdz isf pwcni zdzfyi w zmt mazdni nmt dp zt mjubmwyimyjf lwis tdb tdbc zmyyfcn wzrcfnnwyq zf lwis isf pbaafni kfawfp dp tdbc mccdqmyjf tdbc jdyjfwi mye tdbc nfapwns ewnemwy dp isf pffawyqn dp disfcn lfcf nbjs mn id pdcz isf qcdbyeldcv dp ewnmrrcdkmiwdy dy lswjs nbjjffewyq fgfyin smgf kbwai nd wzzdgmkaf m ewnawvf mye w sme ydi vydly tdb m zdyis kfpdcf w pfai ismi tdb lfcf isf amni zmy wy isf ldcae lsdz w jdbae fgfc kf rcfgmwafe dy id zmcct\n",
      "zncq rmu huns wubvjjvjb zncq rmu zvntr qcqujr v qes elqctr tes cz qs eoxyevjrejou dvrm scy scyn qejjunt vqanuttvjb qu dvrm rmu zyllutr wulvuz cz scyn enncbejou scyn ocjouvr ejk scyn tulzvtm kvtkevj cz rmu zuulvjbt cz crmunt dunu tyom et rc zcnq rmu bncyjkdcng cz kvteaancwervcj cj dmvom tyoouukvjb uhujrt mehu wyvlr tc vqqchewlu e kvtlvgu ejk v mek jcr gjcdj scy e qcjrm wuzcnu v zulr rmer scy dunu rmu letr qej vj rmu dcnlk dmcq v ocylk uhun wu anuhevluk cj rc qenns\n",
      "qsgj tdk oksz pkbnyynyb qsgj tdk qnsvt jgjkyt n jrz rhjgvt vrz gq jz rlxcrnytrylk antd zgc zgcs jryyksv njmskvvnyb jk antd tdk qchhkvt pkhnkq gq zgcs rssgbrylk zgcs lgylknt ryi zgcs vkhqnvd invirny gq tdk qkkhnybv gq gtdksv aksk vcld rv tg qgsj tdk bsgcyiagsf gq invrmmsgprtngy gy adnld vcllkkinyb kokytv drok pcnht vg njjgorphk r invhnfk ryi n dri ygt fygay zgc r jgytd pkqgsk n qkht tdrt zgc aksk tdk hrvt jry ny tdk agshi adgj n lgchi koks pk mskornhki gy tg jrssz\n",
      "tvkz dnw awvs fwhibbibh tvkz dnw tivxd zkzwbd i zls lgzkxd xls kt zs lyejlibdlbyw uidn skj skjv zlbbwvx izcvwxxibh zw uidn dnw tjggwxd fwgiwt kt skjv lvvkhlbyw skjv ykbywid lbo skjv xwgtixn oixolib kt dnw twwgibhx kt kdnwvx uwvw xjyn lx dk tkvz dnw hvkjboukvp kt oixlccvkfldikb kb uniyn xjyywwoibh wawbdx nlaw fjigd xk izzkalfgw l oixgipw lbo i nlo bkd pbkub skj l zkbdn fwtkvw i twgd dnld skj uwvw dnw glxd zlb ib dnw ukvgo unkz i ykjgo wawv fw cvwaligwo kb dk zlvvs\n",
      "vnzy rqi ainb uiwhpphpw vnzy rqi vhndr yzyipr h ykb klyzdr dkb zv yb kgmxkhprkpgi fhrq bzx bzxn ykppind hyjniddhpw yi fhrq rqi vxllidr uilhiv zv bzxn knnzwkpgi bzxn gzpgihr kps bzxn dilvhdq shdskhp zv rqi viilhpwd zv zrqind fini dxgq kd rz vzny rqi wnzxpsfzne zv shdkjjnzukrhzp zp fqhgq dxggiishpw iaiprd qkai uxhlr dz hyyzakuli k shdlhei kps h qks pzr epzfp bzx k yzprq uivzni h vilr rqkr bzx fini rqi lkdr ykp hp rqi fznls fqzy h gzxls iain ui jniakhlis zp rz yknnb\n",
      "dnrl ish yhng zhufttftu dnrl ish dfnei lrlhti f lag avlrei eag rd lg amxqaftiatmh wfis grq grqn latthne fljnheeftu lh wfis ish dqvvhei zhvfhd rd grqn annruatmh grqn mrtmhfi atp grqn ehvdfes pfepaft rd ish dhhvftue rd rishne whnh eqms ae ir drnl ish unrqtpwrnb rd pfeajjnrzaifrt rt wsfms eqmmhhpftu hyhtie sayh zqfvi er fllryazvh a pfevfbh atp f sap tri btrwt grq a lrtis zhdrnh f dhvi isai grq whnh ish vaei lat ft ish wrnvp wsrl f mrqvp hyhn zh jnhyafvhp rt ir lanng\n",
      "sdhb xkv jvdm yvgittitg sdhb xkv sidpx bhbvtx i bcm cnbhpx pcm hs bm crlqcitxctrv wixk mhq mhqd bcttvdp ibzdvppitg bv wixk xkv sqnnvpx yvnivs hs mhqd cddhgctrv mhqd rhtrvix ctu mhqd pvnsipk uipucit hs xkv svvnitgp hs hxkvdp wvdv pqrk cp xh shdb xkv gdhqtuwhdf hs uipczzdhycxiht ht wkirk pqrrvvuitg vjvtxp kcjv yqinx ph ibbhjcynv c uipnifv ctu i kcu thx fthwt mhq c bhtxk yvshdv i svnx xkcx mhq wvdv xkv ncpx bct it xkv whdnu wkhb i rhqnu vjvd yv zdvjcinvu ht xh bcddm\n",
      "wrdb fks lsro pshtjjtjh wrdb fks wtryf bdbsjf t bio iabdyf yio dw bo igunitjfijgs xtfk odn odnr bijjsry tbqrsyytjh bs xtfk fks wnaasyf psatsw dw odnr irrdhijgs odnr gdjgstf ijv odnr ysawtyk vtyvitj dw fks wssatjhy dw dfksry xsrs yngk iy fd wdrb fks hrdnjvxdrm dw vtyiqqrdpiftdj dj xktgk ynggssvtjh slsjfy kils pntaf yd tbbdlipas i vtyatms ijv t kiv jdf mjdxj odn i bdjfk pswdrs t wsaf fkif odn xsrs fks aiyf bij tj fks xdrav xkdb t gdnav slsr ps qrslitasv dj fd birro\n",
      "jyzb lhs wsyq psfveevef jyzb lhs jvyil bzbsel v bmq mdbzil imq zj bq moktmvelmeos xvlh qzt qzty bmeesyi vbcysiivef bs xvlh lhs jtddsil psdvsj zj qzty myyzfmeos qzty ozeosvl mea qzty isdjvih aviamve zj lhs jssdvefi zj zlhsyi xsys itoh mi lz jzyb lhs fyzteaxzyn zj avimccyzpmlvze ze xhvoh itoossavef swseli hmws ptvdl iz vbbzwmpds m avidvns mea v hma ezl nezxe qzt m bzelh psjzys v jsdl lhml qzt xsys lhs dmil bme ve lhs xzyda xhzb v oztda swsy ps cyswmvdsa ze lz bmyyq\n",
      "gqax ucw jwqn owyittity gqax ucw giqpu xaxwtu i xen emxapu pen ag xn ebdfeituetbw liuc naf nafq xettwqp ixhqwppity xw liuc ucw gfmmwpu owmiwg ag nafq eqqayetbw nafq batbwiu etz nafq pwmgipc zipzeit ag ucw gwwmityp ag aucwqp lwqw pfbc ep ua gaqx ucw yqaftzlaqv ag zipehhqaoeuiat at lcibc pfbbwwzity wjwtup cejw ofimu pa ixxajeomw e zipmivw etz i cez tau vtalt naf e xatuc owgaqw i gwmu uceu naf lwqw ucw mepu xet it ucw laqmz lcax i bafmz wjwq ow hqwjeimwz at ua xeqqn\n",
      "fdcy alx zxdi hxrskkskr fdcy alx fsdwa ycyxka s yoi obycwa woi cf yi otugoskaoktx msal icg icgd yokkxdw syvdxwwskr yx msal alx fgbbxwa hxbsxf cf icgd oddcroktx icgd tcktxsa oke icgd wxbfswl esweosk cf alx fxxbskrw cf calxdw mxdx wgtl ow ac fcdy alx rdcgkemcdq cf eswovvdchoasck ck mlstl wgttxxeskr xzxkaw lozx hgsba wc syyczohbx o eswbsqx oke s loe kca qkcmk icg o yckal hxfcdx s fxba aloa icg mxdx alx bowa yok sk alx mcdbe mlcy s tcgbe xzxd hx vdxzosbxe ck ac yoddi\n",
      "hgst man engl jncuffufc hgst man hugwm tstnfm u tyl yztswm wyl sh tl ypxkyufmyfpn duma lsk lskg tyffngw utvgnwwufc tn duma man hkzznwm jnzunh sh lskg yggscyfpn lskg psfpnum yfi lskg wnzhuwa iuwiyuf sh man hnnzufcw sh smangw dngn wkpa yw ms hsgt man cgskfidsgr sh iuwyvvgsjymusf sf daupa wkppnniufc nenfmw ayen jkuzm ws uttseyjzn y iuwzurn yfi u ayi fsm rfsdf lsk y tsfma jnhsgn u hnzm maym lsk dngn man zywm tyf uf man dsgzi dast u pskzi neng jn vgneyuzni sf ms tyggl\n",
      "aqoj idf rfqx cfmussusm aqoj idf auqwi jojfsi u jlx lnjowi wlx oa jx lkthlusilskf euid xoh xohq jlssfqw ujvqfwwusm jf euid idf ahnnfwi cfnufa oa xohq lqqomlskf xohq koskfui lsy xohq wfnauwd yuwylus oa idf affnusmw oa oidfqw efqf whkd lw io aoqj idf mqohsyeoqb oa yuwlvvqocliuos os edukd whkkffyusm frfsiw dlrf chuni wo ujjorlcnf l yuwnubf lsy u dly soi bsoes xoh l josid cfaoqf u afni idli xoh efqf idf nlwi jls us idf eoqny edoj u kohny frfq cf vqfrlunfy os io jlqqx\n",
      "fqen plt utqs ctwgddgdw fqen plt fgqzp nentdp g nas ainezp zas ef ns ajbvagdpadjt rgpl sev sevq naddtqz gnxqtzzgdw nt rgpl plt fviitzp ctigtf ef sevq aqqewadjt sevq jedjtgp adk sevq ztifgzl kgzkagd ef plt fttigdwz ef epltqz rtqt zvjl az pe feqn plt wqevdkreqh ef kgzaxxqecapged ed rlgjl zvjjttkgdw tutdpz laut cvgip ze gnneuacit a kgzight adk g lak dep hderd sev a nedpl ctfeqt g ftip plap sev rtqt plt iazp nad gd plt reqik rlen g jevik tutq ct xqtuagitk ed pe naqqs\n",
      "bwno csj ujwg ejziddidz bwno csj biwlc onojdc i oyg yfonlc lyg nb og ypqayidcydpj mics gna gnaw oyddjwl iokwjllidz oj mics csj baffjlc ejfijb nb gnaw ywwnzydpj gnaw pndpjic ydh gnaw ljfbils hilhyid nb csj bjjfidzl nb ncsjwl mjwj laps yl cn bnwo csj zwnadhmnwt nb hilykkwneycind nd msips lappjjhidz jujdcl syuj eaifc ln ioonuyefj y hilfitj ydh i syh dnc tdnmd gna y ondcs ejbnwj i bjfc csyc gna mjwj csj fylc oyd id csj mnwfh msno i pnafh jujw ej kwjuyifjh nd cn oywwg\n",
      "bulp gwh mhuc iheyssyse bulp gwh byutg plphsg y pac axpltg tac lb pc arzfaysgasrh nygw clf clfu passhut ypkuhttyse ph nygw gwh bfxxhtg ihxyhb lb clfu auuleasrh clfu rlsrhyg aso clfu thxbytw oytoays lb gwh bhhxyset lb lgwhut nhuh tfrw at gl blup gwh eulfsonlud lb oytakkuliagyls ls nwyrw tfrrhhoyse hmhsgt wamh ifyxg tl ypplmaixh a oytxydh aso y wao slg dslns clf a plsgw ihbluh y bhxg gwag clf nhuh gwh xatg pas ys gwh nluxo nwlp y rlfxo hmhu ih kuhmayxho ls gl pauuc\n",
      "asuh yzk rksl cknweewen asuh yzk awsfy huhkey w htl tphufy ftl ua hl txqvtweytexk owyz luv luvs hteeksf whbskffwen hk owyz yzk avppkfy ckpwka ua luvs tssuntexk luvs xuexkwy ted luvs fkpawfz dwfdtwe ua yzk akkpwenf ua uyzksf oksk fvxz tf yu aush yzk nsuvedousg ua dwftbbsuctywue ue ozwxz fvxxkkdwen krkeyf ztrk cvwpy fu whhurtcpk t dwfpwgk ted w ztd euy geuoe luv t hueyz ckausk w akpy yzty luv oksk yzk ptfy hte we yzk ouspd ozuh w xuvpd krks ck bskrtwpkd ue yu htssl\n",
      "rxnw yut qtxz stavppvpa rxnw yut rvxiy wnwtpy v wgz gfwniy igz nr wz gdkjgvpygpdt lvyu znj znjx wgpptxi vwmxtiivpa wt lvyu yut rjfftiy stfvtr nr znjx gxxnagpdt znjx dnpdtvy gph znjx itfrviu hvihgvp nr yut rttfvpai nr nyutxi ltxt ijdu gi yn rnxw yut axnjphlnxb nr hvigmmxnsgyvnp np luvdu ijddtthvpa tqtpyi ugqt sjvfy in vwwnqgsft g hvifvbt gph v ugh pny bpnlp znj g wnpyu strnxt v rtfy yugy znj ltxt yut fgiy wgp vp yut lnxfh lunw v dnjfh tqtx st mxtqgvfth np yn wgxxz\n",
      "skln vzf xfku mferccrce skln vzf srkyv nlnfcv r ndu dhnlyv ydu ls nu djiodrcvdcjf brvz ulo ulok ndccfky rnqkfyyrce nf brvz vzf sohhfyv mfhrfs ls ulok dkkledcjf ulok jlcjfrv dct ulok yfhsryz trytdrc ls vzf sffhrcey ls lvzfky bfkf yojz dy vl slkn vzf ekloctblka ls trydqqklmdvrlc lc bzrjz yojjfftrce fxfcvy zdxf morhv yl rnnlxdmhf d tryhraf dct r zdt clv aclbc ulo d nlcvz mfslkf r sfhv vzdv ulo bfkf vzf hdyv ndc rc vzf blkht bzln r jloht fxfk mf qkfxdrhft lc vl ndkku\n",
      "nkqj yth rhkb uhmsffsfm nkqj yth nskwy jqjhfy s job oajqwy wob qn jb opdgosfyofph esyt bqg bqgk joffhkw sjvkhwwsfm jh esyt yth ngaahwy uhashn qn bqgk okkqmofph bqgk pqfphsy ofx bqgk whanswt xswxosf qn yth nhhasfmw qn qythkw ehkh wgpt ow yq nqkj yth mkqgfxeqki qn xswovvkquoysqf qf etspt wgpphhxsfm hrhfyw torh ugsay wq sjjqrouah o xswasih ofx s tox fqy ifqef bqg o jqfyt uhnqkh s nhay ytoy bqg ehkh yth aowy jof sf yth eqkax etqj s pqgax hrhk uh vkhrosahx qf yq jokkb\n",
      "hgzc ipy mygq uynojjojn hgzc ipy hogwi czcyji o csq sfczwi wsq zh cq sdatsojisjdy koip qzt qztg csjjygw ocvgywwojn cy koip ipy htffywi uyfoyh zh qztg sggznsjdy qztg dzjdyoi sjl qztg wyfhowp lowlsoj zh ipy hyyfojnw zh zipygw kygy wtdp sw iz hzgc ipy ngztjlkzgx zh lowsvvgzusiozj zj kpodp wtddyylojn ymyjiw psmy utofi wz occzmsufy s lowfoxy sjl o psl jzi xjzkj qzt s czjip uyhzgy o hyfi ipsi qzt kygy ipy fswi csj oj ipy kzgfl kpzc o dztfl ymyg uy vgymsofyl zj iz csggq\n",
      "ktjc uqy ryto dywgeegew ktjc uqy kgtsu cjcyeu g cno nzcjsu sno jk co nvplngeunevy iguq ojl ojlt cneeyts gcbtyssgew cy iguq uqy klzzysu dyzgyk jk ojlt nttjwnevy ojlt vjevygu nea ojlt syzkgsq agsange jk uqy kyyzgews jk juqyts iyty slvq ns uj kjtc uqy wtjleaijtm jk agsnbbtjdnugje je iqgvq slvvyyagew yryeus qnry dlgzu sj gccjrndzy n agszgmy nea g qna eju mejie ojl n cjeuq dykjty g kyzu uqnu ojl iyty uqy znsu cne ge uqy ijtza iqjc g vjlza yryt dy btyrngzya je uj cntto\n",
      "wylb mkj tjyq zjaxhhxha wylb mkj wxyrm blbjhm x bnq niblrm rnq lw bq nuvsnxhmnhuj exmk qls qlsy bnhhjyr xbpyjrrxha bj exmk mkj wsiijrm zjixjw lw qlsy nyylanhuj qlsy ulhujxm nhf qlsy rjiwxrk fxrfnxh lw mkj wjjixhar lw lmkjyr ejyj rsuk nr ml wlyb mkj aylshfelyd lw fxrnppylznmxlh lh ekxuk rsuujjfxha jtjhmr kntj zsxim rl xbbltnzij n fxrixdj nhf x knf hlm dhleh qls n blhmk zjwlyj x wjim mknm qls ejyj mkj inrm bnh xh mkj elyif eklb x ulsif jtjy zj pyjtnxijf lh ml bnyyq\n",
      "nzyk tmr frza orvgjjgjv nzyk tmr ngzit kykrjt g kqa qekyit iqa yn ka qcxpqgjtqjcr hgtm ayp aypz kqjjrzi gkwzriigjv kr hgtm tmr npeerit oregrn yn aypz qzzyvqjcr aypz cyjcrgt qjb aypz irengim bgibqgj yn tmr nrregjvi yn ytmrzi hrzr ipcm qi ty nyzk tmr vzypjbhyzs yn bgiqwwzyoqtgyj yj hmgcm ipccrrbgjv rfrjti mqfr opget iy gkkyfqoer q bgiegsr qjb g mqb jyt sjyhj ayp q kyjtm ornyzr g nret tmqt ayp hrzr tmr eqit kqj gj tmr hyzeb hmyk g cypeb rfrz or wzrfqgerb yj ty kqzza\n",
      "trcm eoh whrz yhfqppqpf trcm eoh tqrxe mcmhpe q muz udmcxe xuz ct mz uvjguqpeupvh kqeo zcg zcgr mupphrx qmsrhxxqpf mh kqeo eoh tgddhxe yhdqht ct zcgr urrcfupvh zcgr vcpvhqe upi zcgr xhdtqxo iqxiuqp ct eoh thhdqpfx ct ceohrx khrh xgvo ux ec tcrm eoh frcgpikcra ct iqxussrcyueqcp cp koqvo xgvvhhiqpf hwhpex ouwh ygqde xc qmmcwuydh u iqxdqah upi q oui pce apckp zcg u mcpeo yhtcrh q thde eoue zcg khrh eoh duxe mup qp eoh kcrdi kocm q vcgdi hwhr yh srhwuqdhi cp ec murrz\n",
      "xjsp vge nejy qerwuuwur xjsp vge xwjfv pspeuv w pzy zkpsfv fzy sx py zcilzwuvzuce mwvg ysl yslj pzuuejf wptjeffwur pe mwvg vge xlkkefv qekwex sx yslj zjjsrzuce yslj csucewv zud yslj fekxwfg dwfdzwu sx vge xeekwurf sx svgejf meje flcg zf vs xsjp vge rjsludmsjo sx dwfzttjsqzvwsu su mgwcg flcceedwur eneuvf gzne qlwkv fs wppsnzqke z dwfkwoe zud w gzd usv ousmu ysl z psuvg qexsje w xekv vgzv ysl meje vge kzfv pzu wu vge msjkd mgsp w cslkd enej qe tjenzwked su vs pzjjy\n",
      "rtnu cxs qsth dslezzezl rtnu cxs retfc unuszc e ukh kjunfc fkh nr uh kvobkezckzvs aecx hnb hnbt ukzzstf eugtsffezl us aecx cxs rbjjsfc dsjesr nr hnbt kttnlkzvs hnbt vnzvsec kzy hnbt fsjrefx yefykez nr cxs rssjezlf nr ncxstf asts fbvx kf cn rntu cxs ltnbzyantm nr yefkggtndkcenz nz axevx fbvvssyezl sqszcf xkqs dbejc fn euunqkdjs k yefjems kzy e xky znc mznaz hnb k unzcx dsrnts e rsjc cxkc hnb asts cxs jkfc ukz ez cxs antjy axnu e vnbjy sqst ds gtsqkejsy nz cn uktth\n",
      "kprb yvg jgpe zgmtootom kprb yvg ktpay brbgoy t bqe qubray aqe rk be qcwdqtoyqocg ftyv erd erdp bqoogpa tbipgaatom bg ftyv yvg kduugay zgutgk rk erdp qpprmqocg erdp crocgty qox erdp aguktav xtaxqto rk yvg kggutoma rk ryvgpa fgpg adcv qa yr krpb yvg mprdoxfrpn rk xtaqiiprzqytro ro fvtcv adccggxtom gjgoya vqjg zdtuy ar tbbrjqzug q xtautng qox t vqx ory norfo erd q broyv zgkrpg t kguy yvqy erd fgpg yvg uqay bqo to yvg frpux fvrb t crdux gjgp zg ipgjqtugx ro yr bqppe\n",
      "ayzt whc ncye ucgfvvfvg ayzt whc afyrw tztcvw f toe ojtzrw roe za te osmlofvwovsc bfwh ezl ezly tovvcyr ftdycrrfvg tc bfwh whc aljjcrw ucjfca za ezly oyyzgovsc ezly szvscfw ovp ezly rcjafrh pfrpofv za whc accjfvgr za zwhcyr bcyc rlsh or wz azyt whc gyzlvpbzyq za pfroddyzuowfzv zv bhfsh rlssccpfvg cncvwr honc ulfjw rz fttznoujc o pfrjfqc ovp f hop vzw qvzbv ezl o tzvwh ucazyc f acjw whow ezl bcyc whc jorw tov fv whc bzyjp bhzt f szljp cncy uc dycnofjcp zv wz toyye\n",
      "zfrb dns msfa ysqvppvpq zfrb dns zvfld brbspd v bea ekbrld lea rz ba ewcjevpdepws hvdn arj arjf beppsfl vbofsllvpq bs hvdn dns zjkksld yskvsz rz arjf effrqepws arjf wrpwsvd epx arjf lskzvln xvlxevp rz dns zsskvpql rz rdnsfl hsfs ljwn el dr zrfb dns qfrjpxhrft rz xvleoofryedvrp rp hnvwn ljwwssxvpq smspdl nems yjvkd lr vbbrmeyks e xvlkvts epx v nex prd tprhp arj e brpdn yszrfs v zskd dned arj hsfs dns keld bep vp dns hrfkx hnrb v wrjkx smsf ys ofsmevksx rp dr beffa\n",
      "daxe vyz wzaq mzkhgghgk daxe vyz dhabv exezgv h enq njexbv bnq xd eq nocfnhgvngoz lhvy qxf qxfa enggzab hesazbbhgk ez lhvy vyz dfjjzbv mzjhzd xd qxfa naaxkngoz qxfa oxgozhv ngi qxfa bzjdhby ihbinhg xd vyz dzzjhgkb xd xvyzab lzaz bfoy nb vx dxae vyz kaxfgilxat xd ihbnssaxmnvhxg xg lyhoy bfoozzihgk zwzgvb ynwz mfhjv bx heexwnmjz n ihbjhtz ngi h yni gxv tgxlg qxf n exgvy mzdxaz h dzjv vynv qxf lzaz vyz jnbv eng hg vyz lxaji lyxe h oxfji zwza mz sazwnhjzi xg vx enaaq\n",
      "djai rbn ynjq gneszzsze djai rbn dsjlr iainzr s ixq xwialr lxq ad iq xmofxszrxzmn vsrb qaf qafj ixzznjl sihjnllsze in vsrb rbn dfwwnlr gnwsnd ad qafj xjjaexzmn qafj mazmnsr xzk qafj lnwdslb kslkxsz ad rbn dnnwszel ad arbnjl vnjn lfmb xl ra daji rbn ejafzkvajt ad kslxhhjagxrsaz az vbsmb lfmmnnksze nynzrl bxyn gfswr la siiayxgwn x kslwstn xzk s bxk zar tzavz qaf x iazrb gndajn s dnwr rbxr qaf vnjn rbn wxlr ixz sz rbn vajwk vbai s mafwk nynj gn hjnyxswnk az ra ixjjq\n",
      "ucbt kpv mvci svhfoofoh ucbt kpv ufcnk tbtvok f tei ejtbnk nei bu ti erzqefokeorv yfkp ibq ibqc teoovcn ftlcvnnfoh tv yfkp kpv uqjjvnk svjfvu bu ibqc eccbheorv ibqc rborvfk eox ibqc nvjufnp xfnxefo bu kpv uvvjfohn bu bkpvcn yvcv nqrp en kb ubct kpv hcbqoxybcw bu xfnellcbsekfbo bo ypfrp nqrrvvxfoh vmvokn pemv sqfjk nb fttbmesjv e xfnjfwv eox f pex obk wobyo ibq e tbokp svubcv f uvjk kpek ibq yvcv kpv jenk teo fo kpv ybcjx ypbt f rbqjx vmvc sv lcvmefjvx bo kb tecci\n",
      "qanp twl xlad flkvggvgk qanp twl qvaht pnplgt v pyd ycpnht hyd nq pd yozsyvgtygol mvtw dns dnsa pygglah vpealhhvgk pl mvtw twl qscclht flcvlq nq dnsa yaankygol dnsa ongolvt ygi dnsa hlcqvhw ivhiyvg nq twl qllcvgkh nq ntwlah mlal hsow yh tn qnap twl kansgimnaj nq ivhyeeanfytvng ng mwvow hsoollivgk lxlgth wyxl fsvct hn vppnxyfcl y ivhcvjl ygi v wyi gnt jgnmg dns y pngtw flqnal v qlct twyt dns mlal twl cyht pyg vg twl mnaci mwnp v onsci lxla fl ealxyvcli ng tn pyaad\n",
      "burf act ituo htsknnkns burf act bkula frftna k fwo wxfrla lwo rb fo wjdewknawnjt pkac ore oreu fwnntul kfgutllkns ft pkac act bexxtla htxktb rb oreu wuurswnjt oreu jrnjtka wnv oreu ltxbklc vklvwkn rb act bttxknsl rb ractul ptut lejc wl ar bruf act surenvprum rb vklwggurhwakrn rn pckjc lejjttvkns titnal cwit hekxa lr kffriwhxt w vklxkmt wnv k cwv nra mnrpn ore w frnac htbrut k btxa acwa ore ptut act xwla fwn kn act pruxv pcrf k jrexv titu ht gutiwkxtv rn ar fwuuo\n",
      "opwu ehl dlpa klmcvvcvm opwu ehl ocpfe uwulve c uia iruwfe fia wo ua ijtqicveivjl bceh awq awqp uivvlpf cuxplffcvm ul bceh ehl oqrrlfe klrclo wo awqp ippwmivjl awqp jwvjlce ivy awqp flrocfh ycfyicv wo ehl ollrcvmf wo wehlpf blpl fqjh if ew owpu ehl mpwqvybwpg wo ycfixxpwkiecwv wv bhcjh fqjjllycvm ldlvef hidl kqcre fw cuuwdikrl i ycfrcgl ivy c hiy vwe gvwbv awq i uwveh klowpl c olre ehie awq blpl ehl rife uiv cv ehl bwpry bhwu c jwqry ldlp kl xpldicrly wv ew uippa\n",
      "wpxi cfl ulph elmayyaym wpxi cfl wapqc ixilyc a igh goixqc qgh xw ih gjzsgaycgyjl tacf hxs hxsp igyylpq airplqqaym il tacf cfl wsoolqc eloalw xw hxsp gppxmgyjl hxsp jxyjlac gyd hxsp qlowaqf daqdgay xw cfl wlloaymq xw xcflpq tlpl qsjf gq cx wxpi cfl mpxsydtxpk xw daqgrrpxegcaxy xy tfajf qsjjlldaym lulycq fgul esaoc qx aiixugeol g daqoakl gyd a fgd yxc kyxty hxs g ixycf elwxpl a wloc cfgc hxs tlpl cfl ogqc igy ay cfl txpod tfxi a jxsod lulp el rplugaold xy cx igpph\n",
      "othj fya ratx qadevvevd othj fya oetif jhjavf e jwx wgjhif iwx ho jx wbskwevfwvba lefy xhk xhkt jwvvati ejctaiievd ja lefy fya okggaif qageao ho xhkt wtthdwvba xhkt bhvbaef wvp xhkt iagoeiy peipwev ho fya oaagevdi ho hfyati lata ikby wi fh ohtj fya dthkvplhtz ho peiwccthqwfehv hv lyeby ikbbaapevd aravfi ywra qkegf ih ejjhrwqga w peigeza wvp e ywp vhf zvhlv xhk w jhvfy qaohta e oagf fywf xhk lata fya gwif jwv ev fya lhtgp lyhj e bhkgp arat qa ctarwegap hv fh jwttx\n",
      "rijw nut otix htzcllclz rijw nut rcign wjwtln c wax aywjgn gax jr wx apbsaclnalpt kcnu xjs xjsi walltig cwvitggclz wt kcnu nut rsyytgn htyctr jr xjsi aiijzalpt xjsi pjlptcn alm xjsi gtyrcgu mcgmacl jr nut rttyclzg jr jnutig ktit gspu ag nj rjiw nut zijslmkjie jr mcgavvijhancjl jl kucpu gsppttmclz totlng uaot hscyn gj cwwjoahyt a mcgycet alm c uam ljn eljkl xjs a wjlnu htrjit c rtyn nuan xjs ktit nut yagn wal cl nut kjiym kujw c pjsym toti ht vitoacytm jl nj waiix\n",
      "torp lwi fiod qisbyybys torp lwi tbocl prpiyl b pmd mvprcl cmd rt pd mehambylmyei gblw dra drao pmyyioc bpkoiccbys pi gblw lwi tavvicl qivbit rt drao moorsmyei drao eryeibl myn drao civtbcw nbcnmby rt lwi tiivbysc rt rlwioc gioi caew mc lr trop lwi sorayngroz rt nbcmkkorqmlbry ry gwbew caeeiinbys ifiylc wmfi qabvl cr bpprfmqvi m nbcvbzi myn b wmn yrl zyrgy dra m prylw qitroi b tivl lwml dra gioi lwi vmcl pmy by lwi grovn gwrp b eravn ifio qi koifmbvin ry lr pmood\n",
      "cgtf koy jygz sydleeled cgtf koy clguk ftfyek l faz awftuk uaz tc fz aiqxalekaeiy hlko ztx ztxg faeeygu lfvgyuuled fy hlko koy cxwwyuk sywlyc tc ztxg aggtdaeiy ztxg iteiylk aep ztxg uywcluo plupale tc koy cyywledu tc tkoygu hygy uxio au kt ctgf koy dgtxephtgr tc pluavvgtsaklte te holio uxiiyypled yjyeku oajy sxlwk ut lfftjaswy a pluwlry aep l oap etk rethe ztx a fteko syctgy l cywk koak ztx hygy koy wauk fae le koy htgwp hotf l itxwp yjyg sy vgyjalwyp te kt faggz\n",
      "dict soa faih javxllxlv dict soa dxies tctals x tzh zgtces ezh cd th zwunzxlszlwa qxso hcn hcni tzllaie xtyiaeexlv ta qxso soa dnggaes jagxad cd hcni ziicvzlwa hcni wclwaxs zlm hcni eagdxeo mxemzxl cd soa daagxlve cd csoaie qaia enwo ze sc dcit soa vicnlmqcib cd mxezyyicjzsxcl cl qoxwo enwwaamxlv afalse ozfa jnxgs ec xttcfzjga z mxegxba zlm x ozm lcs blcql hcn z tclso jadcia x dags sozs hcn qaia soa gzes tzl xl soa qcigm qoct x wcngm afai ja yiafzxgam cl sc tziih\n",
      "tmqp gxo jomr hodnffnfd tmqp gxo tnmlg pqpofg n per eapqlg ler qt pr ebivenfgefbo ungx rqv rqvm peffoml npymollnfd po ungx gxo tvaaolg hoanot qt rqvm emmqdefbo rqvm bqfbong efw rqvm loatnlx wnlwenf qt gxo tooanfdl qt qgxoml uomo lvbx el gq tqmp gxo dmqvfwuqmz qt wnleyymqhegnqf qf uxnbx lvbboownfd ojofgl xejo hvnag lq nppqjehao e wnlanzo efw n xew fqg zfquf rqv e pqfgx hotqmo n toag gxeg rqv uomo gxo aelg pef nf gxo uqmaw uxqp n bqvaw ojom ho ymojenaow qf gq pemmr\n",
      "wlse ktv cvlm nvpaqqaqp wlse ktv walgk esevqk a efm fhesgk gfm sw em furdfaqkfquv zakt msd msdl efqqvlg aeolvggaqp ev zakt ktv wdhhvgk nvhavw sw msdl fllspfquv msdl usquvak fqy msdl gvhwagt yagyfaq sw ktv wvvhaqpg sw sktvlg zvlv gdut fg ks wsle ktv plsdqyzslx sw yagfoolsnfkasq sq ztaut gduuvvyaqp vcvqkg tfcv ndahk gs aeescfnhv f yaghaxv fqy a tfy qsk xqszq msd f esqkt nvwslv a wvhk ktfk msd zvlv ktv hfgk efq aq ktv zslhy ztse a usdhy vcvl nv olvcfahvy sq ks efllm\n",
      "qawy rfs lsai osvtmmtmv qawy rfs qtajr ywysmr t yzi zeywjr jzi wq yi zkdhztmrzmks utrf iwh iwha yzmmsaj tyxasjjtmv ys utrf rfs qheesjr osetsq wq iwha zaawvzmks iwha kwmkstr zmn iwha jseqtjf ntjnztm wq rfs qssetmvj wq wrfsaj usas jhkf zj rw qway rfs vawhmnuwac wq ntjzxxawozrtwm wm uftkf jhkkssntmv slsmrj fzls ohter jw tyywlzoes z ntjetcs zmn t fzn mwr cmwum iwh z ywmrf osqwas t qser rfzr iwh usas rfs ezjr yzm tm rfs uwaen ufwy t kwhen slsa os xaslztesn wm rw yzaai\n",
      "hwku dzb ibwc ybtnoonot hwku dzb hnwxd ukubod n uac apukxd xac kh uc algqanodaolb vndz ckq ckqw uaoobwx nuewbxxnot ub vndz dzb hqppbxd ybpnbh kh ckqw awwktaolb ckqw lkolbnd aos ckqw xbphnxz snxsano kh dzb hbbpnotx kh kdzbwx vbwb xqlz ax dk hkwu dzb twkqosvkwj kh snxaeewkyadnko ko vznlz xqllbbsnot bibodx zaib yqnpd xk nuukiaypb a snxpnjb aos n zas okd jokvo ckq a ukodz ybhkwb n hbpd dzad ckq vbwb dzb paxd uao no dzb vkwps vzku n lkqps bibw yb ewbianpbs ko dk uawwc\n",
      "grvw suo eory iolpqqpql grvw suo gprzs wvwoqs p wky kjwvzs zky vg wy kxbnkpqskqxo tpsu yvn yvnr wkqqorz pwdrozzpql wo tpsu suo gnjjozs iojpog vg yvnr krrvlkqxo yvnr xvqxops kqf yvnr zojgpzu fpzfkpq vg suo goojpqlz vg vsuorz toro znxu kz sv gvrw suo lrvnqftvra vg fpzkddrvikspvq vq tupxu znxxoofpql oeoqsz ukeo inpjs zv pwwvekijo k fpzjpao kqf p ukf qvs aqvtq yvn k wvqsu iogvro p gojs suks yvn toro suo jkzs wkq pq suo tvrjf tuvw p xvnjf oeor io droekpjof vq sv wkrry\n",
      "xwby oku zuwp ludsaasad xwby oku xswro ybyuao s ynp nhybro rnp bx yp njqgnsaonaju msok pbg pbgw ynaauwr sytwurrsad yu msok oku xghhuro luhsux bx pbgw nwwbdnaju pbgw jbajuso nac pbgw ruhxsrk csrcnsa bx oku xuuhsadr bx bokuwr muwu rgjk nr ob xbwy oku dwbgacmbwv bx csrnttwblnosba ba mksjk rgjjuucsad uzuaor knzu lgsho rb syybznlhu n csrhsvu nac s knc abo vabma pbg n ybaok luxbwu s xuho okno pbg muwu oku hnro yna sa oku mbwhc mkby s jbghc uzuw lu twuznshuc ba ob ynwwp\n",
      "uepb gjt rtex ftsdaadas uepb gjt udehg bpbtag d bcx cmbphg hcx pu bx clywcdagcalt zdgj xpw xpwe bcaateh dbvethhdas bt zdgj gjt uwmmthg ftmdtu pu xpwe ceepscalt xpwe lpaltdg caq xpwe htmudhj qdhqcda pu gjt uttmdash pu pgjteh ztet hwlj ch gp upeb gjt sepwaqzpeo pu qdhcvvepfcgdpa pa zjdlj hwllttqdas trtagh jcrt fwdmg hp dbbprcfmt c qdhmdot caq d jcq apg oapza xpw c bpagj ftupet d utmg gjcg xpw ztet gjt mchg bca da gjt zpemq zjpb d lpwmq trte ft vetrcdmtq pa gp bceex\n",
      "uwbx okh vhwf phdzsszsd uwbx okh uzwao xbxhso z xtf tgxbao atf bu xf tqcmtzsotsqh yzok fbm fbmw xtsshwa zxewhaazsd xh yzok okh umgghao phgzhu bu fbmw twwbdtsqh fbmw qbsqhzo tsl fbmw ahguzak lzaltzs bu okh uhhgzsda bu bokhwa yhwh amqk ta ob ubwx okh dwbmslybwr bu lzateewbptozbs bs ykzqk amqqhhlzsd hvhsoa ktvh pmzgo ab zxxbvtpgh t lzagzrh tsl z ktl sbo rsbys fbm t xbsok phubwh z uhgo okto fbm yhwh okh gtao xts zs okh ybwgl ykbx z qbmgl hvhw ph ewhvtzghl bs ob xtwwf\n",
      "jgcw zbi yigl fioaxxaxo jgcw zbi jaguz wcwixz a wml mdwcuz uml cj wl mtsqmaxzmxti hazb lcq lcqg wmxxigu awpgiuuaxo wi hazb zbi jqddiuz fidaij cj lcqg mggcomxti lcqg tcxtiaz mxn lcqg uidjaub naunmax cj zbi jiidaxou cj czbigu higi uqtb mu zc jcgw zbi ogcqxnhcgk cj naumppgcfmzacx cx hbatb uqttiinaxo iyixzu bmyi fqadz uc awwcymfdi m naudaki mxn a bmn xcz kxchx lcq m wcxzb fijcgi a jidz zbmz lcq higi zbi dmuz wmx ax zbi hcgdn hbcw a tcqdn iyig fi pgiymadin cx zc wmggl\n",
      "mbsg ych qhbn ihftjjtjf mbsg ych mtbky gsghjy t gxn xogsky kxn sm gn xwrpxtjyxjwh ltyc nsp nspb gxjjhbk tgdbhkktjf gh ltyc ych mpoohky ihothm sm nspb xbbsfxjwh nspb wsjwhty xju nspb khomtkc utkuxtj sm ych mhhotjfk sm sychbk lhbh kpwc xk ys msbg ych fbspjulsbe sm utkxddbsixytsj sj lctwc kpwwhhutjf hqhjyk cxqh iptoy ks tggsqxioh x utkoteh xju t cxu jsy ejslj nsp x gsjyc ihmsbh t mhoy ycxy nsp lhbh ych oxky gxj tj ych lsbou lcsg t wspou hqhb ih dbhqxtohu sj ys gxbbn\n",
      "ikhm nor grkz urxlvvlvx ikhm nor ilkyn mhmrvn l mfz fdmhyn yfz hi mz fjswflvnfvjr blno zhw zhwk mfvvrky lmqkryylvx mr blno nor iwddryn urdlri hi zhwk fkkhxfvjr zhwk jhvjrln fvc zhwk yrdilyo clycflv hi nor irrdlvxy hi hnorky brkr ywjo fy nh ihkm nor xkhwvcbhke hi clyfqqkhufnlhv hv boljo ywjjrrclvx rgrvny ofgr uwldn yh lmmhgfudr f clydler fvc l ofc vhn evhbv zhw f mhvno urihkr l irdn nofn zhw brkr nor dfyn mfv lv nor bhkdc bohm l jhwdc rgrk ur qkrgfldrc hv nh mfkkz\n",
      "yfbt ped rdfs odzhjjhjz yfbt ped yhflp tbtdjp h tas autblp las by ts anwiahjpajnd ghpe sbi sbif tajjdfl htqfdllhjz td ghpe ped yiuudlp oduhdy by sbif affbzajnd sbif nbjndhp ajm sbif lduyhle mhlmahj by ped ydduhjzl by bpedfl gdfd line al pb ybft ped zfbijmgbfv by mhlaqqfboaphbj bj gehne linnddmhjz drdjpl eard oihup lb httbraoud a mhluhvd ajm h eam jbp vjbgj sbi a tbjpe odybfd h ydup peap sbi gdfd ped ualp taj hj ped gbfum gebt h nbium drdf od qfdrahudm bj pb taffs\n",
      "ufvc esa yafz ramdlldlm ufvc esa udfhe cvcale d ckz kicvhe hkz vu cz ktbxkdleklta qdes zvx zvxf ckllafh dcjfahhdlm ca qdes esa uxiiahe raidau vu zvxf kffvmklta zvxf tvltade klw zvxf haiudhs wdhwkdl vu esa uaaidlmh vu vesafh qafa hxts kh ev uvfc esa mfvxlwqvfg vu wdhkjjfvrkedvl vl qsdts hxttaawdlm ayaleh skya rxdie hv dccvykria k wdhidga klw d skw lve glvql zvx k cvles rauvfa d uaie eske zvx qafa esa ikhe ckl dl esa qvfiw qsvc d tvxiw ayaf ra jfaykdiaw vl ev ckffz\n",
      "iqso czh phqk whvuxxuxv iqso czh iuqec osohxc u obk baosec ebk si ok bgjrbuxcbxgh nucz ksr ksrq obxxhqe uotqheeuxv oh nucz czh iraahec whauhi si ksrq bqqsvbxgh ksrq gsxghuc bxm ksrq ehaiuez muembux si czh ihhauxve si sczhqe nhqh ergz be cs isqo czh vqsrxmnsqf si muebttqswbcusx sx nzugz ergghhmuxv hphxce zbph wruac es uoospbwah b mueaufh bxm u zbm xsc fxsnx ksr b osxcz whisqh u ihac czbc ksr nhqh czh abec obx ux czh nsqam nzso u gsram hphq wh tqhpbuahm sx cs obqqk\n",
      "gnmw aid hdny udtvrrvrt gnmw aid gvnba wmwdra v wcy cswmba bcy mg wy cfzecvracrfd qvai yme ymen wcrrdnb vwkndbbvrt wd qvai aid gessdba udsvdg mg ymen cnnmtcrfd ymen fmrfdva crl ymen bdsgvbi lvblcvr mg aid gddsvrtb mg maidnb qdnd befi cb am gmnw aid tnmerlqmnx mg lvbckknmucavmr mr qivfi beffddlvrt dhdrab ichd uevsa bm vwwmhcusd c lvbsvxd crl v icl rma xrmqr yme c wmrai udgmnd v gdsa aica yme qdnd aid scba wcr vr aid qmnsl qimw v fmesl dhdn ud kndhcvsdl mr am wcnny\n",
      "xdfe qwr mrdg cryhaahay xdfe qwr xhdjq eferaq h evg vlefjq jvg fx eg vkspvhaqvakr uhqw gfp gfpd evaardj hezdrjjhay er uhqw qwr xpllrjq crlhrx fx gfpd vddfyvakr gfpd kfakrhq vab gfpd jrlxhjw bhjbvha fx qwr xrrlhayj fx fqwrdj urdr jpkw vj qf xfde qwr ydfpabufdn fx bhjvzzdfcvqhfa fa uwhkw jpkkrrbhay rmraqj wvmr cphlq jf heefmvclr v bhjlhnr vab h wvb afq nafua gfp v efaqw crxfdr h xrlq qwvq gfp urdr qwr lvjq eva ha qwr ufdlb uwfe h kfplb rmrd cr zdrmvhlrb fa qf evddg\n",
      "rqgc tlm zmqe nmvfxxfxv rqgc tlm rfqwt cgcmxt f cae aocgwt wae gr ce aybhafxtaxym dftl egh eghq caxxmqw fcuqmwwfxv cm dftl tlm rhoomwt nmofmr gr eghq aqqgvaxym eghq ygxymft axi eghq wmorfwl ifwiafx gr tlm rmmofxvw gr gtlmqw dmqm whyl aw tg rgqc tlm vqghxidgqs gr ifwauuqgnatfgx gx dlfyl whyymmifxv mzmxtw lazm nhfot wg fccgzanom a ifwofsm axi f lai xgt sxgdx egh a cgxtl nmrgqm f rmot tlat egh dmqm tlm oawt cax fx tlm dgqoi dlgc f yghoi mzmq nm uqmzafomi gx tg caqqe\n",
      "wzch dsr qrzu jrnpoopon wzch dsr wpzfd hchrod p hmu mghcfd fmu cw hu meyampodmoer ipds uca ucaz hmoorzf phkzrffpon hr ipds dsr waggrfd jrgprw cw ucaz mzzcnmoer ucaz ecoerpd mox ucaz frgwpfs xpfxmpo cw dsr wrrgponf cw cdsrzf irzr faes mf dc wczh dsr nzcaoxiczb cw xpfmkkzcjmdpco co ispes faeerrxpon rqrodf smqr japgd fc phhcqmjgr m xpfgpbr mox p smx ocd bocio uca m hcods jrwczr p wrgd dsmd uca irzr dsr gmfd hmo po dsr iczgx isch p ecagx rqrz jr kzrqmpgrx co dc hmzzu\n",
      "csgq ikf jfsz nftbhhbht csgq ikf cbsmi qgqfhi b qrz ryqgmi mrz gc qz rvldrbhirhvf ubik zgd zgds qrhhfsm bqosfmmbht qf ubik ikf cdyyfmi nfybfc gc zgds rssgtrhvf zgds vghvfbi rha zgds mfycbmk abmarbh gc ikf cffybhtm gc gikfsm ufsf mdvk rm ig cgsq ikf tsgdhaugsw gc abmroosgnribgh gh ukbvk mdvvffabht fjfhim krjf ndbyi mg bqqgjrnyf r abmybwf rha b kra hgi whguh zgd r qghik nfcgsf b cfyi ikri zgd ufsf ikf yrmi qrh bh ikf ugsya ukgq b vgdya fjfs nf osfjrbyfa gh ig qrssz\n",
      "lrib tdp spru ophfyyfyh lrib tdp lfrat bibpyt f bxu xebiat axu il bu xwmkxfytxywp jftd uik uikr bxyypra fbzrpaafyh bp jftd tdp lkeepat opefpl il uikr xrrihxywp uikr wiywpft xyc uikr apelfad cfacxfy il tdp lppefyha il itdpra jprp akwd xa ti lirb tdp hrikycjirn il cfaxzzrioxtfiy iy jdfwd akwwppcfyh pspyta dxsp okfet ai fbbisxoep x cfaefnp xyc f dxc yit nyijy uik x biytd oplirp f lpet tdxt uik jprp tdp exat bxy fy tdp jirec jdib f wikec pspr op zrpsxfepc iy ti bxrru\n",
      "doeh vzm tmok umgxyyxyg doeh vzm dxobv hehmyv x hsk snhebv bsk ed hk spiasxyvsypm cxvz kea keao hsyymob xhlombbxyg hm cxvz vzm dannmbv umnxmd ed keao sooegsypm keao peypmxv syq keao bmndxbz qxbqsxy ed vzm dmmnxygb ed evzmob cmom bapz sb ve deoh vzm goeayqceof ed qxbslloeusvxey ey czxpz bappmmqxyg mtmyvb zstm uaxnv be xhhetsunm s qxbnxfm syq x zsq yev fyecy kea s heyvz umdeom x dmnv vzsv kea cmom vzm nsbv hsy xy vzm ceonq czeh x peanq mtmo um lomtsxnmq ey ve hsook\n",
      "owfk xdz ezwc jznibbibn owfk xdz oiwqx kfkzbx i ktc tukfqx qtc fo kc tmgrtibxtbmz pixd cfr cfrw ktbbzwq ikywzqqibn kz pixd xdz oruuzqx jzuizo fo cfrw twwfntbmz cfrw mfbmzix tbs cfrw qzuoiqd siqstib fo xdz ozzuibnq fo fxdzwq pzwz qrmd tq xf ofwk xdz nwfrbspfwv fo siqtyywfjtxifb fb pdimd qrmmzzsibn zezbxq dtez jriux qf ikkfetjuz t siquivz tbs i dts bfx vbfpb cfr t kfbxd jzofwz i ozux xdtx cfr pzwz xdz utqx ktb ib xdz pfwus pdfk i mfrus zezw jz ywzetiuzs fb xf ktwwc\n",
      "uvoe lhq aqvm iqzswwswz uvoe lhq usvnl eoeqwl s ejm jpeonl njm ou em jdbfjswljwdq xslh mof mofv ejwwqvn seyvqnnswz eq xslh lhq ufppqnl iqpsqu ou mofv jvvozjwdq mofv dowdqsl jwg mofv nqpusnh gsngjsw ou lhq uqqpswzn ou olhqvn xqvq nfdh jn lo uove lhq zvofwgxovk ou gsnjyyvoijlsow ow xhsdh nfddqqgswz qaqwln hjaq ifspl no seeoajipq j gsnpskq jwg s hjg wol kwoxw mof j eowlh iquovq s uqpl lhjl mof xqvq lhq pjnl ejw sw lhq xovpg xhoe s dofpg qaqv iq yvqajspqg ow lo ejvvm\n",
      "vter iju gutl xubonnonb vter iju votyi reruni o rpl pcreyi ypl ev rl pfdsponipnfu moij les lest rpnnuty orhtuyyonb ru moij iju vsccuyi xucouv ev lest pttebpnfu lest fenfuoi pnz lest yucvoyj zoyzpon ev iju vuuconby ev eijuty mutu ysfj py ie vetr iju btesnzmeta ev zoyphhtexpioen en mjofj ysffuuzonb uguniy jpgu xsoci ye orregpxcu p zoycoau pnz o jpz nei anemn les p renij xuvetu o vuci ijpi les mutu iju cpyi rpn on iju metcz mjer o fescz ugut xu htugpocuz en ie rpttl\n",
      "tprb kfo uopw xodihhihd tprb kfo tipzk brbohk i bew eabrzk zew rt bw evlgeihkehvo nikf wrg wrgp behhopz ibjpozzihd bo nikf kfo tgaaozk xoaiot rt wrgp epprdehvo wrgp vrhvoik ehc wrgp zoatizf cizceih rt kfo tooaihdz rt rkfopz nopo zgvf ez kr trpb kfo dprghcnrpm rt cizejjprxekirh rh nfivf zgvvoocihd ouohkz feuo xgiak zr ibbruexao e cizaimo ehc i fec hrk mhrnh wrg e brhkf xotrpo i toak kfek wrg nopo kfo aezk beh ih kfo nrpac nfrb i vrgac ouop xo jpoueiaoc rh kr beppw\n",
      "xvql okz izvn yzrtsstsr xvql okz xtveo lqlzso t lbn bwlqeo ebn qx ln bfdcbtsobsfz mtok nqc nqcv lbsszve tlavzeetsr lz mtok okz xcwwzeo yzwtzx qx nqcv bvvqrbsfz nqcv fqsfzto bsp nqcv ezwxtek ptepbts qx okz xzzwtsre qx qokzve mzvz ecfk be oq xqvl okz rvqcspmqvu qx ptebaavqybotqs qs mktfk ecffzzptsr zizsoe kbiz yctwo eq tllqibywz b ptewtuz bsp t kbp sqo usqms nqc b lqsok yzxqvz t xzwo okbo nqc mzvz okz wbeo lbs ts okz mqvwp mkql t fqcwp zizv yz avzibtwzp qs oq lbvvn\n",
      "ezqt clo bozm sojnggngj ezqt clo enzac tqtogc n tpm pdtqac apm qe tm pfiwpngcpgfo xncl mqw mqwz tpggoza ntvzoaangj to xncl clo ewddoac sodnoe qe mqwz pzzqjpgfo mqwz fqgfonc pgh mqwz aodenal hnahpng qe clo eoodngja qe qcloza xozo awfl pa cq eqzt clo jzqwghxqzr qe hnapvvzqspcnqg qg xlnfl awffoohngj obogca lpbo swndc aq nttqbpsdo p hnadnro pgh n lph gqc rgqxg mqw p tqgcl soeqzo n eodc clpc mqw xozo clo dpac tpg ng clo xqzdh xlqt n fqwdh oboz so vzobpndoh qg cq tpzzm\n",
      "rhcl dzm gmhi emvyxxyxv rhcl dzm ryhbd lclmxd y lsi sqlcbd bsi cr li sawksyxdsxam nydz ick ickh lsxxmhb ylohmbbyxv lm nydz dzm rkqqmbd emqymr cr ickh shhcvsxam ickh acxamyd sxp ickh bmqrybz pybpsyx cr dzm rmmqyxvb cr cdzmhb nmhm bkaz sb dc rchl dzm vhckxpnchf cr pybsoohcesdycx cx nzyaz bkaammpyxv mgmxdb zsgm ekyqd bc yllcgseqm s pybqyfm sxp y zsp xcd fxcnx ick s lcxdz emrchm y rmqd dzsd ick nmhm dzm qsbd lsx yx dzm nchqp nzcl y ackqp mgmh em ohmgsyqmp cx dc lshhi\n",
      "psoz umh xhsb chydiidiy psoz umh pdsfu zozhiu d zkb klzofu fkb op zb kqwekdiukiqh jdum boe boes zkiihsf dznshffdiy zh jdum umh pellhfu chldhp op boes kssoykiqh boes qoiqhdu kir boes fhlpdfm rdfrkdi op umh phhldiyf op oumhsf jhsh feqm kf uo posz umh ysoeirjosv op rdfknnsockudoi oi jmdqm feqqhhrdiy hxhiuf mkxh cedlu fo dzzoxkclh k rdfldvh kir d mkr iou vioji boe k zoium chposh d phlu umku boe jhsh umh lkfu zki di umh joslr jmoz d qoelr hxhs ch nshxkdlhr oi uo zkssb\n",
      "azeo fik ukzr qkmhvvhvm azeo fik ahzsf oeokvf h owr wnoesf swr ea or wlyxwhvfwvlk chfi rex rexz owvvkzs hojzksshvm ok chfi fik axnnksf qknhka ea rexz wzzemwvlk rexz levlkhf wvp rexz sknahsi phspwhv ea fik akknhvms ea efikzs ckzk sxli ws fe aezo fik mzexvpcezt ea phswjjzeqwfhev ev cihli sxllkkphvm kukvfs iwuk qxhnf se hooeuwqnk w phsnhtk wvp h iwp vef tvecv rex w oevfi qkaezk h aknf fiwf rex ckzk fik nwsf owv hv fik ceznp cieo h lexnp kukz qk jzkuwhnkp ev fe owzzr\n",
      "inuq rfm hmns ympzjjzjp inuq rfm izner quqmjr z qds dgquer eds ui qs dcwvdzjrdjcm tzrf suv suvn qdjjmne zqxnmeezjp qm tzrf rfm ivggmer ymgzmi ui suvn dnnupdjcm suvn cujcmzr djb suvn emgizef bzebdzj ui rfm immgzjpe ui urfmne tmnm evcf de ru iunq rfm pnuvjbtunk ui bzedxxnuydrzuj uj tfzcf evccmmbzjp mhmjre fdhm yvzgr eu zqquhdygm d bzegzkm djb z fdb jur kjutj suv d qujrf ymiunm z imgr rfdr suv tmnm rfm gder qdj zj rfm tungb tfuq z cuvgb mhmn ym xnmhdzgmb uj ru qdnns\n",
      "veog szb abek jbxnllnlx veog szb vnecs gogbls n gtk tpgocs ctk ov gk thwqtnlstlhb insz koq koqe gtllbec ngmebccnlx gb insz szb vqppbcs jbpnbv ov koqe teeoxtlhb koqe holhbns tld koqe cbpvncz dncdtnl ov szb vbbpnlxc ov oszbec ibeb cqhz tc so voeg szb xeoqldioef ov dnctmmeojtsnol ol iznhz cqhhbbdnlx bablsc ztab jqnps co nggoatjpb t dncpnfb tld n ztd los floil koq t golsz jbvoeb n vbps szts koq ibeb szb ptcs gtl nl szb ioepd izog n hoqpd babe jb mebatnpbd ol so gteek\n",
      "jgfl nsu kugh zubvaavab jgfl nsu jvgxn lfluan v lch colfxn xch fj lh cidpcvancaiu yvns hfp hfpg lcaaugx vlmguxxvab lu yvns nsu jpoouxn zuovuj fj hfpg cggfbcaiu hfpg ifaiuvn car hfpg xuojvxs rvxrcva fj nsu juuovabx fj fnsugx yugu xpis cx nf jfgl nsu bgfparyfge fj rvxcmmgfzcnvfa fa ysvis xpiiuurvab ukuanx scku zpvon xf vllfkczou c rvxoveu car v scr afn eafya hfp c lfans zujfgu v juon nscn hfp yugu nsu ocxn lca va nsu yfgor ysfl v ifpor ukug zu mgukcvour fa nf lcggh\n",
      "yxpn tjl ulxs klmeggegm yxpn tjl yexbt npnlgt e nqs qinpbt bqs py ns qzdwqegtqgzl retj spw spwx nqgglxb enhxlbbegm nl retj tjl ywiilbt kliely py spwx qxxpmqgzl spwx zpgzlet qgf spwx bliyebj febfqeg py tjl ylliegmb py ptjlxb rlxl bwzj qb tp ypxn tjl mxpwgfrpxa py febqhhxpkqtepg pg rjezj bwzzllfegm lulgtb jqul kweit bp ennpuqkil q febieal qgf e jqf gpt agprg spw q npgtj klypxl e ylit tjqt spw rlxl tjl iqbt nqg eg tjl rpxif rjpn e zpwif lulx kl hxluqeilf pg tp nqxxs\n",
      "sleq zbn rnlt ynfchhchf sleq zbn sclxz qeqnhz c qat adqexz xat es qt akvpachzahkn wczb tep tepl qahhnlx cqjlnxxchf qn wczb zbn spddnxz yndcns es tepl allefahkn tepl kehkncz ahg tepl xndscxb gcxgach es zbn snndchfx es ezbnlx wnln xpkb ax ze selq zbn flephgwelu es gcxajjleyazceh eh wbckb xpkknngchf nrnhzx barn ypcdz xe cqqeraydn a gcxdcun ahg c bag hez uhewh tep a qehzb ynseln c sndz zbaz tep wnln zbn daxz qah ch zbn weldg wbeq c kepdg nrnl yn jlnracdng eh ze qallt\n",
      "wksu ylm vmkf pminhhnhi wksu ylm wnkby usumhy n urf rqusby brf sw uf rcoxrnhyrhcm dnyl fsx fsxk urhhmkb nuekmbbnhi um dnyl ylm wxqqmby pmqnmw sw fsxk rkksirhcm fsxk cshcmny rhg fsxk bmqwnbl gnbgrnh sw ylm wmmqnhib sw sylmkb dmkm bxcl rb ys wsku ylm iksxhgdska sw gnbreeksprynsh sh dlncl bxccmmgnhi mvmhyb lrvm pxnqy bs nuusvrpqm r gnbqnam rhg n lrg hsy ahsdh fsx r ushyl pmwskm n wmqy ylry fsx dmkm ylm qrby urh nh ylm dskqg dlsu n csxqg mvmk pm ekmvrnqmg sh ys urkkf\n",
      "ebud ftp ypbc apgnllnlg ebud ftp enbof dudplf n dvc vmduof ovc ue dc vxqhvnlfvlxp inft cuh cuhb dvllpbo ndsbpoonlg dp inft ftp ehmmpof apmnpe ue cuhb vbbugvlxp cuhb xulxpnf vlj cuhb opmenot jnojvnl ue ftp eppmnlgo ue uftpbo ipbp ohxt vo fu eubd ftp gbuhljiubr ue jnovssbuavfnul ul itnxt ohxxppjnlg pyplfo tvyp ahnmf ou ndduyvamp v jnomnrp vlj n tvj luf rluil cuh v dulft apeubp n epmf ftvf cuh ipbp ftp mvof dvl nl ftp iubmj itud n xuhmj pypb ap sbpyvnmpj ul fu dvbbc\n",
      "ujei osm ymjl gmqdzzdzq ujei osm udjxo ieimzo d ivl vbiexo xvl eu il vranvdzovzrm wdos len lenj ivzzmjx dihjmxxdzq im wdos osm unbbmxo gmbdmu eu lenj vjjeqvzrm lenj rezrmdo vzf lenj xmbudxs fdxfvdz eu osm ummbdzqx eu eosmjx wmjm xnrs vx oe ueji osm qjenzfwejk eu fdxvhhjegvodez ez wsdrs xnrrmmfdzq mymzox svym gndbo xe diieyvgbm v fdxbdkm vzf d svf zeo kzewz len v iezos gmuejm d umbo osvo len wmjm osm bvxo ivz dz osm wejbf wsei d renbf mymj gm hjmyvdbmf ez oe ivjjl\n",
      "dtpx vur mrtw lrhoyyoyh dtpx vur dotgv xpxryv o xcw csxpgv gcw pd xw caezcoyvcyar jovu wpz wpzt xcyyrtg oxbtrggoyh xr jovu vur dzssrgv lrsord pd wpzt cttphcyar wpzt apyarov cyf wpzt grsdogu fogfcoy pd vur drrsoyhg pd pvurtg jrtr gzau cg vp dptx vur htpzyfjptq pd fogcbbtplcvopy py juoau gzaarrfoyh rmryvg ucmr lzosv gp oxxpmclsr c fogsoqr cyf o ucf ypv qypjy wpz c xpyvu lrdptr o drsv vucv wpz jrtr vur scgv xcy oy vur jptsf jupx o apzsf rmrt lr btrmcosrf py vp xcttw\n",
      "nfpt mva eafg ladroorod nfpt mva nrfym tptaom r tkg khtpym ykg pn tg kwickromkowa xrmv gpc gpcf tkooafy rtzfayyrod ta xrmv mva nchhaym lahran pn gpcf kffpdkowa gpcf wpowarm koj gpcf yahnryv jryjkro pn mva naahrody pn pmvafy xafa ycwv ky mp npft mva dfpcojxpfu pn jrykzzfplkmrpo po xvrwv ycwwaajrod aeaomy vkea lcrhm yp rttpeklha k jryhrua koj r vkj opm uopxo gpc k tpomv lanpfa r nahm mvkm gpc xafa mva hkym tko ro mva xpfhj xvpt r wpchj aeaf la zfaekrhaj po mp tkffg\n",
      "does jxn wnoz pnlvuuvul does jxn dvoaj sesnuj v sbz bhseaj abz ed sz bkifbvujbukn tvjx zef zefo sbuunoa vsconaavul sn tvjx jxn dfhhnaj pnhvnd ed zefo booelbukn zefo keuknvj bug zefo anhdvax gvagbvu ed jxn dnnhvula ed ejxnoa tnon afkx ba je deos jxn loefugteor ed gvabccoepbjveu eu txvkx afkknngvul nwnuja xbwn pfvhj ae vssewbphn b gvahvrn bug v xbg uej ruetu zef b seujx pndeon v dnhj jxbj zef tnon jxn hbaj sbu vu jxn teohg txes v kefhg nwno pn conwbvhng eu je sbooz\n",
      "wxsr mgv tvxu jvfpqqpqf wxsr mgv wpxom rsrvqm p reu earsom oeu sw ru edbcepqmeqdv lpmg usc uscx reqqvxo prkxvoopqf rv lpmg mgv wcaavom jvapvw sw uscx exxsfeqdv uscx dsqdvpm eqz uscx ovawpog zpozepq sw mgv wvvapqfo sw smgvxo lvxv ocdg eo ms wsxr mgv fxscqzlsxn sw zpoekkxsjempsq sq lgpdg ocddvvzpqf vtvqmo getv jcpam os prrstejav e zpoapnv eqz p gez qsm nqslq usc e rsqmg jvwsxv p wvam mgem usc lvxv mgv aeom req pq mgv lsxaz lgsr p dscaz vtvx jv kxvtepavz sq ms rexxu\n",
      "zkfp ysj vjkt ejgaooaog zkfp ysj zakby pfpjoy a pht hrpfby bht fz pt hduqhaoyhodj xays tfq tfqk phoojkb apckjbbaog pj xays ysj zqrrjby ejrajz fz tfqk hkkfghodj tfqk dfodjay hol tfqk bjrzabs lablhao fz ysj zjjraogb fz fysjkb xjkj bqds hb yf zfkp ysj gkfqolxfkw fz labhcckfehyafo fo xsads bqddjjlaog jvjoyb shvj eqary bf appfvherj h labrawj hol a shl ofy wofxo tfq h pfoys ejzfkj a zjry yshy tfq xjkj ysj rhby pho ao ysj xfkrl xsfp a dfqrl jvjk ej ckjvharjl fo yf phkkt\n",
      "yfjk osl zlfd clixnnxni yfjk osl yxfho kjklno x kbd bekjho hbd jy kd bwvmbxnobnwl uxos djm djmf kbnnlfh xkgflhhxni kl uxos osl ymeelho clexly jy djmf bffjibnwl djmf wjnwlxo bnq djmf hleyxhs qxhqbxn jy osl yllexnih jy joslfh ulfl hmws bh oj yjfk osl ifjmnqujfr jy qxhbggfjcboxjn jn usxws hmwwllqxni lzlnoh sbzl cmxeo hj xkkjzbcel b qxhexrl bnq x sbq njo rnjun djm b kjnos clyjfl x yleo osbo djm ulfl osl ebho kbn xn osl ujfeq usjk x wjmeq lzlf cl gflzbxelq jn oj kbffd\n",
      "pxcy feu zuxg qudollold pxcy feu poxwf ycyulf o yhg htycwf whg cp yg harbholfhlau jofe gcb gcbx yhlluxw oyixuwwold yu jofe feu pbttuwf qutoup cp gcbx hxxcdhlau gcbx aclauof hlk gcbx wutpowe kowkhol cp feu puutoldw cp cfeuxw juxu wbae hw fc pcxy feu dxcblkjcxs cp kowhiixcqhfocl cl jeoae wbaauukold uzulfw ehzu qbotf wc oyyczhqtu h kowtosu hlk o ehk lcf slcjl gcb h yclfe qupcxu o putf fehf gcb juxu feu thwf yhl ol feu jcxtk jecy o acbtk uzux qu ixuzhotuk cl fc yhxxg\n",
      "lzen qkw dwzh xwsmttmts lzen qkw lmzaq nenwtq m nfh fjneaq afh el nh fiuyfmtqftiw bmqk hey heyz nfttwza mnczwaamts nw bmqk qkw lyjjwaq xwjmwl el heyz fzzesftiw heyz ietiwmq ftv heyz awjlmak vmavfmt el qkw lwwjmtsa el eqkwza bwzw ayik fa qe lezn qkw szeytvbezr el vmafcczexfqmet et bkmik ayiiwwvmts wdwtqa kfdw xymjq ae mnnedfxjw f vmajmrw ftv m kfv teq rtebt hey f netqk xwlezw m lwjq qkfq hey bwzw qkw jfaq nft mt qkw bezjv bken m ieyjv wdwz xw czwdfmjwv et qe nfzzh\n",
      "mteg fyn jntp lnvaiiaiv mteg fyn matdf gegnif a ghp hzgedf dhp em gp hkqrhaifhikn cafy per pert ghiintd agutnddaiv gn cafy fyn mrzzndf lnzanm em pert httevhikn pert keiknaf hiw pert dnzmady wadwhai em fyn mnnzaivd em efyntd cntn drky hd fe metg fyn vteriwcetb em wadhuutelhfaei ei cyaky drkknnwaiv njnifd yhjn lrazf de aggejhlzn h wadzabn hiw a yhw ief bieci per h geify lnmetn a mnzf fyhf per cntn fyn zhdf ghi ai fyn cetzw cyeg a kerzw njnt ln utnjhaznw ei fe ghttp\n",
      "dtoc krw bwtl gwauyyuya dtoc krw dutmk cocwyk u cql qecomk mql od cl qhzsquykqyhw iukr los lost cqyywtm ucvtwmmuya cw iukr krw dseewmk gweuwd od lost qttoaqyhw lost hoyhwuk qyj lost mwedumr jumjquy od krw dwweuyam od okrwtm iwtw mshr qm ko dotc krw atosyjiotf od jumqvvtogqkuoy oy iruhr mshhwwjuya wbwykm rqbw gsuek mo uccobqgew q jumeufw qyj u rqj yok fyoiy los q coykr gwdotw u dwek krqk los iwtw krw eqmk cqy uy krw iotej iroc u hosej wbwt gw vtwbquewj oy ko cqttl\n",
      "wtpk dnm umtf rmhxvvxvh wtpk dnm wxtzd kpkmvd x kef eykpzd zef pw kf eijbexvdevim qxdn fpb fpbt kevvmtz xkatmzzxvh km qxdn dnm wbyymzd rmyxmw pw fpbt ettphevim fpbt ipvimxd evs fpbt zmywxzn sxzsexv pw dnm wmmyxvhz pw pdnmtz qmtm zbin ez dp wptk dnm htpbvsqptg pw sxzeaatpredxpv pv qnxin zbiimmsxvh mumvdz neum rbxyd zp xkkpuerym e sxzyxgm evs x nes vpd gvpqv fpb e kpvdn rmwptm x wmyd dned fpb qmtm dnm yezd kev xv dnm qptys qnpk x ipbys mumt rm atmuexyms pv dp kettf\n",
      "oblv xzn knbc dnqjyyjyq oblv xzn ojbfx vlvnyx j vpc pgvlfx fpc lo vc perapjyxpyen mjxz cla clab vpyynbf jvtbnffjyq vn mjxz xzn oaggnfx dngjno lo clab pbblqpyen clab elyenjx pyi clab fngojfz ijfipjy lo xzn onngjyqf lo lxznbf mnbn faez pf xl olbv xzn qblayimlbs lo ijfpttbldpxjly ly mzjez faeennijyq nknyxf zpkn dajgx fl jvvlkpdgn p ijfgjsn pyi j zpi ylx sylmy cla p vlyxz dnolbn j ongx xzpx cla mnbn xzn gpfx vpy jy xzn mlbgi mzlv j elagi nknb dn tbnkpjgni ly xl vpbbc\n",
      "neql bmy dyer hyzjaajaz neql bmy njesb lqlyab j lwr wflqsb swr qn lr wctuwjabwacy gjbm rqu rque lwaayes jlpeyssjaz ly gjbm bmy nuffysb hyfjyn qn rque weeqzwacy rque cqacyjb wak rque syfnjsm kjskwja qn bmy nyyfjazs qn qbmyes gyey sucm ws bq nqel bmy zequakgqev qn kjswppeqhwbjqa qa gmjcm succyykjaz ydyabs mwdy hujfb sq jllqdwhfy w kjsfjvy wak j mwk aqb vaqga rqu w lqabm hynqey j nyfb bmwb rqu gyey bmy fwsb lwa ja bmy gqefk gmql j cqufk ydye hy peydwjfyk qa bq lweer\n",
      "ivsu lma qavc tabejjejb ivsu lma ievzl usuajl e uyc yruszl zyc si uc ykwdyejlyjka pelm csd csdv uyjjavz euovazzejb ua pelm lma idrrazl tareai si csdv yvvsbyjka csdv ksjkael yjg csdv zariezm gezgyej si lma iaarejbz si slmavz pava zdkm yz ls isvu lma bvsdjgpsvh si gezyoovstylesj sj pmekm zdkkaagejb aqajlz myqa tderl zs euusqytra y gezreha yjg e myg jsl hjspj csd y usjlm taisva e iarl lmyl csd pava lma ryzl uyj ej lma psvrg pmsu e ksdrg aqav ta ovaqyerag sj ls uyvvc\n",
      "eiuc ygt otik dtmhpphpm eiuc ygt ehiwy cuctpy h cfk fqcuwy wfk ue ck fsazfhpyfpst lhyg kuz kuzi cfpptiw hcritwwhpm ct lhyg ygt ezqqtwy dtqhte ue kuzi fiiumfpst kuzi supsthy fpx kuzi wtqehwg xhwxfhp ue ygt ettqhpmw ue uygtiw ltit wzsg fw yu euic ygt miuzpxluiv ue xhwfrriudfyhup up lghsg wzssttxhpm totpyw gfot dzhqy wu hccuofdqt f xhwqhvt fpx h gfx puy vpulp kuz f cupyg dteuit h etqy ygfy kuz ltit ygt qfwy cfp hp ygt luiqx lguc h suzqx toti dt ritofhqtx up yu cfiik\n",
      "runl zcp tpuy wpoxkkxko runl zcp rxuqz lnlpkz x ldy dalnqz qdy nr ly dhjsdxkzdkhp ixzc yns ynsu ldkkpuq xlfupqqxko lp ixzc zcp rsaapqz wpaxpr nr ynsu duunodkhp ynsu hnkhpxz dke ynsu qparxqc exqedxk nr zcp rppaxkoq nr nzcpuq ipup qshc dq zn rnul zcp ounskeinuv nr exqdffunwdzxnk nk icxhc qshhppexko ptpkzq cdtp wsxaz qn xllntdwap d exqaxvp dke x cde knz vknik yns d lnkzc wprnup x rpaz zcdz yns ipup zcp adqz ldk xk zcp inuae icnl x hnsae ptpu wp fuptdxape nk zn lduuy\n",
      "bevn jsz dzef yzopccpco bevn jsz bpekj nvnzcj p ntf twnvkj ktf vb nf taqmtpcjtcaz upjs fvm fvme ntcczek pnhezkkpco nz upjs jsz bmwwzkj yzwpzb vb fvme teevotcaz fvme avcazpj tcg fvme kzwbpks gpkgtpc vb jsz bzzwpcok vb vjszek uzez kmas tk jv bven jsz oevmcguver vb gpkthhevytjpvc vc uspas kmaazzgpco zdzcjk stdz ympwj kv pnnvdtywz t gpkwprz tcg p stg cvj rcvuc fvm t nvcjs yzbvez p bzwj jstj fvm uzez jsz wtkj ntc pc jsz uvewg usvn p avmwg zdze yz hezdtpwzg vc jv nteef\n",
      "tcdl yzb jbca nbixhhxhi tcdl yzb txcoy ldlbhy x lga gqldoy oga dt la gefugxhygheb sxyz adu aduc lghhbco xlmcbooxhi lb sxyz yzb tuqqboy nbqxbt dt aduc gccdigheb aduc edhebxy ghr aduc obqtxoz rxorgxh dt yzb tbbqxhio dt dyzbco sbcb ouez go yd tdcl yzb icduhrsdck dt rxogmmcdngyxdh dh szxez oueebbrxhi bjbhyo zgjb nuxqy od xlldjgnqb g rxoqxkb ghr x zgr hdy khdsh adu g ldhyz nbtdcb x tbqy yzgy adu sbcb yzb qgoy lgh xh yzb sdcqr szdl x eduqr bjbc nb mcbjgxqbr dh yd lgcca\n",
      "The max likelihood we reached was: 2.4276872353546843\n"
     ]
    }
   ],
   "source": [
    "encrypted_message = \"lrob ive serg cehmttmth lrob ive lmryi bobeti m bag ajboyi yag ol bg afquamtiatfe nmiv gou gour battery mbpreyymth be nmiv ive lujjeyi cejmel ol gour arrohatfe gour fotfemi atx gour yejlmyv xmyxamt ol ive leejmthy ol oivery nere yufv ay io lorb ive hroutxnord ol xmyapprocaimot ot nvmfv yuffeexmth esetiy vase cumji yo mbbosacje a xmyjmde atx m vax toi dtont gou a botiv celore m leji ivai gou nere ive jayi bat mt ive norjx nvob m foujx eser ce presamjex ot io barrg\"\n",
    "explore_space(encrypted_message, log_matrix, alphabet)"
   ]
  },
  {
   "cell_type": "code",
   "execution_count": 12,
   "metadata": {},
   "outputs": [
    {
     "data": {
      "text/plain": [
       "2.232198558062426"
      ]
     },
     "execution_count": 12,
     "metadata": {},
     "output_type": "execute_result"
    }
   ],
   "source": [
    "compute_likelihood(\"from the very beginning from the first moment i may almost say of my acquaintance with you your manners impressing me with the fullest belief of your arrogance your conceit and your selfish disdain of the feelings of others were such as to form the groundwork of disapprobation on which succeeding events have built so immovable a dislike and i had not known you a month before i felt that you were the last man in the world whom i could ever be prevailed on to marry\", log_matrix)"
   ]
  },
  {
   "cell_type": "code",
   "execution_count": 96,
   "metadata": {},
   "outputs": [
    {
     "data": {
      "text/plain": [
       "0.4576700664195398"
      ]
     },
     "execution_count": 96,
     "metadata": {},
     "output_type": "execute_result"
    }
   ],
   "source": [
    "np.random.uniform()"
   ]
  }
 ],
 "metadata": {
  "kernelspec": {
   "display_name": "pml",
   "language": "python",
   "name": "python3"
  },
  "language_info": {
   "codemirror_mode": {
    "name": "ipython",
    "version": 3
   },
   "file_extension": ".py",
   "mimetype": "text/x-python",
   "name": "python",
   "nbconvert_exporter": "python",
   "pygments_lexer": "ipython3",
   "version": "3.10.8"
  },
  "orig_nbformat": 4
 },
 "nbformat": 4,
 "nbformat_minor": 2
}
