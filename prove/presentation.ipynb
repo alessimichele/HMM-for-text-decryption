{
 "cells": [
  {
   "cell_type": "code",
   "execution_count": 2,
   "metadata": {},
   "outputs": [],
   "source": [
    "from src.CipherBreaker import CipherBreaker\n",
    "from src.CipherUtils import (\n",
    "    TextDecoder,\n",
    "    TextEncoder,\n",
    "    CipherGenerator,\n",
    "    TextPreProcessor,\n",
    ")\n",
    "from src.ProbabilityMatrix import ProbabilityMatrix"
   ]
  },
  {
   "cell_type": "code",
   "execution_count": 3,
   "metadata": {},
   "outputs": [],
   "source": [
    "cipher_generator = CipherGenerator()\n",
    "preprocess = TextPreProcessor()\n",
    "text_encoder = TextEncoder()\n",
    "text_decoder = TextDecoder()"
   ]
  },
  {
   "cell_type": "code",
   "execution_count": 19,
   "metadata": {},
   "outputs": [
    {
     "name": "stdout",
     "output_type": "stream",
     "text": [
      "Original Text: good afternoon today we will show an application of hidden markov models for decryption\n",
      "Encoded Text: mggz qwdlfbggb dgzqv il ijcc kogi qb qnncjsqdjgb gw ojzzlb pqfrgy pgzlck wgf zlsfvndjgb\n",
      "Decoded Text: good afternoon today we will show an application of hidden markov models for decryption\n"
     ]
    }
   ],
   "source": [
    "text = \"Good afternoon, today we will show an application of hidden markov models for decryption\"\n",
    "import random\n",
    "random.seed(20)\n",
    "\n",
    "text = preprocess.lower(text)\n",
    "text = preprocess.remove_unknown_chars(\n",
    "    text, unknown_chars=preprocess.unknown_chars(text)\n",
    ")\n",
    "text = preprocess.remove_additional_spaces(text)\n",
    "\n",
    "\n",
    "cipher = cipher_generator.generate_cipher()\n",
    "\n",
    "encoded_text = text_encoder.encode_text(text, cipher)\n",
    "decoded_text = text_decoder.decode_text(encoded_text, cipher)\n",
    "\n",
    "print(\"Original Text:\", text)\n",
    "print(\"Encoded Text:\", encoded_text)\n",
    "print(\"Decoded Text:\", decoded_text)"
   ]
  },
  {
   "cell_type": "code",
   "execution_count": 11,
   "metadata": {},
   "outputs": [
    {
     "ename": "FileNotFoundError",
     "evalue": "[Errno 2] No such file or directory: 'path_to_your_image.jpg'",
     "output_type": "error",
     "traceback": [
      "\u001b[0;31m---------------------------------------------------------------------------\u001b[0m",
      "\u001b[0;31mFileNotFoundError\u001b[0m                         Traceback (most recent call last)",
      "Cell \u001b[0;32mIn[11], line 9\u001b[0m\n\u001b[1;32m      7\u001b[0m \u001b[39m# Example usage\u001b[39;00m\n\u001b[1;32m      8\u001b[0m image_path \u001b[39m=\u001b[39m \u001b[39m'\u001b[39m\u001b[39mpath_to_your_image.jpg\u001b[39m\u001b[39m'\u001b[39m  \u001b[39m# Replace with the path to your image file\u001b[39;00m\n\u001b[0;32m----> 9\u001b[0m display_image(image_path)\n",
      "Cell \u001b[0;32mIn[11], line 4\u001b[0m, in \u001b[0;36mdisplay_image\u001b[0;34m(image_path)\u001b[0m\n\u001b[1;32m      3\u001b[0m \u001b[39mdef\u001b[39;00m \u001b[39mdisplay_image\u001b[39m(image_path):\n\u001b[0;32m----> 4\u001b[0m     image \u001b[39m=\u001b[39m Image\u001b[39m.\u001b[39;49mopen(image_path)\n\u001b[1;32m      5\u001b[0m     image\u001b[39m.\u001b[39mshow()\n",
      "File \u001b[0;32m~/opt/anaconda3/envs/pml/lib/python3.10/site-packages/PIL/Image.py:3227\u001b[0m, in \u001b[0;36mopen\u001b[0;34m(fp, mode, formats)\u001b[0m\n\u001b[1;32m   3224\u001b[0m     filename \u001b[39m=\u001b[39m fp\n\u001b[1;32m   3226\u001b[0m \u001b[39mif\u001b[39;00m filename:\n\u001b[0;32m-> 3227\u001b[0m     fp \u001b[39m=\u001b[39m builtins\u001b[39m.\u001b[39;49mopen(filename, \u001b[39m\"\u001b[39;49m\u001b[39mrb\u001b[39;49m\u001b[39m\"\u001b[39;49m)\n\u001b[1;32m   3228\u001b[0m     exclusive_fp \u001b[39m=\u001b[39m \u001b[39mTrue\u001b[39;00m\n\u001b[1;32m   3230\u001b[0m \u001b[39mtry\u001b[39;00m:\n",
      "\u001b[0;31mFileNotFoundError\u001b[0m: [Errno 2] No such file or directory: 'path_to_your_image.jpg'"
     ]
    }
   ],
   "source": [
    "from PIL import Image\n",
    "\n",
    "def display_image(image_path):\n",
    "    image = Image.open(image_path)\n",
    "    image.show()\n",
    "\n",
    "# Example usage\n",
    "image_path = 'path_to_your_image.jpg'  # Replace with the path to your image file\n",
    "display_image(image_path)\n"
   ]
  }
 ],
 "metadata": {
  "kernelspec": {
   "display_name": "pml",
   "language": "python",
   "name": "python3"
  },
  "language_info": {
   "codemirror_mode": {
    "name": "ipython",
    "version": 3
   },
   "file_extension": ".py",
   "mimetype": "text/x-python",
   "name": "python",
   "nbconvert_exporter": "python",
   "pygments_lexer": "ipython3",
   "version": "3.10.8"
  },
  "orig_nbformat": 4
 },
 "nbformat": 4,
 "nbformat_minor": 2
}
