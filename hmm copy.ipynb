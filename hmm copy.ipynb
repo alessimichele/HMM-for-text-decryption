{
 "cells": [
  {
   "cell_type": "code",
   "execution_count": 31,
   "metadata": {},
   "outputs": [],
   "source": [
    "import numpy as np\n",
    "\n",
    "\n",
    "# We need an algorithm to perform belief propagation on our hmm\n",
    "def forward_HMM(A, B, pi, observed):\n",
    "    \"\"\"\n",
    "    A: transition\n",
    "    B: emission\n",
    "    pi: initial\n",
    "    n_nodes: number of nodes in the chain\n",
    "    observed: list containing observed ones.\n",
    "    \"\"\"\n",
    "    n_nodes = len(observed)\n",
    "    n_states = A.shape[0]\n",
    "    alpha = np.zeros((n_nodes, n_states))\n",
    "\n",
    "    for j in range(n_states):\n",
    "        alpha[0, j] = pi[j] * B[j, observed[0]]\n",
    "\n",
    "    for i in range(1, n_nodes):\n",
    "        for j in range(n_states):\n",
    "            for k in range(n_states):\n",
    "                alpha[i, j] = (\n",
    "                    alpha[i, j] + A[k, j] * B[j, observed[i]] * alpha[i - 1, k]\n",
    "                )\n",
    "\n",
    "    return alpha"
   ]
  },
  {
   "cell_type": "code",
   "execution_count": 32,
   "metadata": {},
   "outputs": [],
   "source": [
    "# We need an algorithm to perform belief propagation on our hmm\n",
    "def backward_HMM(A, B, observed):\n",
    "    \"\"\"\n",
    "    A: transition\n",
    "    B: emission\n",
    "    n_nodes: number of nodes in the chain\n",
    "    observed: list containing observed ones.\n",
    "    \"\"\"\n",
    "    n_nodes = len(observed)\n",
    "    n_states = A.shape[0]\n",
    "    beta = np.zeros((n_nodes - 1, n_states))\n",
    "\n",
    "    for j in range(n_states):\n",
    "        for k in range(n_states):\n",
    "            beta[-1, j] = beta[-1, j] + A[j, k] * B[k, observed[n_nodes - 1]]\n",
    "\n",
    "    for i in range(n_nodes - 3, -1, -1):\n",
    "        for j in range(n_states):\n",
    "            for k in range(n_states):\n",
    "                beta[i, j] = (\n",
    "                    beta[i, j] + A[j, k] * B[k, observed[i + 1]] * beta[i + 1, k]\n",
    "                )\n",
    "\n",
    "    return beta"
   ]
  },
  {
   "cell_type": "code",
   "execution_count": 7,
   "metadata": {},
   "outputs": [],
   "source": [
    "A = np.array([[0.6, 0.4], [0.3, 0.7]])\n",
    "B = np.array([[0.5, 0.5], [0.1, 0.9]])\n",
    "pi = np.array([0.2, 0.8])\n",
    "observed = np.array([1, 0, 1])"
   ]
  },
  {
   "cell_type": "code",
   "execution_count": 8,
   "metadata": {},
   "outputs": [],
   "source": [
    "beta = backward_HMM(A, B, observed)"
   ]
  },
  {
   "cell_type": "code",
   "execution_count": 9,
   "metadata": {},
   "outputs": [],
   "source": [
    "alpha = forward_HMM(A, B, pi, observed)"
   ]
  },
  {
   "cell_type": "code",
   "execution_count": 10,
   "metadata": {},
   "outputs": [],
   "source": [
    "def compute_conditional(alpha, beta, i):\n",
    "    \"\"\"\n",
    "    alpha: list containing forward messages\n",
    "    beta: list containing backward messages\n",
    "    i : hidden element for which you want the conditional on the observed variables (i = 1, ..., M)\n",
    "    \"\"\"\n",
    "    if i == 0:\n",
    "        raise ValueError(\"no zio serve il numero di variabile\")\n",
    "\n",
    "    if i == alpha.shape[0]:\n",
    "        return alpha[i - 1] / np.sum(alpha[i - 1])\n",
    "\n",
    "    gamma = alpha[i - 1] * beta[i - 1]\n",
    "    gamma = gamma / np.sum(gamma)\n",
    "\n",
    "    return gamma"
   ]
  },
  {
   "cell_type": "code",
   "execution_count": 11,
   "metadata": {},
   "outputs": [],
   "source": [
    "def compute_all_conditional(alpha, beta):\n",
    "    \"\"\"\n",
    "    alpha: list containing forward messages\n",
    "    beta: list containing backward messages\n",
    "    \"\"\"\n",
    "    n_nodes = alpha.shape[0]\n",
    "    n_states = alpha.shape[1]\n",
    "\n",
    "    gamma = np.zeros((n_nodes, n_states))\n",
    "\n",
    "    gamma[n_nodes - 1] = alpha[n_nodes - 1] / np.sum(alpha[n_nodes - 1])\n",
    "\n",
    "    for i in range(n_nodes - 1):\n",
    "        gamma[i] = alpha[i] * beta[i] / np.sum(alpha[i] * beta[i])\n",
    "\n",
    "    return gamma"
   ]
  },
  {
   "cell_type": "code",
   "execution_count": 12,
   "metadata": {},
   "outputs": [],
   "source": [
    "alpha = forward_HMM(A, B, pi, observed)\n",
    "beta = backward_HMM(A, B, observed)\n",
    "gamma = compute_all_conditional(alpha, beta)"
   ]
  },
  {
   "cell_type": "code",
   "execution_count": 23,
   "metadata": {},
   "outputs": [],
   "source": [
    "def divide_row_by_sum(matrix):\n",
    "    row_sums = np.sum(matrix, axis=1)  # Calculate the sum of each row\n",
    "    divided_matrix = (\n",
    "        matrix / row_sums[:, np.newaxis]\n",
    "    )  # Divide each element by the corresponding row sum\n",
    "    return divided_matrix"
   ]
  },
  {
   "cell_type": "code",
   "execution_count": 24,
   "metadata": {},
   "outputs": [],
   "source": [
    "def update_B(gamma, observed):\n",
    "    # n_nodes = gamma.shape[0]\n",
    "    n_states = gamma.shape[1]\n",
    "\n",
    "    B = np.zeros((n_states, n_states))\n",
    "\n",
    "    for i in range(n_states):\n",
    "        for j in range(n_states):\n",
    "            for k in range(len(observed)):\n",
    "                if observed[k] == j:\n",
    "                    B[i, j] += gamma[k, i]\n",
    "\n",
    "    return divide_row_by_sum(B)"
   ]
  },
  {
   "cell_type": "code",
   "execution_count": 25,
   "metadata": {},
   "outputs": [
    {
     "data": {
      "text/plain": [
       "array([[0.55685987, 0.44314013],\n",
       "       [0.17905611, 0.82094389]])"
      ]
     },
     "execution_count": 25,
     "metadata": {},
     "output_type": "execute_result"
    }
   ],
   "source": [
    "update_B(gamma, observed)"
   ]
  },
  {
   "cell_type": "code",
   "execution_count": 26,
   "metadata": {},
   "outputs": [],
   "source": [
    "def Baum_Welch(A, B_start, pi, observed, maxIter=100):\n",
    "    B = np.copy(B_start)\n",
    "    for it in range(maxIter):\n",
    "        alpha = forward_HMM(A, B, pi, observed)\n",
    "        beta = backward_HMM(A, B, observed)\n",
    "        gamma = compute_all_conditional(alpha, beta)\n",
    "        B = update_B(gamma, observed)\n",
    "    return B"
   ]
  },
  {
   "cell_type": "code",
   "execution_count": 27,
   "metadata": {},
   "outputs": [],
   "source": [
    "A = np.array([[0.6, 0.4], [0.3, 0.7]])\n",
    "pi = np.array([0.2, 0.8])\n",
    "observed = np.array([1, 0, 1])"
   ]
  },
  {
   "cell_type": "code",
   "execution_count": 28,
   "metadata": {},
   "outputs": [
    {
     "data": {
      "text/plain": [
       "array([[0.44294088, 0.55705912],\n",
       "       [0.27897937, 0.72102063]])"
      ]
     },
     "execution_count": 28,
     "metadata": {},
     "output_type": "execute_result"
    }
   ],
   "source": [
    "B_start = np.zeros((2, 2)) + 0.5\n",
    "Baum_Welch(A, B_start, pi, observed)"
   ]
  },
  {
   "cell_type": "code",
   "execution_count": null,
   "metadata": {},
   "outputs": [],
   "source": []
  },
  {
   "cell_type": "code",
   "execution_count": null,
   "metadata": {},
   "outputs": [],
   "source": [
    "import numpy as np\n",
    "\n",
    "\n",
    "def baum_welch(observed_sequence, num_states, num_emissions, num_iterations):\n",
    "    # Initialize emission probabilities randomly\n",
    "    # emission_probs = np.random.rand(num_states, num_emissions)\n",
    "    emission_probs = np.full((num_states, num_emissions), 1 / 27)\n",
    "    emission_probs /= np.sum(emission_probs, axis=1, keepdims=True)\n",
    "\n",
    "    # Initialize the observed sequence and its length\n",
    "    observed_sequence = np.array(observed_sequence)\n",
    "    T = len(observed_sequence)\n",
    "\n",
    "    for iteration in range(num_iterations):\n",
    "        # Step 1: Forward-Backward Algorithm\n",
    "\n",
    "        # Forward variables\n",
    "        alpha = np.zeros((T, num_states))\n",
    "\n",
    "        # Calculate alpha(1, i)\n",
    "        alpha[0] = emission_probs[:, observed_sequence[0]]\n",
    "\n",
    "        # Calculate alpha(t, i) for t > 1\n",
    "        for t in range(1, T):\n",
    "            for i in range(num_states):\n",
    "                alpha[t, i] = (\n",
    "                    np.sum(alpha[t - 1] * transition_probs[:, i])\n",
    "                    * emission_probs[i, observed_sequence[t]]\n",
    "                )\n",
    "\n",
    "        # Backward variables\n",
    "        beta = np.zeros((T, num_states))\n",
    "\n",
    "        # Set beta(T, i) = 1\n",
    "        beta[T - 1] = 1\n",
    "\n",
    "        # Calculate beta(t, i) for t < T\n",
    "        for t in range(T - 2, -1, -1):\n",
    "            for i in range(num_states):\n",
    "                beta[t, i] = np.sum(\n",
    "                    beta[t + 1]\n",
    "                    * transition_probs[i, :]\n",
    "                    * emission_probs[:, observed_sequence[t + 1]]\n",
    "                )\n",
    "\n",
    "        # Step 2: Estimation Step\n",
    "\n",
    "        # Compute gamma variables\n",
    "        gamma = alpha * beta / np.sum(alpha * beta, axis=1, keepdims=True)\n",
    "\n",
    "        # Compute xi variables\n",
    "        xi = np.zeros((T - 1, num_states, num_states))\n",
    "        for t in range(T - 1):\n",
    "            for i in range(num_states):\n",
    "                for j in range(num_states):\n",
    "                    xi[t, i, j] = (\n",
    "                        alpha[t, i]\n",
    "                        * transition_probs[i, j]\n",
    "                        * emission_probs[j, observed_sequence[t + 1]]\n",
    "                        * beta[t + 1, j]\n",
    "                    ) / np.sum(\n",
    "                        alpha[t, :]\n",
    "                        * transition_probs[:, j]\n",
    "                        * emission_probs[j, observed_sequence[t + 1]]\n",
    "                        * beta[t + 1, j]\n",
    "                    )\n",
    "\n",
    "        # Step 3: Maximization Step\n",
    "\n",
    "        # Update emission probabilities\n",
    "        for i in range(num_states):\n",
    "            for k in range(num_emissions):\n",
    "                emission_probs[i, k] = np.sum(\n",
    "                    gamma[:, i] * (observed_sequence == k)\n",
    "                ) / np.sum(gamma[:, i])\n",
    "\n",
    "    return emission_probs"
   ]
  }
 ],
 "metadata": {
  "kernelspec": {
   "display_name": "pml",
   "language": "python",
   "name": "python3"
  },
  "language_info": {
   "codemirror_mode": {
    "name": "ipython",
    "version": 3
   },
   "file_extension": ".py",
   "mimetype": "text/x-python",
   "name": "python",
   "nbconvert_exporter": "python",
   "pygments_lexer": "ipython3",
   "version": "3.11.1"
  },
  "orig_nbformat": 4
 },
 "nbformat": 4,
 "nbformat_minor": 2
}
