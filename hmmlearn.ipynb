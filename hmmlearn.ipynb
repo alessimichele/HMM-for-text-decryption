{
 "cells": [
  {
   "cell_type": "code",
   "execution_count": 179,
   "metadata": {},
   "outputs": [],
   "source": [
    "import numpy as np\n",
    "import matplotlib.pyplot as plt\n",
    "from hmmlearn.hmm import CategoricalHMM"
   ]
  },
  {
   "cell_type": "code",
   "execution_count": 180,
   "metadata": {},
   "outputs": [],
   "source": [
    "hmm_categorical = CategoricalHMM(n_components = 2)"
   ]
  },
  {
   "cell_type": "code",
   "execution_count": 15,
   "metadata": {},
   "outputs": [],
   "source": [
    "hmm_categorical.startprob_= np.array([0.5, 0.5])\n",
    "hmm_categorical.transmat_ = np.array([[0.4, 0.6],\n",
    "                                      [0.6, 0.4]])\n",
    "\n",
    "hmm_categorical.emissionprob_ = np.array([[0.9, 0.1],\n",
    "                                          [0.1, 0.9]])"
   ]
  },
  {
   "cell_type": "code",
   "execution_count": 143,
   "metadata": {},
   "outputs": [],
   "source": [
    "M = 10000 # Sample size\n",
    "\n",
    "hidden = hmm_categorical.sample(M)[1] # Extract hidden chain\n",
    "\n",
    "\n",
    "observed = hmm_categorical.sample(M)[0] # Extract observed chain\n",
    "observed = hidden.flatten()"
   ]
  },
  {
   "cell_type": "code",
   "execution_count": 144,
   "metadata": {},
   "outputs": [
    {
     "data": {
      "text/plain": [
       "0.9393"
      ]
     },
     "execution_count": 144,
     "metadata": {},
     "output_type": "execute_result"
    }
   ],
   "source": [
    "model = CategoricalHMM(n_components = 2)\n",
    "model.fit(observed.reshape(1, -1))\n"
   ]
  },
  {
   "cell_type": "code",
   "execution_count": 178,
   "metadata": {},
   "outputs": [
    {
     "data": {
      "text/plain": [
       "(-10518.79914966803, array([0, 1, 0, ..., 0, 1, 1]))"
      ]
     },
     "execution_count": 178,
     "metadata": {},
     "output_type": "execute_result"
    }
   ],
   "source": [
    "model = CategoricalHMM(n_components = 2, init_params = 'e', params = 'e', implementation = 'scaling') #init_params: ones to override during initiallization, params: ones to update at every iteration\n",
    "model.transmat_ = np.array([[0.4, 0.6],\n",
    "                            [0.6, 0.4]])\n",
    "model.startprob_ = np.array([0.5, 0.5])\n",
    "\n",
    "model.fit(observed.reshape(1, -1))\n",
    "\n",
    "model.decode(observed.reshape(1, -1))"
   ]
  },
  {
   "cell_type": "code",
   "execution_count": 192,
   "metadata": {},
   "outputs": [
    {
     "data": {
      "text/plain": [
       "6"
      ]
     },
     "execution_count": 192,
     "metadata": {},
     "output_type": "execute_result"
    }
   ],
   "source": [
    "np.prod(np.array([1, 2, 3]))"
   ]
  },
  {
   "cell_type": "code",
   "execution_count": null,
   "metadata": {},
   "outputs": [],
   "source": [
    "# Let us try it on our example\n",
    "model = CategoricalHMM(n_components=27)\n",
    "\n",
    "\n",
    "\n"
   ]
  }
 ],
 "metadata": {
  "kernelspec": {
   "display_name": "pml",
   "language": "python",
   "name": "python3"
  },
  "language_info": {
   "codemirror_mode": {
    "name": "ipython",
    "version": 3
   },
   "file_extension": ".py",
   "mimetype": "text/x-python",
   "name": "python",
   "nbconvert_exporter": "python",
   "pygments_lexer": "ipython3",
   "version": "3.10.8"
  },
  "orig_nbformat": 4
 },
 "nbformat": 4,
 "nbformat_minor": 2
}
