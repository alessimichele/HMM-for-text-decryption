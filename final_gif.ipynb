{
 "cells": [
  {
   "cell_type": "code",
   "execution_count": 1,
   "metadata": {},
   "outputs": [],
   "source": [
    "from src.CipherBreaker import CipherBreaker\n",
    "from src.CipherUtils import (\n",
    "    TextDecoder,\n",
    "    TextEncoder,\n",
    "    CipherGenerator,\n",
    "    TextPreProcessor,\n",
    ")\n",
    "from src.ProbabilityMatrix import ProbabilityMatrix"
   ]
  },
  {
   "cell_type": "code",
   "execution_count": 2,
   "metadata": {},
   "outputs": [],
   "source": [
    "# create instances of my beautiful classes\n",
    "\n",
    "cipher_generator = CipherGenerator()\n",
    "preprocess = TextPreProcessor()\n",
    "text_encoder = TextEncoder()\n",
    "text_decoder = TextDecoder()"
   ]
  },
  {
   "cell_type": "code",
   "execution_count": 3,
   "metadata": {},
   "outputs": [],
   "source": [
    "# List of text file paths to build our corpus (where we learn the transitions probs)\n",
    "\n",
    "file_paths = [\n",
    "    \"texts/moby_dick.txt\",\n",
    "    \"texts/shakespeare.txt\",\n",
    "    \"texts/james-joyce-a-portrait-of-the-artist-as-a-young-man.txt\",\n",
    "    \"texts/james-joyce-dubliners.txt\",\n",
    "    \"texts/james-joyce-ulysses.txt\",\n",
    "]\n",
    "\n",
    "texts = []\n",
    "for file_path in file_paths:\n",
    "    with open(file_path, \"r\") as file:\n",
    "        texts.append(file.read())\n",
    "\n",
    "corpus = \"\".join(texts)"
   ]
  },
  {
   "cell_type": "code",
   "execution_count": 4,
   "metadata": {},
   "outputs": [],
   "source": [
    "# preprocess the text, removing extra-characters\n",
    "\n",
    "corpus = preprocess.lower(corpus)\n",
    "unknown_chars = preprocess.unknown_chars(corpus)\n",
    "# print(unknown_chars)\n",
    "corpus = preprocess.remove_unknown_chars(corpus, unknown_chars=unknown_chars)\n",
    "corpus = preprocess.remove_additional_spaces(corpus)\n",
    "\n",
    "preprocess.save_text(\n",
    "    corpus\n",
    ")  # save text after preprocessing inside text_preprocessed.txt"
   ]
  },
  {
   "cell_type": "code",
   "execution_count": 9,
   "metadata": {},
   "outputs": [],
   "source": [
    "# compute the transition probs\n",
    "\n",
    "probability_matrix = ProbabilityMatrix(corpus)\n",
    "probability_matrix.compute_probability_table()"
   ]
  },
  {
   "cell_type": "code",
   "execution_count": 6,
   "metadata": {},
   "outputs": [],
   "source": [
    "probability_matrix.save_all_2_chars()\n",
    "probability_matrix.save_probability_table()"
   ]
  },
  {
   "cell_type": "code",
   "execution_count": 10,
   "metadata": {},
   "outputs": [],
   "source": [
    "# some text to try\n",
    "\n",
    "text = \"There were better sense in the sad mechanic exercise of determining the reason of its absence where it is not. In the novels of the last hundred years there are vast numbers of young ladies with whom it might be a pleasure to fall in love; there are at least five with whom, as it seems to me, no man of taste and spirit can help doing so.\"\n",
    "# text = \"I do not believe a word of it, my dear. If he had been so very agreeable, he would have talked to Mrs. Long. But I can guess how it was\"\n",
    "# text = \"Your plan is a good one,” replied Elizabeth, “where nothing is in question but the desire of being well married; and if I were determined to get a rich husband, or any husband, I dare say I should adopt it. But these are not Jane’s feelings\"\n",
    "# text = \"she is not acting by design. As yet she cannot even be certain of the degree of her own regard, nor of its reasonableness. She has known him only a fortnight. She danced four dances with him at Meryton; she saw him one morning at his own house, and has since dined in company with him four times.\"\n",
    "text = \"thanks for your attention thanks for your attention thanks for your attention thanks for your attention thanks for your attention There were better sense in the sad mechanic exercise of determining the reason of its absence where it is not. In the novels of the last hundred years there are vast numbers of young ladies with whom it might be a pleasure to fall in love; there are at least five with whom, as it seems to me, no man of taste and spirit can help doing so. she is not acting by design. As yet she cannot even be certain of the degree of her own regard, nor of its reasonableness. She has known him only a fortnight. She danced four dances with him at Meryton; she saw him one morning at his own house, and has since dined in company with him four times.\""
   ]
  },
  {
   "cell_type": "code",
   "execution_count": 11,
   "metadata": {},
   "outputs": [
    {
     "name": "stdout",
     "output_type": "stream",
     "text": [
      "Original Text: thanks for your attention thanks for your attention thanks for your attention thanks for your attention thanks for your attention there were better sense in the sad mechanic exercise of determining the reason of its absence where it is not in the novels of the last hundred years there are vast numbers of young ladies with whom it might be a pleasure to fall in love there are at least five with whom as it seems to me no man of taste and spirit can help doing so she is not acting by design as yet she cannot even be certain of the degree of her own regard nor of its reasonableness she has known him only a fortnight she danced four dances with him at meryton she saw him one morning at his own house and has since dined in company with him four times\n",
      "Encoded Text: szriwj gly ulcy rssdisfli szriwj gly ulcy rssdisfli szriwj gly ulcy rssdisfli szriwj gly ulcy rssdisfli szriwj gly ulcy rssdisfli szdyd edyd vdssdy jdijd fi szd jra bdozrifo dxdyofjd lg adsdybfifih szd ydrjli lg fsj rvjdiod ezdyd fs fj ils fi szd ilqdtj lg szd trjs zciayda udryj szdyd ryd qrjs icbvdyj lg ulcih trafdj efsz ezlb fs bfhzs vd r ktdrjcyd sl grtt fi tlqd szdyd ryd rs tdrjs gfqd efsz ezlb rj fs jddbj sl bd il bri lg srjsd ria jkfyfs ori zdtk alfih jl jzd fj ils rosfih vu adjfhi rj uds jzd oriils dqdi vd odysrfi lg szd adhydd lg zdy lei ydhrya ily lg fsj ydrjlirvtdidjj jzd zrj wilei zfb litu r glysifhzs jzd arioda glcy ariodj efsz zfb rs bdyusli jzd jre zfb lid blyifih rs zfj lei zlcjd ria zrj jfiod afida fi olbkriu efsz zfb glcy sfbdj\n",
      "Decoded Text: thanks for your attention thanks for your attention thanks for your attention thanks for your attention thanks for your attention there were better sense in the sad mechanic exercise of determining the reason of its absence where it is not in the novels of the last hundred years there are vast numbers of young ladies with whom it might be a pleasure to fall in love there are at least five with whom as it seems to me no man of taste and spirit can help doing so she is not acting by design as yet she cannot even be certain of the degree of her own regard nor of its reasonableness she has known him only a fortnight she danced four dances with him at meryton she saw him one morning at his own house and has since dined in company with him four times\n"
     ]
    }
   ],
   "source": [
    "# encode and decode a sample text with a generated cipher\n",
    "\n",
    "text = preprocess.lower(text)\n",
    "text = preprocess.remove_unknown_chars(\n",
    "    text, unknown_chars=preprocess.unknown_chars(text)\n",
    ")\n",
    "text = preprocess.remove_additional_spaces(text)\n",
    "\n",
    "\n",
    "cipher = cipher_generator.generate_cipher()\n",
    "\n",
    "encoded_text = text_encoder.encode_text(text, cipher)\n",
    "decoded_text = text_decoder.decode_text(encoded_text, cipher)\n",
    "\n",
    "print(\"Original Text:\", text)\n",
    "print(\"Encoded Text:\", encoded_text)\n",
    "print(\"Decoded Text:\", decoded_text)"
   ]
  },
  {
   "cell_type": "code",
   "execution_count": null,
   "metadata": {},
   "outputs": [],
   "source": [
    "# break the cipher with MCMC using only one starting point\n",
    "cipher_breaker = CipherBreaker(\n",
    "    cipher_generator=cipher_generator,\n",
    "    ciphered_text=encoded_text,\n",
    "    probability_table=probability_matrix.probability_table,\n",
    ")\n",
    "\n",
    "cipher_breaker.break_cipher(iterations=100000, print_interval=100)"
   ]
  },
  {
   "cell_type": "code",
   "execution_count": null,
   "metadata": {},
   "outputs": [],
   "source": [
    "cipher_breaker.extract_best(\n",
    "    n_extract=10, return_likelihood=True\n",
    ")  # Extract the best 10 decoded messages along with their likelihood"
   ]
  },
  {
   "cell_type": "code",
   "execution_count": 12,
   "metadata": {},
   "outputs": [
    {
     "name": "stdout",
     "output_type": "stream",
     "text": [
      "Iter 0 of start 1: rhtvin ekp ukcp trrmvrbkv rhtvin ekp ukcp trrmvrbkv rhtvin ekp ukcp trrmvrbkv rhtvin ekp ukcp trrmvrbkv rhtvin ekp ukcp trrmvrbkv rhmpm zmpm amrrmp nmvnm bv rhm ntx omghtvbg mympgbnm ke xmrmpobvbvd rhm pmtnkv ke brn tanmvgm zhmpm br bn vkr bv rhm vksmln ke rhm ltnr hcvxpmx umtpn rhmpm tpm stnr vcoampn ke ukcvd ltxbmn zbrh zhko br obdhr am t jlmtncpm rk etll bv lksm rhmpm tpm tr lmtnr ebsm zbrh zhko tn br nmmon rk om vk otv ke rtnrm tvx njbpbr gtv hmlj xkbvd nk nhm bn vkr tgrbvd au xmnbdv tn umr nhm gtvvkr msmv am gmprtbv ke rhm xmdpmm ke hmp kzv pmdtpx vkp ke brn pmtnkvtalmvmnn nhm htn ivkzv hbo kvlu t ekprvbdhr nhm xtvgmx ekcp xtvgmn zbrh hbo tr ompurkv nhm ntz hbo kvm okpvbvd tr hbn kzv hkcnm tvx htn nbvgm xbvmx bv gkojtvu zbrh hbo ekcp rbomn\n",
      "Iter 100 of start 1: thands for your attention thands for your attention thands for your attention thands for your attention thands for your attention there were better sense in the sap mechanic exercise of petermining the reason of its absence where it is not in the novels of the last hunprep years there are vast numbers of young lapies with whom it might be a kleasure to fall in love there are at least five with whom as it seems to me no man of taste anp skirit can helk poing so she is not acting by pesign as yet she cannot even be certain of the pegree of her own regarp nor of its reasonableness she has dnown him only a fortnight she pancep four pances with him at meryton she saw him one morning at his own house anp has since pinep in comkany with him four times\n",
      "Iter 200 of start 1: thanks for your attention thanks for your attention thanks for your attention thanks for your attention thanks for your attention there were better sense in the sad mechanic exercise of determining the reason of its absence where it is not in the novels of the last hundred years there are vast numbers of young ladies with whom it might be a pleasure to fall in love there are at least five with whom as it seems to me no man of taste and spirit can help doing so she is not acting by design as yet she cannot even be certain of the degree of her own regard nor of its reasonableness she has known him only a fortnight she danced four dances with him at meryton she saw him one morning at his own house and has since dined in company with him four times\n",
      "Iter 0 of start 2: kzmwni hqa oqta mkkdwkxqw kzmwni hqa oqta mkkdwkxqw kzmwni hqa oqta mkkdwkxqw kzmwni hqa oqta mkkdwkxqw kzmwni hqa oqta mkkdwkxqw kzdad rdad fdkkda idwid xw kzd img ldyzmwxy dpdayxid qh gdkdalxwxwc kzd admiqw qh xki mfidwyd rzdad xk xi wqk xw kzd wqvdji qh kzd jmik ztwgadg odmai kzdad mad vmik wtlfdai qh oqtwc jmgxdi rxkz rzql xk lxczk fd m bjdmitad kq hmjj xw jqvd kzdad mad mk jdmik hxvd rxkz rzql mi xk iddli kq ld wq lmw qh kmikd mwg ibxaxk ymw zdjb gqxwc iq izd xi wqk mykxwc fo gdixcw mi odk izd ymwwqk dvdw fd ydakmxw qh kzd gdcadd qh zda qrw adcmag wqa qh xki admiqwmfjdwdii izd zmi nwqrw zxl qwjo m hqakwxczk izd gmwydg hqta gmwydi rxkz zxl mk ldaokqw izd imr zxl qwd lqawxwc mk zxi qrw zqtid mwg zmi ixwyd gxwdg xw yqlbmwo rxkz zxl hqta kxldi\n",
      "Iter 100 of start 2: ouatzd fis pins aooetorit ouatzd fis pins aooetorit ouatzd fis pins aooetorit ouatzd fis pins aooetorit ouatzd fis pins aooetorit ouese cese beooes detde rt oue daw mehuatrh eveshrde if weoesmrtrty oue seadit if rod abdethe cuese ro rd tio rt oue tikeld if oue lado untwsew peasd ouese ase kado tnmbesd if pinty lawred crou cuim ro mryuo be a gleadnse oi fall rt like ouese ase ao leado frke crou cuim ad ro deemd oi me ti mat if oadoe atw dgrsro hat uelg wirty di due rd tio ahorty bp wedryt ad peo due hattio eket be hesoart if oue weysee if ues ict seyasw tis if rod seaditabletedd due uad ztict urm itlp a fisotryuo due wathew fins wathed crou urm ao mespoit due dac urm ite mistrty ao urd ict uinde atw uad drthe wrtew rt himgatp crou urm fins ormed\n",
      "Iter 200 of start 2: thanks for your attention thanks for your attention thanks for your attention thanks for your attention thanks for your attention there were better sense in the sad mechanic exercise of determining the reason of its absence where it is not in the novels of the last hundred years there are vast numbers of young ladies with whom it might be a pleasure to fall in love there are at least five with whom as it seems to me no man of taste and spirit can help doing so she is not acting by design as yet she cannot even be certain of the degree of her own regard nor of its reasonableness she has known him only a fortnight she danced four dances with him at meryton she saw him one morning at his own house and has since dined in company with him four times\n",
      "Iter 300 of start 2: thanks for your attention thanks for your attention thanks for your attention thanks for your attention thanks for your attention there were better sense in the sad mechanic exercise of determining the reason of its absence where it is not in the novels of the last hundred years there are vast numbers of young ladies with whom it might be a pleasure to fall in love there are at least five with whom as it seems to me no man of taste and spirit can help doing so she is not acting by design as yet she cannot even be certain of the degree of her own regard nor of its reasonableness she has known him only a fortnight she danced four dances with him at meryton she saw him one morning at his own house and has since dined in company with him four times\n",
      "Iter 0 of start 3: pauvcm kxq exhq uppnvpbxv pauvcm kxq exhq uppnvpbxv pauvcm kxq exhq uppnvpbxv pauvcm kxq exhq uppnvpbxv pauvcm kxq exhq uppnvpbxv panqn lnqn gnppnq mnvmn bv pan muf zntauvbt ninqtbmn xk fnpnqzbvbvr pan qnumxv xk bpm ugmnvtn lanqn bp bm vxp bv pan vxyndm xk pan dump ahvfqnf enuqm panqn uqn yump vhzgnqm xk exhvr dufbnm lbpa laxz bp zbrap gn u wdnumhqn px kudd bv dxyn panqn uqn up dnump kbyn lbpa laxz um bp mnnzm px zn vx zuv xk pumpn uvf mwbqbp tuv andw fxbvr mx man bm vxp utpbvr ge fnmbrv um enp man tuvvxp nynv gn tnqpubv xk pan fnrqnn xk anq xlv qnruqf vxq xk bpm qnumxvugdnvnmm man aum cvxlv abz xvde u kxqpvbrap man fuvtnf kxhq fuvtnm lbpa abz up znqepxv man mul abz xvn zxqvbvr up abm xlv axhmn uvf aum mbvtn fbvnf bv txzwuve lbpa abz kxhq pbznm\n",
      "Iter 100 of start 3: thanks for your attention thanks for your attention thanks for your attention thanks for your attention thanks for your attention there were better sense in the sad mechanic exercise of determining the reason of its absence where it is not in the novels of the last hundred years there are vast numbers of young ladies with whom it might be a pleasure to fall in love there are at least five with whom as it seems to me no man of taste and spirit can help doing so she is not acting by design as yet she cannot even be certain of the degree of her own regard nor of its reasonableness she has known him only a fortnight she danced four dances with him at meryton she saw him one morning at his own house and has since dined in company with him four times\n",
      "Iter 200 of start 3: thanks for your attention thanks for your attention thanks for your attention thanks for your attention thanks for your attention there were better sense in the sad mechanic exercise of determining the reason of its absence where it is not in the novels of the last hundred years there are vast numbers of young ladies with whom it might be a pleasure to fall in love there are at least five with whom as it seems to me no man of taste and spirit can help doing so she is not acting by design as yet she cannot even be certain of the degree of her own regard nor of its reasonableness she has known him only a fortnight she danced four dances with him at meryton she saw him one morning at his own house and has since dined in company with him four times\n",
      "Iter 0 of start 4: bxurnf yce ache ubbprbtcr bxurnf yce ache ubbprbtcr bxurnf yce ache ubbprbtcr bxurnf yce ache ubbprbtcr bxurnf yce ache ubbprbtcr bxpep mpep wpbbpe fprfp tr bxp fug vpqxurtq pjpeqtfp cy gpbpevtrtrk bxp epufcr cy tbf uwfprqp mxpep tb tf rcb tr bxp rcdplf cy bxp lufb xhrgepg apuef bxpep uep dufb rhvwpef cy achrk lugtpf mtbx mxcv tb vtkxb wp u slpufhep bc yull tr lcdp bxpep uep ub lpufb ytdp mtbx mxcv uf tb fppvf bc vp rc vur cy bufbp urg fstetb qur xpls gctrk fc fxp tf rcb uqbtrk wa gpftkr uf apb fxp qurrcb pdpr wp qpebutr cy bxp gpkepp cy xpe cmr epkueg rce cy tbf epufcruwlprpff fxp xuf nrcmr xtv crla u ycebrtkxb fxp gurqpg yche gurqpf mtbx xtv ub vpeabcr fxp fum xtv crp vcertrk ub xtf cmr xchfp urg xuf ftrqp gtrpg tr qcvsura mtbx xtv yche btvpf\n",
      "Iter 100 of start 4: thanks for your attention thanks for your attention thanks for your attention thanks for your attention thanks for your attention there were better sense in the sad mechanic exercise of determining the reason of its absence where it is not in the novels of the last hundred years there are vast numbers of young ladies with whom it might be a pleasure to fall in love there are at least five with whom as it seems to me no man of taste and spirit can help doing so she is not acting by design as yet she cannot even be certain of the degree of her own regard nor of its reasonableness she has known him only a fortnight she danced four dances with him at meryton she saw him one morning at his own house and has since dined in company with him four times\n",
      "Iter 200 of start 4: thanks for your attention thanks for your attention thanks for your attention thanks for your attention thanks for your attention there were better sense in the sad mechanic exercise of determining the reason of its absence where it is not in the novels of the last hundred years there are vast numbers of young ladies with whom it might be a pleasure to fall in love there are at least five with whom as it seems to me no man of taste and spirit can help doing so she is not acting by design as yet she cannot even be certain of the degree of her own regard nor of its reasonableness she has known him only a fortnight she danced four dances with him at meryton she saw him one morning at his own house and has since dined in company with him four times\n"
     ]
    },
    {
     "ename": "KeyboardInterrupt",
     "evalue": "",
     "output_type": "error",
     "traceback": [
      "\u001b[0;31m---------------------------------------------------------------------------\u001b[0m",
      "\u001b[0;31mKeyboardInterrupt\u001b[0m                         Traceback (most recent call last)",
      "Cell \u001b[0;32mIn[12], line 7\u001b[0m\n\u001b[1;32m      1\u001b[0m \u001b[39m# break the cipher with MCMC using 5 starting points\u001b[39;00m\n\u001b[1;32m      2\u001b[0m cipher_breaker_nstart \u001b[39m=\u001b[39m CipherBreaker(\n\u001b[1;32m      3\u001b[0m     cipher_generator\u001b[39m=\u001b[39mcipher_generator,\n\u001b[1;32m      4\u001b[0m     ciphered_text\u001b[39m=\u001b[39mencoded_text,\n\u001b[1;32m      5\u001b[0m     probability_table\u001b[39m=\u001b[39mprobability_matrix\u001b[39m.\u001b[39mprobability_table,\n\u001b[1;32m      6\u001b[0m )\n\u001b[0;32m----> 7\u001b[0m cipher_breaker_nstart\u001b[39m.\u001b[39;49mbreak_cipher_nstart(\n\u001b[1;32m      8\u001b[0m     iterations\u001b[39m=\u001b[39;49m\u001b[39m100000\u001b[39;49m, print_interval\u001b[39m=\u001b[39;49m\u001b[39m100\u001b[39;49m, nstart\u001b[39m=\u001b[39;49m\u001b[39m5\u001b[39;49m\n\u001b[1;32m      9\u001b[0m )\n",
      "File \u001b[0;32m~/Desktop/HMM-for-text-decryption/src/CipherBreaker.py:150\u001b[0m, in \u001b[0;36mCipherBreaker.break_cipher_nstart\u001b[0;34m(self, iterations, print_interval, nstart)\u001b[0m\n\u001b[1;32m    143\u001b[0m decoded_text_proposed \u001b[39m=\u001b[39m \u001b[39mself\u001b[39m\u001b[39m.\u001b[39mdecoder\u001b[39m.\u001b[39mdecode_text(\n\u001b[1;32m    144\u001b[0m     \u001b[39mself\u001b[39m\u001b[39m.\u001b[39mciphered_text, proposed_cipher\n\u001b[1;32m    145\u001b[0m )\n\u001b[1;32m    146\u001b[0m decoded_text_current \u001b[39m=\u001b[39m \u001b[39mself\u001b[39m\u001b[39m.\u001b[39mdecoder\u001b[39m.\u001b[39mdecode_text(\n\u001b[1;32m    147\u001b[0m     \u001b[39mself\u001b[39m\u001b[39m.\u001b[39mciphered_text, \u001b[39mself\u001b[39m\u001b[39m.\u001b[39mcurrent_cipher\n\u001b[1;32m    148\u001b[0m )\n\u001b[0;32m--> 150\u001b[0m proposed_log_likelihood \u001b[39m=\u001b[39m \u001b[39mself\u001b[39;49m\u001b[39m.\u001b[39;49mget_log_likelihood(decoded_text_proposed)\n\u001b[1;32m    151\u001b[0m current_log_likelihood \u001b[39m=\u001b[39m \u001b[39mself\u001b[39m\u001b[39m.\u001b[39mget_log_likelihood(decoded_text_current)\n\u001b[1;32m    153\u001b[0m \u001b[39mif\u001b[39;00m proposed_log_likelihood \u001b[39m>\u001b[39m current_log_likelihood:\n",
      "File \u001b[0;32m~/Desktop/HMM-for-text-decryption/src/CipherBreaker.py:69\u001b[0m, in \u001b[0;36mCipherBreaker.get_log_likelihood\u001b[0;34m(self, text)\u001b[0m\n\u001b[1;32m     64\u001b[0m two_char_list \u001b[39m=\u001b[39m [text[i : i \u001b[39m+\u001b[39m \u001b[39m2\u001b[39m] \u001b[39mfor\u001b[39;00m i \u001b[39min\u001b[39;00m \u001b[39mrange\u001b[39m(\u001b[39mlen\u001b[39m(text) \u001b[39m-\u001b[39m \u001b[39m1\u001b[39m)]\n\u001b[1;32m     65\u001b[0m probabilities \u001b[39m=\u001b[39m [\n\u001b[1;32m     66\u001b[0m     \u001b[39mself\u001b[39m\u001b[39m.\u001b[39mprobability_table\u001b[39m.\u001b[39mget(two_char, \u001b[39m1\u001b[39m \u001b[39m/\u001b[39m \u001b[39mlen\u001b[39m(\u001b[39mself\u001b[39m\u001b[39m.\u001b[39mprobability_table))\n\u001b[1;32m     67\u001b[0m     \u001b[39mfor\u001b[39;00m two_char \u001b[39min\u001b[39;00m two_char_list\n\u001b[1;32m     68\u001b[0m ]\n\u001b[0;32m---> 69\u001b[0m log_likelihood \u001b[39m=\u001b[39m \u001b[39msum\u001b[39m(math\u001b[39m.\u001b[39mlog(prob) \u001b[39mfor\u001b[39;00m prob \u001b[39min\u001b[39;00m probabilities)\n\u001b[1;32m     70\u001b[0m \u001b[39mreturn\u001b[39;00m log_likelihood\n",
      "File \u001b[0;32m~/Desktop/HMM-for-text-decryption/src/CipherBreaker.py:69\u001b[0m, in \u001b[0;36m<genexpr>\u001b[0;34m(.0)\u001b[0m\n\u001b[1;32m     64\u001b[0m two_char_list \u001b[39m=\u001b[39m [text[i : i \u001b[39m+\u001b[39m \u001b[39m2\u001b[39m] \u001b[39mfor\u001b[39;00m i \u001b[39min\u001b[39;00m \u001b[39mrange\u001b[39m(\u001b[39mlen\u001b[39m(text) \u001b[39m-\u001b[39m \u001b[39m1\u001b[39m)]\n\u001b[1;32m     65\u001b[0m probabilities \u001b[39m=\u001b[39m [\n\u001b[1;32m     66\u001b[0m     \u001b[39mself\u001b[39m\u001b[39m.\u001b[39mprobability_table\u001b[39m.\u001b[39mget(two_char, \u001b[39m1\u001b[39m \u001b[39m/\u001b[39m \u001b[39mlen\u001b[39m(\u001b[39mself\u001b[39m\u001b[39m.\u001b[39mprobability_table))\n\u001b[1;32m     67\u001b[0m     \u001b[39mfor\u001b[39;00m two_char \u001b[39min\u001b[39;00m two_char_list\n\u001b[1;32m     68\u001b[0m ]\n\u001b[0;32m---> 69\u001b[0m log_likelihood \u001b[39m=\u001b[39m \u001b[39msum\u001b[39m(math\u001b[39m.\u001b[39mlog(prob) \u001b[39mfor\u001b[39;00m prob \u001b[39min\u001b[39;00m probabilities)\n\u001b[1;32m     70\u001b[0m \u001b[39mreturn\u001b[39;00m log_likelihood\n",
      "\u001b[0;31mKeyboardInterrupt\u001b[0m: "
     ]
    }
   ],
   "source": [
    "# break the cipher with MCMC using 5 starting points\n",
    "cipher_breaker_nstart = CipherBreaker(\n",
    "    cipher_generator=cipher_generator,\n",
    "    ciphered_text=encoded_text,\n",
    "    probability_table=probability_matrix.probability_table,\n",
    ")\n",
    "cipher_breaker_nstart.break_cipher_nstart(\n",
    "    iterations=100000, print_interval=100, nstart=5\n",
    ")"
   ]
  },
  {
   "cell_type": "code",
   "execution_count": null,
   "metadata": {},
   "outputs": [],
   "source": [
    "cipher_breaker_nstart.extract_best(\n",
    "    n_extract=10, return_likelihood=True\n",
    ")  # Extract the best 10 decoded messages along with their likelihood"
   ]
  },
  {
   "cell_type": "code",
   "execution_count": null,
   "metadata": {},
   "outputs": [],
   "source": [
    "len(\n",
    "    \"thanks for your attention thanks for your attention thanks for your attention thanks for your attention thanks for your attention\"\n",
    ")"
   ]
  },
  {
   "cell_type": "code",
   "execution_count": null,
   "metadata": {},
   "outputs": [],
   "source": [
    "cipher_breaker_nstart.generate_animation_130()"
   ]
  }
 ],
 "metadata": {
  "kernelspec": {
   "display_name": "Python 3",
   "language": "python",
   "name": "python3"
  },
  "language_info": {
   "codemirror_mode": {
    "name": "ipython",
    "version": 3
   },
   "file_extension": ".py",
   "mimetype": "text/x-python",
   "name": "python",
   "nbconvert_exporter": "python",
   "pygments_lexer": "ipython3",
   "version": "3.11.1"
  },
  "orig_nbformat": 4
 },
 "nbformat": 4,
 "nbformat_minor": 2
}
