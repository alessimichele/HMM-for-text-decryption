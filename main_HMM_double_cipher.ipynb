{
 "cells": [
  {
   "attachments": {},
   "cell_type": "markdown",
   "metadata": {},
   "source": [
    "# HMM for decryption\n"
   ]
  },
  {
   "cell_type": "code",
   "execution_count": 1,
   "metadata": {},
   "outputs": [],
   "source": [
    "from src.CipherUtils import CipherGenerator\n",
    "from src.CipherUtils import TextEncoder\n",
    "from src.ProbabilityMatrix import ProbabilityMatrix\n",
    "from src.CipherUtils import TextPreProcessor\n",
    "\n",
    "from src.HMM_utils import map_alphabet_to_numbers, string_to_numbers\n",
    "from src.HMM_utils import find_mapping, numbers_to_string, invert_mapping\n",
    "from src.HMM_utils import convert_numbers_to_letters\n",
    "\n",
    "from src.HMM_functions import Baum_Welch\n",
    "from src.HMM_functions import compute_f_log, Viterbi_log, reconstruct\n",
    "\n",
    "import numpy as np"
   ]
  },
  {
   "cell_type": "code",
   "execution_count": 2,
   "metadata": {},
   "outputs": [
    {
     "name": "stdout",
     "output_type": "stream",
     "text": [
      "in germany it seems to be pretty much automatic pretty much all the time in france and spain it all depends presumably on social subtleties that you have to be french or spanish to understand in italy why would you even bother when and how much to tip is a question that has been vexing visitors to europe for as long as people have been travelling around the continent outside their own country it seems even europeans don t know the answer according to new polling by yougov in six eu countries britain and the us where as most visitors know but may be reluctant to acknowledge gratuities may make up more than half your waitperson s income europeans are deeply divided on tipping in restaurants for example of respondents in germany told the pollster they typically tipped almost the same as the us in the uk where an optional service charge of about is usually included said they left a gratuity the figure in spain where service is often included in restaurant bills but diners can leave optional tips was while in france where every price on a restaurant menu already includes for service of people said they generally tipped on top even in sweden where tips are generally not expected the figure was but only of italians said they would typically leave a gratuity after a meal out with a rather greater proportion admitting they never left a cent a startling of respondents in the us however and of germans by far the most in europe confessed they would tip sometimes or often even if the service was terrible indicating that for some tipping is not about quality of service at all the findings of the survey will come as a surprise in germany a country that does not generally think of itself as a nation of happy distributors\n",
      "xc ymdsagf pq ommsd il bs ndsiqf snvt unqusaqpo edmqqx mnot apf qkm qpmm xg jwucvs ugw onaxg pi app csnsgwo ewmdnsarpf ug duopuf dnbipsipsd qkai fun tutm ql rs idmcok lw deagpok qu qccswoqacw pg pquff gkf elnfw xln stmg rliksw gkmc ugc kle sqok qu qpe pd a vqsoipuc ituq tad rmmc tmbxgy rxopilwd qu mqwuem jud ao pugy ao nsuefm katm bmsc qdutsffpcz uwlqcc qtm vugixcscq unqdpwm qkmpd ugg vuncqdf xi osmmo stsc mndlesugd wlg i hcle qtm ugdgmw aoouwcxcz ql gsg elppxcz rf xlqzut pc oxy mn vuqcidpmd rdxiaxg acw qtm nd etswm ud mldq rxoxqudo hgle rnq sux bs dsfnvquci iu avzclgpsczm zduiqpqpso sux muhs nn suws ikag kafj xunw guxqemwdlc d xgolsm mqwlemugo ads cmsepf cptxwmw lc ixnnpgz pg wsoqundacqd ilw syusnps lj dsonlgwscqd pc zmdmagf ilfc itm eupfdimd qksf ifexoafpx qxnemw apsloq ikm duss uo its no pg itm nz gksws ag leqxlgaf omwtpos okawym ui arlqi xd ndnafpf pcvpqcmc oupc itmf fmjq a zduinpif qtm ipzqws xg dnupc gtsws omdrpom xd liimc xgvfqcmc pc dmdqundacq bpfpo bqq wpcswo oag pmatm lnipugap qxno guo ekpfm pc iwugom ekmws mtmdx nwpom lg a wsdiundagq smgq ufwsucf xcvfqwmd iud dmdtpvs li emunpm ouxw qtsf ysgsduffx ipnnsw lg ile stsc xc dgswmc etswm qxed adm zscmwuppx clq syesvimc its jxzqws gao rqi ugfx li piappugd daxc qkmf eunpc qxnpoappx psutm a ywuinpqx uiqsd u msuf uni gxqk a daiksd zwmaqmd nwlnuwqxlg ucspiqpgz qkmf gmtsw fsii u vmcq a oqudqppcz ui dsonlcwmcio pg itm qd tlemrmw acc li ysdsaco rx iaw ikm sloi pg sqwlnm olcjsoomw itsx eunpw qxn dlmmqxsso uw uiimg mtsg xj iks omdtpvs guo qsdwxrfs pgcpouqpcy ikai jlw duss qxeepgy pd cuq abuni vqufxqx lj dmdtxos ai aff qtm jpgwpgyo li qtm dndtmx gpfp vusm ad u oqdnwxos xc zsdmagf u olncqwf itai cumo gli zmcmwafpf qkpgz ui pqdsfj ud u guixlg lj kaenx cxoiwpbniuwd\n"
     ]
    }
   ],
   "source": [
    "# RICORDATI DI LEVARE LO SPAZIO\n",
    "hidden_sequence = \"people of western europe a landing was made this morning on the coast of france by troops kangaroo jokes quasi vile xilophone zenit \"\n",
    "hidden_sequence = \"in germany it seems to be pretty much automatic pretty much all the time in france and spain it all depends presumably on social subtleties that you have to be french or spanish to understand in italy why would you even bother when and how much to tip is a question that has been vexing visitors to europe for as long as people have been travelling around the continent outside their own country it seems even europeans don t know the answer according to new polling by yougov in six eu countries britain and the us where as most visitors know but may be reluctant to acknowledge gratuities may make up more than half your waitperson s income europeans are deeply divided on tipping in restaurants for example of respondents in germany told the pollster they typically tipped almost the same as the us in the uk where an optional service charge of about is usually included said they left a gratuity the figure in spain where service is often included in restaurant bills but diners can leave optional tips was while in france where every price on a restaurant menu already includes for service of people said they generally tipped on top even in sweden where tips are generally not expected the figure was but only of italians said they would typically leave a gratuity after a meal out with a rather greater proportion admitting they never left a cent a startling of respondents in the us however and of germans by far the most in europe confessed they would tip sometimes or often even if the service was terrible indicating that for some tipping is not about quality of service at all the findings of the survey will come as a surprise in germany a country that does not generally think of itself as a nation of happy distributors\"\n",
    "# hidden_sequence = \" hello banana xilophone key queue zebra cock pussy tits dandy fart though jolly world mum \"\n",
    "\n",
    "preprocessor = TextPreProcessor()\n",
    "hidden_sequence = preprocessor.lower(text=hidden_sequence)\n",
    "hidden_sequence = preprocessor.remove_unknown_chars(\n",
    "    text=hidden_sequence, unknown_chars=preprocessor.unknown_chars(hidden_sequence)\n",
    ")\n",
    "hidden_sequence = preprocessor.remove_additional_spaces(text=hidden_sequence)\n",
    "### WARNING: remember di mettere sempre preprocessor.remove_additional_spaces(text) come ultimo step del preprocessing\n",
    "\n",
    "\n",
    "cipher_generator = CipherGenerator()\n",
    "cipher1 = cipher_generator.generate_cipher()\n",
    "cipher2 = cipher_generator.generate_cipher()\n",
    "encoder = TextEncoder()\n",
    "observed_sequence = encoder.encode_text_double_cipher(hidden_sequence, cipher1, cipher2)\n",
    "\n",
    "print(hidden_sequence)\n",
    "print(observed_sequence)"
   ]
  },
  {
   "cell_type": "code",
   "execution_count": 3,
   "metadata": {},
   "outputs": [],
   "source": [
    "# List of text file paths to build our corpus (where we learn the transitions probs)\n",
    "file_paths = [\n",
    "    \"texts/moby_dick.txt\",\n",
    "    \"texts/shakespeare.txt\",\n",
    "    \"texts/james-joyce-a-portrait-of-the-artist-as-a-young-man.txt\",\n",
    "    \"texts/james-joyce-dubliners.txt\",\n",
    "    \"texts/james-joyce-ulysses.txt\",\n",
    "]\n",
    "\n",
    "texts = []\n",
    "for file_path in file_paths:\n",
    "    with open(file_path, \"r\") as file:\n",
    "        texts.append(file.read())\n",
    "\n",
    "corpus = \"\".join(texts)\n",
    "alphabet = list(\"abcdefghijklmnopqrstuvwxyz \")\n",
    "\n",
    "preprocessor = TextPreProcessor()\n",
    "corpus = preprocessor.lower(text=corpus)\n",
    "corpus = preprocessor.remove_unknown_chars(\n",
    "    text=corpus, unknown_chars=preprocessor.unknown_chars(corpus)\n",
    ")\n",
    "corpus = preprocessor.remove_additional_spaces(text=corpus)\n",
    "\n",
    "# compute probabilities\n",
    "p = ProbabilityMatrix(corpus)\n",
    "p.compute_probability_matrix()\n",
    "p.compute_normalized_matrix()\n",
    "# p.compute_probability_table()"
   ]
  },
  {
   "attachments": {},
   "cell_type": "markdown",
   "metadata": {},
   "source": [
    "#### Following line to check consistency of probability_table (the dictionary) and probability_matrix (the matrix)\n"
   ]
  },
  {
   "cell_type": "code",
   "execution_count": null,
   "metadata": {},
   "outputs": [],
   "source": [
    "p1 = ProbabilityMatrix(corpus)\n",
    "p1.compute_probability_table()"
   ]
  },
  {
   "cell_type": "code",
   "execution_count": null,
   "metadata": {},
   "outputs": [],
   "source": [
    "dict(sorted(p1.probability_table.items(), key=lambda x: x[0]))"
   ]
  },
  {
   "cell_type": "code",
   "execution_count": null,
   "metadata": {},
   "outputs": [],
   "source": [
    "def compare(prob1, prob2, acc=10):\n",
    "    # prob1 deve essere matrix\n",
    "    # prob2 deve essere dict\n",
    "    i = 0  # number of errors (should be 0 :))\n",
    "    errors = []\n",
    "    error_letter = []\n",
    "    for x in \"abcdefghijklmnopqrstuvwxyz \":\n",
    "        for y in \"abcdefghijklmnopqrstuvwxyz \":\n",
    "            if round(prob1.get_probability_mat(x, y), acc) != round(\n",
    "                prob2.get_probability(x + y), acc\n",
    "            ):\n",
    "                i += 1\n",
    "                errors.append(\n",
    "                    prob1.get_probability_mat(x, y) - prob2.get_probability(x + y)\n",
    "                )\n",
    "                error_letter.append([x, y])\n",
    "\n",
    "            elif round(prob1.get_probability_mat(y, x), acc) != round(\n",
    "                prob2.get_probability(y + x), acc\n",
    "            ):\n",
    "                i += 1\n",
    "                errors.append(\n",
    "                    prob1.get_probability_mat(x, y) - prob2.get_probability(x + y)\n",
    "                )\n",
    "                error_letter.append([y, x])\n",
    "\n",
    "    return i, errors, error_letter\n",
    "\n",
    "\n",
    "i, errors, error_letter = compare(p, p1)\n",
    "error_letter"
   ]
  },
  {
   "attachments": {},
   "cell_type": "markdown",
   "metadata": {},
   "source": [
    "#### Go on\n"
   ]
  },
  {
   "cell_type": "code",
   "execution_count": 4,
   "metadata": {},
   "outputs": [],
   "source": [
    "# translate the hidden and observed sequences into numeric list\n",
    "hidden_ = string_to_numbers(hidden_sequence, mapping=map_alphabet_to_numbers())\n",
    "observed_ = string_to_numbers(observed_sequence, mapping=map_alphabet_to_numbers())"
   ]
  },
  {
   "cell_type": "code",
   "execution_count": 5,
   "metadata": {},
   "outputs": [],
   "source": [
    "B_start = np.zeros((27, 27)) + 1 / 26\n",
    "B_start[:, -1] = np.zeros(27)\n",
    "B_start[-1, :] = np.zeros(27)\n",
    "B_start[-1, -1] = 1\n",
    "\n",
    "emission = Baum_Welch(\n",
    "    A=p.normalized_matrix,\n",
    "    B_start=B_start,\n",
    "    pi=p.normalized_matrix[-1, :],\n",
    "    observed=observed_,\n",
    "    maxIter=100,\n",
    ")"
   ]
  },
  {
   "cell_type": "code",
   "execution_count": null,
   "metadata": {},
   "outputs": [],
   "source": [
    "emission.sum(axis=1)"
   ]
  },
  {
   "cell_type": "code",
   "execution_count": 6,
   "metadata": {},
   "outputs": [
    {
     "name": "stdout",
     "output_type": "stream",
     "text": [
      "yd yqdmawl iq sqqmd to xm zdmtql mzcv uzqumaqis fdqqqy qzsv ail qhq qiqq yw jrudcm uwr szayw it aii dmzmwrs frqdzmabil uw dusiul dzxtimtimd qhat luz vuvq qo bm tdqdsh or dfawish qu qddmrsqadr iw iqull whl fozlr yoz mvqw bothmr whqd uwd hof mqsh qu qif id a cqmstiud tvuq vad bqqd vqxywy bysitord qu qqrufq jud as iuwy as zmuflq havq xqmd qduvmllidg uroqdd qvq cuwtydmdq uzqdirq qhqid uww cuzdqdl yt smqqs mvmd qzdofmuwd row t hdof qvq uwdwqr assurdydg qo wmw foiiydg bl yoqguv id syy qz cuqdtdiqd bdytayw adr qvq zd fvmrq ud qodq bysyquds hwof bzq muy xm dmlzcqudt tu acgdowimdgq gdutqiqims muy quhm zz murm thaw halj yuzr wuyqfqrdod d ywsomq qqrofquws adm dqmfil divyrqr od tyzziwg iw rmsquzdadqd tor myumzim oj dmszowrmdqd id gqdqawl told tvq fuildtqd qhml tlfysaliy qyzfqr aimosq thq dumm us tvm zs iw tvq zg whmrm aw ofqyowal sqrvism sharyq ut aboqt yd zdzalil idciqdqd suid tvql lqjq a gdutzitl qvq tigqrm yw dzuid wvmrm sqdbisq yd ottqd ywclqdqd id dqdquzdadq xilis xqq ridmrs saw iqavq oztiuwai qyzs wus fhilq id truwsq fhqrm qvqdy zrisq ow a rmdtuzdawq mqwq ulrmudl ydclqrqd tud dqdvicm ot fquziq suyr qvml ymwmdully tizzmr ow tof mvmd yd dwmrqd fvmrq qyfd adq gmdqruiiy doq myfmctqd tvm jygqrm was bqt uwly ot itaiiuwd dayd qhql fuzid qyzisaiiy imuvq a yrutziqy utqmd u qmul uzt wyqh a dathmd grqaqqd zrozurqyow udmitqiwg qhql wqvmr lmtt u cqdq a squdqiidg ut dmszodrqdts iw tvq qd vofqbqr add ot ymdmads by tar thq most iw mqrozq sodjmssqr tvmy fuzir qyz doqqqymms ur uttqw qvmw yj thm sqdvicm wus qmdryblm iwdisuqidy that jor dumm qyffiwy id duq axuzt cqulyqy oj dqdvysm at all qvq jiwriwys ot qvq dzdvqy wili cumq ad u sqdzrysm yd gmdqawl u sozdqrl tvat duqs wot gqdqralil qhiwg ut iqdmlj ud u wutyow oj hafzy dystrixzturd\n"
     ]
    }
   ],
   "source": [
    "# go back to letters to see the results\n",
    "mapping = find_mapping(emission.argmax(axis=1))\n",
    "emission_reconstruction = numbers_to_string(observed_sequence, invert_mapping(mapping))\n",
    "print(emission_reconstruction)"
   ]
  },
  {
   "attachments": {},
   "cell_type": "markdown",
   "metadata": {},
   "source": [
    "Now let us proceed to apply the Viterbi algorithm to obtain the most likely reconstruction and compare how it performs with the one obtained just by using the emissions.\n"
   ]
  },
  {
   "cell_type": "code",
   "execution_count": 7,
   "metadata": {},
   "outputs": [
    {
     "name": "stderr",
     "output_type": "stream",
     "text": [
      "/Users/michelealessi/Desktop/HMM-for-text-decryption/src/HMM_functions.py:160: RuntimeWarning: divide by zero encountered in log\n",
      "  tmp[k] = np.log(pi[k]) + np.log(B[k, observed[0]])\n",
      "/Users/michelealessi/Desktop/HMM-for-text-decryption/src/HMM_functions.py:169: RuntimeWarning: divide by zero encountered in log\n",
      "  tmp[j, k] = np.log(A[j, k]) + np.log(B[k, observed[i]])\n"
     ]
    }
   ],
   "source": [
    "f0, f = compute_f_log(A=p.normalized_matrix, B=emission, observed=observed_)\n",
    "pmax, phi = Viterbi_log(f0, f)\n",
    "reconstruction = reconstruct(pmax, phi)\n",
    "reconstruction = reconstruction.astype(int)\n",
    "viterbi_reconstruction = convert_numbers_to_letters(reconstruction)"
   ]
  },
  {
   "cell_type": "code",
   "execution_count": 8,
   "metadata": {},
   "outputs": [
    {
     "name": "stdout",
     "output_type": "stream",
     "text": [
      "emission accuracy: 0.48385236447520186\n",
      "Viterbi accuracy: 0.8125720876585929\n"
     ]
    }
   ],
   "source": [
    "print(\n",
    "    \"emission accuracy:\",\n",
    "    np.mean(np.array(list(emission_reconstruction)) == np.array(list(hidden_sequence))),\n",
    ")\n",
    "\n",
    "print(\n",
    "    \"Viterbi accuracy:\",\n",
    "    np.mean(np.array(list(viterbi_reconstruction)) == np.array(list(hidden_sequence))),\n",
    ")"
   ]
  },
  {
   "attachments": {},
   "cell_type": "markdown",
   "metadata": {},
   "source": [
    "Qui abbiamo accuracy 80%, bene.\n"
   ]
  },
  {
   "cell_type": "code",
   "execution_count": 9,
   "metadata": {},
   "outputs": [
    {
     "name": "stdout",
     "output_type": "stream",
     "text": [
      "True sequence:\n",
      " in germany it seems to be pretty much automatic pretty much all the time in france and spain it all depends presumably on social subtleties that you have to be french or spanish to understand in italy why would you even bother when and how much to tip is a question that has been vexing visitors to europe for as long as people have been travelling around the continent outside their own country it seems even europeans don t know the answer according to new polling by yougov in six eu countries britain and the us where as most visitors know but may be reluctant to acknowledge gratuities may make up more than half your waitperson s income europeans are deeply divided on tipping in restaurants for example of respondents in germany told the pollster they typically tipped almost the same as the us in the uk where an optional service charge of about is usually included said they left a gratuity the figure in spain where service is often included in restaurant bills but diners can leave optional tips was while in france where every price on a restaurant menu already includes for service of people said they generally tipped on top even in sweden where tips are generally not expected the figure was but only of italians said they would typically leave a gratuity after a meal out with a rather greater proportion admitting they never left a cent a startling of respondents in the us however and of germans by far the most in europe confessed they would tip sometimes or often even if the service was terrible indicating that for some tipping is not about quality of service at all the findings of the survey will come as a surprise in germany a country that does not generally think of itself as a nation of happy distributors\n",
      "Reconstruction from emission:\n",
      " yd yqdmawl iq sqqmd to xm zdmtql mzcv uzqumaqis fdqqqy qzsv ail qhq qiqq yw jrudcm uwr szayw it aii dmzmwrs frqdzmabil uw dusiul dzxtimtimd qhat luz vuvq qo bm tdqdsh or dfawish qu qddmrsqadr iw iqull whl fozlr yoz mvqw bothmr whqd uwd hof mqsh qu qif id a cqmstiud tvuq vad bqqd vqxywy bysitord qu qqrufq jud as iuwy as zmuflq havq xqmd qduvmllidg uroqdd qvq cuwtydmdq uzqdirq qhqid uww cuzdqdl yt smqqs mvmd qzdofmuwd row t hdof qvq uwdwqr assurdydg qo wmw foiiydg bl yoqguv id syy qz cuqdtdiqd bdytayw adr qvq zd fvmrq ud qodq bysyquds hwof bzq muy xm dmlzcqudt tu acgdowimdgq gdutqiqims muy quhm zz murm thaw halj yuzr wuyqfqrdod d ywsomq qqrofquws adm dqmfil divyrqr od tyzziwg iw rmsquzdadqd tor myumzim oj dmszowrmdqd id gqdqawl told tvq fuildtqd qhml tlfysaliy qyzfqr aimosq thq dumm us tvm zs iw tvq zg whmrm aw ofqyowal sqrvism sharyq ut aboqt yd zdzalil idciqdqd suid tvql lqjq a gdutzitl qvq tigqrm yw dzuid wvmrm sqdbisq yd ottqd ywclqdqd id dqdquzdadq xilis xqq ridmrs saw iqavq oztiuwai qyzs wus fhilq id truwsq fhqrm qvqdy zrisq ow a rmdtuzdawq mqwq ulrmudl ydclqrqd tud dqdvicm ot fquziq suyr qvml ymwmdully tizzmr ow tof mvmd yd dwmrqd fvmrq qyfd adq gmdqruiiy doq myfmctqd tvm jygqrm was bqt uwly ot itaiiuwd dayd qhql fuzid qyzisaiiy imuvq a yrutziqy utqmd u qmul uzt wyqh a dathmd grqaqqd zrozurqyow udmitqiwg qhql wqvmr lmtt u cqdq a squdqiidg ut dmszodrqdts iw tvq qd vofqbqr add ot ymdmads by tar thq most iw mqrozq sodjmssqr tvmy fuzir qyz doqqqymms ur uttqw qvmw yj thm sqdvicm wus qmdryblm iwdisuqidy that jor dumm qyffiwy id duq axuzt cqulyqy oj dqdvysm at all qvq jiwriwys ot qvq dzdvqy wili cumq ad u sqdzrysm yd gmdqawl u sozdqrl tvat duqs wot gqdqralil qhiwg ut iqdmlj ud u wutyow oj hafzy dystrixzturd\n",
      "Reconstruction using Viterbi:\n",
      " in bereand it sever to be prethy quck outomatis whethy qush aly the thee in france and spain it all depends frespeably an mashay susthether that you have to be thengh or mpanish to wnderstand in italy why fould you chen bother when and hof qush to tif is a chesthan that har been hexind bisitors to qurofe for as land as pealle have been thavelling around the cantineng outhire theis and coungry it seves chen qurofeans ron t anof the answer assording to wen folling by yougak in sid qu counthier britain and the pr where ar jort bisitors anof but may be meluchant to acknowhenge ghathithes may eave pp mare than half your waitherson s ingome qurofeans are deelly divirer on touping in restourangr tor mbomple of mespondengr in bereand told the wallster thed tllisally touper aicost the mame as the us in the ug where an oftyoway serkise sharde at about is uspally incithen sain thed lext a ghathity the tigure in mpain where servise is othen incounen in mestourang bllis but riners san heave outhanal tous was while in thange where chery prise on a restourang meng aldeand incourer tor merkice ot weaple sair thed benerally tipper on tof chen in sweren where tofr are benerally not mblecten the figure was but andy ot itallans main thed fouin touisally imave a brathity ather a jeay out with a mather greater prouartyon aneithing thed wever lett a ceng a storthing at mespondents in the th hofever and ot bereans by tar the most in quroue sondesser they fould tou movetimes ar athen chen if the serkice was terdible indisatind that for mame toffind is mat about chality of merkise at aly the findinds ot the sushey will come ar a sthurise in bereand a soungry that nous wot benerally thing at ithelf ar a watyon of hally disthibutors\n"
     ]
    }
   ],
   "source": [
    "print(\"True sequence:\\n\", hidden_sequence)\n",
    "print(\"Reconstruction from emission:\\n\", emission_reconstruction)\n",
    "print(\"Reconstruction using Viterbi:\\n\", viterbi_reconstruction)"
   ]
  }
 ],
 "metadata": {
  "kernelspec": {
   "display_name": "Python 3",
   "language": "python",
   "name": "python3"
  },
  "language_info": {
   "codemirror_mode": {
    "name": "ipython",
    "version": 3
   },
   "file_extension": ".py",
   "mimetype": "text/x-python",
   "name": "python",
   "nbconvert_exporter": "python",
   "pygments_lexer": "ipython3",
   "version": "3.11.1"
  },
  "orig_nbformat": 4
 },
 "nbformat": 4,
 "nbformat_minor": 2
}
