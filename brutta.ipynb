{
 "cells": [
  {
   "cell_type": "code",
   "execution_count": null,
   "metadata": {},
   "outputs": [],
   "source": [
    "import numpy as np"
   ]
  },
  {
   "cell_type": "code",
   "execution_count": 11,
   "metadata": {},
   "outputs": [],
   "source": [
    "def forward(A, B, pi, observed):\n",
    "    \"\"\"\n",
    "    A : transition:\n",
    "    B: emission: hidden x observed\n",
    "    pi: initial prob\n",
    "    \"\"\"\n",
    "    n_states = A.shape[0]\n",
    "    n_nodes = len(observed)\n",
    "\n",
    "    alpha = np.empty((n_nodes, n_states))\n",
    "\n",
    "    for j in range(n_states):\n",
    "        tmp = observed[0]\n",
    "        alpha[0, j] = pi[j] * B[j, tmp]\n",
    "\n",
    "    for i in range(1, n_nodes):\n",
    "        for j in range(n_states):\n",
    "            for k in range(n_states):\n",
    "                alpha[i, j] += A[j, k] * B[j, observed[i]] * alpha[i - 1, k]"
   ]
  },
  {
   "cell_type": "code",
   "execution_count": 19,
   "metadata": {},
   "outputs": [],
   "source": [
    "def backward(A, B, observed):\n",
    "    \"\"\"\n",
    "    A: transition\n",
    "    B: emission\n",
    "    pi: initial\n",
    "    n_nodes: number of nodes in the chain\n",
    "    observed: list containing observed ones.\n",
    "    \"\"\"\n",
    "    n_states = A.shape[0]\n",
    "    n_nodes = len(observed)\n",
    "\n",
    "    beta = np.empty((n_nodes - 1, n_states))\n",
    "\n",
    "    for j in range(n_states):\n",
    "        for k in range(n_states):\n",
    "            beta[n_nodes - 1, j] += A[j, k] * B[k, observed[n_nodes - 1]]\n",
    "\n",
    "    for i in range(n_nodes - 3, -1, -1):\n",
    "        for j in range(n_states):\n",
    "            for k in range(n_states):\n",
    "                beta[i, j] += A[j, k] * B[k, observed[i + 1]] * beta[i + 1, k]\n",
    "\n",
    "    return beta"
   ]
  },
  {
   "cell_type": "code",
   "execution_count": 20,
   "metadata": {},
   "outputs": [],
   "source": [
    "import numpy as np\n",
    "\n",
    "\n",
    "# We need an algorithm to perform belief propagation on our hmm\n",
    "def backward_HMM(A, B, observed):\n",
    "    \"\"\"\n",
    "    A: transition\n",
    "    B: emission\n",
    "    pi: initial\n",
    "    n_nodes: number of nodes in the chain\n",
    "    observed: list containing observed ones.\n",
    "    \"\"\"\n",
    "    n_nodes = len(observed)\n",
    "    n_states = A.shape[0]\n",
    "    beta = np.zeros((n_nodes - 1, n_states))\n",
    "\n",
    "    for j in range(n_states):\n",
    "        for k in range(n_states):\n",
    "            beta[-1, j] += A[j, k] * B[k, observed[n_nodes - 1]]\n",
    "\n",
    "    for i in range(n_nodes - 3, -1, -1):\n",
    "        for j in range(n_states):\n",
    "            for k in range(n_states):\n",
    "                print(\"i:\", i, \"j:\", j, \"k:\", k)\n",
    "                beta[i, j] += A[j, k] * B[k, observed[i + 1]] * beta[i + 1, k]\n",
    "\n",
    "    return beta"
   ]
  },
  {
   "cell_type": "code",
   "execution_count": null,
   "metadata": {},
   "outputs": [],
   "source": [
    "def update_B(A):\n",
    "    "
   ]
  }
 ],
 "metadata": {
  "kernelspec": {
   "display_name": "pml",
   "language": "python",
   "name": "python3"
  },
  "language_info": {
   "codemirror_mode": {
    "name": "ipython",
    "version": 3
   },
   "file_extension": ".py",
   "mimetype": "text/x-python",
   "name": "python",
   "nbconvert_exporter": "python",
   "pygments_lexer": "ipython3",
   "version": "3.11.1"
  },
  "orig_nbformat": 4
 },
 "nbformat": 4,
 "nbformat_minor": 2
}
