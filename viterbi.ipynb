{
 "cells": [
  {
   "cell_type": "code",
   "execution_count": 98,
   "metadata": {},
   "outputs": [],
   "source": [
    "import numpy as np\n",
    "\n",
    "\n",
    "def compute_f(A, B, observed):\n",
    "    n_nodes = len(observed)\n",
    "    n_states = A.shape[0]\n",
    "    f = np.zeros((n_nodes - 1, n_states, n_states))\n",
    "\n",
    "    for i in range(n_nodes - 1):\n",
    "        tmp = np.zeros((n_states, n_states))\n",
    "        for j in range(n_states):\n",
    "            for k in range(n_states):\n",
    "                if B[k, observed[i + 1]] == 0:\n",
    "                    tmp_B = np.min(B[B != 0])\n",
    "                else:\n",
    "                    tmp_B = np.log(B[k, observed[i + 1]])\n",
    "\n",
    "                tmp[j, k] = np.log(A[j, k]) + tmp_B\n",
    "        f[i] = tmp\n",
    "\n",
    "    return f"
   ]
  },
  {
   "cell_type": "code",
   "execution_count": 99,
   "metadata": {},
   "outputs": [
    {
     "data": {
      "text/plain": [
       "array([[[-1.42711636, -1.04982212],\n",
       "        [-0.32850407, -2.99573227]],\n",
       "\n",
       "       [[-1.42711636, -1.04982212],\n",
       "        [-0.32850407, -2.99573227]]])"
      ]
     },
     "execution_count": 99,
     "metadata": {},
     "output_type": "execute_result"
    }
   ],
   "source": [
    "A = np.array([[0.3, 0.7], [0.9, 0.1]])\n",
    "B = np.array([[0.2, 0.8], [0.5, 0.5]])\n",
    "observed = np.array([0, 1, 1])\n",
    "compute_f(A, B, observed)"
   ]
  },
  {
   "cell_type": "code",
   "execution_count": 100,
   "metadata": {},
   "outputs": [],
   "source": [
    "def Viterbi(A, B, observed):\n",
    "    n_nodes = len(observed)\n",
    "    n_states = A.shape[0]\n",
    "\n",
    "    pmax = np.zeros((n_nodes - 1, n_states))\n",
    "    phi = np.zeros((n_nodes - 1, n_states))\n",
    "\n",
    "    f = compute_f(A, B, observed)\n",
    "\n",
    "    pmax[0] = np.max((f[0]), axis=0)\n",
    "    phi[0] = np.argmax(f[0], axis=0)\n",
    "\n",
    "    for i in range(1, n_nodes - 1):\n",
    "        tmp = ((f[i]).T + pmax[i - 1]).T\n",
    "\n",
    "        pmax[i] = np.max(tmp, axis=0)\n",
    "\n",
    "        phi[i] = np.argmax(tmp, axis=0)\n",
    "\n",
    "    return pmax, phi"
   ]
  },
  {
   "cell_type": "code",
   "execution_count": 65,
   "metadata": {},
   "outputs": [
    {
     "data": {
      "text/plain": [
       "(array([[-0.32850407, -1.04982212],\n",
       "        [-1.37832619, -1.37832619]]),\n",
       " array([[1., 0.],\n",
       "        [1., 0.]]))"
      ]
     },
     "execution_count": 65,
     "metadata": {},
     "output_type": "execute_result"
    }
   ],
   "source": [
    "Viterbi(A, B, observed)"
   ]
  },
  {
   "cell_type": "code",
   "execution_count": 136,
   "metadata": {},
   "outputs": [],
   "source": [
    "def reconstruct(pmax, phi):\n",
    "    \"\"\"\n",
    "    Ricostruisce tutti i most probable, per ora fa schifo ma sembra funzionare, da ricontrollare\n",
    "    \"\"\"\n",
    "\n",
    "    reconstruction = np.empty(len(pmax)+1)\n",
    "    reconstruction[-1] = np.argmax(pmax[-1])\n",
    "    curr = np.argmax(pmax[-1])\n",
    "    for i in range(1, len(pmax)-1):\n",
    "        reconstruction[-1-i] = phi[-1-i][curr]\n",
    "        curr = phi[i][curr]\n",
    "    \n",
    "    return reconstruction\n",
    "\n"
   ]
  },
  {
   "cell_type": "code",
   "execution_count": 137,
   "metadata": {},
   "outputs": [
    {
     "data": {
      "text/plain": [
       "array([0., 0., 1.])"
      ]
     },
     "execution_count": 137,
     "metadata": {},
     "output_type": "execute_result"
    }
   ],
   "source": [
    "reconstruct(pmax, phi)"
   ]
  },
  {
   "attachments": {},
   "cell_type": "markdown",
   "metadata": {},
   "source": [
    "### Experiement with matrix like the one we have (last row of spaces has 1)"
   ]
  },
  {
   "cell_type": "code",
   "execution_count": 157,
   "metadata": {},
   "outputs": [],
   "source": [
    "def compute_f(A, B, observed):\n",
    "    \"\"\"\n",
    "    Aggiustato il compute_f che dava problemi, ho cambiato observed in i+1 invece che i\n",
    "    poi questa è l'implementazione senza il log\n",
    "\n",
    "    Ho anche aggiustato che in realtà il primo messaggio h -> z_1 NON è 0! (guarda formule)\n",
    "    \"\"\"\n",
    "    n_nodes = len(observed)\n",
    "    n_states = A.shape[0]\n",
    "    f = np.zeros((n_nodes, n_states, n_states))\n",
    "\n",
    "\n",
    "    for i in range(n_nodes):\n",
    "        tmp = np.zeros((n_states, n_states))\n",
    "        for j in range(n_states):\n",
    "            for k in range(n_states):\n",
    "                tmp[j, k] = (A[j, k]) * B[k, observed[i]]\n",
    "        f[i] = tmp\n",
    "\n",
    "    return f"
   ]
  },
  {
   "cell_type": "code",
   "execution_count": 156,
   "metadata": {},
   "outputs": [],
   "source": [
    "def Viterbi(f):\n",
    "    n_nodes = 3\n",
    "    n_states = 2\n",
    "\n",
    "    pmax = np.zeros((n_nodes - 1, n_states))\n",
    "    phi = np.zeros((n_nodes - 1, n_states))\n",
    "\n",
    "    pmax[0] = np.max((f[0]), axis=0)\n",
    "    phi[0] = np.argmax(f[0], axis=0)\n",
    "\n",
    "    for i in range(1, n_nodes - 1):\n",
    "        tmp = ((f[i]).T + pmax[i - 1]).T\n",
    "\n",
    "        pmax[i] = np.max(tmp, axis=0)\n",
    "\n",
    "        phi[i] = np.argmax(tmp, axis=0)\n",
    "\n",
    "    return pmax, phi"
   ]
  },
  {
   "cell_type": "code",
   "execution_count": 158,
   "metadata": {},
   "outputs": [],
   "source": [
    "A = np.array([[0.1, 0.8, 0.1],\n",
    "              [0.8, 0.1, 0.1],\n",
    "              [0.5, 0.5, 0]])\n",
    "\n",
    "B = np.array([[0.5, 0.5, 0],\n",
    "              [0.5, 0.5, 0],\n",
    "              [0, 0, 1]])\n",
    "\n",
    "observed = np.array([2, 0, 1])"
   ]
  },
  {
   "cell_type": "code",
   "execution_count": 159,
   "metadata": {},
   "outputs": [
    {
     "name": "stdout",
     "output_type": "stream",
     "text": [
      "[[[0.   0.   0.1 ]\n",
      "  [0.   0.   0.1 ]\n",
      "  [0.   0.   0.  ]]\n",
      "\n",
      " [[0.05 0.4  0.  ]\n",
      "  [0.4  0.05 0.  ]\n",
      "  [0.25 0.25 0.  ]]\n",
      "\n",
      " [[0.05 0.4  0.  ]\n",
      "  [0.4  0.05 0.  ]\n",
      "  [0.25 0.25 0.  ]]]\n"
     ]
    }
   ],
   "source": [
    "f = compute_f(A, B, observed)\n",
    "print(f)"
   ]
  },
  {
   "attachments": {},
   "cell_type": "markdown",
   "metadata": {},
   "source": [
    "- Errore in compute_f, parte dalla prima osservazione e invece dovrebbe partire dalla seconda (la prima non contribuisce ai messaggi se non )\n",
    "- Controlla come viene considerato lo spazio"
   ]
  },
  {
   "cell_type": "code",
   "execution_count": 166,
   "metadata": {},
   "outputs": [
    {
     "data": {
      "text/plain": [
       "-2.120263536200091"
      ]
     },
     "execution_count": 166,
     "metadata": {},
     "output_type": "execute_result"
    }
   ],
   "source": [
    "np.log(0.3) + np.log(0.4)"
   ]
  },
  {
   "cell_type": "code",
   "execution_count": null,
   "metadata": {},
   "outputs": [],
   "source": [
    "np.log(0.3) + np.log(0.4)"
   ]
  },
  {
   "cell_type": "code",
   "execution_count": 167,
   "metadata": {},
   "outputs": [
    {
     "data": {
      "text/plain": [
       "-5.521460917862246"
      ]
     },
     "execution_count": 167,
     "metadata": {},
     "output_type": "execute_result"
    }
   ],
   "source": [
    "2*np.log(0.1) + np.log(0.4)"
   ]
  }
 ],
 "metadata": {
  "kernelspec": {
   "display_name": "Python 3",
   "language": "python",
   "name": "python3"
  },
  "language_info": {
   "codemirror_mode": {
    "name": "ipython",
    "version": 3
   },
   "file_extension": ".py",
   "mimetype": "text/x-python",
   "name": "python",
   "nbconvert_exporter": "python",
   "pygments_lexer": "ipython3",
   "version": "3.10.8"
  },
  "orig_nbformat": 4
 },
 "nbformat": 4,
 "nbformat_minor": 2
}
