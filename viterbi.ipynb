{
 "cells": [
  {
   "cell_type": "code",
   "execution_count": 8,
   "metadata": {},
   "outputs": [],
   "source": [
    "import numpy as np\n",
    "\n",
    "\n",
    "def compute_f(A, B, observed):\n",
    "    n_nodes = len(observed)\n",
    "    n_states = A.shape[0]\n",
    "    f = np.zeros((n_nodes - 1, n_states, n_states))\n",
    "\n",
    "    for i in range(n_nodes - 1):\n",
    "        tmp = np.zeros((n_states, n_states))\n",
    "        for j in range(n_states):\n",
    "            for k in range(n_states):\n",
    "                tmp[j, k] = A[j, k] * B[k, observed[i + 1]]\n",
    "        f[i] = tmp\n",
    "\n",
    "    return f"
   ]
  },
  {
   "cell_type": "code",
   "execution_count": 50,
   "metadata": {},
   "outputs": [
    {
     "data": {
      "text/plain": [
       "array([[[0.24, 0.35],\n",
       "        [0.72, 0.05]],\n",
       "\n",
       "       [[0.24, 0.35],\n",
       "        [0.72, 0.05]]])"
      ]
     },
     "execution_count": 50,
     "metadata": {},
     "output_type": "execute_result"
    }
   ],
   "source": [
    "A = np.array([[0.3, 0.7], [0.9, 0.1]])\n",
    "B = np.array([[0.2, 0.8], [0.5, 0.5]])\n",
    "observed = np.array([0, 1, 1])\n",
    "compute_f(A, B, observed)"
   ]
  },
  {
   "cell_type": "code",
   "execution_count": 64,
   "metadata": {},
   "outputs": [],
   "source": [
    "def Viterbi(A, B, observed):\n",
    "    n_nodes = len(observed)\n",
    "    n_states = A.shape[0]\n",
    "\n",
    "    pmax = np.zeros((n_nodes - 1, n_states))\n",
    "    phi = np.zeros((n_nodes - 1, n_states))\n",
    "\n",
    "    f = compute_f(A, B, observed)\n",
    "\n",
    "    pmax[0] = np.max(np.log(f[0]), axis=0)\n",
    "    phi[0] = np.argmax(f[0], axis=0)\n",
    "\n",
    "    for i in range(1, n_nodes - 1):\n",
    "        tmp = (np.log(f[i]).T + pmax[i-1]).T\n",
    "\n",
    "        pmax[i] = np.max(tmp, axis=0)\n",
    "        \n",
    "        phi[i] = np.argmax(tmp, axis=0)\n",
    "\n",
    "    return pmax, phi"
   ]
  },
  {
   "cell_type": "code",
   "execution_count": 65,
   "metadata": {},
   "outputs": [
    {
     "data": {
      "text/plain": [
       "(array([[-0.32850407, -1.04982212],\n",
       "        [-1.37832619, -1.37832619]]),\n",
       " array([[1., 0.],\n",
       "        [1., 0.]]))"
      ]
     },
     "execution_count": 65,
     "metadata": {},
     "output_type": "execute_result"
    }
   ],
   "source": [
    "Viterbi(A, B, observed)"
   ]
  }
 ],
 "metadata": {
  "kernelspec": {
   "display_name": "Python 3",
   "language": "python",
   "name": "python3"
  },
  "language_info": {
   "codemirror_mode": {
    "name": "ipython",
    "version": 3
   },
   "file_extension": ".py",
   "mimetype": "text/x-python",
   "name": "python",
   "nbconvert_exporter": "python",
   "pygments_lexer": "ipython3",
   "version": "3.10.8"
  },
  "orig_nbformat": 4
 },
 "nbformat": 4,
 "nbformat_minor": 2
}
