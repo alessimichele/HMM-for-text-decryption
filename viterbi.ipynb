{
 "cells": [
  {
   "cell_type": "code",
   "execution_count": 5,
   "metadata": {},
   "outputs": [],
   "source": [
    "import numpy as np\n",
    "\n",
    "\n",
    "def compute_f(A, B, observed):\n",
    "    n_nodes = len(observed)\n",
    "    n_states = A.shape[0]\n",
    "    f = np.zeros((n_nodes - 1, n_states, n_states))\n",
    "\n",
    "    for i in range(n_nodes - 1):\n",
    "        tmp = np.zeros((n_states, n_states))\n",
    "        for j in range(n_states):\n",
    "            for k in range(n_states):\n",
    "                tmp[j, k] = A[j, k] * B[k, observed[i + 1]]\n",
    "        f[i] = tmp\n",
    "\n",
    "    return f"
   ]
  },
  {
   "cell_type": "code",
   "execution_count": 11,
   "metadata": {},
   "outputs": [
    {
     "data": {
      "text/plain": [
       "array([[[0.24, 0.35],\n",
       "        [0.72, 0.05]],\n",
       "\n",
       "       [[0.06, 0.35],\n",
       "        [0.18, 0.05]]])"
      ]
     },
     "execution_count": 11,
     "metadata": {},
     "output_type": "execute_result"
    }
   ],
   "source": [
    "A = np.array([[0.3, 0.7], [0.9, 0.1]])\n",
    "B = np.array([[0.2, 0.8], [0.5, 0.5]])\n",
    "observed = np.array([0, 1, 0])\n",
    "compute_f(A, B, observed)"
   ]
  },
  {
   "cell_type": "code",
   "execution_count": null,
   "metadata": {},
   "outputs": [],
   "source": [
    "def Viterbi(A, B, pi, observed):\n",
    "    n_nodes = len(observed)\n",
    "    n_states = A.shape[0]\n",
    "\n",
    "    pmax = np.zeros((n_nodes - 1, n_states))\n",
    "    phi = np.zeros((n_nodes - 1, n_states))\n",
    "\n",
    "    f = compute_f(A, B, observed)\n",
    "\n",
    "    for i in range(n_nodes - 1):\n",
    "        pmax[i] = np.max(f[i], axis=0) + np.sum(...)\n",
    "        phi[i] = np.argmax(f[i], axis=0)"
   ]
  }
 ],
 "metadata": {
  "kernelspec": {
   "display_name": "Python 3",
   "language": "python",
   "name": "python3"
  },
  "language_info": {
   "codemirror_mode": {
    "name": "ipython",
    "version": 3
   },
   "file_extension": ".py",
   "mimetype": "text/x-python",
   "name": "python",
   "nbconvert_exporter": "python",
   "pygments_lexer": "ipython3",
   "version": "3.11.1"
  },
  "orig_nbformat": 4
 },
 "nbformat": 4,
 "nbformat_minor": 2
}
