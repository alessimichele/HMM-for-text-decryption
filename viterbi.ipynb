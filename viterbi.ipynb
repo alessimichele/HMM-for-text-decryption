{
 "cells": [
  {
   "cell_type": "code",
   "execution_count": 1,
   "metadata": {},
   "outputs": [],
   "source": [
    "import numpy as np\n",
    "\n",
    "\n",
    "def compute_f(A, B, observed):\n",
    "    n_nodes = len(observed)\n",
    "    n_states = A.shape[0]\n",
    "    f = np.zeros((n_nodes - 1, n_states, n_states))\n",
    "\n",
    "    for i in range(n_nodes - 1):\n",
    "        tmp = np.zeros((n_states, n_states))\n",
    "        for j in range(n_states):\n",
    "            for k in range(n_states):\n",
    "                if B[k, observed[i + 1]] == 0:\n",
    "                    tmp_B = np.min(B[B != 0])\n",
    "                else:\n",
    "                    tmp_B = np.log(B[k, observed[i + 1]])\n",
    "\n",
    "                tmp[j, k] = np.log(A[j, k]) + tmp_B\n",
    "        f[i] = tmp\n",
    "\n",
    "    return f"
   ]
  },
  {
   "cell_type": "code",
   "execution_count": 2,
   "metadata": {},
   "outputs": [
    {
     "data": {
      "text/plain": [
       "array([[[-1.42711636, -1.04982212],\n",
       "        [-0.32850407, -2.99573227]],\n",
       "\n",
       "       [[-1.42711636, -1.04982212],\n",
       "        [-0.32850407, -2.99573227]]])"
      ]
     },
     "execution_count": 2,
     "metadata": {},
     "output_type": "execute_result"
    }
   ],
   "source": [
    "A = np.array([[0.3, 0.7], [0.9, 0.1]])\n",
    "B = np.array([[0.2, 0.8], [0.5, 0.5]])\n",
    "observed = np.array([0, 1, 1])\n",
    "compute_f(A, B, observed)"
   ]
  },
  {
   "cell_type": "code",
   "execution_count": 3,
   "metadata": {},
   "outputs": [],
   "source": [
    "def Viterbi(A, B, observed):\n",
    "    n_nodes = len(observed)\n",
    "    n_states = A.shape[0]\n",
    "\n",
    "    pmax = np.zeros((n_nodes - 1, n_states))\n",
    "    phi = np.zeros((n_nodes - 1, n_states))\n",
    "\n",
    "    f = compute_f(A, B, observed)\n",
    "\n",
    "    pmax[0] = np.max((f[0]), axis=0)\n",
    "    phi[0] = np.argmax(f[0], axis=0)\n",
    "\n",
    "    for i in range(1, n_nodes - 1):\n",
    "        tmp = ((f[i]).T + pmax[i - 1]).T\n",
    "\n",
    "        pmax[i] = np.max(tmp, axis=0)\n",
    "\n",
    "        phi[i] = np.argmax(tmp, axis=0)\n",
    "\n",
    "    return pmax, phi"
   ]
  },
  {
   "cell_type": "code",
   "execution_count": 7,
   "metadata": {},
   "outputs": [],
   "source": [
    "pmax, phi = Viterbi(A, B, observed)"
   ]
  },
  {
   "cell_type": "code",
   "execution_count": 17,
   "metadata": {},
   "outputs": [
    {
     "name": "stdout",
     "output_type": "stream",
     "text": [
      "pmax:\n",
      " [[-0.32850407 -1.04982212]\n",
      " [-1.37832619 -1.37832619]] \n",
      "phi\n",
      " [[1. 0.]\n",
      " [1. 0.]]\n"
     ]
    }
   ],
   "source": [
    "print(\"pmax:\\n\", pmax, \"\\nphi\\n\", phi)"
   ]
  },
  {
   "cell_type": "code",
   "execution_count": 25,
   "metadata": {},
   "outputs": [],
   "source": [
    "first = np.argmax(pmax[-1])\n",
    "a = int(phi[-1, first])\n",
    "b = int(phi[-2, a])"
   ]
  },
  {
   "cell_type": "code",
   "execution_count": 26,
   "metadata": {},
   "outputs": [
    {
     "name": "stdout",
     "output_type": "stream",
     "text": [
      "0 1 0\n"
     ]
    }
   ],
   "source": [
    "print(first, a, b)"
   ]
  },
  {
   "cell_type": "code",
   "execution_count": 46,
   "metadata": {},
   "outputs": [],
   "source": [
    "def reconstruct(pmax, phi):\n",
    "    \"\"\"\n",
    "    Ricostruisce tutti i most probable, per ora fa schifo ma sembra funzionare, da ricontrollare\n",
    "    \"\"\"\n",
    "    reconstruction = np.empty(len(phi)+1)\n",
    "\n",
    "    curr = np.argmax(pmax[-1])\n",
    "    reconstruction[-1] = curr\n",
    "\n",
    "    for i in range(len(phi)-1, -1, -1):\n",
    "        curr = int(phi[i, curr])\n",
    "        reconstruction[i] = curr\n",
    "    \n",
    "    return reconstruction"
   ]
  },
  {
   "cell_type": "code",
   "execution_count": 47,
   "metadata": {},
   "outputs": [
    {
     "data": {
      "text/plain": [
       "array([0., 1., 0.])"
      ]
     },
     "execution_count": 47,
     "metadata": {},
     "output_type": "execute_result"
    }
   ],
   "source": [
    "reconstruct(pmax, phi)"
   ]
  },
  {
   "attachments": {},
   "cell_type": "markdown",
   "metadata": {},
   "source": [
    "### Experiement with matrix like the one we have (last row of spaces has 1)"
   ]
  },
  {
   "cell_type": "code",
   "execution_count": 102,
   "metadata": {},
   "outputs": [],
   "source": [
    "A = np.array([[0.1, 0.8, 0.1],\n",
    "              [0.8, 0.1, 0.1],\n",
    "              [0.5, 0.5, 0]])\n",
    "\n",
    "B = np.array([[0.8, 0.2, 0],\n",
    "              [0.2, 0.8, 0],\n",
    "              [0, 0, 1]])\n",
    "\n",
    "observed = np.array([0, 2, 1])"
   ]
  },
  {
   "cell_type": "code",
   "execution_count": 103,
   "metadata": {},
   "outputs": [],
   "source": [
    "def compute_f(A, B, observed):\n",
    "    \"\"\"\n",
    "    Careful when handling\n",
    "    - f0 is the first message (from first factor to node, it is just a vector) \n",
    "    - f contains all other factors evaluated\n",
    "    \"\"\"\n",
    "    pi = A[-1]\n",
    "    n_nodes = len(observed)\n",
    "    n_states = A.shape[0]\n",
    "    f = np.zeros((n_nodes-1, n_states, n_states))\n",
    "    \n",
    "    tmp = np.zeros((n_states, 1))\n",
    "    for k in range(n_states):\n",
    "        tmp[k] = pi[k] * B[k, observed[0]]\n",
    "    \n",
    "    f0 = tmp\n",
    "\n",
    "    for i in range(1, n_nodes):\n",
    "        tmp = np.zeros((n_states, n_states))\n",
    "        \n",
    "        for j in range(n_states): # over z1\n",
    "            \n",
    "            for k in range(n_states): # over z2\n",
    "                tmp[j, k] = A[j, k] * B[k, observed[i]]\n",
    "        \n",
    "        f[i-1] = tmp\n",
    "    \n",
    "\n",
    "    return f0, f"
   ]
  },
  {
   "cell_type": "code",
   "execution_count": 104,
   "metadata": {},
   "outputs": [
    {
     "name": "stdout",
     "output_type": "stream",
     "text": [
      "f0:\n",
      " [[0.4]\n",
      " [0.1]\n",
      " [0. ]] \n",
      "f:\n",
      " [[[0.   0.   0.1 ]\n",
      "  [0.   0.   0.1 ]\n",
      "  [0.   0.   0.  ]]\n",
      "\n",
      " [[0.02 0.64 0.  ]\n",
      "  [0.16 0.08 0.  ]\n",
      "  [0.1  0.4  0.  ]]]\n"
     ]
    }
   ],
   "source": [
    "f0, f = compute_f(A, B, observed)\n",
    "print(\"f0:\\n\", f0, \"\\nf:\\n\", f)"
   ]
  },
  {
   "cell_type": "code",
   "execution_count": 105,
   "metadata": {},
   "outputs": [],
   "source": [
    "def Viterbi(f0, f):\n",
    "    n_nodes = f.shape[0] + 1\n",
    "    n_states = f.shape[1]\n",
    "\n",
    "    pmax = np.zeros((n_nodes, n_states))    # Need one for every node\n",
    "    phi = np.zeros((n_nodes - 1, n_states)) # Need one for every node other than the first one (no need to reconstruct it)\n",
    "\n",
    "    pmax[0] = f0.flatten()\n",
    "\n",
    "    for i in range(1, n_nodes):\n",
    "        tmp = ((f[i-1]).T * pmax[i - 1]).T\n",
    "\n",
    "        pmax[i] = np.max(tmp, axis=0) # by column\n",
    "\n",
    "        phi[i-1] = np.argmax(tmp, axis=0) # i-1 cause this contains the reconstruction about the (i-1)th element\n",
    "\n",
    "    return pmax, phi"
   ]
  },
  {
   "cell_type": "code",
   "execution_count": 106,
   "metadata": {},
   "outputs": [
    {
     "name": "stdout",
     "output_type": "stream",
     "text": [
      "pmax:\n",
      " [[0.4   0.1   0.   ]\n",
      " [0.    0.    0.04 ]\n",
      " [0.004 0.016 0.   ]] \n",
      "phi:\n",
      " [[0. 0. 0.]\n",
      " [2. 2. 0.]]\n",
      "\n",
      "Reconstruction using Viterbi:\n",
      " [0. 2. 1.]\n"
     ]
    }
   ],
   "source": [
    "pmax, phi = Viterbi(f0, f)\n",
    "print(\"pmax:\\n\", pmax, \"\\nphi:\\n\", phi)\n",
    "\n",
    "print(\"\\nReconstruction using Viterbi:\\n\", reconstruct(pmax, phi))"
   ]
  },
  {
   "cell_type": "code",
   "execution_count": 120,
   "metadata": {},
   "outputs": [
    {
     "name": "stdout",
     "output_type": "stream",
     "text": [
      "pmax:\n",
      " [[4.00000000e-01 1.00000000e-01 0.00000000e+00]\n",
      " [0.00000000e+00 0.00000000e+00 4.00000000e-02]\n",
      " [4.00000000e-03 1.60000000e-02 0.00000000e+00]\n",
      " [1.02400000e-02 6.40000000e-04 0.00000000e+00]\n",
      " [0.00000000e+00 0.00000000e+00 1.02400000e-03]\n",
      " [4.09600000e-04 1.02400000e-04 0.00000000e+00]\n",
      " [1.63840000e-05 2.62144000e-04 0.00000000e+00]\n",
      " [1.67772160e-04 5.24288000e-06 0.00000000e+00]\n",
      " [0.00000000e+00 0.00000000e+00 1.67772160e-05]\n",
      " [1.67772160e-06 6.71088640e-06 0.00000000e+00]\n",
      " [4.29496730e-06 2.68435456e-07 0.00000000e+00]\n",
      " [8.58993459e-08 2.74877907e-06 0.00000000e+00]\n",
      " [1.75921860e-06 5.49755814e-08 0.00000000e+00]\n",
      " [3.51843721e-08 1.12589991e-06 0.00000000e+00]\n",
      " [0.00000000e+00 0.00000000e+00 1.12589991e-07]] \n",
      "phi:\n",
      " [[0. 0. 0.]\n",
      " [2. 2. 0.]\n",
      " [1. 0. 0.]\n",
      " [0. 0. 0.]\n",
      " [2. 2. 0.]\n",
      " [1. 0. 0.]\n",
      " [1. 1. 0.]\n",
      " [0. 0. 0.]\n",
      " [2. 2. 0.]\n",
      " [1. 0. 0.]\n",
      " [0. 0. 0.]\n",
      " [1. 1. 0.]\n",
      " [0. 0. 0.]\n",
      " [0. 0. 1.]]\n",
      "\n",
      "Reconstruction using Viterbi:\n",
      " [0. 2. 1. 0. 2. 0. 1. 0. 2. 1. 0. 1. 0. 1. 2.]\n"
     ]
    }
   ],
   "source": [
    "observed = np.array([0, 2, 1, 0, 2, 0, 1, 0, 2, 1, 0, 1, 0]) # a _ b a\n",
    "f0, f = compute_f(A, B, observed)\n",
    "pmax, phi = Viterbi(f0, f)\n",
    "print(\"pmax:\\n\", pmax, \"\\nphi:\\n\", phi)\n",
    "\n",
    "print(\"\\nReconstruction using Viterbi:\\n\", reconstruct(pmax, phi))"
   ]
  },
  {
   "attachments": {},
   "cell_type": "markdown",
   "metadata": {},
   "source": [
    "# Log computations\n",
    "Now we need to find a way for this to hold even when working with logs.\n",
    "I suspect that replacing with the minimum to account for the 0 is too big, we need something smaller."
   ]
  },
  {
   "cell_type": "code",
   "execution_count": 122,
   "metadata": {},
   "outputs": [],
   "source": [
    "A = np.array([[0.1, 0.8, 0.1],\n",
    "              [0.8, 0.1, 0.1],\n",
    "              [0.5, 0.5, 0]])\n",
    "\n",
    "B = np.array([[0.8, 0.2, 0],\n",
    "              [0.2, 0.8, 0],\n",
    "              [0, 0, 1]])\n",
    "\n",
    "observed = np.array([0, 2, 1])"
   ]
  },
  {
   "cell_type": "code",
   "execution_count": 142,
   "metadata": {},
   "outputs": [],
   "source": [
    "def compute_f_log(A, B, observed):\n",
    "    \"\"\"\n",
    "    Even though it contains the -inf, this is fine, as that means we should not reconstruct using those (?)\n",
    "    \"\"\"\n",
    "    pi = A[-1]\n",
    "    n_nodes = len(observed)\n",
    "    n_states = A.shape[0]\n",
    "    f = np.zeros((n_nodes-1, n_states, n_states))\n",
    "    \n",
    "    tmp = np.zeros((n_states, 1))\n",
    "    for k in range(n_states):\n",
    "        tmp[k] = np.log(pi[k]) + np.log(B[k, observed[0]])\n",
    "    \n",
    "    f0 = tmp\n",
    "\n",
    "    for i in range(1, n_nodes):\n",
    "        tmp = np.zeros((n_states, n_states))\n",
    "        \n",
    "        for j in range(n_states): # over z1\n",
    "            \n",
    "            for k in range(n_states): # over z2\n",
    "                tmp[j, k] = np.log(A[j, k]) + np.log(B[k, observed[i]])\n",
    "    \n",
    "        f[i-1] = tmp\n",
    "    \n",
    "\n",
    "    return f0, f"
   ]
  },
  {
   "cell_type": "code",
   "execution_count": 143,
   "metadata": {},
   "outputs": [],
   "source": [
    "def Viterbi_log(f0, f):\n",
    "    n_nodes = f.shape[0] + 1\n",
    "    n_states = f.shape[1]\n",
    "\n",
    "    pmax = np.zeros((n_nodes, n_states))    # Need one for every node\n",
    "    phi = np.zeros((n_nodes - 1, n_states)) # Need one for every node other than the first one (no need to reconstruct it)\n",
    "\n",
    "    pmax[0] = f0.flatten()\n",
    "\n",
    "    for i in range(1, n_nodes):\n",
    "        tmp = ((f[i-1]).T + pmax[i - 1]).T\n",
    "\n",
    "        pmax[i] = np.max(tmp, axis=0) # by column\n",
    "\n",
    "        phi[i-1] = np.argmax(tmp, axis=0) # i-1 cause this contains the reconstruction about the (i-1)th element\n",
    "\n",
    "    return pmax, phi"
   ]
  },
  {
   "cell_type": "code",
   "execution_count": 144,
   "metadata": {},
   "outputs": [
    {
     "name": "stdout",
     "output_type": "stream",
     "text": [
      "f0:\n",
      " [[-0.91629073]\n",
      " [-2.30258509]\n",
      " [       -inf]] \n",
      "f:\n",
      " [[[       -inf        -inf -2.30258509]\n",
      "  [       -inf        -inf -2.30258509]\n",
      "  [       -inf        -inf        -inf]]\n",
      "\n",
      " [[-3.91202301 -0.4462871         -inf]\n",
      "  [-1.83258146 -2.52572864        -inf]\n",
      "  [-2.30258509 -0.91629073        -inf]]]\n",
      "\n",
      "\n",
      "pmax:\n",
      " [[-0.91629073 -2.30258509        -inf]\n",
      " [       -inf        -inf -3.21887582]\n",
      " [-5.52146092 -4.13516656        -inf]] \n",
      "phi:\n",
      " [[0. 0. 0.]\n",
      " [2. 2. 0.]]\n",
      "\n",
      "\n",
      " reconstruction: [0. 2. 1.]\n"
     ]
    },
    {
     "name": "stderr",
     "output_type": "stream",
     "text": [
      "/var/folders/tv/ysw0jsvs2t331mtk7hdh35kc0000gn/T/ipykernel_27125/3658002382.py:12: RuntimeWarning: divide by zero encountered in log\n",
      "  tmp[k] = np.log(pi[k]) + np.log(B[k, observed[0]])\n",
      "/var/folders/tv/ysw0jsvs2t331mtk7hdh35kc0000gn/T/ipykernel_27125/3658002382.py:22: RuntimeWarning: divide by zero encountered in log\n",
      "  tmp[j, k] = np.log(A[j, k]) + np.log(B[k, observed[i]])\n"
     ]
    }
   ],
   "source": [
    "f0, f = compute_f_log(A, B, observed)\n",
    "print(\"f0:\\n\", f0, \"\\nf:\\n\", f)\n",
    "\n",
    "\n",
    "pmax, phi = Viterbi_log(f0, f)\n",
    "print(\"\\n\\npmax:\\n\", pmax, \"\\nphi:\\n\", phi)\n",
    "\n",
    "print(\"\\n\\n reconstruction:\", reconstruct(pmax, phi))"
   ]
  },
  {
   "cell_type": "code",
   "execution_count": 147,
   "metadata": {},
   "outputs": [
    {
     "name": "stdout",
     "output_type": "stream",
     "text": [
      "f0:\n",
      " [[-0.91629073]\n",
      " [-2.30258509]\n",
      " [       -inf]] \n",
      "f:\n",
      " [[[       -inf        -inf -2.30258509]\n",
      "  [       -inf        -inf -2.30258509]\n",
      "  [       -inf        -inf        -inf]]\n",
      "\n",
      " [[-3.91202301 -0.4462871         -inf]\n",
      "  [-1.83258146 -2.52572864        -inf]\n",
      "  [-2.30258509 -0.91629073        -inf]]\n",
      "\n",
      " [[       -inf        -inf -2.30258509]\n",
      "  [       -inf        -inf -2.30258509]\n",
      "  [       -inf        -inf        -inf]]\n",
      "\n",
      " [[-3.91202301 -0.4462871         -inf]\n",
      "  [-1.83258146 -2.52572864        -inf]\n",
      "  [-2.30258509 -0.91629073        -inf]]\n",
      "\n",
      " [[-2.52572864 -1.83258146        -inf]\n",
      "  [-0.4462871  -3.91202301        -inf]\n",
      "  [-0.91629073 -2.30258509        -inf]]\n",
      "\n",
      " [[-3.91202301 -0.4462871         -inf]\n",
      "  [-1.83258146 -2.52572864        -inf]\n",
      "  [-2.30258509 -0.91629073        -inf]]]\n",
      "\n",
      "\n",
      "pmax:\n",
      " [[ -0.91629073  -2.30258509         -inf]\n",
      " [        -inf         -inf  -3.21887582]\n",
      " [ -5.52146092  -4.13516656         -inf]\n",
      " [        -inf         -inf  -6.43775165]\n",
      " [ -8.74033674  -7.35404238         -inf]\n",
      " [ -7.80032948 -10.57291821         -inf]\n",
      " [-11.71235249  -8.24661659         -inf]] \n",
      "phi:\n",
      " [[0. 0. 0.]\n",
      " [2. 2. 0.]\n",
      " [0. 0. 1.]\n",
      " [2. 2. 0.]\n",
      " [1. 0. 0.]\n",
      " [0. 0. 0.]]\n",
      "\n",
      "\n",
      " reconstruction: [0. 2. 1. 2. 1. 0. 1.]\n"
     ]
    },
    {
     "name": "stderr",
     "output_type": "stream",
     "text": [
      "/var/folders/tv/ysw0jsvs2t331mtk7hdh35kc0000gn/T/ipykernel_27125/3658002382.py:12: RuntimeWarning: divide by zero encountered in log\n",
      "  tmp[k] = np.log(pi[k]) + np.log(B[k, observed[0]])\n",
      "/var/folders/tv/ysw0jsvs2t331mtk7hdh35kc0000gn/T/ipykernel_27125/3658002382.py:22: RuntimeWarning: divide by zero encountered in log\n",
      "  tmp[j, k] = np.log(A[j, k]) + np.log(B[k, observed[i]])\n"
     ]
    }
   ],
   "source": [
    "observed = np.array([0, 2, 1, 2, 1, 0, 1]) # a = 0; b = 1; _ = 2\n",
    "f0, f = compute_f_log(A, B, observed)\n",
    "print(\"f0:\\n\", f0, \"\\nf:\\n\", f)\n",
    "\n",
    "\n",
    "pmax, phi = Viterbi_log(f0, f)\n",
    "print(\"\\n\\npmax:\\n\", pmax, \"\\nphi:\\n\", phi)\n",
    "\n",
    "print(\"\\n\\n reconstruction:\", reconstruct(pmax, phi))"
   ]
  },
  {
   "attachments": {},
   "cell_type": "markdown",
   "metadata": {},
   "source": [
    "### Try using our words example\n",
    "Now using the matrix and our phrase we try and see if it works"
   ]
  },
  {
   "cell_type": "code",
   "execution_count": null,
   "metadata": {},
   "outputs": [],
   "source": []
  }
 ],
 "metadata": {
  "kernelspec": {
   "display_name": "Python 3",
   "language": "python",
   "name": "python3"
  },
  "language_info": {
   "codemirror_mode": {
    "name": "ipython",
    "version": 3
   },
   "file_extension": ".py",
   "mimetype": "text/x-python",
   "name": "python",
   "nbconvert_exporter": "python",
   "pygments_lexer": "ipython3",
   "version": "3.10.8"
  },
  "orig_nbformat": 4
 },
 "nbformat": 4,
 "nbformat_minor": 2
}
