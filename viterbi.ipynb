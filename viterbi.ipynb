{
 "cells": [
  {
   "cell_type": "code",
   "execution_count": 1,
   "metadata": {},
   "outputs": [],
   "source": [
    "import numpy as np\n",
    "\n",
    "\n",
    "def compute_f(A, B, observed):\n",
    "    n_nodes = len(observed)\n",
    "    n_states = A.shape[0]\n",
    "    f = np.zeros((n_nodes - 1, n_states, n_states))\n",
    "\n",
    "    for i in range(n_nodes - 1):\n",
    "        tmp = np.zeros((n_states, n_states))\n",
    "        for j in range(n_states):\n",
    "            for k in range(n_states):\n",
    "                if B[k, observed[i + 1]] == 0:\n",
    "                    tmp_B = np.min(B[B != 0])\n",
    "                else:\n",
    "                    tmp_B = np.log(B[k, observed[i + 1]])\n",
    "\n",
    "                tmp[j, k] = np.log(A[j, k]) + tmp_B\n",
    "        f[i] = tmp\n",
    "\n",
    "    return f"
   ]
  },
  {
   "cell_type": "code",
   "execution_count": 2,
   "metadata": {},
   "outputs": [
    {
     "data": {
      "text/plain": [
       "array([[[-1.42711636, -1.04982212],\n",
       "        [-0.32850407, -2.99573227]],\n",
       "\n",
       "       [[-1.42711636, -1.04982212],\n",
       "        [-0.32850407, -2.99573227]]])"
      ]
     },
     "execution_count": 2,
     "metadata": {},
     "output_type": "execute_result"
    }
   ],
   "source": [
    "A = np.array([[0.3, 0.7], [0.9, 0.1]])\n",
    "B = np.array([[0.2, 0.8], [0.5, 0.5]])\n",
    "observed = np.array([0, 1, 1])\n",
    "compute_f(A, B, observed)"
   ]
  },
  {
   "cell_type": "code",
   "execution_count": 3,
   "metadata": {},
   "outputs": [],
   "source": [
    "def Viterbi(A, B, observed):\n",
    "    n_nodes = len(observed)\n",
    "    n_states = A.shape[0]\n",
    "\n",
    "    pmax = np.zeros((n_nodes - 1, n_states))\n",
    "    phi = np.zeros((n_nodes - 1, n_states))\n",
    "\n",
    "    f = compute_f(A, B, observed)\n",
    "\n",
    "    pmax[0] = np.max((f[0]), axis=0)\n",
    "    phi[0] = np.argmax(f[0], axis=0)\n",
    "\n",
    "    for i in range(1, n_nodes - 1):\n",
    "        tmp = ((f[i]).T + pmax[i - 1]).T\n",
    "\n",
    "        pmax[i] = np.max(tmp, axis=0)\n",
    "\n",
    "        phi[i] = np.argmax(tmp, axis=0)\n",
    "\n",
    "    return pmax, phi"
   ]
  },
  {
   "cell_type": "code",
   "execution_count": 7,
   "metadata": {},
   "outputs": [],
   "source": [
    "pmax, phi = Viterbi(A, B, observed)"
   ]
  },
  {
   "cell_type": "code",
   "execution_count": 17,
   "metadata": {},
   "outputs": [
    {
     "name": "stdout",
     "output_type": "stream",
     "text": [
      "pmax:\n",
      " [[-0.32850407 -1.04982212]\n",
      " [-1.37832619 -1.37832619]] \n",
      "phi\n",
      " [[1. 0.]\n",
      " [1. 0.]]\n"
     ]
    }
   ],
   "source": [
    "print(\"pmax:\\n\", pmax, \"\\nphi\\n\", phi)"
   ]
  },
  {
   "cell_type": "code",
   "execution_count": 25,
   "metadata": {},
   "outputs": [],
   "source": [
    "first = np.argmax(pmax[-1])\n",
    "a = int(phi[-1, first])\n",
    "b = int(phi[-2, a])"
   ]
  },
  {
   "cell_type": "code",
   "execution_count": 26,
   "metadata": {},
   "outputs": [
    {
     "name": "stdout",
     "output_type": "stream",
     "text": [
      "0 1 0\n"
     ]
    }
   ],
   "source": [
    "print(first, a, b)"
   ]
  },
  {
   "cell_type": "code",
   "execution_count": 46,
   "metadata": {},
   "outputs": [],
   "source": [
    "def reconstruct(pmax, phi):\n",
    "    \"\"\"\n",
    "    Ricostruisce tutti i most probable, per ora fa schifo ma sembra funzionare, da ricontrollare\n",
    "    \"\"\"\n",
    "    reconstruction = np.empty(len(phi)+1)\n",
    "\n",
    "    curr = np.argmax(pmax[-1])\n",
    "    reconstruction[-1] = curr\n",
    "\n",
    "    for i in range(len(phi)-1, -1, -1):\n",
    "        curr = int(phi[i, curr])\n",
    "        reconstruction[i] = curr\n",
    "    \n",
    "    return reconstruction"
   ]
  },
  {
   "cell_type": "code",
   "execution_count": 47,
   "metadata": {},
   "outputs": [
    {
     "data": {
      "text/plain": [
       "array([0., 1., 0.])"
      ]
     },
     "execution_count": 47,
     "metadata": {},
     "output_type": "execute_result"
    }
   ],
   "source": [
    "reconstruct(pmax, phi)"
   ]
  },
  {
   "attachments": {},
   "cell_type": "markdown",
   "metadata": {},
   "source": [
    "### Experiement with matrix like the one we have (last row of spaces has 1)"
   ]
  },
  {
   "cell_type": "code",
   "execution_count": 60,
   "metadata": {},
   "outputs": [],
   "source": [
    "A = np.array([[0.1, 0.8, 0.1],\n",
    "              [0.8, 0.1, 0.1],\n",
    "              [0.5, 0.5, 0]])\n",
    "\n",
    "B = np.array([[0.8, 0.2, 0],\n",
    "              [0.2, 0.8, 0],\n",
    "              [0, 0, 1]])\n",
    "\n",
    "observed = np.array([0, 2, 1])"
   ]
  },
  {
   "cell_type": "code",
   "execution_count": 68,
   "metadata": {},
   "outputs": [],
   "source": [
    "def compute_f(A, B, observed):\n",
    "    \"\"\"\n",
    "    Careful when handling\n",
    "    - f0 is the first message (from first factor to node, it is just a vector) \n",
    "    - f contains all other factors evaluated\n",
    "    \"\"\"\n",
    "    pi = A[-1]\n",
    "    n_nodes = len(observed)\n",
    "    n_states = A.shape[0]\n",
    "    f = np.zeros((n_nodes-1, n_states, n_states))\n",
    "    \n",
    "    tmp = np.zeros((n_states, 1))\n",
    "    for k in range(n_states):\n",
    "        tmp[k] = pi[k] * B[k, observed[0]]\n",
    "    \n",
    "    f0 = tmp\n",
    "\n",
    "    for i in range(1, n_nodes):\n",
    "        tmp = np.zeros((n_states, n_states))\n",
    "        \n",
    "        for j in range(n_states): # over z1\n",
    "            \n",
    "            for k in range(n_states): # over z2\n",
    "                tmp[j, k] = A[j, k] * B[k, observed[i]]\n",
    "        \n",
    "        f[i-1] = tmp\n",
    "    \n",
    "\n",
    "    return f0, f"
   ]
  },
  {
   "cell_type": "code",
   "execution_count": 83,
   "metadata": {},
   "outputs": [
    {
     "name": "stdout",
     "output_type": "stream",
     "text": [
      "f0:\n",
      " [[0.4]\n",
      " [0.1]\n",
      " [0. ]] \n",
      "f:\n",
      " [[[0.   0.   0.1 ]\n",
      "  [0.   0.   0.1 ]\n",
      "  [0.   0.   0.  ]]\n",
      "\n",
      " [[0.02 0.64 0.  ]\n",
      "  [0.16 0.08 0.  ]\n",
      "  [0.1  0.4  0.  ]]]\n"
     ]
    }
   ],
   "source": [
    "f0, f = compute_f(A, B, observed)\n",
    "print(\"f0:\\n\", f0, \"\\nf:\\n\", f)"
   ]
  },
  {
   "cell_type": "code",
   "execution_count": 89,
   "metadata": {},
   "outputs": [],
   "source": [
    "def Viterbi(f0, f):\n",
    "    n_nodes = f.shape[0] + 1\n",
    "    n_states = f.shape[1]\n",
    "\n",
    "    pmax = np.zeros((n_nodes, n_states))    # Need one for every node\n",
    "    phi = np.zeros((n_nodes - 1, n_states)) # Need one for every node other than the first one (no need to reconstruct it)\n",
    "\n",
    "    pmax[0] = f0.flatten()\n",
    "\n",
    "    for i in range(1, n_nodes):\n",
    "        print(i)\n",
    "        tmp = ((f[i-1]).T * pmax[i - 1]).T\n",
    "\n",
    "        pmax[i] = np.max(tmp, axis=0) # by column\n",
    "\n",
    "        phi[i-1] = np.argmax(tmp, axis=0) # i-1 cause this contains the reconstruction about the (i-1)th element\n",
    "\n",
    "    return pmax, phi"
   ]
  },
  {
   "cell_type": "code",
   "execution_count": 90,
   "metadata": {},
   "outputs": [
    {
     "name": "stdout",
     "output_type": "stream",
     "text": [
      "1\n",
      "2\n"
     ]
    },
    {
     "data": {
      "text/plain": [
       "(array([[0.4  , 0.1  , 0.   ],\n",
       "        [0.   , 0.   , 0.04 ],\n",
       "        [0.004, 0.016, 0.   ]]),\n",
       " array([[0., 0., 0.],\n",
       "        [2., 2., 0.]]))"
      ]
     },
     "execution_count": 90,
     "metadata": {},
     "output_type": "execute_result"
    }
   ],
   "source": [
    "Viterbi(f0, f)"
   ]
  },
  {
   "cell_type": "code",
   "execution_count": 71,
   "metadata": {},
   "outputs": [],
   "source": [
    "def compute_f_log(A, B, observed):\n",
    "    \"\"\"\n",
    "    Careful when handling\n",
    "    - f0 is the first message (from first factor to node, it is just a vector) \n",
    "    - f contains all other factors evaluated\n",
    "    \"\"\"\n",
    "    pi = A[-1]\n",
    "    n_nodes = len(observed)\n",
    "    n_states = A.shape[0]\n",
    "    f = np.zeros((n_nodes-1, n_states, n_states))\n",
    "    \n",
    "    tmp = np.zeros((n_states, 1))\n",
    "    for k in range(n_states):\n",
    "        tmp[k] = np.log(pi[k]) + np.log(B[k, observed[0]])\n",
    "    \n",
    "    f0 = tmp\n",
    "\n",
    "    for i in range(1, n_nodes):\n",
    "        tmp = np.zeros((n_states, n_states))\n",
    "        \n",
    "        for j in range(n_states): # over z1\n",
    "            \n",
    "            for k in range(n_states): # over z2\n",
    "                tmp[j, k] = np.log(A[j, k]) + np.log(B[k, observed[i]])\n",
    "        \n",
    "        f[i-1] = tmp\n",
    "    \n",
    "\n",
    "    return f0, f"
   ]
  },
  {
   "cell_type": "code",
   "execution_count": 51,
   "metadata": {},
   "outputs": [],
   "source": [
    "A = np.array([[0.1, 0.8, 0.1],\n",
    "              [0.8, 0.1, 0.1],\n",
    "              [0.5, 0.5, 0]])\n",
    "\n",
    "B = np.array([[0.5, 0.5, 0],\n",
    "              [0.5, 0.5, 0],\n",
    "              [0, 0, 1]])\n",
    "\n",
    "observed = np.array([0, 2, 1])"
   ]
  },
  {
   "cell_type": "code",
   "execution_count": 52,
   "metadata": {},
   "outputs": [
    {
     "name": "stdout",
     "output_type": "stream",
     "text": [
      "[[[0.05 0.4  0.  ]\n",
      "  [0.4  0.05 0.  ]\n",
      "  [0.25 0.25 0.  ]]\n",
      "\n",
      " [[0.   0.   0.1 ]\n",
      "  [0.   0.   0.1 ]\n",
      "  [0.   0.   0.  ]]\n",
      "\n",
      " [[0.05 0.4  0.  ]\n",
      "  [0.4  0.05 0.  ]\n",
      "  [0.25 0.25 0.  ]]]\n"
     ]
    }
   ],
   "source": [
    "f = compute_f(A, B, observed)\n",
    "print(f)"
   ]
  },
  {
   "attachments": {},
   "cell_type": "markdown",
   "metadata": {},
   "source": [
    "- Errore in compute_f, parte dalla prima osservazione e invece dovrebbe partire dalla seconda (la prima non contribuisce ai messaggi se non )\n",
    "- Controlla come viene considerato lo spazio"
   ]
  },
  {
   "cell_type": "code",
   "execution_count": 166,
   "metadata": {},
   "outputs": [
    {
     "data": {
      "text/plain": [
       "-2.120263536200091"
      ]
     },
     "execution_count": 166,
     "metadata": {},
     "output_type": "execute_result"
    }
   ],
   "source": [
    "np.log(0.3) + np.log(0.4)"
   ]
  },
  {
   "cell_type": "code",
   "execution_count": null,
   "metadata": {},
   "outputs": [],
   "source": [
    "np.log(0.3) + np.log(0.4)"
   ]
  },
  {
   "cell_type": "code",
   "execution_count": 167,
   "metadata": {},
   "outputs": [
    {
     "data": {
      "text/plain": [
       "-5.521460917862246"
      ]
     },
     "execution_count": 167,
     "metadata": {},
     "output_type": "execute_result"
    }
   ],
   "source": [
    "2*np.log(0.1) + np.log(0.4)"
   ]
  }
 ],
 "metadata": {
  "kernelspec": {
   "display_name": "Python 3",
   "language": "python",
   "name": "python3"
  },
  "language_info": {
   "codemirror_mode": {
    "name": "ipython",
    "version": 3
   },
   "file_extension": ".py",
   "mimetype": "text/x-python",
   "name": "python",
   "nbconvert_exporter": "python",
   "pygments_lexer": "ipython3",
   "version": "3.10.8"
  },
  "orig_nbformat": 4
 },
 "nbformat": 4,
 "nbformat_minor": 2
}
